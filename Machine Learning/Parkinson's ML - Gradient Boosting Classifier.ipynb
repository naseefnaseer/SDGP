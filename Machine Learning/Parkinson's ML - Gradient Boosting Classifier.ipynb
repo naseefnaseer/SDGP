{
 "cells": [
  {
   "cell_type": "code",
   "execution_count": 1,
   "metadata": {},
   "outputs": [],
   "source": [
    "import pandas as pd\n",
    "import numpy as np\n",
    "from sklearn import preprocessing\n",
    "import matplotlib.pyplot as plt \n",
    "plt.rc(\"font\", size=14)\n",
    "from sklearn.model_selection import train_test_split\n",
    "import seaborn as sns\n",
    "sns.set(style=\"white\")\n",
    "sns.set(style=\"whitegrid\", color_codes=True)"
   ]
  },
  {
   "cell_type": "code",
   "execution_count": 2,
   "metadata": {},
   "outputs": [
    {
     "name": "stdout",
     "output_type": "stream",
     "text": [
      "(1040, 28)\n",
      "['Subject Id', 'Jitter(local)', 'Jitter(local, absolute)', 'Jitter (rap)', 'Jitter (ppq5)', 'Jitter (ddp)', 'Shimmer (local)', 'Shimmer (local, db)', 'Shimmer (apq3)', 'Shimmer (apq5)', 'Shimmer (apq11)', 'Shimmer (dda)', 'AC', 'NDH', 'HTM', 'Median Pitch', 'Mean Pitch', 'Standard deviation', 'Minimum pitch', 'Maximum pitch', 'Number of pulses', 'Number of periods', 'Mean period', 'Standard deviation of period', 'Fraction of locally unvoiced frames', 'Number of voice breaks', 'Degree of voice breaks', 'Class information']\n"
     ]
    }
   ],
   "source": [
    "data = pd.read_csv(r'Parkinsons Train Data.csv', header=0)\n",
    "data = data.dropna()\n",
    "print(data.shape)\n",
    "print(list(data.columns))"
   ]
  },
  {
   "cell_type": "code",
   "execution_count": 72,
   "metadata": {},
   "outputs": [],
   "source": [
    "def getGBoosting(X, y):\n",
    "    X_train, X_test, y_train, y_test = train_test_split(X, y, random_state=66, test_size= 0.01, stratify=data['Class information'])\n",
    "\n",
    "    from sklearn.ensemble import GradientBoostingClassifier\n",
    "\n",
    "    gb = GradientBoostingClassifier(random_state=0)\n",
    "    gb.fit(X_train, y_train)\n",
    "\n",
    "    print(\"Accuracy on training set: {:.3f}\".format(gb.score(X_train, y_train)))\n",
    "    print(\"Accuracy on test set: {:.3f}\".format(gb.score(X_test, y_test)))\n",
    "\n",
    "    gb1 = GradientBoostingClassifier(random_state=0, max_depth=1)\n",
    "    gb1.fit(X_train, y_train)\n",
    "\n",
    "    print(\"Accuracy on training set: {:.3f}\".format(gb1.score(X_train, y_train)))\n",
    "    print(\"Accuracy on test set: {:.3f}\".format(gb1.score(X_test, y_test)))\n",
    "    \n",
    "    gb2 = GradientBoostingClassifier(random_state=0, learning_rate=0.01)\n",
    "    gb2.fit(X_train, y_train)\n",
    "\n",
    "    print(\"Accuracy on training set: {:.3f}\".format(gb2.score(X_train, y_train)))\n",
    "    print(\"Accuracy on test set: {:.3f}\".format(gb2.score(X_test, y_test)))\n",
    "    "
   ]
  },
  {
   "cell_type": "code",
   "execution_count": 73,
   "metadata": {},
   "outputs": [],
   "source": [
    "y = data['Class information']"
   ]
  },
  {
   "cell_type": "code",
   "execution_count": 74,
   "metadata": {},
   "outputs": [],
   "source": [
    "cols_full = ['Jitter(local)', 'Jitter(local, absolute)',\n",
    "       'Jitter (rap)', 'Jitter (ppq5)', 'Jitter (ddp)', 'Shimmer (local)',\n",
    "       'Shimmer (local, db)', 'Shimmer (apq3)', 'Shimmer (apq5)',\n",
    "       'Shimmer (apq11)', 'Shimmer (dda)', 'AC', 'NDH', 'HTM',\n",
    "       'Median Pitch', 'Mean Pitch', 'Standard deviation',\n",
    "       'Minimum pitch', 'Maximum pitch', 'Number of pulses',\n",
    "       'Number of periods', 'Mean period', 'Standard deviation of period',\n",
    "       'Fraction of locally unvoiced frames', 'Number of voice breaks',\n",
    "       'Degree of voice breaks']\n",
    "X = data[cols_full]"
   ]
  },
  {
   "cell_type": "code",
   "execution_count": 75,
   "metadata": {},
   "outputs": [
    {
     "name": "stdout",
     "output_type": "stream",
     "text": [
      "Accuracy on training set: 0.915\n",
      "Accuracy on test set: 0.818\n",
      "Accuracy on training set: 0.714\n",
      "Accuracy on test set: 0.727\n",
      "Accuracy on training set: 0.755\n",
      "Accuracy on test set: 0.727\n"
     ]
    }
   ],
   "source": [
    "getGBoosting(X, y)"
   ]
  },
  {
   "cell_type": "markdown",
   "metadata": {},
   "source": [
    "### Selecting the columns for analysis (Choosing 1 from Jitter and 1 from Shimmer)"
   ]
  },
  {
   "cell_type": "code",
   "execution_count": 77,
   "metadata": {},
   "outputs": [],
   "source": [
    "cols_1 = ['Jitter(local)','Shimmer (local)','AC', 'NDH', 'HTM',\n",
    "       'Median Pitch', 'Mean Pitch', 'Standard deviation',\n",
    "       'Minimum pitch', 'Maximum pitch', 'Number of pulses',\n",
    "       'Number of periods', 'Mean period', 'Standard deviation of period',\n",
    "       'Fraction of locally unvoiced frames', 'Number of voice breaks',\n",
    "       'Degree of voice breaks']\n",
    "X = data[cols_1]"
   ]
  },
  {
   "cell_type": "code",
   "execution_count": 78,
   "metadata": {},
   "outputs": [
    {
     "name": "stdout",
     "output_type": "stream",
     "text": [
      "Accuracy on training set: 0.899\n",
      "Accuracy on test set: 0.818\n",
      "Accuracy on training set: 0.714\n",
      "Accuracy on test set: 0.727\n",
      "Accuracy on training set: 0.738\n",
      "Accuracy on test set: 0.727\n"
     ]
    }
   ],
   "source": [
    "getGBoosting(X, y)"
   ]
  },
  {
   "cell_type": "code",
   "execution_count": 79,
   "metadata": {},
   "outputs": [],
   "source": [
    "cols_2 = ['Jitter(local)','Shimmer (local, db)','AC', 'NDH', 'HTM',\n",
    "       'Median Pitch', 'Mean Pitch', 'Standard deviation',\n",
    "       'Minimum pitch', 'Maximum pitch', 'Number of pulses',\n",
    "       'Number of periods', 'Mean period', 'Standard deviation of period',\n",
    "       'Fraction of locally unvoiced frames', 'Number of voice breaks',\n",
    "       'Degree of voice breaks']\n",
    "X = data[cols_2]"
   ]
  },
  {
   "cell_type": "code",
   "execution_count": 80,
   "metadata": {},
   "outputs": [
    {
     "name": "stdout",
     "output_type": "stream",
     "text": [
      "Accuracy on training set: 0.898\n",
      "Accuracy on test set: 0.727\n",
      "Accuracy on training set: 0.719\n",
      "Accuracy on test set: 0.818\n",
      "Accuracy on training set: 0.735\n",
      "Accuracy on test set: 0.727\n"
     ]
    }
   ],
   "source": [
    "getGBoosting(X, y)"
   ]
  },
  {
   "cell_type": "code",
   "execution_count": 81,
   "metadata": {},
   "outputs": [],
   "source": [
    "cols_3 = ['Jitter(local)','Shimmer (apq3)','AC', 'NDH', 'HTM',\n",
    "       'Median Pitch', 'Mean Pitch', 'Standard deviation',\n",
    "       'Minimum pitch', 'Maximum pitch', 'Number of pulses',\n",
    "       'Number of periods', 'Mean period', 'Standard deviation of period',\n",
    "       'Fraction of locally unvoiced frames', 'Number of voice breaks',\n",
    "       'Degree of voice breaks']\n",
    "X = data[cols_3]"
   ]
  },
  {
   "cell_type": "code",
   "execution_count": 82,
   "metadata": {},
   "outputs": [
    {
     "name": "stdout",
     "output_type": "stream",
     "text": [
      "Accuracy on training set: 0.894\n",
      "Accuracy on test set: 0.727\n",
      "Accuracy on training set: 0.703\n",
      "Accuracy on test set: 0.636\n",
      "Accuracy on training set: 0.727\n",
      "Accuracy on test set: 0.727\n"
     ]
    }
   ],
   "source": [
    "getGBoosting(X, y)"
   ]
  },
  {
   "cell_type": "code",
   "execution_count": 83,
   "metadata": {},
   "outputs": [],
   "source": [
    "cols_4 = ['Jitter(local)','Shimmer (apq5)','AC', 'NDH', 'HTM',\n",
    "       'Median Pitch', 'Mean Pitch', 'Standard deviation',\n",
    "       'Minimum pitch', 'Maximum pitch', 'Number of pulses',\n",
    "       'Number of periods', 'Mean period', 'Standard deviation of period',\n",
    "       'Fraction of locally unvoiced frames', 'Number of voice breaks',\n",
    "       'Degree of voice breaks']\n",
    "X = data[cols_4]"
   ]
  },
  {
   "cell_type": "code",
   "execution_count": 84,
   "metadata": {},
   "outputs": [
    {
     "name": "stdout",
     "output_type": "stream",
     "text": [
      "Accuracy on training set: 0.905\n",
      "Accuracy on test set: 0.727\n",
      "Accuracy on training set: 0.711\n",
      "Accuracy on test set: 0.727\n",
      "Accuracy on training set: 0.737\n",
      "Accuracy on test set: 0.727\n"
     ]
    }
   ],
   "source": [
    "getGBoosting(X, y)"
   ]
  },
  {
   "cell_type": "code",
   "execution_count": 85,
   "metadata": {},
   "outputs": [],
   "source": [
    "cols_5 = ['Jitter(local)','Shimmer (apq11)','AC', 'NDH', 'HTM',\n",
    "       'Median Pitch', 'Mean Pitch', 'Standard deviation',\n",
    "       'Minimum pitch', 'Maximum pitch', 'Number of pulses',\n",
    "       'Number of periods', 'Mean period', 'Standard deviation of period',\n",
    "       'Fraction of locally unvoiced frames', 'Number of voice breaks',\n",
    "       'Degree of voice breaks']\n",
    "X = data[cols_5]"
   ]
  },
  {
   "cell_type": "code",
   "execution_count": 86,
   "metadata": {},
   "outputs": [
    {
     "name": "stdout",
     "output_type": "stream",
     "text": [
      "Accuracy on training set: 0.899\n",
      "Accuracy on test set: 0.818\n",
      "Accuracy on training set: 0.714\n",
      "Accuracy on test set: 0.727\n",
      "Accuracy on training set: 0.748\n",
      "Accuracy on test set: 0.727\n"
     ]
    }
   ],
   "source": [
    "getGBoosting(X, y)"
   ]
  },
  {
   "cell_type": "code",
   "execution_count": 87,
   "metadata": {},
   "outputs": [],
   "source": [
    "cols_6 = ['Jitter(local)','Shimmer (dda)','AC', 'NDH', 'HTM',\n",
    "       'Median Pitch', 'Mean Pitch', 'Standard deviation',\n",
    "       'Minimum pitch', 'Maximum pitch', 'Number of pulses',\n",
    "       'Number of periods', 'Mean period', 'Standard deviation of period',\n",
    "       'Fraction of locally unvoiced frames', 'Number of voice breaks',\n",
    "       'Degree of voice breaks']\n",
    "X = data[cols_6]"
   ]
  },
  {
   "cell_type": "code",
   "execution_count": 88,
   "metadata": {},
   "outputs": [
    {
     "name": "stdout",
     "output_type": "stream",
     "text": [
      "Accuracy on training set: 0.894\n",
      "Accuracy on test set: 0.727\n",
      "Accuracy on training set: 0.703\n",
      "Accuracy on test set: 0.636\n",
      "Accuracy on training set: 0.727\n",
      "Accuracy on test set: 0.727\n"
     ]
    }
   ],
   "source": [
    "getGBoosting(X, y)"
   ]
  },
  {
   "cell_type": "code",
   "execution_count": 89,
   "metadata": {},
   "outputs": [],
   "source": [
    "cols_7 = ['Jitter(local, absolute)','Shimmer (local)','AC', 'NDH', 'HTM',\n",
    "       'Median Pitch', 'Mean Pitch', 'Standard deviation',\n",
    "       'Minimum pitch', 'Maximum pitch', 'Number of pulses',\n",
    "       'Number of periods', 'Mean period', 'Standard deviation of period',\n",
    "       'Fraction of locally unvoiced frames', 'Number of voice breaks',\n",
    "       'Degree of voice breaks']\n",
    "X = data[cols_7]"
   ]
  },
  {
   "cell_type": "code",
   "execution_count": 90,
   "metadata": {},
   "outputs": [
    {
     "name": "stdout",
     "output_type": "stream",
     "text": [
      "Accuracy on training set: 0.903\n",
      "Accuracy on test set: 0.818\n",
      "Accuracy on training set: 0.720\n",
      "Accuracy on test set: 0.818\n",
      "Accuracy on training set: 0.763\n",
      "Accuracy on test set: 0.818\n"
     ]
    }
   ],
   "source": [
    "getGBoosting(X, y)"
   ]
  },
  {
   "cell_type": "code",
   "execution_count": 91,
   "metadata": {},
   "outputs": [],
   "source": [
    "cols_8 = ['Jitter(local, absolute)','Shimmer (local, db)','AC', 'NDH', 'HTM',\n",
    "       'Median Pitch', 'Mean Pitch', 'Standard deviation',\n",
    "       'Minimum pitch', 'Maximum pitch', 'Number of pulses',\n",
    "       'Number of periods', 'Mean period', 'Standard deviation of period',\n",
    "       'Fraction of locally unvoiced frames', 'Number of voice breaks',\n",
    "       'Degree of voice breaks']\n",
    "X = data[cols_8]"
   ]
  },
  {
   "cell_type": "code",
   "execution_count": 92,
   "metadata": {},
   "outputs": [
    {
     "name": "stdout",
     "output_type": "stream",
     "text": [
      "Accuracy on training set: 0.891\n",
      "Accuracy on test set: 0.727\n",
      "Accuracy on training set: 0.714\n",
      "Accuracy on test set: 0.818\n",
      "Accuracy on training set: 0.762\n",
      "Accuracy on test set: 0.727\n"
     ]
    }
   ],
   "source": [
    "getGBoosting(X, y)"
   ]
  },
  {
   "cell_type": "code",
   "execution_count": 93,
   "metadata": {},
   "outputs": [],
   "source": [
    "cols_9 = ['Jitter(local, absolute)','Shimmer (apq3)','AC', 'NDH', 'HTM',\n",
    "       'Median Pitch', 'Mean Pitch', 'Standard deviation',\n",
    "       'Minimum pitch', 'Maximum pitch', 'Number of pulses',\n",
    "       'Number of periods', 'Mean period', 'Standard deviation of period',\n",
    "       'Fraction of locally unvoiced frames', 'Number of voice breaks',\n",
    "       'Degree of voice breaks']\n",
    "X = data[cols_9]"
   ]
  },
  {
   "cell_type": "code",
   "execution_count": 94,
   "metadata": {},
   "outputs": [
    {
     "name": "stdout",
     "output_type": "stream",
     "text": [
      "Accuracy on training set: 0.908\n",
      "Accuracy on test set: 0.636\n",
      "Accuracy on training set: 0.700\n",
      "Accuracy on test set: 0.818\n",
      "Accuracy on training set: 0.755\n",
      "Accuracy on test set: 0.818\n"
     ]
    }
   ],
   "source": [
    "getGBoosting(X, y)"
   ]
  },
  {
   "cell_type": "code",
   "execution_count": 95,
   "metadata": {},
   "outputs": [],
   "source": [
    "cols_10 = ['Jitter(local, absolute)','Shimmer (apq5)','AC', 'NDH', 'HTM',\n",
    "       'Median Pitch', 'Mean Pitch', 'Standard deviation',\n",
    "       'Minimum pitch', 'Maximum pitch', 'Number of pulses',\n",
    "       'Number of periods', 'Mean period', 'Standard deviation of period',\n",
    "       'Fraction of locally unvoiced frames', 'Number of voice breaks',\n",
    "       'Degree of voice breaks']\n",
    "X = data[cols_10]"
   ]
  },
  {
   "cell_type": "code",
   "execution_count": 96,
   "metadata": {},
   "outputs": [
    {
     "name": "stdout",
     "output_type": "stream",
     "text": [
      "Accuracy on training set: 0.899\n",
      "Accuracy on test set: 0.727\n",
      "Accuracy on training set: 0.712\n",
      "Accuracy on test set: 0.818\n",
      "Accuracy on training set: 0.748\n",
      "Accuracy on test set: 0.727\n"
     ]
    }
   ],
   "source": [
    "getGBoosting(X, y)"
   ]
  },
  {
   "cell_type": "code",
   "execution_count": 97,
   "metadata": {},
   "outputs": [],
   "source": [
    "cols_11 = ['Jitter(local, absolute)','Shimmer (apq11)','AC', 'NDH', 'HTM',\n",
    "       'Median Pitch', 'Mean Pitch', 'Standard deviation',\n",
    "       'Minimum pitch', 'Maximum pitch', 'Number of pulses',\n",
    "       'Number of periods', 'Mean period', 'Standard deviation of period',\n",
    "       'Fraction of locally unvoiced frames', 'Number of voice breaks',\n",
    "       'Degree of voice breaks']\n",
    "X = data[cols_11]"
   ]
  },
  {
   "cell_type": "code",
   "execution_count": 98,
   "metadata": {},
   "outputs": [
    {
     "name": "stdout",
     "output_type": "stream",
     "text": [
      "Accuracy on training set: 0.902\n",
      "Accuracy on test set: 0.818\n",
      "Accuracy on training set: 0.726\n",
      "Accuracy on test set: 0.818\n",
      "Accuracy on training set: 0.745\n",
      "Accuracy on test set: 0.727\n"
     ]
    }
   ],
   "source": [
    "getGBoosting(X, y)"
   ]
  },
  {
   "cell_type": "code",
   "execution_count": 99,
   "metadata": {},
   "outputs": [],
   "source": [
    "cols_12 = ['Jitter(local, absolute)','Shimmer (dda)','AC', 'NDH', 'HTM',\n",
    "       'Median Pitch', 'Mean Pitch', 'Standard deviation',\n",
    "       'Minimum pitch', 'Maximum pitch', 'Number of pulses',\n",
    "       'Number of periods', 'Mean period', 'Standard deviation of period',\n",
    "       'Fraction of locally unvoiced frames', 'Number of voice breaks',\n",
    "       'Degree of voice breaks']\n",
    "X = data[cols_12]"
   ]
  },
  {
   "cell_type": "code",
   "execution_count": 100,
   "metadata": {},
   "outputs": [
    {
     "name": "stdout",
     "output_type": "stream",
     "text": [
      "Accuracy on training set: 0.908\n",
      "Accuracy on test set: 0.636\n",
      "Accuracy on training set: 0.700\n",
      "Accuracy on test set: 0.818\n",
      "Accuracy on training set: 0.755\n",
      "Accuracy on test set: 0.818\n"
     ]
    }
   ],
   "source": [
    "getGBoosting(X, y)"
   ]
  },
  {
   "cell_type": "code",
   "execution_count": 101,
   "metadata": {},
   "outputs": [],
   "source": [
    "cols_13 = ['Jitter (rap)','Shimmer (local)','AC', 'NDH', 'HTM',\n",
    "       'Median Pitch', 'Mean Pitch', 'Standard deviation',\n",
    "       'Minimum pitch', 'Maximum pitch', 'Number of pulses',\n",
    "       'Number of periods', 'Mean period', 'Standard deviation of period',\n",
    "       'Fraction of locally unvoiced frames', 'Number of voice breaks',\n",
    "       'Degree of voice breaks']\n",
    "X = data[cols_13]"
   ]
  },
  {
   "cell_type": "code",
   "execution_count": 102,
   "metadata": {},
   "outputs": [
    {
     "name": "stdout",
     "output_type": "stream",
     "text": [
      "Accuracy on training set: 0.910\n",
      "Accuracy on test set: 0.818\n",
      "Accuracy on training set: 0.701\n",
      "Accuracy on test set: 0.818\n",
      "Accuracy on training set: 0.730\n",
      "Accuracy on test set: 0.818\n"
     ]
    }
   ],
   "source": [
    "getGBoosting(X, y)"
   ]
  },
  {
   "cell_type": "code",
   "execution_count": 103,
   "metadata": {},
   "outputs": [],
   "source": [
    "cols_14 = ['Jitter (rap)','Shimmer (local, db)','AC', 'NDH', 'HTM',\n",
    "       'Median Pitch', 'Mean Pitch', 'Standard deviation',\n",
    "       'Minimum pitch', 'Maximum pitch', 'Number of pulses',\n",
    "       'Number of periods', 'Mean period', 'Standard deviation of period',\n",
    "       'Fraction of locally unvoiced frames', 'Number of voice breaks',\n",
    "       'Degree of voice breaks']\n",
    "X = data[cols_14]"
   ]
  },
  {
   "cell_type": "code",
   "execution_count": 104,
   "metadata": {},
   "outputs": [
    {
     "name": "stdout",
     "output_type": "stream",
     "text": [
      "Accuracy on training set: 0.903\n",
      "Accuracy on test set: 0.727\n",
      "Accuracy on training set: 0.704\n",
      "Accuracy on test set: 0.818\n",
      "Accuracy on training set: 0.745\n",
      "Accuracy on test set: 0.727\n"
     ]
    }
   ],
   "source": [
    "getGBoosting(X, y)"
   ]
  },
  {
   "cell_type": "code",
   "execution_count": 105,
   "metadata": {},
   "outputs": [],
   "source": [
    "cols_15 = ['Jitter (rap)','Shimmer (apq3)','AC', 'NDH', 'HTM',\n",
    "       'Median Pitch', 'Mean Pitch', 'Standard deviation',\n",
    "       'Minimum pitch', 'Maximum pitch', 'Number of pulses',\n",
    "       'Number of periods', 'Mean period', 'Standard deviation of period',\n",
    "       'Fraction of locally unvoiced frames', 'Number of voice breaks',\n",
    "       'Degree of voice breaks']\n",
    "X = data[cols_15]"
   ]
  },
  {
   "cell_type": "code",
   "execution_count": 106,
   "metadata": {},
   "outputs": [
    {
     "name": "stdout",
     "output_type": "stream",
     "text": [
      "Accuracy on training set: 0.902\n",
      "Accuracy on test set: 0.727\n",
      "Accuracy on training set: 0.705\n",
      "Accuracy on test set: 0.727\n",
      "Accuracy on training set: 0.737\n",
      "Accuracy on test set: 0.818\n"
     ]
    }
   ],
   "source": [
    "getGBoosting(X, y)"
   ]
  },
  {
   "cell_type": "code",
   "execution_count": 107,
   "metadata": {},
   "outputs": [],
   "source": [
    "cols_16 = ['Jitter (rap)','Shimmer (apq5)','AC', 'NDH', 'HTM',\n",
    "       'Median Pitch', 'Mean Pitch', 'Standard deviation',\n",
    "       'Minimum pitch', 'Maximum pitch', 'Number of pulses',\n",
    "       'Number of periods', 'Mean period', 'Standard deviation of period',\n",
    "       'Fraction of locally unvoiced frames', 'Number of voice breaks',\n",
    "       'Degree of voice breaks']\n",
    "X = data[cols_16]"
   ]
  },
  {
   "cell_type": "code",
   "execution_count": 108,
   "metadata": {},
   "outputs": [
    {
     "name": "stdout",
     "output_type": "stream",
     "text": [
      "Accuracy on training set: 0.881\n",
      "Accuracy on test set: 0.727\n",
      "Accuracy on training set: 0.705\n",
      "Accuracy on test set: 0.818\n",
      "Accuracy on training set: 0.740\n",
      "Accuracy on test set: 0.727\n"
     ]
    }
   ],
   "source": [
    "getGBoosting(X, y)"
   ]
  },
  {
   "cell_type": "code",
   "execution_count": 109,
   "metadata": {},
   "outputs": [],
   "source": [
    "cols_17 = ['Jitter (rap)','Shimmer (apq11)','AC', 'NDH', 'HTM',\n",
    "       'Median Pitch', 'Mean Pitch', 'Standard deviation',\n",
    "       'Minimum pitch', 'Maximum pitch', 'Number of pulses',\n",
    "       'Number of periods', 'Mean period', 'Standard deviation of period',\n",
    "       'Fraction of locally unvoiced frames', 'Number of voice breaks',\n",
    "       'Degree of voice breaks']\n",
    "X = data[cols_17]"
   ]
  },
  {
   "cell_type": "code",
   "execution_count": 110,
   "metadata": {},
   "outputs": [
    {
     "name": "stdout",
     "output_type": "stream",
     "text": [
      "Accuracy on training set: 0.902\n",
      "Accuracy on test set: 0.727\n",
      "Accuracy on training set: 0.711\n",
      "Accuracy on test set: 0.727\n",
      "Accuracy on training set: 0.745\n",
      "Accuracy on test set: 0.727\n"
     ]
    }
   ],
   "source": [
    "getGBoosting(X, y)"
   ]
  },
  {
   "cell_type": "code",
   "execution_count": 111,
   "metadata": {},
   "outputs": [],
   "source": [
    "cols_18 = ['Jitter (rap)','Shimmer (dda)','AC', 'NDH', 'HTM',\n",
    "       'Median Pitch', 'Mean Pitch', 'Standard deviation',\n",
    "       'Minimum pitch', 'Maximum pitch', 'Number of pulses',\n",
    "       'Number of periods', 'Mean period', 'Standard deviation of period',\n",
    "       'Fraction of locally unvoiced frames', 'Number of voice breaks',\n",
    "       'Degree of voice breaks']\n",
    "X = data[cols_18]"
   ]
  },
  {
   "cell_type": "code",
   "execution_count": 112,
   "metadata": {},
   "outputs": [
    {
     "name": "stdout",
     "output_type": "stream",
     "text": [
      "Accuracy on training set: 0.902\n",
      "Accuracy on test set: 0.727\n",
      "Accuracy on training set: 0.705\n",
      "Accuracy on test set: 0.727\n",
      "Accuracy on training set: 0.737\n",
      "Accuracy on test set: 0.818\n"
     ]
    }
   ],
   "source": [
    "getGBoosting(X, y)"
   ]
  },
  {
   "cell_type": "code",
   "execution_count": 113,
   "metadata": {},
   "outputs": [],
   "source": [
    "cols_19 = ['Jitter (ppq5)','Shimmer (local)','AC', 'NDH', 'HTM',\n",
    "       'Median Pitch', 'Mean Pitch', 'Standard deviation',\n",
    "       'Minimum pitch', 'Maximum pitch', 'Number of pulses',\n",
    "       'Number of periods', 'Mean period', 'Standard deviation of period',\n",
    "       'Fraction of locally unvoiced frames', 'Number of voice breaks',\n",
    "       'Degree of voice breaks']\n",
    "X = data[cols_19]"
   ]
  },
  {
   "cell_type": "code",
   "execution_count": 114,
   "metadata": {},
   "outputs": [
    {
     "name": "stdout",
     "output_type": "stream",
     "text": [
      "Accuracy on training set: 0.896\n",
      "Accuracy on test set: 0.727\n",
      "Accuracy on training set: 0.712\n",
      "Accuracy on test set: 0.727\n",
      "Accuracy on training set: 0.731\n",
      "Accuracy on test set: 0.727\n"
     ]
    }
   ],
   "source": [
    "getGBoosting(X, y)"
   ]
  },
  {
   "cell_type": "code",
   "execution_count": 115,
   "metadata": {},
   "outputs": [],
   "source": [
    "cols_20 = ['Jitter (ppq5)','Shimmer (local, db)','AC', 'NDH', 'HTM',\n",
    "       'Median Pitch', 'Mean Pitch', 'Standard deviation',\n",
    "       'Minimum pitch', 'Maximum pitch', 'Number of pulses',\n",
    "       'Number of periods', 'Mean period', 'Standard deviation of period',\n",
    "       'Fraction of locally unvoiced frames', 'Number of voice breaks',\n",
    "       'Degree of voice breaks']\n",
    "X = data[cols_20]"
   ]
  },
  {
   "cell_type": "code",
   "execution_count": 116,
   "metadata": {},
   "outputs": [
    {
     "name": "stdout",
     "output_type": "stream",
     "text": [
      "Accuracy on training set: 0.898\n",
      "Accuracy on test set: 0.818\n",
      "Accuracy on training set: 0.703\n",
      "Accuracy on test set: 0.818\n",
      "Accuracy on training set: 0.732\n",
      "Accuracy on test set: 0.727\n"
     ]
    }
   ],
   "source": [
    "getGBoosting(X, y)"
   ]
  },
  {
   "cell_type": "code",
   "execution_count": 117,
   "metadata": {},
   "outputs": [],
   "source": [
    "cols_21 = ['Jitter (ppq5)','Shimmer (apq3)','AC', 'NDH', 'HTM',\n",
    "       'Median Pitch', 'Mean Pitch', 'Standard deviation',\n",
    "       'Minimum pitch', 'Maximum pitch', 'Number of pulses',\n",
    "       'Number of periods', 'Mean period', 'Standard deviation of period',\n",
    "       'Fraction of locally unvoiced frames', 'Number of voice breaks',\n",
    "       'Degree of voice breaks']\n",
    "X = data[cols_21]"
   ]
  },
  {
   "cell_type": "code",
   "execution_count": 118,
   "metadata": {},
   "outputs": [
    {
     "name": "stdout",
     "output_type": "stream",
     "text": [
      "Accuracy on training set: 0.894\n",
      "Accuracy on test set: 0.636\n",
      "Accuracy on training set: 0.701\n",
      "Accuracy on test set: 0.727\n",
      "Accuracy on training set: 0.729\n",
      "Accuracy on test set: 0.727\n"
     ]
    }
   ],
   "source": [
    "getGBoosting(X, y)"
   ]
  },
  {
   "cell_type": "code",
   "execution_count": 119,
   "metadata": {},
   "outputs": [],
   "source": [
    "cols_22 = ['Jitter (ppq5)','Shimmer (apq5)','AC', 'NDH', 'HTM',\n",
    "       'Median Pitch', 'Mean Pitch', 'Standard deviation',\n",
    "       'Minimum pitch', 'Maximum pitch', 'Number of pulses',\n",
    "       'Number of periods', 'Mean period', 'Standard deviation of period',\n",
    "       'Fraction of locally unvoiced frames', 'Number of voice breaks',\n",
    "       'Degree of voice breaks']\n",
    "X = data[cols_22]"
   ]
  },
  {
   "cell_type": "code",
   "execution_count": 120,
   "metadata": {},
   "outputs": [
    {
     "name": "stdout",
     "output_type": "stream",
     "text": [
      "Accuracy on training set: 0.898\n",
      "Accuracy on test set: 0.818\n",
      "Accuracy on training set: 0.709\n",
      "Accuracy on test set: 0.818\n",
      "Accuracy on training set: 0.741\n",
      "Accuracy on test set: 0.727\n"
     ]
    }
   ],
   "source": [
    "getGBoosting(X, y)"
   ]
  },
  {
   "cell_type": "code",
   "execution_count": 121,
   "metadata": {},
   "outputs": [],
   "source": [
    "cols_23 = ['Jitter (ppq5)','Shimmer (apq11)','AC', 'NDH', 'HTM',\n",
    "       'Median Pitch', 'Mean Pitch', 'Standard deviation',\n",
    "       'Minimum pitch', 'Maximum pitch', 'Number of pulses',\n",
    "       'Number of periods', 'Mean period', 'Standard deviation of period',\n",
    "       'Fraction of locally unvoiced frames', 'Number of voice breaks',\n",
    "       'Degree of voice breaks']\n",
    "X = data[cols_23]"
   ]
  },
  {
   "cell_type": "code",
   "execution_count": 122,
   "metadata": {},
   "outputs": [
    {
     "name": "stdout",
     "output_type": "stream",
     "text": [
      "Accuracy on training set: 0.899\n",
      "Accuracy on test set: 0.818\n",
      "Accuracy on training set: 0.718\n",
      "Accuracy on test set: 0.818\n",
      "Accuracy on training set: 0.743\n",
      "Accuracy on test set: 0.727\n"
     ]
    }
   ],
   "source": [
    "getGBoosting(X, y)"
   ]
  },
  {
   "cell_type": "code",
   "execution_count": 123,
   "metadata": {},
   "outputs": [],
   "source": [
    "cols_24 = ['Jitter (ppq5)','Shimmer (dda)','AC', 'NDH', 'HTM',\n",
    "       'Median Pitch', 'Mean Pitch', 'Standard deviation',\n",
    "       'Minimum pitch', 'Maximum pitch', 'Number of pulses',\n",
    "       'Number of periods', 'Mean period', 'Standard deviation of period',\n",
    "       'Fraction of locally unvoiced frames', 'Number of voice breaks',\n",
    "       'Degree of voice breaks']\n",
    "X = data[cols_24]"
   ]
  },
  {
   "cell_type": "code",
   "execution_count": 124,
   "metadata": {},
   "outputs": [
    {
     "name": "stdout",
     "output_type": "stream",
     "text": [
      "Accuracy on training set: 0.894\n",
      "Accuracy on test set: 0.636\n",
      "Accuracy on training set: 0.701\n",
      "Accuracy on test set: 0.727\n",
      "Accuracy on training set: 0.729\n",
      "Accuracy on test set: 0.727\n"
     ]
    }
   ],
   "source": [
    "getGBoosting(X, y)"
   ]
  },
  {
   "cell_type": "code",
   "execution_count": 125,
   "metadata": {},
   "outputs": [],
   "source": [
    "cols_25 = ['Jitter (ddp)','Shimmer (local)','AC', 'NDH', 'HTM',\n",
    "       'Median Pitch', 'Mean Pitch', 'Standard deviation',\n",
    "       'Minimum pitch', 'Maximum pitch', 'Number of pulses',\n",
    "       'Number of periods', 'Mean period', 'Standard deviation of period',\n",
    "       'Fraction of locally unvoiced frames', 'Number of voice breaks',\n",
    "       'Degree of voice breaks']\n",
    "X = data[cols_25]\n",
    "y = data['Class information']"
   ]
  },
  {
   "cell_type": "code",
   "execution_count": 126,
   "metadata": {},
   "outputs": [
    {
     "name": "stdout",
     "output_type": "stream",
     "text": [
      "Accuracy on training set: 0.905\n",
      "Accuracy on test set: 0.818\n",
      "Accuracy on training set: 0.701\n",
      "Accuracy on test set: 0.818\n",
      "Accuracy on training set: 0.727\n",
      "Accuracy on test set: 0.818\n"
     ]
    }
   ],
   "source": [
    "getGBoosting(X, y)"
   ]
  },
  {
   "cell_type": "code",
   "execution_count": 127,
   "metadata": {},
   "outputs": [],
   "source": [
    "cols_26 = ['Jitter (ddp)','Shimmer (local, db)','AC', 'NDH', 'HTM',\n",
    "       'Median Pitch', 'Mean Pitch', 'Standard deviation',\n",
    "       'Minimum pitch', 'Maximum pitch', 'Number of pulses',\n",
    "       'Number of periods', 'Mean period', 'Standard deviation of period',\n",
    "       'Fraction of locally unvoiced frames', 'Number of voice breaks',\n",
    "       'Degree of voice breaks']\n",
    "X = data[cols_26]"
   ]
  },
  {
   "cell_type": "code",
   "execution_count": 128,
   "metadata": {},
   "outputs": [
    {
     "name": "stdout",
     "output_type": "stream",
     "text": [
      "Accuracy on training set: 0.902\n",
      "Accuracy on test set: 0.727\n",
      "Accuracy on training set: 0.704\n",
      "Accuracy on test set: 0.818\n",
      "Accuracy on training set: 0.745\n",
      "Accuracy on test set: 0.727\n"
     ]
    }
   ],
   "source": [
    "getGBoosting(X, y)"
   ]
  },
  {
   "cell_type": "code",
   "execution_count": 129,
   "metadata": {},
   "outputs": [],
   "source": [
    "cols_27 = ['Jitter (ddp)','Shimmer (apq3)','AC', 'NDH', 'HTM',\n",
    "       'Median Pitch', 'Mean Pitch', 'Standard deviation',\n",
    "       'Minimum pitch', 'Maximum pitch', 'Number of pulses',\n",
    "       'Number of periods', 'Mean period', 'Standard deviation of period',\n",
    "       'Fraction of locally unvoiced frames', 'Number of voice breaks',\n",
    "       'Degree of voice breaks']\n",
    "X = data[cols_27]"
   ]
  },
  {
   "cell_type": "code",
   "execution_count": 130,
   "metadata": {},
   "outputs": [
    {
     "name": "stdout",
     "output_type": "stream",
     "text": [
      "Accuracy on training set: 0.898\n",
      "Accuracy on test set: 0.727\n",
      "Accuracy on training set: 0.705\n",
      "Accuracy on test set: 0.727\n",
      "Accuracy on training set: 0.738\n",
      "Accuracy on test set: 0.818\n"
     ]
    }
   ],
   "source": [
    "getGBoosting(X, y)"
   ]
  },
  {
   "cell_type": "code",
   "execution_count": 131,
   "metadata": {},
   "outputs": [],
   "source": [
    "cols_28 = ['Jitter (ddp)','Shimmer (apq5)','AC', 'NDH', 'HTM',\n",
    "       'Median Pitch', 'Mean Pitch', 'Standard deviation',\n",
    "       'Minimum pitch', 'Maximum pitch', 'Number of pulses',\n",
    "       'Number of periods', 'Mean period', 'Standard deviation of period',\n",
    "       'Fraction of locally unvoiced frames', 'Number of voice breaks',\n",
    "       'Degree of voice breaks']\n",
    "X = data[cols_28]"
   ]
  },
  {
   "cell_type": "code",
   "execution_count": 132,
   "metadata": {},
   "outputs": [
    {
     "name": "stdout",
     "output_type": "stream",
     "text": [
      "Accuracy on training set: 0.898\n",
      "Accuracy on test set: 0.727\n",
      "Accuracy on training set: 0.705\n",
      "Accuracy on test set: 0.818\n",
      "Accuracy on training set: 0.740\n",
      "Accuracy on test set: 0.727\n"
     ]
    }
   ],
   "source": [
    "getGBoosting(X, y)"
   ]
  },
  {
   "cell_type": "code",
   "execution_count": 136,
   "metadata": {},
   "outputs": [],
   "source": [
    "cols_29 = ['Jitter (ddp)','Shimmer (apq11)','AC', 'NDH', 'HTM',\n",
    "       'Median Pitch', 'Mean Pitch', 'Standard deviation',\n",
    "       'Minimum pitch', 'Maximum pitch', 'Number of pulses',\n",
    "       'Number of periods', 'Mean period', 'Standard deviation of period',\n",
    "       'Fraction of locally unvoiced frames', 'Number of voice breaks',\n",
    "       'Degree of voice breaks']\n",
    "X = data[cols_29]"
   ]
  },
  {
   "cell_type": "code",
   "execution_count": 137,
   "metadata": {},
   "outputs": [
    {
     "name": "stdout",
     "output_type": "stream",
     "text": [
      "Accuracy on training set: 0.893\n",
      "Accuracy on test set: 0.727\n",
      "Accuracy on training set: 0.711\n",
      "Accuracy on test set: 0.727\n",
      "Accuracy on training set: 0.745\n",
      "Accuracy on test set: 0.727\n"
     ]
    }
   ],
   "source": [
    "getGBoosting(X, y)"
   ]
  },
  {
   "cell_type": "code",
   "execution_count": 138,
   "metadata": {},
   "outputs": [],
   "source": [
    "cols_30 = ['Jitter (ddp)','Shimmer (dda)','AC', 'NDH', 'HTM',\n",
    "       'Median Pitch', 'Mean Pitch', 'Standard deviation',\n",
    "       'Minimum pitch', 'Maximum pitch', 'Number of pulses',\n",
    "       'Number of periods', 'Mean period', 'Standard deviation of period',\n",
    "       'Fraction of locally unvoiced frames', 'Number of voice breaks',\n",
    "       'Degree of voice breaks']\n",
    "X = data[cols_30]\n",
    "y = data['Class information']"
   ]
  },
  {
   "cell_type": "code",
   "execution_count": 139,
   "metadata": {},
   "outputs": [
    {
     "name": "stdout",
     "output_type": "stream",
     "text": [
      "Accuracy on training set: 0.898\n",
      "Accuracy on test set: 0.727\n",
      "Accuracy on training set: 0.705\n",
      "Accuracy on test set: 0.727\n",
      "Accuracy on training set: 0.738\n",
      "Accuracy on test set: 0.818\n"
     ]
    }
   ],
   "source": [
    "getGBoosting(X, y)"
   ]
  }
 ],
 "metadata": {
  "kernelspec": {
   "display_name": "Python 3",
   "language": "python",
   "name": "python3"
  },
  "language_info": {
   "codemirror_mode": {
    "name": "ipython",
    "version": 3
   },
   "file_extension": ".py",
   "mimetype": "text/x-python",
   "name": "python",
   "nbconvert_exporter": "python",
   "pygments_lexer": "ipython3",
   "version": "3.7.4"
  }
 },
 "nbformat": 4,
 "nbformat_minor": 2
}
