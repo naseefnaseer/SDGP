{
 "cells": [
  {
   "cell_type": "code",
   "execution_count": 1,
   "metadata": {},
   "outputs": [],
   "source": [
    "import pandas as pd\n",
    "import numpy as np\n",
    "from sklearn import preprocessing\n",
    "import matplotlib.pyplot as plt \n",
    "plt.rc(\"font\", size=14)\n",
    "from sklearn.model_selection import train_test_split\n",
    "import seaborn as sns\n",
    "sns.set(style=\"white\")\n",
    "sns.set(style=\"whitegrid\", color_codes=True)"
   ]
  },
  {
   "cell_type": "code",
   "execution_count": 2,
   "metadata": {},
   "outputs": [
    {
     "name": "stdout",
     "output_type": "stream",
     "text": [
      "(1040, 28)\n",
      "['Subject Id', 'Jitter(local)', 'Jitter(local, absolute)', 'Jitter (rap)', 'Jitter (ppq5)', 'Jitter (ddp)', 'Shimmer (local)', 'Shimmer (local, db)', 'Shimmer (apq3)', 'Shimmer (apq5)', 'Shimmer (apq11)', 'Shimmer (dda)', 'AC', 'NDH', 'HTM', 'Median Pitch', 'Mean Pitch', 'Standard deviation', 'Minimum pitch', 'Maximum pitch', 'Number of pulses', 'Number of periods', 'Mean period', 'Standard deviation of period', 'Fraction of locally unvoiced frames', 'Number of voice breaks', 'Degree of voice breaks', 'Class information']\n"
     ]
    }
   ],
   "source": [
    "data = pd.read_csv(r'Parkinsons Train Data.csv', header=0)\n",
    "data = data.dropna()\n",
    "print(data.shape)\n",
    "print(list(data.columns))"
   ]
  },
  {
   "cell_type": "code",
   "execution_count": 12,
   "metadata": {},
   "outputs": [],
   "source": [
    "def getDTree(X, y):\n",
    "    X_train, X_test, y_train, y_test = train_test_split(X, y, random_state=66, test_size= 0.05, stratify=data['Class information'])\n",
    "\n",
    "    from sklearn.tree import DecisionTreeClassifier\n",
    "\n",
    "    tree = DecisionTreeClassifier(random_state=0)\n",
    "    tree.fit(X_train, y_train)\n",
    "    print(\"Accuracy on training set: {:.3f}\".format(tree.score(X_train, y_train)))\n",
    "    print(\"Accuracy on test set: {:.3f}\".format(tree.score(X_test, y_test)))\n",
    "    \n",
    "    tree = DecisionTreeClassifier(max_depth=3, random_state=0)\n",
    "    tree.fit(X_train, y_train)\n",
    "\n",
    "    print(\"Accuracy on training set: {:.3f}\".format(tree.score(X_train, y_train)))\n",
    "    print(\"Accuracy on test set: {:.3f}\".format(tree.score(X_test, y_test)))"
   ]
  },
  {
   "cell_type": "code",
   "execution_count": 8,
   "metadata": {},
   "outputs": [],
   "source": [
    "y = data['Class information']"
   ]
  },
  {
   "cell_type": "code",
   "execution_count": 9,
   "metadata": {},
   "outputs": [],
   "source": [
    "cols_full = ['Jitter(local)', 'Jitter(local, absolute)',\n",
    "       'Jitter (rap)', 'Jitter (ppq5)', 'Jitter (ddp)', 'Shimmer (local)',\n",
    "       'Shimmer (local, db)', 'Shimmer (apq3)', 'Shimmer (apq5)',\n",
    "       'Shimmer (apq11)', 'Shimmer (dda)', 'AC', 'NDH', 'HTM',\n",
    "       'Median Pitch', 'Mean Pitch', 'Standard deviation',\n",
    "       'Minimum pitch', 'Maximum pitch', 'Number of pulses',\n",
    "       'Number of periods', 'Mean period', 'Standard deviation of period',\n",
    "       'Fraction of locally unvoiced frames', 'Number of voice breaks',\n",
    "       'Degree of voice breaks']\n",
    "X = data[cols_full]"
   ]
  },
  {
   "cell_type": "code",
   "execution_count": 13,
   "metadata": {},
   "outputs": [
    {
     "name": "stdout",
     "output_type": "stream",
     "text": [
      "Accuracy on training set: 1.000\n",
      "Accuracy on test set: 0.769\n",
      "Accuracy on training set: 0.667\n",
      "Accuracy on test set: 0.654\n"
     ]
    }
   ],
   "source": [
    "getDTree(X, y)"
   ]
  },
  {
   "cell_type": "markdown",
   "metadata": {},
   "source": [
    "### Selecting the columns for analysis (Choosing 1 from Jitter and 1 from Shimmer)"
   ]
  },
  {
   "cell_type": "code",
   "execution_count": 14,
   "metadata": {},
   "outputs": [],
   "source": [
    "cols_1 = ['Jitter(local)','Shimmer (local)','AC', 'NDH', 'HTM',\n",
    "       'Median Pitch', 'Mean Pitch', 'Standard deviation',\n",
    "       'Minimum pitch', 'Maximum pitch', 'Number of pulses',\n",
    "       'Number of periods', 'Mean period', 'Standard deviation of period',\n",
    "       'Fraction of locally unvoiced frames', 'Number of voice breaks',\n",
    "       'Degree of voice breaks']\n",
    "X = data[cols_1]"
   ]
  },
  {
   "cell_type": "code",
   "execution_count": 15,
   "metadata": {},
   "outputs": [
    {
     "name": "stdout",
     "output_type": "stream",
     "text": [
      "Accuracy on training set: 1.000\n",
      "Accuracy on test set: 0.615\n",
      "Accuracy on training set: 0.663\n",
      "Accuracy on test set: 0.635\n"
     ]
    }
   ],
   "source": [
    "getDTree(X, y)"
   ]
  },
  {
   "cell_type": "code",
   "execution_count": 16,
   "metadata": {},
   "outputs": [],
   "source": [
    "cols_2 = ['Jitter(local)','Shimmer (local, db)','AC', 'NDH', 'HTM',\n",
    "       'Median Pitch', 'Mean Pitch', 'Standard deviation',\n",
    "       'Minimum pitch', 'Maximum pitch', 'Number of pulses',\n",
    "       'Number of periods', 'Mean period', 'Standard deviation of period',\n",
    "       'Fraction of locally unvoiced frames', 'Number of voice breaks',\n",
    "       'Degree of voice breaks']\n",
    "X = data[cols_2]"
   ]
  },
  {
   "cell_type": "code",
   "execution_count": 17,
   "metadata": {},
   "outputs": [
    {
     "name": "stdout",
     "output_type": "stream",
     "text": [
      "Accuracy on training set: 1.000\n",
      "Accuracy on test set: 0.692\n",
      "Accuracy on training set: 0.663\n",
      "Accuracy on test set: 0.635\n"
     ]
    }
   ],
   "source": [
    "getDTree(X, y)"
   ]
  },
  {
   "cell_type": "code",
   "execution_count": 18,
   "metadata": {},
   "outputs": [],
   "source": [
    "cols_3 = ['Jitter(local)','Shimmer (apq3)','AC', 'NDH', 'HTM',\n",
    "       'Median Pitch', 'Mean Pitch', 'Standard deviation',\n",
    "       'Minimum pitch', 'Maximum pitch', 'Number of pulses',\n",
    "       'Number of periods', 'Mean period', 'Standard deviation of period',\n",
    "       'Fraction of locally unvoiced frames', 'Number of voice breaks',\n",
    "       'Degree of voice breaks']\n",
    "X = data[cols_3]"
   ]
  },
  {
   "cell_type": "code",
   "execution_count": 19,
   "metadata": {},
   "outputs": [
    {
     "name": "stdout",
     "output_type": "stream",
     "text": [
      "Accuracy on training set: 1.000\n",
      "Accuracy on test set: 0.654\n",
      "Accuracy on training set: 0.663\n",
      "Accuracy on test set: 0.635\n"
     ]
    }
   ],
   "source": [
    "getDTree(X, y)"
   ]
  },
  {
   "cell_type": "code",
   "execution_count": 20,
   "metadata": {},
   "outputs": [],
   "source": [
    "cols_4 = ['Jitter(local)','Shimmer (apq5)','AC', 'NDH', 'HTM',\n",
    "       'Median Pitch', 'Mean Pitch', 'Standard deviation',\n",
    "       'Minimum pitch', 'Maximum pitch', 'Number of pulses',\n",
    "       'Number of periods', 'Mean period', 'Standard deviation of period',\n",
    "       'Fraction of locally unvoiced frames', 'Number of voice breaks',\n",
    "       'Degree of voice breaks']\n",
    "X = data[cols_4]"
   ]
  },
  {
   "cell_type": "code",
   "execution_count": 21,
   "metadata": {},
   "outputs": [
    {
     "name": "stdout",
     "output_type": "stream",
     "text": [
      "Accuracy on training set: 1.000\n",
      "Accuracy on test set: 0.596\n",
      "Accuracy on training set: 0.663\n",
      "Accuracy on test set: 0.635\n"
     ]
    }
   ],
   "source": [
    "getDTree(X, y)"
   ]
  },
  {
   "cell_type": "code",
   "execution_count": 22,
   "metadata": {},
   "outputs": [],
   "source": [
    "cols_5 = ['Jitter(local)','Shimmer (apq11)','AC', 'NDH', 'HTM',\n",
    "       'Median Pitch', 'Mean Pitch', 'Standard deviation',\n",
    "       'Minimum pitch', 'Maximum pitch', 'Number of pulses',\n",
    "       'Number of periods', 'Mean period', 'Standard deviation of period',\n",
    "       'Fraction of locally unvoiced frames', 'Number of voice breaks',\n",
    "       'Degree of voice breaks']\n",
    "X = data[cols_5]"
   ]
  },
  {
   "cell_type": "code",
   "execution_count": 23,
   "metadata": {},
   "outputs": [
    {
     "name": "stdout",
     "output_type": "stream",
     "text": [
      "Accuracy on training set: 1.000\n",
      "Accuracy on test set: 0.673\n",
      "Accuracy on training set: 0.663\n",
      "Accuracy on test set: 0.635\n"
     ]
    }
   ],
   "source": [
    "getDTree(X, y)"
   ]
  },
  {
   "cell_type": "code",
   "execution_count": 24,
   "metadata": {},
   "outputs": [],
   "source": [
    "cols_6 = ['Jitter(local)','Shimmer (dda)','AC', 'NDH', 'HTM',\n",
    "       'Median Pitch', 'Mean Pitch', 'Standard deviation',\n",
    "       'Minimum pitch', 'Maximum pitch', 'Number of pulses',\n",
    "       'Number of periods', 'Mean period', 'Standard deviation of period',\n",
    "       'Fraction of locally unvoiced frames', 'Number of voice breaks',\n",
    "       'Degree of voice breaks']\n",
    "X = data[cols_6]"
   ]
  },
  {
   "cell_type": "code",
   "execution_count": 25,
   "metadata": {},
   "outputs": [
    {
     "name": "stdout",
     "output_type": "stream",
     "text": [
      "Accuracy on training set: 1.000\n",
      "Accuracy on test set: 0.654\n",
      "Accuracy on training set: 0.663\n",
      "Accuracy on test set: 0.635\n"
     ]
    }
   ],
   "source": [
    "getDTree(X, y)"
   ]
  },
  {
   "cell_type": "code",
   "execution_count": 26,
   "metadata": {},
   "outputs": [],
   "source": [
    "cols_7 = ['Jitter(local, absolute)','Shimmer (local)','AC', 'NDH', 'HTM',\n",
    "       'Median Pitch', 'Mean Pitch', 'Standard deviation',\n",
    "       'Minimum pitch', 'Maximum pitch', 'Number of pulses',\n",
    "       'Number of periods', 'Mean period', 'Standard deviation of period',\n",
    "       'Fraction of locally unvoiced frames', 'Number of voice breaks',\n",
    "       'Degree of voice breaks']\n",
    "X = data[cols_7]"
   ]
  },
  {
   "cell_type": "code",
   "execution_count": 27,
   "metadata": {},
   "outputs": [
    {
     "name": "stdout",
     "output_type": "stream",
     "text": [
      "Accuracy on training set: 1.000\n",
      "Accuracy on test set: 0.635\n",
      "Accuracy on training set: 0.635\n",
      "Accuracy on test set: 0.692\n"
     ]
    }
   ],
   "source": [
    "getDTree(X, y)"
   ]
  },
  {
   "cell_type": "code",
   "execution_count": 28,
   "metadata": {},
   "outputs": [],
   "source": [
    "cols_8 = ['Jitter(local, absolute)','Shimmer (local, db)','AC', 'NDH', 'HTM',\n",
    "       'Median Pitch', 'Mean Pitch', 'Standard deviation',\n",
    "       'Minimum pitch', 'Maximum pitch', 'Number of pulses',\n",
    "       'Number of periods', 'Mean period', 'Standard deviation of period',\n",
    "       'Fraction of locally unvoiced frames', 'Number of voice breaks',\n",
    "       'Degree of voice breaks']\n",
    "X = data[cols_8]"
   ]
  },
  {
   "cell_type": "code",
   "execution_count": 29,
   "metadata": {},
   "outputs": [
    {
     "name": "stdout",
     "output_type": "stream",
     "text": [
      "Accuracy on training set: 1.000\n",
      "Accuracy on test set: 0.673\n",
      "Accuracy on training set: 0.658\n",
      "Accuracy on test set: 0.635\n"
     ]
    }
   ],
   "source": [
    "getDTree(X, y)"
   ]
  },
  {
   "cell_type": "code",
   "execution_count": 30,
   "metadata": {},
   "outputs": [],
   "source": [
    "cols_9 = ['Jitter(local, absolute)','Shimmer (apq3)','AC', 'NDH', 'HTM',\n",
    "       'Median Pitch', 'Mean Pitch', 'Standard deviation',\n",
    "       'Minimum pitch', 'Maximum pitch', 'Number of pulses',\n",
    "       'Number of periods', 'Mean period', 'Standard deviation of period',\n",
    "       'Fraction of locally unvoiced frames', 'Number of voice breaks',\n",
    "       'Degree of voice breaks']\n",
    "X = data[cols_9]"
   ]
  },
  {
   "cell_type": "code",
   "execution_count": 31,
   "metadata": {},
   "outputs": [
    {
     "name": "stdout",
     "output_type": "stream",
     "text": [
      "Accuracy on training set: 1.000\n",
      "Accuracy on test set: 0.712\n",
      "Accuracy on training set: 0.627\n",
      "Accuracy on test set: 0.558\n"
     ]
    }
   ],
   "source": [
    "getDTree(X, y)"
   ]
  },
  {
   "cell_type": "code",
   "execution_count": 32,
   "metadata": {},
   "outputs": [],
   "source": [
    "cols_10 = ['Jitter(local, absolute)','Shimmer (apq5)','AC', 'NDH', 'HTM',\n",
    "       'Median Pitch', 'Mean Pitch', 'Standard deviation',\n",
    "       'Minimum pitch', 'Maximum pitch', 'Number of pulses',\n",
    "       'Number of periods', 'Mean period', 'Standard deviation of period',\n",
    "       'Fraction of locally unvoiced frames', 'Number of voice breaks',\n",
    "       'Degree of voice breaks']\n",
    "X = data[cols_10]"
   ]
  },
  {
   "cell_type": "code",
   "execution_count": 33,
   "metadata": {},
   "outputs": [
    {
     "name": "stdout",
     "output_type": "stream",
     "text": [
      "Accuracy on training set: 1.000\n",
      "Accuracy on test set: 0.538\n",
      "Accuracy on training set: 0.631\n",
      "Accuracy on test set: 0.558\n"
     ]
    }
   ],
   "source": [
    "getDTree(X, y)"
   ]
  },
  {
   "cell_type": "code",
   "execution_count": 34,
   "metadata": {},
   "outputs": [],
   "source": [
    "cols_11 = ['Jitter(local, absolute)','Shimmer (apq11)','AC', 'NDH', 'HTM',\n",
    "       'Median Pitch', 'Mean Pitch', 'Standard deviation',\n",
    "       'Minimum pitch', 'Maximum pitch', 'Number of pulses',\n",
    "       'Number of periods', 'Mean period', 'Standard deviation of period',\n",
    "       'Fraction of locally unvoiced frames', 'Number of voice breaks',\n",
    "       'Degree of voice breaks']\n",
    "X = data[cols_11]"
   ]
  },
  {
   "cell_type": "code",
   "execution_count": 35,
   "metadata": {},
   "outputs": [
    {
     "name": "stdout",
     "output_type": "stream",
     "text": [
      "Accuracy on training set: 1.000\n",
      "Accuracy on test set: 0.635\n",
      "Accuracy on training set: 0.661\n",
      "Accuracy on test set: 0.654\n"
     ]
    }
   ],
   "source": [
    "getDTree(X, y)"
   ]
  },
  {
   "cell_type": "code",
   "execution_count": 36,
   "metadata": {},
   "outputs": [],
   "source": [
    "cols_12 = ['Jitter(local, absolute)','Shimmer (dda)','AC', 'NDH', 'HTM',\n",
    "       'Median Pitch', 'Mean Pitch', 'Standard deviation',\n",
    "       'Minimum pitch', 'Maximum pitch', 'Number of pulses',\n",
    "       'Number of periods', 'Mean period', 'Standard deviation of period',\n",
    "       'Fraction of locally unvoiced frames', 'Number of voice breaks',\n",
    "       'Degree of voice breaks']\n",
    "X = data[cols_12]"
   ]
  },
  {
   "cell_type": "code",
   "execution_count": 37,
   "metadata": {},
   "outputs": [
    {
     "name": "stdout",
     "output_type": "stream",
     "text": [
      "Accuracy on training set: 1.000\n",
      "Accuracy on test set: 0.712\n",
      "Accuracy on training set: 0.627\n",
      "Accuracy on test set: 0.558\n"
     ]
    }
   ],
   "source": [
    "getDTree(X, y)"
   ]
  },
  {
   "cell_type": "code",
   "execution_count": 38,
   "metadata": {},
   "outputs": [],
   "source": [
    "cols_13 = ['Jitter (rap)','Shimmer (local)','AC', 'NDH', 'HTM',\n",
    "       'Median Pitch', 'Mean Pitch', 'Standard deviation',\n",
    "       'Minimum pitch', 'Maximum pitch', 'Number of pulses',\n",
    "       'Number of periods', 'Mean period', 'Standard deviation of period',\n",
    "       'Fraction of locally unvoiced frames', 'Number of voice breaks',\n",
    "       'Degree of voice breaks']\n",
    "X = data[cols_13]"
   ]
  },
  {
   "cell_type": "code",
   "execution_count": 39,
   "metadata": {},
   "outputs": [
    {
     "name": "stdout",
     "output_type": "stream",
     "text": [
      "Accuracy on training set: 1.000\n",
      "Accuracy on test set: 0.692\n",
      "Accuracy on training set: 0.640\n",
      "Accuracy on test set: 0.673\n"
     ]
    }
   ],
   "source": [
    "getDTree(X, y)"
   ]
  },
  {
   "cell_type": "code",
   "execution_count": 40,
   "metadata": {},
   "outputs": [],
   "source": [
    "cols_14 = ['Jitter (rap)','Shimmer (local, db)','AC', 'NDH', 'HTM',\n",
    "       'Median Pitch', 'Mean Pitch', 'Standard deviation',\n",
    "       'Minimum pitch', 'Maximum pitch', 'Number of pulses',\n",
    "       'Number of periods', 'Mean period', 'Standard deviation of period',\n",
    "       'Fraction of locally unvoiced frames', 'Number of voice breaks',\n",
    "       'Degree of voice breaks']\n",
    "X = data[cols_14]"
   ]
  },
  {
   "cell_type": "code",
   "execution_count": 41,
   "metadata": {},
   "outputs": [
    {
     "name": "stdout",
     "output_type": "stream",
     "text": [
      "Accuracy on training set: 1.000\n",
      "Accuracy on test set: 0.673\n",
      "Accuracy on training set: 0.655\n",
      "Accuracy on test set: 0.635\n"
     ]
    }
   ],
   "source": [
    "getDTree(X, y)"
   ]
  },
  {
   "cell_type": "code",
   "execution_count": 42,
   "metadata": {},
   "outputs": [],
   "source": [
    "cols_15 = ['Jitter (rap)','Shimmer (apq3)','AC', 'NDH', 'HTM',\n",
    "       'Median Pitch', 'Mean Pitch', 'Standard deviation',\n",
    "       'Minimum pitch', 'Maximum pitch', 'Number of pulses',\n",
    "       'Number of periods', 'Mean period', 'Standard deviation of period',\n",
    "       'Fraction of locally unvoiced frames', 'Number of voice breaks',\n",
    "       'Degree of voice breaks']\n",
    "X = data[cols_15]"
   ]
  },
  {
   "cell_type": "code",
   "execution_count": 43,
   "metadata": {},
   "outputs": [
    {
     "name": "stdout",
     "output_type": "stream",
     "text": [
      "Accuracy on training set: 1.000\n",
      "Accuracy on test set: 0.673\n",
      "Accuracy on training set: 0.655\n",
      "Accuracy on test set: 0.635\n"
     ]
    }
   ],
   "source": [
    "getDTree(X, y)"
   ]
  },
  {
   "cell_type": "code",
   "execution_count": 44,
   "metadata": {},
   "outputs": [],
   "source": [
    "cols_16 = ['Jitter (rap)','Shimmer (apq5)','AC', 'NDH', 'HTM',\n",
    "       'Median Pitch', 'Mean Pitch', 'Standard deviation',\n",
    "       'Minimum pitch', 'Maximum pitch', 'Number of pulses',\n",
    "       'Number of periods', 'Mean period', 'Standard deviation of period',\n",
    "       'Fraction of locally unvoiced frames', 'Number of voice breaks',\n",
    "       'Degree of voice breaks']\n",
    "X = data[cols_16]"
   ]
  },
  {
   "cell_type": "code",
   "execution_count": 45,
   "metadata": {},
   "outputs": [
    {
     "name": "stdout",
     "output_type": "stream",
     "text": [
      "Accuracy on training set: 1.000\n",
      "Accuracy on test set: 0.635\n",
      "Accuracy on training set: 0.655\n",
      "Accuracy on test set: 0.635\n"
     ]
    }
   ],
   "source": [
    "getDTree(X, y)"
   ]
  },
  {
   "cell_type": "code",
   "execution_count": 46,
   "metadata": {},
   "outputs": [],
   "source": [
    "cols_17 = ['Jitter (rap)','Shimmer (apq11)','AC', 'NDH', 'HTM',\n",
    "       'Median Pitch', 'Mean Pitch', 'Standard deviation',\n",
    "       'Minimum pitch', 'Maximum pitch', 'Number of pulses',\n",
    "       'Number of periods', 'Mean period', 'Standard deviation of period',\n",
    "       'Fraction of locally unvoiced frames', 'Number of voice breaks',\n",
    "       'Degree of voice breaks']\n",
    "X = data[cols_17]"
   ]
  },
  {
   "cell_type": "code",
   "execution_count": 47,
   "metadata": {},
   "outputs": [
    {
     "name": "stdout",
     "output_type": "stream",
     "text": [
      "Accuracy on training set: 1.000\n",
      "Accuracy on test set: 0.635\n",
      "Accuracy on training set: 0.669\n",
      "Accuracy on test set: 0.635\n"
     ]
    }
   ],
   "source": [
    "getDTree(X, y)"
   ]
  },
  {
   "cell_type": "code",
   "execution_count": 48,
   "metadata": {},
   "outputs": [],
   "source": [
    "cols_18 = ['Jitter (rap)','Shimmer (dda)','AC', 'NDH', 'HTM',\n",
    "       'Median Pitch', 'Mean Pitch', 'Standard deviation',\n",
    "       'Minimum pitch', 'Maximum pitch', 'Number of pulses',\n",
    "       'Number of periods', 'Mean period', 'Standard deviation of period',\n",
    "       'Fraction of locally unvoiced frames', 'Number of voice breaks',\n",
    "       'Degree of voice breaks']\n",
    "X = data[cols_18]"
   ]
  },
  {
   "cell_type": "code",
   "execution_count": 49,
   "metadata": {},
   "outputs": [
    {
     "name": "stdout",
     "output_type": "stream",
     "text": [
      "Accuracy on training set: 1.000\n",
      "Accuracy on test set: 0.673\n",
      "Accuracy on training set: 0.655\n",
      "Accuracy on test set: 0.635\n"
     ]
    }
   ],
   "source": [
    "getDTree(X, y)"
   ]
  },
  {
   "cell_type": "code",
   "execution_count": 50,
   "metadata": {},
   "outputs": [],
   "source": [
    "cols_19 = ['Jitter (ppq5)','Shimmer (local)','AC', 'NDH', 'HTM',\n",
    "       'Median Pitch', 'Mean Pitch', 'Standard deviation',\n",
    "       'Minimum pitch', 'Maximum pitch', 'Number of pulses',\n",
    "       'Number of periods', 'Mean period', 'Standard deviation of period',\n",
    "       'Fraction of locally unvoiced frames', 'Number of voice breaks',\n",
    "       'Degree of voice breaks']\n",
    "X = data[cols_19]"
   ]
  },
  {
   "cell_type": "code",
   "execution_count": 51,
   "metadata": {},
   "outputs": [
    {
     "name": "stdout",
     "output_type": "stream",
     "text": [
      "Accuracy on training set: 1.000\n",
      "Accuracy on test set: 0.731\n",
      "Accuracy on training set: 0.671\n",
      "Accuracy on test set: 0.673\n"
     ]
    }
   ],
   "source": [
    "getDTree(X, y)"
   ]
  },
  {
   "cell_type": "code",
   "execution_count": 52,
   "metadata": {},
   "outputs": [],
   "source": [
    "cols_20 = ['Jitter (ppq5)','Shimmer (local, db)','AC', 'NDH', 'HTM',\n",
    "       'Median Pitch', 'Mean Pitch', 'Standard deviation',\n",
    "       'Minimum pitch', 'Maximum pitch', 'Number of pulses',\n",
    "       'Number of periods', 'Mean period', 'Standard deviation of period',\n",
    "       'Fraction of locally unvoiced frames', 'Number of voice breaks',\n",
    "       'Degree of voice breaks']\n",
    "X = data[cols_20]"
   ]
  },
  {
   "cell_type": "code",
   "execution_count": 53,
   "metadata": {},
   "outputs": [
    {
     "name": "stdout",
     "output_type": "stream",
     "text": [
      "Accuracy on training set: 1.000\n",
      "Accuracy on test set: 0.692\n",
      "Accuracy on training set: 0.671\n",
      "Accuracy on test set: 0.673\n"
     ]
    }
   ],
   "source": [
    "getDTree(X, y)"
   ]
  },
  {
   "cell_type": "code",
   "execution_count": 54,
   "metadata": {},
   "outputs": [],
   "source": [
    "cols_21 = ['Jitter (ppq5)','Shimmer (apq3)','AC', 'NDH', 'HTM',\n",
    "       'Median Pitch', 'Mean Pitch', 'Standard deviation',\n",
    "       'Minimum pitch', 'Maximum pitch', 'Number of pulses',\n",
    "       'Number of periods', 'Mean period', 'Standard deviation of period',\n",
    "       'Fraction of locally unvoiced frames', 'Number of voice breaks',\n",
    "       'Degree of voice breaks']\n",
    "X = data[cols_21]"
   ]
  },
  {
   "cell_type": "code",
   "execution_count": 55,
   "metadata": {},
   "outputs": [
    {
     "name": "stdout",
     "output_type": "stream",
     "text": [
      "Accuracy on training set: 1.000\n",
      "Accuracy on test set: 0.731\n",
      "Accuracy on training set: 0.671\n",
      "Accuracy on test set: 0.673\n"
     ]
    }
   ],
   "source": [
    "getDTree(X, y)"
   ]
  },
  {
   "cell_type": "code",
   "execution_count": 56,
   "metadata": {},
   "outputs": [],
   "source": [
    "cols_22 = ['Jitter (ppq5)','Shimmer (apq5)','AC', 'NDH', 'HTM',\n",
    "       'Median Pitch', 'Mean Pitch', 'Standard deviation',\n",
    "       'Minimum pitch', 'Maximum pitch', 'Number of pulses',\n",
    "       'Number of periods', 'Mean period', 'Standard deviation of period',\n",
    "       'Fraction of locally unvoiced frames', 'Number of voice breaks',\n",
    "       'Degree of voice breaks']\n",
    "X = data[cols_22]"
   ]
  },
  {
   "cell_type": "code",
   "execution_count": 57,
   "metadata": {},
   "outputs": [
    {
     "name": "stdout",
     "output_type": "stream",
     "text": [
      "Accuracy on training set: 1.000\n",
      "Accuracy on test set: 0.731\n",
      "Accuracy on training set: 0.671\n",
      "Accuracy on test set: 0.673\n"
     ]
    }
   ],
   "source": [
    "getDTree(X, y)"
   ]
  },
  {
   "cell_type": "code",
   "execution_count": 58,
   "metadata": {},
   "outputs": [],
   "source": [
    "cols_23 = ['Jitter (ppq5)','Shimmer (apq11)','AC', 'NDH', 'HTM',\n",
    "       'Median Pitch', 'Mean Pitch', 'Standard deviation',\n",
    "       'Minimum pitch', 'Maximum pitch', 'Number of pulses',\n",
    "       'Number of periods', 'Mean period', 'Standard deviation of period',\n",
    "       'Fraction of locally unvoiced frames', 'Number of voice breaks',\n",
    "       'Degree of voice breaks']\n",
    "X = data[cols_23]"
   ]
  },
  {
   "cell_type": "code",
   "execution_count": 59,
   "metadata": {},
   "outputs": [
    {
     "name": "stdout",
     "output_type": "stream",
     "text": [
      "Accuracy on training set: 1.000\n",
      "Accuracy on test set: 0.712\n",
      "Accuracy on training set: 0.671\n",
      "Accuracy on test set: 0.673\n"
     ]
    }
   ],
   "source": [
    "getDTree(X, y)"
   ]
  },
  {
   "cell_type": "code",
   "execution_count": 60,
   "metadata": {},
   "outputs": [],
   "source": [
    "cols_24 = ['Jitter (ppq5)','Shimmer (dda)','AC', 'NDH', 'HTM',\n",
    "       'Median Pitch', 'Mean Pitch', 'Standard deviation',\n",
    "       'Minimum pitch', 'Maximum pitch', 'Number of pulses',\n",
    "       'Number of periods', 'Mean period', 'Standard deviation of period',\n",
    "       'Fraction of locally unvoiced frames', 'Number of voice breaks',\n",
    "       'Degree of voice breaks']\n",
    "X = data[cols_24]"
   ]
  },
  {
   "cell_type": "code",
   "execution_count": 61,
   "metadata": {},
   "outputs": [
    {
     "name": "stdout",
     "output_type": "stream",
     "text": [
      "Accuracy on training set: 1.000\n",
      "Accuracy on test set: 0.731\n",
      "Accuracy on training set: 0.671\n",
      "Accuracy on test set: 0.673\n"
     ]
    }
   ],
   "source": [
    "getDTree(X, y)"
   ]
  },
  {
   "cell_type": "code",
   "execution_count": 62,
   "metadata": {},
   "outputs": [],
   "source": [
    "cols_25 = ['Jitter (ddp)','Shimmer (local)','AC', 'NDH', 'HTM',\n",
    "       'Median Pitch', 'Mean Pitch', 'Standard deviation',\n",
    "       'Minimum pitch', 'Maximum pitch', 'Number of pulses',\n",
    "       'Number of periods', 'Mean period', 'Standard deviation of period',\n",
    "       'Fraction of locally unvoiced frames', 'Number of voice breaks',\n",
    "       'Degree of voice breaks']\n",
    "X = data[cols_25]\n",
    "y = data['Class information']"
   ]
  },
  {
   "cell_type": "code",
   "execution_count": 63,
   "metadata": {},
   "outputs": [
    {
     "name": "stdout",
     "output_type": "stream",
     "text": [
      "Accuracy on training set: 1.000\n",
      "Accuracy on test set: 0.692\n",
      "Accuracy on training set: 0.640\n",
      "Accuracy on test set: 0.673\n"
     ]
    }
   ],
   "source": [
    "getDTree(X, y)"
   ]
  },
  {
   "cell_type": "code",
   "execution_count": 64,
   "metadata": {},
   "outputs": [],
   "source": [
    "cols_26 = ['Jitter (ddp)','Shimmer (local, db)','AC', 'NDH', 'HTM',\n",
    "       'Median Pitch', 'Mean Pitch', 'Standard deviation',\n",
    "       'Minimum pitch', 'Maximum pitch', 'Number of pulses',\n",
    "       'Number of periods', 'Mean period', 'Standard deviation of period',\n",
    "       'Fraction of locally unvoiced frames', 'Number of voice breaks',\n",
    "       'Degree of voice breaks']\n",
    "X = data[cols_26]"
   ]
  },
  {
   "cell_type": "code",
   "execution_count": 65,
   "metadata": {},
   "outputs": [
    {
     "name": "stdout",
     "output_type": "stream",
     "text": [
      "Accuracy on training set: 1.000\n",
      "Accuracy on test set: 0.673\n",
      "Accuracy on training set: 0.655\n",
      "Accuracy on test set: 0.635\n"
     ]
    }
   ],
   "source": [
    "getDTree(X, y)"
   ]
  },
  {
   "cell_type": "code",
   "execution_count": 66,
   "metadata": {},
   "outputs": [],
   "source": [
    "cols_27 = ['Jitter (ddp)','Shimmer (apq3)','AC', 'NDH', 'HTM',\n",
    "       'Median Pitch', 'Mean Pitch', 'Standard deviation',\n",
    "       'Minimum pitch', 'Maximum pitch', 'Number of pulses',\n",
    "       'Number of periods', 'Mean period', 'Standard deviation of period',\n",
    "       'Fraction of locally unvoiced frames', 'Number of voice breaks',\n",
    "       'Degree of voice breaks']\n",
    "X = data[cols_27]"
   ]
  },
  {
   "cell_type": "code",
   "execution_count": 67,
   "metadata": {},
   "outputs": [
    {
     "name": "stdout",
     "output_type": "stream",
     "text": [
      "Accuracy on training set: 1.000\n",
      "Accuracy on test set: 0.615\n",
      "Accuracy on training set: 0.655\n",
      "Accuracy on test set: 0.635\n"
     ]
    }
   ],
   "source": [
    "getDTree(X, y)"
   ]
  },
  {
   "cell_type": "code",
   "execution_count": 68,
   "metadata": {},
   "outputs": [],
   "source": [
    "cols_28 = ['Jitter (ddp)','Shimmer (apq5)','AC', 'NDH', 'HTM',\n",
    "       'Median Pitch', 'Mean Pitch', 'Standard deviation',\n",
    "       'Minimum pitch', 'Maximum pitch', 'Number of pulses',\n",
    "       'Number of periods', 'Mean period', 'Standard deviation of period',\n",
    "       'Fraction of locally unvoiced frames', 'Number of voice breaks',\n",
    "       'Degree of voice breaks']\n",
    "X = data[cols_28]"
   ]
  },
  {
   "cell_type": "code",
   "execution_count": 69,
   "metadata": {},
   "outputs": [
    {
     "name": "stdout",
     "output_type": "stream",
     "text": [
      "Accuracy on training set: 1.000\n",
      "Accuracy on test set: 0.596\n",
      "Accuracy on training set: 0.655\n",
      "Accuracy on test set: 0.635\n"
     ]
    }
   ],
   "source": [
    "getDTree(X, y)"
   ]
  },
  {
   "cell_type": "code",
   "execution_count": 70,
   "metadata": {},
   "outputs": [],
   "source": [
    "cols_29 = ['Jitter (ddp)','Shimmer (apq11)','AC', 'NDH', 'HTM',\n",
    "       'Median Pitch', 'Mean Pitch', 'Standard deviation',\n",
    "       'Minimum pitch', 'Maximum pitch', 'Number of pulses',\n",
    "       'Number of periods', 'Mean period', 'Standard deviation of period',\n",
    "       'Fraction of locally unvoiced frames', 'Number of voice breaks',\n",
    "       'Degree of voice breaks']\n",
    "X = data[cols_29]"
   ]
  },
  {
   "cell_type": "code",
   "execution_count": 71,
   "metadata": {},
   "outputs": [
    {
     "name": "stdout",
     "output_type": "stream",
     "text": [
      "Accuracy on training set: 1.000\n",
      "Accuracy on test set: 0.596\n",
      "Accuracy on training set: 0.669\n",
      "Accuracy on test set: 0.635\n"
     ]
    }
   ],
   "source": [
    "getDTree(X, y)"
   ]
  },
  {
   "cell_type": "code",
   "execution_count": 72,
   "metadata": {},
   "outputs": [],
   "source": [
    "cols_30 = ['Jitter (ddp)','Shimmer (dda)','AC', 'NDH', 'HTM',\n",
    "       'Median Pitch', 'Mean Pitch', 'Standard deviation',\n",
    "       'Minimum pitch', 'Maximum pitch', 'Number of pulses',\n",
    "       'Number of periods', 'Mean period', 'Standard deviation of period',\n",
    "       'Fraction of locally unvoiced frames', 'Number of voice breaks',\n",
    "       'Degree of voice breaks']\n",
    "X = data[cols_30]\n",
    "y = data['Class information']"
   ]
  },
  {
   "cell_type": "code",
   "execution_count": 74,
   "metadata": {},
   "outputs": [
    {
     "name": "stdout",
     "output_type": "stream",
     "text": [
      "Accuracy on training set: 1.000\n",
      "Accuracy on test set: 0.615\n",
      "Accuracy on training set: 0.655\n",
      "Accuracy on test set: 0.635\n"
     ]
    }
   ],
   "source": [
    "getDTree(X, y)"
   ]
  },
  {
   "cell_type": "code",
   "execution_count": null,
   "metadata": {},
   "outputs": [],
   "source": []
  }
 ],
 "metadata": {
  "kernelspec": {
   "display_name": "Python 3",
   "language": "python",
   "name": "python3"
  },
  "language_info": {
   "codemirror_mode": {
    "name": "ipython",
    "version": 3
   },
   "file_extension": ".py",
   "mimetype": "text/x-python",
   "name": "python",
   "nbconvert_exporter": "python",
   "pygments_lexer": "ipython3",
   "version": "3.7.4"
  }
 },
 "nbformat": 4,
 "nbformat_minor": 2
}
