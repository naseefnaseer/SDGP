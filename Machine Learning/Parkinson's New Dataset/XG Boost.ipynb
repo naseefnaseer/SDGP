{
 "cells": [
  {
   "cell_type": "markdown",
   "metadata": {},
   "source": [
    "## Data Preprocessing"
   ]
  },
  {
   "cell_type": "markdown",
   "metadata": {},
   "source": [
    "### Importing the libraries"
   ]
  },
  {
   "cell_type": "code",
   "execution_count": 1,
   "metadata": {},
   "outputs": [],
   "source": [
    "import numpy as np\n",
    "import pandas as pd\n",
    "import matplotlib.pyplot as plt\n",
    "import seaborn as sns\n",
    "import warnings\n",
    "warnings.filterwarnings('ignore')"
   ]
  },
  {
   "cell_type": "markdown",
   "metadata": {},
   "source": [
    "### Importing the dataset"
   ]
  },
  {
   "cell_type": "code",
   "execution_count": 2,
   "metadata": {},
   "outputs": [],
   "source": [
    "data = pd.read_csv(r'Parkinsons Train Data_3.csv', header=0)"
   ]
  },
  {
   "cell_type": "code",
   "execution_count": 3,
   "metadata": {},
   "outputs": [
    {
     "data": {
      "text/html": [
       "<div>\n",
       "<style scoped>\n",
       "    .dataframe tbody tr th:only-of-type {\n",
       "        vertical-align: middle;\n",
       "    }\n",
       "\n",
       "    .dataframe tbody tr th {\n",
       "        vertical-align: top;\n",
       "    }\n",
       "\n",
       "    .dataframe thead th {\n",
       "        text-align: right;\n",
       "    }\n",
       "</style>\n",
       "<table border=\"1\" class=\"dataframe\">\n",
       "  <thead>\n",
       "    <tr style=\"text-align: right;\">\n",
       "      <th></th>\n",
       "      <th>Jitter(local)</th>\n",
       "      <th>Jitter(local, absolute)</th>\n",
       "      <th>Jitter (rap)</th>\n",
       "      <th>Jitter (ppq5)</th>\n",
       "      <th>Jitter (ddp)</th>\n",
       "      <th>Shimmer (local)</th>\n",
       "      <th>Shimmer (local, db)</th>\n",
       "      <th>Shimmer (apq3)</th>\n",
       "      <th>Shimmer (apq5)</th>\n",
       "      <th>Shimmer (apq11)</th>\n",
       "      <th>...</th>\n",
       "      <th>Minimum pitch</th>\n",
       "      <th>Maximum pitch</th>\n",
       "      <th>Number of pulses</th>\n",
       "      <th>Number of periods</th>\n",
       "      <th>Mean period</th>\n",
       "      <th>Standard deviation of period</th>\n",
       "      <th>Fraction of locally unvoiced frames</th>\n",
       "      <th>Number of voice breaks</th>\n",
       "      <th>Degree of voice breaks</th>\n",
       "      <th>status</th>\n",
       "    </tr>\n",
       "  </thead>\n",
       "  <tbody>\n",
       "    <tr>\n",
       "      <th>0</th>\n",
       "      <td>1.488</td>\n",
       "      <td>0.000090</td>\n",
       "      <td>0.900</td>\n",
       "      <td>0.794</td>\n",
       "      <td>2.699</td>\n",
       "      <td>8.334</td>\n",
       "      <td>0.779</td>\n",
       "      <td>4.517</td>\n",
       "      <td>4.609</td>\n",
       "      <td>6.802</td>\n",
       "      <td>...</td>\n",
       "      <td>142.229</td>\n",
       "      <td>187.576</td>\n",
       "      <td>160</td>\n",
       "      <td>159</td>\n",
       "      <td>0.006065</td>\n",
       "      <td>0.000416</td>\n",
       "      <td>0.000</td>\n",
       "      <td>0</td>\n",
       "      <td>0.000</td>\n",
       "      <td>1</td>\n",
       "    </tr>\n",
       "    <tr>\n",
       "      <th>1</th>\n",
       "      <td>0.728</td>\n",
       "      <td>0.000038</td>\n",
       "      <td>0.353</td>\n",
       "      <td>0.376</td>\n",
       "      <td>1.059</td>\n",
       "      <td>5.864</td>\n",
       "      <td>0.642</td>\n",
       "      <td>2.058</td>\n",
       "      <td>3.180</td>\n",
       "      <td>7.194</td>\n",
       "      <td>...</td>\n",
       "      <td>159.515</td>\n",
       "      <td>234.505</td>\n",
       "      <td>170</td>\n",
       "      <td>169</td>\n",
       "      <td>0.005181</td>\n",
       "      <td>0.000403</td>\n",
       "      <td>2.247</td>\n",
       "      <td>0</td>\n",
       "      <td>0.000</td>\n",
       "      <td>1</td>\n",
       "    </tr>\n",
       "    <tr>\n",
       "      <th>2</th>\n",
       "      <td>1.220</td>\n",
       "      <td>0.000074</td>\n",
       "      <td>0.732</td>\n",
       "      <td>0.670</td>\n",
       "      <td>2.196</td>\n",
       "      <td>8.719</td>\n",
       "      <td>0.875</td>\n",
       "      <td>4.347</td>\n",
       "      <td>5.166</td>\n",
       "      <td>7.548</td>\n",
       "      <td>...</td>\n",
       "      <td>146.445</td>\n",
       "      <td>211.442</td>\n",
       "      <td>1431</td>\n",
       "      <td>1427</td>\n",
       "      <td>0.006071</td>\n",
       "      <td>0.000474</td>\n",
       "      <td>10.656</td>\n",
       "      <td>1</td>\n",
       "      <td>0.178</td>\n",
       "      <td>1</td>\n",
       "    </tr>\n",
       "    <tr>\n",
       "      <th>3</th>\n",
       "      <td>2.502</td>\n",
       "      <td>0.000123</td>\n",
       "      <td>1.156</td>\n",
       "      <td>1.634</td>\n",
       "      <td>3.469</td>\n",
       "      <td>13.513</td>\n",
       "      <td>1.273</td>\n",
       "      <td>5.263</td>\n",
       "      <td>8.771</td>\n",
       "      <td>16.779</td>\n",
       "      <td>...</td>\n",
       "      <td>182.713</td>\n",
       "      <td>220.230</td>\n",
       "      <td>94</td>\n",
       "      <td>92</td>\n",
       "      <td>0.004910</td>\n",
       "      <td>0.000320</td>\n",
       "      <td>0.000</td>\n",
       "      <td>0</td>\n",
       "      <td>0.000</td>\n",
       "      <td>1</td>\n",
       "    </tr>\n",
       "    <tr>\n",
       "      <th>4</th>\n",
       "      <td>3.509</td>\n",
       "      <td>0.000167</td>\n",
       "      <td>1.715</td>\n",
       "      <td>1.539</td>\n",
       "      <td>5.145</td>\n",
       "      <td>9.112</td>\n",
       "      <td>1.040</td>\n",
       "      <td>3.102</td>\n",
       "      <td>4.927</td>\n",
       "      <td>12.823</td>\n",
       "      <td>...</td>\n",
       "      <td>182.821</td>\n",
       "      <td>225.162</td>\n",
       "      <td>117</td>\n",
       "      <td>114</td>\n",
       "      <td>0.004757</td>\n",
       "      <td>0.000380</td>\n",
       "      <td>18.182</td>\n",
       "      <td>1</td>\n",
       "      <td>13.318</td>\n",
       "      <td>1</td>\n",
       "    </tr>\n",
       "  </tbody>\n",
       "</table>\n",
       "<p>5 rows × 27 columns</p>\n",
       "</div>"
      ],
      "text/plain": [
       "   Jitter(local)  Jitter(local, absolute)  Jitter (rap)  Jitter (ppq5)  \\\n",
       "0          1.488                 0.000090         0.900          0.794   \n",
       "1          0.728                 0.000038         0.353          0.376   \n",
       "2          1.220                 0.000074         0.732          0.670   \n",
       "3          2.502                 0.000123         1.156          1.634   \n",
       "4          3.509                 0.000167         1.715          1.539   \n",
       "\n",
       "   Jitter (ddp)  Shimmer (local)  Shimmer (local, db)  Shimmer (apq3)  \\\n",
       "0         2.699            8.334                0.779           4.517   \n",
       "1         1.059            5.864                0.642           2.058   \n",
       "2         2.196            8.719                0.875           4.347   \n",
       "3         3.469           13.513                1.273           5.263   \n",
       "4         5.145            9.112                1.040           3.102   \n",
       "\n",
       "   Shimmer (apq5)  Shimmer (apq11)  ...  Minimum pitch  Maximum pitch  \\\n",
       "0           4.609            6.802  ...        142.229        187.576   \n",
       "1           3.180            7.194  ...        159.515        234.505   \n",
       "2           5.166            7.548  ...        146.445        211.442   \n",
       "3           8.771           16.779  ...        182.713        220.230   \n",
       "4           4.927           12.823  ...        182.821        225.162   \n",
       "\n",
       "   Number of pulses  Number of periods  Mean period  \\\n",
       "0               160                159     0.006065   \n",
       "1               170                169     0.005181   \n",
       "2              1431               1427     0.006071   \n",
       "3                94                 92     0.004910   \n",
       "4               117                114     0.004757   \n",
       "\n",
       "   Standard deviation of period  Fraction of locally unvoiced frames  \\\n",
       "0                      0.000416                                0.000   \n",
       "1                      0.000403                                2.247   \n",
       "2                      0.000474                               10.656   \n",
       "3                      0.000320                                0.000   \n",
       "4                      0.000380                               18.182   \n",
       "\n",
       "   Number of voice breaks  Degree of voice breaks  status  \n",
       "0                       0                   0.000       1  \n",
       "1                       0                   0.000       1  \n",
       "2                       1                   0.178       1  \n",
       "3                       0                   0.000       1  \n",
       "4                       1                  13.318       1  \n",
       "\n",
       "[5 rows x 27 columns]"
      ]
     },
     "execution_count": 3,
     "metadata": {},
     "output_type": "execute_result"
    }
   ],
   "source": [
    "data.head()"
   ]
  },
  {
   "cell_type": "code",
   "execution_count": 4,
   "metadata": {},
   "outputs": [
    {
     "data": {
      "text/plain": [
       "(1036, 27)"
      ]
     },
     "execution_count": 4,
     "metadata": {},
     "output_type": "execute_result"
    }
   ],
   "source": [
    "data.shape"
   ]
  },
  {
   "cell_type": "code",
   "execution_count": 5,
   "metadata": {},
   "outputs": [
    {
     "data": {
      "text/plain": [
       "RangeIndex(start=0, stop=1036, step=1)"
      ]
     },
     "execution_count": 5,
     "metadata": {},
     "output_type": "execute_result"
    }
   ],
   "source": [
    "data.index"
   ]
  },
  {
   "cell_type": "code",
   "execution_count": 6,
   "metadata": {},
   "outputs": [
    {
     "data": {
      "text/plain": [
       "Index(['Jitter(local)', 'Jitter(local, absolute)', 'Jitter (rap)',\n",
       "       'Jitter (ppq5)', 'Jitter (ddp)', 'Shimmer (local)',\n",
       "       'Shimmer (local, db)', 'Shimmer (apq3)', 'Shimmer (apq5)',\n",
       "       'Shimmer (apq11)', 'Shimmer (dda)', 'AC', 'NDH', 'HTM', 'Median Pitch',\n",
       "       'Mean Pitch', 'Standard deviation', 'Minimum pitch', 'Maximum pitch',\n",
       "       'Number of pulses', 'Number of periods', 'Mean period',\n",
       "       'Standard deviation of period', 'Fraction of locally unvoiced frames',\n",
       "       'Number of voice breaks', 'Degree of voice breaks', 'status'],\n",
       "      dtype='object')"
      ]
     },
     "execution_count": 6,
     "metadata": {},
     "output_type": "execute_result"
    }
   ],
   "source": [
    "data.columns"
   ]
  },
  {
   "cell_type": "markdown",
   "metadata": {},
   "source": [
    "### Checking for null values (missing values)"
   ]
  },
  {
   "cell_type": "code",
   "execution_count": 7,
   "metadata": {},
   "outputs": [
    {
     "data": {
      "text/plain": [
       "Jitter(local)                          0\n",
       "Jitter(local, absolute)                0\n",
       "Jitter (rap)                           0\n",
       "Jitter (ppq5)                          0\n",
       "Jitter (ddp)                           0\n",
       "Shimmer (local)                        0\n",
       "Shimmer (local, db)                    0\n",
       "Shimmer (apq3)                         0\n",
       "Shimmer (apq5)                         0\n",
       "Shimmer (apq11)                        0\n",
       "Shimmer (dda)                          0\n",
       "AC                                     0\n",
       "NDH                                    0\n",
       "HTM                                    0\n",
       "Median Pitch                           0\n",
       "Mean Pitch                             0\n",
       "Standard deviation                     0\n",
       "Minimum pitch                          0\n",
       "Maximum pitch                          0\n",
       "Number of pulses                       0\n",
       "Number of periods                      0\n",
       "Mean period                            0\n",
       "Standard deviation of period           0\n",
       "Fraction of locally unvoiced frames    0\n",
       "Number of voice breaks                 0\n",
       "Degree of voice breaks                 0\n",
       "status                                 0\n",
       "dtype: int64"
      ]
     },
     "execution_count": 7,
     "metadata": {},
     "output_type": "execute_result"
    }
   ],
   "source": [
    "data.isnull().sum()"
   ]
  },
  {
   "cell_type": "markdown",
   "metadata": {},
   "source": [
    "### Selecting independent and dependent variables"
   ]
  },
  {
   "cell_type": "code",
   "execution_count": 8,
   "metadata": {},
   "outputs": [],
   "source": [
    "X = data.loc[:, data.columns != 'status'].values\n",
    "y = data.loc[:, 'status'].values"
   ]
  },
  {
   "cell_type": "code",
   "execution_count": 9,
   "metadata": {},
   "outputs": [
    {
     "data": {
      "text/plain": [
       "array([[1.48800e+00, 9.02130e-05, 9.00000e-01, ..., 0.00000e+00,\n",
       "        0.00000e+00, 0.00000e+00],\n",
       "       [7.28000e-01, 3.76980e-05, 3.53000e-01, ..., 2.24700e+00,\n",
       "        0.00000e+00, 0.00000e+00],\n",
       "       [1.22000e+00, 7.40410e-05, 7.32000e-01, ..., 1.06560e+01,\n",
       "        1.00000e+00, 1.78000e-01],\n",
       "       ...,\n",
       "       [2.91200e+00, 2.26205e-04, 1.14100e+00, ..., 2.00000e+01,\n",
       "        1.00000e+00, 4.57400e+00],\n",
       "       [3.78800e+00, 2.74883e-04, 1.78600e+00, ..., 1.66670e+01,\n",
       "        3.00000e+00, 1.95750e+01],\n",
       "       [1.80900e+00, 1.48510e-04, 6.80000e-01, ..., 1.81820e+01,\n",
       "        1.00000e+00, 3.38700e+00]])"
      ]
     },
     "execution_count": 9,
     "metadata": {},
     "output_type": "execute_result"
    }
   ],
   "source": [
    "X"
   ]
  },
  {
   "cell_type": "markdown",
   "metadata": {},
   "source": [
    "### Spliting the dataset for training and testing"
   ]
  },
  {
   "cell_type": "code",
   "execution_count": 10,
   "metadata": {},
   "outputs": [],
   "source": [
    "from sklearn.model_selection import train_test_split\n",
    "X_train, X_test, y_train, y_test = train_test_split(X, y, test_size = 0.15, random_state = 12)"
   ]
  },
  {
   "cell_type": "code",
   "execution_count": 11,
   "metadata": {},
   "outputs": [
    {
     "data": {
      "text/plain": [
       "array([[2.29400e+00, 2.23757e-04, 8.52000e-01, ..., 3.67350e+01,\n",
       "        1.00000e+00, 3.05580e+01],\n",
       "       [9.87000e-01, 4.15600e-05, 3.33000e-01, ..., 1.93550e+01,\n",
       "        0.00000e+00, 0.00000e+00],\n",
       "       [7.22800e+00, 4.01059e-04, 3.95300e+00, ..., 5.06670e+01,\n",
       "        2.00000e+00, 1.88440e+01],\n",
       "       ...,\n",
       "       [1.03700e+00, 7.75070e-05, 5.27000e-01, ..., 0.00000e+00,\n",
       "        0.00000e+00, 0.00000e+00],\n",
       "       [1.21900e+00, 8.18590e-05, 7.41000e-01, ..., 0.00000e+00,\n",
       "        0.00000e+00, 0.00000e+00],\n",
       "       [4.26800e+00, 3.00057e-04, 2.02600e+00, ..., 2.50000e+01,\n",
       "        6.00000e+00, 2.30260e+01]])"
      ]
     },
     "execution_count": 11,
     "metadata": {},
     "output_type": "execute_result"
    }
   ],
   "source": [
    "X_train"
   ]
  },
  {
   "cell_type": "code",
   "execution_count": 12,
   "metadata": {},
   "outputs": [
    {
     "data": {
      "text/plain": [
       "array([[1.28900e+00, 7.31470e-05, 6.23000e-01, ..., 3.50650e+01,\n",
       "        1.00000e+00, 1.87490e+01],\n",
       "       [3.32600e+00, 1.80944e-04, 1.66600e+00, ..., 4.16670e+01,\n",
       "        1.00000e+00, 4.32260e+01],\n",
       "       [1.74400e+00, 1.22739e-04, 4.09000e-01, ..., 4.00000e+01,\n",
       "        1.00000e+00, 2.73550e+01],\n",
       "       ...,\n",
       "       [5.00000e-01, 2.71960e-05, 2.09000e-01, ..., 3.03030e+01,\n",
       "        0.00000e+00, 0.00000e+00],\n",
       "       [3.96200e+00, 2.13240e-04, 1.80400e+00, ..., 5.70590e+01,\n",
       "        7.00000e+00, 5.42470e+01],\n",
       "       [2.96000e-01, 2.03310e-05, 9.80000e-02, ..., 0.00000e+00,\n",
       "        0.00000e+00, 0.00000e+00]])"
      ]
     },
     "execution_count": 12,
     "metadata": {},
     "output_type": "execute_result"
    }
   ],
   "source": [
    "X_test"
   ]
  },
  {
   "cell_type": "code",
   "execution_count": 13,
   "metadata": {},
   "outputs": [
    {
     "data": {
      "text/plain": [
       "array([1, 0, 1, 0, 0, 0, 0, 1, 0, 1, 0, 0, 0, 1, 1, 1, 0, 0, 0, 0, 0, 0,\n",
       "       1, 1, 0, 1, 1, 0, 0, 1, 0, 0, 0, 0, 1, 0, 1, 0, 1, 1, 1, 1, 1, 0,\n",
       "       0, 1, 0, 1, 1, 0, 1, 0, 0, 1, 0, 1, 1, 1, 0, 0, 1, 0, 1, 1, 0, 1,\n",
       "       0, 1, 1, 0, 1, 1, 1, 0, 1, 0, 0, 1, 1, 0, 0, 1, 1, 0, 0, 1, 1, 0,\n",
       "       0, 1, 1, 0, 0, 1, 1, 1, 1, 0, 0, 1, 1, 0, 1, 0, 1, 1, 0, 1, 0, 0,\n",
       "       0, 1, 0, 0, 0, 1, 1, 0, 0, 1, 1, 1, 1, 1, 1, 0, 1, 0, 1, 0, 0, 0,\n",
       "       1, 1, 1, 1, 0, 0, 0, 1, 0, 1, 0, 1, 0, 0, 0, 0, 0, 1, 1, 0, 1, 0,\n",
       "       1, 0, 1, 0, 0, 1, 0, 1, 1, 0, 0, 0, 0, 1, 0, 0, 1, 1, 1, 1, 1, 1,\n",
       "       1, 1, 0, 0, 1, 1, 0, 0, 0, 1, 1, 0, 0, 1, 1, 0, 0, 0, 1, 0, 1, 0,\n",
       "       1, 0, 1, 1, 0, 0, 0, 1, 1, 1, 0, 1, 1, 0, 0, 1, 1, 1, 0, 0, 0, 1,\n",
       "       0, 1, 0, 1, 1, 1, 1, 1, 0, 1, 1, 0, 1, 0, 0, 1, 0, 1, 1, 0, 0, 1,\n",
       "       0, 1, 1, 0, 1, 1, 0, 1, 1, 0, 1, 0, 1, 1, 1, 1, 0, 1, 0, 0, 0, 1,\n",
       "       1, 0, 1, 1, 1, 1, 0, 1, 1, 1, 1, 0, 1, 0, 0, 1, 1, 0, 0, 1, 0, 0,\n",
       "       0, 1, 0, 1, 0, 1, 0, 1, 1, 0, 0, 0, 0, 1, 0, 1, 0, 0, 0, 1, 0, 1,\n",
       "       1, 0, 1, 0, 1, 1, 0, 0, 0, 1, 0, 1, 1, 1, 1, 1, 0, 0, 1, 1, 1, 1,\n",
       "       0, 0, 1, 1, 1, 0, 1, 1, 0, 1, 1, 0, 1, 0, 1, 1, 0, 1, 1, 0, 0, 0,\n",
       "       0, 0, 1, 0, 1, 0, 0, 0, 1, 1, 0, 0, 0, 0, 0, 1, 1, 0, 1, 0, 0, 1,\n",
       "       0, 0, 1, 0, 1, 1, 1, 0, 0, 0, 0, 0, 0, 0, 0, 1, 1, 1, 1, 0, 0, 1,\n",
       "       1, 0, 0, 1, 1, 1, 0, 1, 1, 0, 1, 1, 1, 1, 1, 1, 1, 0, 1, 1, 0, 1,\n",
       "       1, 1, 0, 1, 0, 0, 0, 0, 1, 1, 1, 0, 1, 0, 1, 1, 1, 0, 1, 1, 0, 0,\n",
       "       1, 0, 0, 1, 1, 0, 0, 1, 1, 0, 0, 1, 0, 0, 1, 0, 0, 0, 1, 0, 1, 0,\n",
       "       0, 1, 1, 0, 0, 1, 1, 0, 1, 1, 1, 1, 0, 0, 1, 0, 1, 1, 0, 1, 0, 1,\n",
       "       0, 0, 1, 0, 1, 0, 1, 1, 1, 1, 1, 0, 1, 1, 1, 1, 1, 1, 1, 0, 1, 1,\n",
       "       1, 0, 1, 1, 1, 1, 1, 1, 1, 0, 0, 0, 0, 0, 0, 0, 1, 0, 0, 0, 0, 1,\n",
       "       1, 1, 0, 1, 1, 0, 1, 0, 0, 0, 1, 0, 0, 1, 0, 0, 1, 1, 0, 1, 0, 0,\n",
       "       1, 0, 1, 1, 0, 0, 1, 0, 1, 0, 1, 1, 0, 0, 0, 0, 0, 1, 0, 0, 0, 0,\n",
       "       0, 1, 1, 0, 0, 0, 0, 1, 0, 1, 1, 0, 0, 0, 1, 0, 1, 1, 1, 1, 1, 1,\n",
       "       1, 1, 1, 1, 0, 0, 1, 0, 1, 0, 0, 1, 1, 1, 0, 0, 1, 0, 1, 0, 1, 1,\n",
       "       1, 0, 0, 1, 1, 0, 0, 0, 0, 0, 1, 0, 1, 0, 0, 0, 0, 0, 0, 0, 0, 0,\n",
       "       1, 1, 1, 0, 1, 1, 0, 0, 0, 0, 1, 0, 0, 0, 0, 1, 1, 1, 1, 0, 0, 0,\n",
       "       0, 0, 0, 0, 1, 0, 0, 0, 0, 0, 0, 0, 1, 1, 1, 1, 0, 0, 0, 1, 1, 1,\n",
       "       0, 0, 1, 0, 1, 0, 1, 0, 1, 0, 1, 0, 1, 1, 1, 0, 0, 0, 0, 1, 1, 0,\n",
       "       0, 1, 1, 0, 1, 1, 0, 1, 0, 1, 0, 1, 0, 1, 1, 0, 0, 1, 0, 1, 1, 0,\n",
       "       1, 0, 1, 1, 1, 0, 0, 0, 0, 0, 0, 1, 0, 0, 0, 0, 0, 1, 0, 0, 0, 1,\n",
       "       0, 0, 0, 1, 0, 0, 1, 1, 0, 1, 1, 0, 0, 1, 0, 0, 1, 0, 1, 1, 0, 0,\n",
       "       1, 0, 0, 1, 0, 0, 0, 1, 1, 1, 0, 1, 0, 1, 1, 0, 0, 1, 1, 0, 1, 0,\n",
       "       0, 1, 0, 0, 1, 0, 0, 0, 1, 0, 1, 1, 1, 1, 1, 0, 1, 1, 0, 0, 1, 1,\n",
       "       0, 1, 1, 0, 1, 1, 1, 0, 0, 0, 0, 1, 0, 0, 1, 1, 0, 1, 0, 0, 0, 1,\n",
       "       1, 1, 0, 1, 1, 0, 0, 1, 0, 0, 1, 0, 1, 1, 0, 0, 0, 0, 0, 1, 0, 0,\n",
       "       1, 0, 0, 0, 0, 1, 0, 1, 0, 1, 1, 1, 1, 1, 1, 1, 1, 1, 1, 1, 1, 1],\n",
       "      dtype=int64)"
      ]
     },
     "execution_count": 13,
     "metadata": {},
     "output_type": "execute_result"
    }
   ],
   "source": [
    "y_train"
   ]
  },
  {
   "cell_type": "code",
   "execution_count": 14,
   "metadata": {},
   "outputs": [
    {
     "data": {
      "text/plain": [
       "array([0, 0, 1, 0, 1, 0, 1, 0, 0, 0, 1, 0, 1, 0, 1, 1, 1, 1, 1, 0, 0, 1,\n",
       "       0, 0, 0, 0, 1, 1, 1, 1, 0, 1, 0, 1, 1, 1, 0, 0, 1, 0, 1, 1, 0, 0,\n",
       "       0, 1, 1, 1, 0, 1, 0, 1, 0, 0, 1, 1, 1, 1, 0, 1, 0, 1, 0, 0, 1, 0,\n",
       "       0, 1, 1, 0, 0, 0, 0, 0, 1, 1, 1, 1, 1, 1, 0, 0, 1, 0, 0, 0, 0, 1,\n",
       "       0, 1, 1, 0, 1, 1, 1, 1, 0, 0, 1, 1, 0, 0, 0, 1, 1, 0, 0, 1, 0, 0,\n",
       "       1, 1, 1, 1, 1, 0, 1, 1, 1, 1, 1, 0, 0, 1, 1, 0, 0, 0, 1, 0, 0, 1,\n",
       "       1, 0, 1, 1, 1, 0, 0, 0, 0, 1, 0, 1, 0, 0, 1, 1, 0, 0, 0, 0, 1, 0,\n",
       "       0, 1], dtype=int64)"
      ]
     },
     "execution_count": 14,
     "metadata": {},
     "output_type": "execute_result"
    }
   ],
   "source": [
    "y_test"
   ]
  },
  {
   "cell_type": "markdown",
   "metadata": {},
   "source": [
    "### Limiting the range of variables -> to compare them commonly"
   ]
  },
  {
   "cell_type": "code",
   "execution_count": 15,
   "metadata": {},
   "outputs": [],
   "source": [
    "from sklearn.preprocessing import StandardScaler\n",
    "standard_X = StandardScaler()"
   ]
  },
  {
   "cell_type": "code",
   "execution_count": 16,
   "metadata": {},
   "outputs": [],
   "source": [
    "standard_X = standard_X.fit(X_train)\n",
    "X_train = standard_X.transform(X_train)\n",
    "X_test = standard_X.transform(X_test)"
   ]
  },
  {
   "cell_type": "code",
   "execution_count": 17,
   "metadata": {},
   "outputs": [
    {
     "data": {
      "text/plain": [
       "array([[-0.22521454,  0.46680385, -0.40640902, ...,  0.42401686,\n",
       "        -0.0711297 ,  1.21206042],\n",
       "       [-0.95579884, -1.19694106, -0.92792881, ..., -0.40197721,\n",
       "        -0.70984537, -0.81306889],\n",
       "       [ 2.53278311,  2.08584972,  2.70964657, ...,  1.08614282,\n",
       "         0.56758597,  0.43575422],\n",
       "       ...,\n",
       "       [-0.92784994, -0.86868846, -0.73298692, ..., -1.32183423,\n",
       "        -0.70984537, -0.81306889],\n",
       "       [-0.82611593, -0.82894786, -0.51794794, ..., -1.32183423,\n",
       "        -0.70984537, -0.81306889],\n",
       "       [ 0.87820811,  1.16354275,  0.77329084, ..., -0.13369548,\n",
       "         3.12244864,  0.71290229]])"
      ]
     },
     "execution_count": 17,
     "metadata": {},
     "output_type": "execute_result"
    }
   ],
   "source": [
    "X_train"
   ]
  },
  {
   "cell_type": "code",
   "execution_count": 28,
   "metadata": {},
   "outputs": [
    {
     "name": "stdout",
     "output_type": "stream",
     "text": [
      "[0]\tvalidation_0-auc:0.732018\tvalidation_0-error:0.336364\tvalidation_1-auc:0.550879\tvalidation_1-error:0.435897\n",
      "[1]\tvalidation_0-auc:0.764588\tvalidation_0-error:0.320455\tvalidation_1-auc:0.57784\tvalidation_1-error:0.461538\n",
      "[2]\tvalidation_0-auc:0.792972\tvalidation_0-error:0.284091\tvalidation_1-auc:0.599951\tvalidation_1-error:0.416667\n",
      "[3]\tvalidation_0-auc:0.797032\tvalidation_0-error:0.282955\tvalidation_1-auc:0.601348\tvalidation_1-error:0.410256\n",
      "[4]\tvalidation_0-auc:0.804914\tvalidation_0-error:0.280682\tvalidation_1-auc:0.60965\tvalidation_1-error:0.403846\n",
      "[5]\tvalidation_0-auc:0.807026\tvalidation_0-error:0.284091\tvalidation_1-auc:0.616883\tvalidation_1-error:0.403846\n",
      "[6]\tvalidation_0-auc:0.820417\tvalidation_0-error:0.272727\tvalidation_1-auc:0.635049\tvalidation_1-error:0.403846\n",
      "[7]\tvalidation_0-auc:0.83103\tvalidation_0-error:0.259091\tvalidation_1-auc:0.624281\tvalidation_1-error:0.410256\n",
      "[8]\tvalidation_0-auc:0.839361\tvalidation_0-error:0.254545\tvalidation_1-auc:0.644501\tvalidation_1-error:0.416667\n",
      "[9]\tvalidation_0-auc:0.847615\tvalidation_0-error:0.252273\tvalidation_1-auc:0.651159\tvalidation_1-error:0.403846\n",
      "[10]\tvalidation_0-auc:0.848349\tvalidation_0-error:0.254545\tvalidation_1-auc:0.648282\tvalidation_1-error:0.403846\n",
      "[11]\tvalidation_0-auc:0.853736\tvalidation_0-error:0.247727\tvalidation_1-auc:0.660283\tvalidation_1-error:0.384615\n",
      "[12]\tvalidation_0-auc:0.857677\tvalidation_0-error:0.236364\tvalidation_1-auc:0.662091\tvalidation_1-error:0.378205\n",
      "[13]\tvalidation_0-auc:0.86394\tvalidation_0-error:0.228409\tvalidation_1-auc:0.668996\tvalidation_1-error:0.391026\n",
      "[14]\tvalidation_0-auc:0.86782\tvalidation_0-error:0.227273\tvalidation_1-auc:0.66316\tvalidation_1-error:0.391026\n",
      "[15]\tvalidation_0-auc:0.871038\tvalidation_0-error:0.223864\tvalidation_1-auc:0.662666\tvalidation_1-error:0.391026\n",
      "[16]\tvalidation_0-auc:0.874281\tvalidation_0-error:0.219318\tvalidation_1-auc:0.67105\tvalidation_1-error:0.365385\n",
      "[17]\tvalidation_0-auc:0.879266\tvalidation_0-error:0.225\tvalidation_1-auc:0.679599\tvalidation_1-error:0.352564\n",
      "[18]\tvalidation_0-auc:0.879912\tvalidation_0-error:0.223864\tvalidation_1-auc:0.686997\tvalidation_1-error:0.352564\n",
      "[19]\tvalidation_0-auc:0.882845\tvalidation_0-error:0.219318\tvalidation_1-auc:0.687654\tvalidation_1-error:0.346154\n",
      "[20]\tvalidation_0-auc:0.883964\tvalidation_0-error:0.218182\tvalidation_1-auc:0.687079\tvalidation_1-error:0.339744\n",
      "[21]\tvalidation_0-auc:0.884857\tvalidation_0-error:0.213636\tvalidation_1-auc:0.695627\tvalidation_1-error:0.352564\n",
      "[22]\tvalidation_0-auc:0.888724\tvalidation_0-error:0.205682\tvalidation_1-auc:0.694476\tvalidation_1-error:0.365385\n",
      "[23]\tvalidation_0-auc:0.889271\tvalidation_0-error:0.207955\tvalidation_1-auc:0.696613\tvalidation_1-error:0.365385\n",
      "[24]\tvalidation_0-auc:0.891435\tvalidation_0-error:0.204545\tvalidation_1-auc:0.691189\tvalidation_1-error:0.371795\n",
      "[25]\tvalidation_0-auc:0.895485\tvalidation_0-error:0.204545\tvalidation_1-auc:0.699244\tvalidation_1-error:0.352564\n",
      "[26]\tvalidation_0-auc:0.90118\tvalidation_0-error:0.196591\tvalidation_1-auc:0.700395\tvalidation_1-error:0.339744\n",
      "[27]\tvalidation_0-auc:0.900991\tvalidation_0-error:0.195455\tvalidation_1-auc:0.70434\tvalidation_1-error:0.333333\n",
      "[28]\tvalidation_0-auc:0.90173\tvalidation_0-error:0.195455\tvalidation_1-auc:0.703189\tvalidation_1-error:0.346154\n",
      "[29]\tvalidation_0-auc:0.902427\tvalidation_0-error:0.196591\tvalidation_1-auc:0.70023\tvalidation_1-error:0.333333\n",
      "[30]\tvalidation_0-auc:0.903564\tvalidation_0-error:0.194318\tvalidation_1-auc:0.702367\tvalidation_1-error:0.326923\n",
      "[31]\tvalidation_0-auc:0.904452\tvalidation_0-error:0.188636\tvalidation_1-auc:0.701381\tvalidation_1-error:0.326923\n",
      "[32]\tvalidation_0-auc:0.907412\tvalidation_0-error:0.189773\tvalidation_1-auc:0.703765\tvalidation_1-error:0.333333\n",
      "[33]\tvalidation_0-auc:0.909548\tvalidation_0-error:0.184091\tvalidation_1-auc:0.702943\tvalidation_1-error:0.333333\n",
      "[34]\tvalidation_0-auc:0.909491\tvalidation_0-error:0.184091\tvalidation_1-auc:0.707052\tvalidation_1-error:0.320513\n",
      "[35]\tvalidation_0-auc:0.910059\tvalidation_0-error:0.186364\tvalidation_1-auc:0.705902\tvalidation_1-error:0.326923\n",
      "[36]\tvalidation_0-auc:0.911459\tvalidation_0-error:0.184091\tvalidation_1-auc:0.701463\tvalidation_1-error:0.333333\n",
      "[37]\tvalidation_0-auc:0.913073\tvalidation_0-error:0.178409\tvalidation_1-auc:0.7036\tvalidation_1-error:0.326923\n",
      "[38]\tvalidation_0-auc:0.913638\tvalidation_0-error:0.180682\tvalidation_1-auc:0.70508\tvalidation_1-error:0.326923\n",
      "[39]\tvalidation_0-auc:0.916149\tvalidation_0-error:0.176136\tvalidation_1-auc:0.709683\tvalidation_1-error:0.314103\n",
      "[40]\tvalidation_0-auc:0.919697\tvalidation_0-error:0.169318\tvalidation_1-auc:0.714779\tvalidation_1-error:0.307692\n",
      "[41]\tvalidation_0-auc:0.920854\tvalidation_0-error:0.169318\tvalidation_1-auc:0.710505\tvalidation_1-error:0.314103\n",
      "[42]\tvalidation_0-auc:0.921712\tvalidation_0-error:0.169318\tvalidation_1-auc:0.709354\tvalidation_1-error:0.314103\n",
      "[43]\tvalidation_0-auc:0.92314\tvalidation_0-error:0.170455\tvalidation_1-auc:0.71182\tvalidation_1-error:0.307692\n",
      "[44]\tvalidation_0-auc:0.924483\tvalidation_0-error:0.169318\tvalidation_1-auc:0.716916\tvalidation_1-error:0.307692\n",
      "[45]\tvalidation_0-auc:0.924369\tvalidation_0-error:0.175\tvalidation_1-auc:0.716916\tvalidation_1-error:0.307692\n",
      "[46]\tvalidation_0-auc:0.925118\tvalidation_0-error:0.167045\tvalidation_1-auc:0.71856\tvalidation_1-error:0.314103\n",
      "[47]\tvalidation_0-auc:0.926172\tvalidation_0-error:0.165909\tvalidation_1-auc:0.722012\tvalidation_1-error:0.314103\n",
      "[48]\tvalidation_0-auc:0.92673\tvalidation_0-error:0.164773\tvalidation_1-auc:0.723327\tvalidation_1-error:0.307692\n",
      "[49]\tvalidation_0-auc:0.929426\tvalidation_0-error:0.165909\tvalidation_1-auc:0.726122\tvalidation_1-error:0.307692\n",
      "[50]\tvalidation_0-auc:0.930826\tvalidation_0-error:0.1625\tvalidation_1-auc:0.729739\tvalidation_1-error:0.301282\n",
      "[51]\tvalidation_0-auc:0.933073\tvalidation_0-error:0.159091\tvalidation_1-auc:0.732533\tvalidation_1-error:0.307692\n",
      "[52]\tvalidation_0-auc:0.933238\tvalidation_0-error:0.160227\tvalidation_1-auc:0.732698\tvalidation_1-error:0.314103\n",
      "[53]\tvalidation_0-auc:0.933367\tvalidation_0-error:0.159091\tvalidation_1-auc:0.734506\tvalidation_1-error:0.314103\n",
      "[54]\tvalidation_0-auc:0.933879\tvalidation_0-error:0.159091\tvalidation_1-auc:0.735821\tvalidation_1-error:0.314103\n",
      "[55]\tvalidation_0-auc:0.935865\tvalidation_0-error:0.155682\tvalidation_1-auc:0.732698\tvalidation_1-error:0.314103\n",
      "[56]\tvalidation_0-auc:0.93604\tvalidation_0-error:0.155682\tvalidation_1-auc:0.733026\tvalidation_1-error:0.314103\n",
      "[57]\tvalidation_0-auc:0.938486\tvalidation_0-error:0.146591\tvalidation_1-auc:0.730067\tvalidation_1-error:0.320513\n",
      "[58]\tvalidation_0-auc:0.940449\tvalidation_0-error:0.146591\tvalidation_1-auc:0.734342\tvalidation_1-error:0.314103\n",
      "[59]\tvalidation_0-auc:0.940702\tvalidation_0-error:0.145455\tvalidation_1-auc:0.731876\tvalidation_1-error:0.314103\n",
      "[60]\tvalidation_0-auc:0.94187\tvalidation_0-error:0.146591\tvalidation_1-auc:0.738123\tvalidation_1-error:0.320513\n",
      "[61]\tvalidation_0-auc:0.943311\tvalidation_0-error:0.144318\tvalidation_1-auc:0.732533\tvalidation_1-error:0.320513\n",
      "[62]\tvalidation_0-auc:0.943621\tvalidation_0-error:0.142045\tvalidation_1-auc:0.735164\tvalidation_1-error:0.320513\n",
      "[63]\tvalidation_0-auc:0.944814\tvalidation_0-error:0.140909\tvalidation_1-auc:0.73352\tvalidation_1-error:0.320513\n",
      "[64]\tvalidation_0-auc:0.946968\tvalidation_0-error:0.139773\tvalidation_1-auc:0.728588\tvalidation_1-error:0.326923\n",
      "[65]\tvalidation_0-auc:0.949494\tvalidation_0-error:0.136364\tvalidation_1-auc:0.729081\tvalidation_1-error:0.326923\n",
      "[66]\tvalidation_0-auc:0.951167\tvalidation_0-error:0.131818\tvalidation_1-auc:0.732533\tvalidation_1-error:0.326923\n",
      "[67]\tvalidation_0-auc:0.952334\tvalidation_0-error:0.1375\tvalidation_1-auc:0.729081\tvalidation_1-error:0.307692\n",
      "[68]\tvalidation_0-auc:0.954468\tvalidation_0-error:0.129545\tvalidation_1-auc:0.732862\tvalidation_1-error:0.307692\n",
      "[69]\tvalidation_0-auc:0.954375\tvalidation_0-error:0.129545\tvalidation_1-auc:0.732204\tvalidation_1-error:0.307692\n",
      "[70]\tvalidation_0-auc:0.954726\tvalidation_0-error:0.127273\tvalidation_1-auc:0.73352\tvalidation_1-error:0.314103\n",
      "[71]\tvalidation_0-auc:0.955775\tvalidation_0-error:0.121591\tvalidation_1-auc:0.728095\tvalidation_1-error:0.314103\n",
      "[72]\tvalidation_0-auc:0.956224\tvalidation_0-error:0.120455\tvalidation_1-auc:0.731876\tvalidation_1-error:0.314103\n"
     ]
    },
    {
     "name": "stdout",
     "output_type": "stream",
     "text": [
      "[73]\tvalidation_0-auc:0.957779\tvalidation_0-error:0.119318\tvalidation_1-auc:0.732204\tvalidation_1-error:0.314103\n",
      "[74]\tvalidation_0-auc:0.95845\tvalidation_0-error:0.118182\tvalidation_1-auc:0.729081\tvalidation_1-error:0.314103\n",
      "[75]\tvalidation_0-auc:0.959049\tvalidation_0-error:0.118182\tvalidation_1-auc:0.731711\tvalidation_1-error:0.314103\n",
      "[76]\tvalidation_0-auc:0.959716\tvalidation_0-error:0.119318\tvalidation_1-auc:0.733355\tvalidation_1-error:0.314103\n",
      "[77]\tvalidation_0-auc:0.961038\tvalidation_0-error:0.115909\tvalidation_1-auc:0.736808\tvalidation_1-error:0.314103\n",
      "[78]\tvalidation_0-auc:0.961146\tvalidation_0-error:0.114773\tvalidation_1-auc:0.737136\tvalidation_1-error:0.314103\n",
      "[79]\tvalidation_0-auc:0.961467\tvalidation_0-error:0.114773\tvalidation_1-auc:0.740095\tvalidation_1-error:0.314103\n",
      "[80]\tvalidation_0-auc:0.962603\tvalidation_0-error:0.111364\tvalidation_1-auc:0.737958\tvalidation_1-error:0.314103\n",
      "[81]\tvalidation_0-auc:0.963492\tvalidation_0-error:0.1125\tvalidation_1-auc:0.738123\tvalidation_1-error:0.314103\n",
      "[82]\tvalidation_0-auc:0.963827\tvalidation_0-error:0.113636\tvalidation_1-auc:0.737629\tvalidation_1-error:0.314103\n",
      "[83]\tvalidation_0-auc:0.965444\tvalidation_0-error:0.111364\tvalidation_1-auc:0.73878\tvalidation_1-error:0.314103\n",
      "[84]\tvalidation_0-auc:0.966307\tvalidation_0-error:0.103409\tvalidation_1-auc:0.740424\tvalidation_1-error:0.314103\n",
      "[85]\tvalidation_0-auc:0.966658\tvalidation_0-error:0.103409\tvalidation_1-auc:0.741246\tvalidation_1-error:0.314103\n",
      "[86]\tvalidation_0-auc:0.966823\tvalidation_0-error:0.103409\tvalidation_1-auc:0.744698\tvalidation_1-error:0.314103\n",
      "[87]\tvalidation_0-auc:0.967887\tvalidation_0-error:0.102273\tvalidation_1-auc:0.744041\tvalidation_1-error:0.307692\n",
      "[88]\tvalidation_0-auc:0.968672\tvalidation_0-error:0.104545\tvalidation_1-auc:0.742726\tvalidation_1-error:0.301282\n",
      "[89]\tvalidation_0-auc:0.969049\tvalidation_0-error:0.103409\tvalidation_1-auc:0.742726\tvalidation_1-error:0.301282\n",
      "[90]\tvalidation_0-auc:0.969163\tvalidation_0-error:0.101136\tvalidation_1-auc:0.742397\tvalidation_1-error:0.301282\n",
      "[91]\tvalidation_0-auc:0.96955\tvalidation_0-error:0.1\tvalidation_1-auc:0.741904\tvalidation_1-error:0.301282\n",
      "[92]\tvalidation_0-auc:0.969788\tvalidation_0-error:0.103409\tvalidation_1-auc:0.741575\tvalidation_1-error:0.301282\n",
      "[93]\tvalidation_0-auc:0.970119\tvalidation_0-error:0.103409\tvalidation_1-auc:0.740589\tvalidation_1-error:0.301282\n",
      "[94]\tvalidation_0-auc:0.970576\tvalidation_0-error:0.102273\tvalidation_1-auc:0.745192\tvalidation_1-error:0.301282\n",
      "[95]\tvalidation_0-auc:0.970999\tvalidation_0-error:0.1\tvalidation_1-auc:0.747493\tvalidation_1-error:0.301282\n",
      "[96]\tvalidation_0-auc:0.971431\tvalidation_0-error:0.098864\tvalidation_1-auc:0.746835\tvalidation_1-error:0.307692\n",
      "[97]\tvalidation_0-auc:0.971958\tvalidation_0-error:0.1\tvalidation_1-auc:0.746178\tvalidation_1-error:0.301282\n",
      "[98]\tvalidation_0-auc:0.972143\tvalidation_0-error:0.1\tvalidation_1-auc:0.746671\tvalidation_1-error:0.301282\n",
      "[99]\tvalidation_0-auc:0.972102\tvalidation_0-error:0.098864\tvalidation_1-auc:0.747329\tvalidation_1-error:0.301282\n",
      "Wall time: 825 ms\n"
     ]
    },
    {
     "data": {
      "text/plain": [
       "XGBClassifier(base_score=0.5, booster='gbtree', colsample_bylevel=1,\n",
       "              colsample_bynode=1, colsample_bytree=1, gamma=0,\n",
       "              learning_rate=0.1, max_delta_step=0, max_depth=3,\n",
       "              min_child_weight=1, missing=None, n_estimators=100, n_jobs=1,\n",
       "              nthread=None, objective='binary:logistic', random_state=0,\n",
       "              reg_alpha=0, reg_lambda=1, scale_pos_weight=1, seed=None,\n",
       "              silent=None, subsample=1, verbosity=1)"
      ]
     },
     "execution_count": 28,
     "metadata": {},
     "output_type": "execute_result"
    }
   ],
   "source": [
    "eval_set = [(X_train, y_train), (X_test, y_test)]\n",
    "eval_metric = [\"auc\",\"error\"]\n",
    "%time model.fit(X_train, y_train, eval_metric=eval_metric, eval_set=eval_set, verbose=True)"
   ]
  },
  {
   "cell_type": "markdown",
   "metadata": {},
   "source": [
    "## XG Boost"
   ]
  },
  {
   "cell_type": "code",
   "execution_count": 18,
   "metadata": {},
   "outputs": [],
   "source": [
    "from xgboost import XGBClassifier\n",
    "from sklearn.metrics import classification_report, confusion_matrix, accuracy_score"
   ]
  },
  {
   "cell_type": "code",
   "execution_count": 19,
   "metadata": {},
   "outputs": [
    {
     "data": {
      "text/plain": [
       "XGBClassifier(base_score=0.5, booster='gbtree', colsample_bylevel=1,\n",
       "              colsample_bynode=1, colsample_bytree=1, gamma=0,\n",
       "              learning_rate=0.1, max_delta_step=0, max_depth=3,\n",
       "              min_child_weight=1, missing=None, n_estimators=100, n_jobs=1,\n",
       "              nthread=None, objective='binary:logistic', random_state=0,\n",
       "              reg_alpha=0, reg_lambda=1, scale_pos_weight=1, seed=None,\n",
       "              silent=None, subsample=1, verbosity=1)"
      ]
     },
     "execution_count": 19,
     "metadata": {},
     "output_type": "execute_result"
    }
   ],
   "source": [
    "model = XGBClassifier()\n",
    "model.fit(X_train, y_train)"
   ]
  },
  {
   "cell_type": "code",
   "execution_count": 20,
   "metadata": {},
   "outputs": [
    {
     "name": "stdout",
     "output_type": "stream",
     "text": [
      "0.6987179487179487\n"
     ]
    }
   ],
   "source": [
    "score = model.score(X_test, y_test)\n",
    "print(score)"
   ]
  },
  {
   "cell_type": "code",
   "execution_count": 21,
   "metadata": {},
   "outputs": [
    {
     "name": "stdout",
     "output_type": "stream",
     "text": [
      "Confusion Matrix\n",
      "[[48 29]\n",
      " [18 61]]\n",
      "\n",
      "\n",
      "Classfications Results\n",
      "              precision    recall  f1-score   support\n",
      "\n",
      "           0       0.73      0.62      0.67        77\n",
      "           1       0.68      0.77      0.72        79\n",
      "\n",
      "    accuracy                           0.70       156\n",
      "   macro avg       0.70      0.70      0.70       156\n",
      "weighted avg       0.70      0.70      0.70       156\n",
      "\n",
      "Accuracy Score\n",
      "0.6987179487179487\n"
     ]
    }
   ],
   "source": [
    "y_pred = model.predict(X_test)\n",
    "\n",
    "print(\"Confusion Matrix\")\n",
    "print(confusion_matrix(y_test, y_pred))\n",
    "print(\"\\n\")\n",
    "\n",
    "print(\"Classfications Results\")\n",
    "print(classification_report(y_test, y_pred))\n",
    "\n",
    "print(\"Accuracy Score\")\n",
    "print(accuracy_score(y_test, y_pred))"
   ]
  },
  {
   "cell_type": "code",
   "execution_count": 22,
   "metadata": {},
   "outputs": [
    {
     "data": {
      "image/png": "[encoded data removed]",
      "text/plain": [
       "<Figure size 576x576 with 1 Axes>"
      ]
     },
     "metadata": {
      "needs_background": "light"
     },
     "output_type": "display_data"
    }
   ],
   "source": [
    "cm = confusion_matrix(y_test, model.predict(X_test))\n",
    "\n",
    "fig, ax = plt.subplots(figsize=(8, 8))\n",
    "ax.imshow(cm)\n",
    "ax.grid(False)\n",
    "ax.xaxis.set(ticks=(0, 1), ticklabels=('Predicted 0s', 'Predicted 1s'))\n",
    "ax.yaxis.set(ticks=(0, 1), ticklabels=('Actual 0s', 'Actual 1s'))\n",
    "ax.set_ylim(1.5, -0.5)\n",
    "for i in range(2):\n",
    "    for j in range(2):\n",
    "        ax.text(j, i, cm[i, j], ha='center', va='center', color='red')\n",
    "plt.show()"
   ]
  },
  {
   "cell_type": "markdown",
   "metadata": {},
   "source": [
    "## Saving the model"
   ]
  },
  {
   "cell_type": "code",
   "execution_count": 23,
   "metadata": {},
   "outputs": [
    {
     "data": {
      "text/plain": [
       "['XG Boost model.sav']"
      ]
     },
     "execution_count": 23,
     "metadata": {},
     "output_type": "execute_result"
    }
   ],
   "source": [
    "import joblib\n",
    "filename = 'XG Boost model.sav'\n",
    "joblib.dump(model, filename)"
   ]
  },
  {
   "cell_type": "code",
   "execution_count": 24,
   "metadata": {},
   "outputs": [
    {
     "name": "stdout",
     "output_type": "stream",
     "text": [
      "(189, 26)\n",
      "['f0', 'f1', 'f2', 'f3', 'f4', 'f5', 'f6', 'f7', 'f8', 'f9', 'f10', 'f11', 'f12', 'f13', 'f14', 'f15', 'f16', 'f17', 'f18', 'f19', 'f20', 'f21', 'f22', 'f23', 'f24', 'f25']\n"
     ]
    },
    {
     "data": {
      "text/html": [
       "<div>\n",
       "<style scoped>\n",
       "    .dataframe tbody tr th:only-of-type {\n",
       "        vertical-align: middle;\n",
       "    }\n",
       "\n",
       "    .dataframe tbody tr th {\n",
       "        vertical-align: top;\n",
       "    }\n",
       "\n",
       "    .dataframe thead th {\n",
       "        text-align: right;\n",
       "    }\n",
       "</style>\n",
       "<table border=\"1\" class=\"dataframe\">\n",
       "  <thead>\n",
       "    <tr style=\"text-align: right;\">\n",
       "      <th></th>\n",
       "      <th>f0</th>\n",
       "      <th>f1</th>\n",
       "      <th>f2</th>\n",
       "      <th>f3</th>\n",
       "      <th>f4</th>\n",
       "      <th>f5</th>\n",
       "      <th>f6</th>\n",
       "      <th>f7</th>\n",
       "      <th>f8</th>\n",
       "      <th>f9</th>\n",
       "      <th>...</th>\n",
       "      <th>f16</th>\n",
       "      <th>f17</th>\n",
       "      <th>f18</th>\n",
       "      <th>f19</th>\n",
       "      <th>f20</th>\n",
       "      <th>f21</th>\n",
       "      <th>f22</th>\n",
       "      <th>f23</th>\n",
       "      <th>f24</th>\n",
       "      <th>f25</th>\n",
       "    </tr>\n",
       "  </thead>\n",
       "  <tbody>\n",
       "    <tr>\n",
       "      <th>0</th>\n",
       "      <td>0.135</td>\n",
       "      <td>0.000007</td>\n",
       "      <td>0.067</td>\n",
       "      <td>0.078</td>\n",
       "      <td>0.202</td>\n",
       "      <td>2.033</td>\n",
       "      <td>0.178</td>\n",
       "      <td>1.074</td>\n",
       "      <td>1.336</td>\n",
       "      <td>1.576</td>\n",
       "      <td>...</td>\n",
       "      <td>0.859</td>\n",
       "      <td>184.502</td>\n",
       "      <td>187.880</td>\n",
       "      <td>183</td>\n",
       "      <td>182</td>\n",
       "      <td>0.005368</td>\n",
       "      <td>0.000025</td>\n",
       "      <td>0.0</td>\n",
       "      <td>0</td>\n",
       "      <td>0.0</td>\n",
       "    </tr>\n",
       "    <tr>\n",
       "      <th>1</th>\n",
       "      <td>0.143</td>\n",
       "      <td>0.000007</td>\n",
       "      <td>0.073</td>\n",
       "      <td>0.081</td>\n",
       "      <td>0.219</td>\n",
       "      <td>1.236</td>\n",
       "      <td>0.107</td>\n",
       "      <td>0.612</td>\n",
       "      <td>0.904</td>\n",
       "      <td>0.894</td>\n",
       "      <td>...</td>\n",
       "      <td>0.755</td>\n",
       "      <td>198.665</td>\n",
       "      <td>202.214</td>\n",
       "      <td>194</td>\n",
       "      <td>193</td>\n",
       "      <td>0.004988</td>\n",
       "      <td>0.000020</td>\n",
       "      <td>0.0</td>\n",
       "      <td>0</td>\n",
       "      <td>0.0</td>\n",
       "    </tr>\n",
       "    <tr>\n",
       "      <th>2</th>\n",
       "      <td>0.162</td>\n",
       "      <td>0.000008</td>\n",
       "      <td>0.087</td>\n",
       "      <td>0.089</td>\n",
       "      <td>0.260</td>\n",
       "      <td>1.338</td>\n",
       "      <td>0.117</td>\n",
       "      <td>0.630</td>\n",
       "      <td>0.948</td>\n",
       "      <td>1.017</td>\n",
       "      <td>...</td>\n",
       "      <td>1.860</td>\n",
       "      <td>197.220</td>\n",
       "      <td>206.060</td>\n",
       "      <td>198</td>\n",
       "      <td>197</td>\n",
       "      <td>0.004940</td>\n",
       "      <td>0.000046</td>\n",
       "      <td>0.0</td>\n",
       "      <td>0</td>\n",
       "      <td>0.0</td>\n",
       "    </tr>\n",
       "    <tr>\n",
       "      <th>3</th>\n",
       "      <td>0.140</td>\n",
       "      <td>0.000007</td>\n",
       "      <td>0.075</td>\n",
       "      <td>0.089</td>\n",
       "      <td>0.224</td>\n",
       "      <td>1.086</td>\n",
       "      <td>0.094</td>\n",
       "      <td>0.556</td>\n",
       "      <td>0.747</td>\n",
       "      <td>0.823</td>\n",
       "      <td>...</td>\n",
       "      <td>0.931</td>\n",
       "      <td>202.324</td>\n",
       "      <td>206.182</td>\n",
       "      <td>200</td>\n",
       "      <td>199</td>\n",
       "      <td>0.004900</td>\n",
       "      <td>0.000023</td>\n",
       "      <td>0.0</td>\n",
       "      <td>0</td>\n",
       "      <td>0.0</td>\n",
       "    </tr>\n",
       "    <tr>\n",
       "      <th>4</th>\n",
       "      <td>0.150</td>\n",
       "      <td>0.000007</td>\n",
       "      <td>0.080</td>\n",
       "      <td>0.097</td>\n",
       "      <td>0.240</td>\n",
       "      <td>1.049</td>\n",
       "      <td>0.091</td>\n",
       "      <td>0.533</td>\n",
       "      <td>0.698</td>\n",
       "      <td>0.777</td>\n",
       "      <td>...</td>\n",
       "      <td>0.880</td>\n",
       "      <td>205.407</td>\n",
       "      <td>209.927</td>\n",
       "      <td>204</td>\n",
       "      <td>203</td>\n",
       "      <td>0.004820</td>\n",
       "      <td>0.000022</td>\n",
       "      <td>0.0</td>\n",
       "      <td>0</td>\n",
       "      <td>0.0</td>\n",
       "    </tr>\n",
       "  </tbody>\n",
       "</table>\n",
       "<p>5 rows × 26 columns</p>\n",
       "</div>"
      ],
      "text/plain": [
       "      f0        f1     f2     f3     f4     f5     f6     f7     f8     f9  \\\n",
       "0  0.135  0.000007  0.067  0.078  0.202  2.033  0.178  1.074  1.336  1.576   \n",
       "1  0.143  0.000007  0.073  0.081  0.219  1.236  0.107  0.612  0.904  0.894   \n",
       "2  0.162  0.000008  0.087  0.089  0.260  1.338  0.117  0.630  0.948  1.017   \n",
       "3  0.140  0.000007  0.075  0.089  0.224  1.086  0.094  0.556  0.747  0.823   \n",
       "4  0.150  0.000007  0.080  0.097  0.240  1.049  0.091  0.533  0.698  0.777   \n",
       "\n",
       "   ...    f16      f17      f18  f19  f20       f21       f22  f23  f24  f25  \n",
       "0  ...  0.859  184.502  187.880  183  182  0.005368  0.000025  0.0    0  0.0  \n",
       "1  ...  0.755  198.665  202.214  194  193  0.004988  0.000020  0.0    0  0.0  \n",
       "2  ...  1.860  197.220  206.060  198  197  0.004940  0.000046  0.0    0  0.0  \n",
       "3  ...  0.931  202.324  206.182  200  199  0.004900  0.000023  0.0    0  0.0  \n",
       "4  ...  0.880  205.407  209.927  204  203  0.004820  0.000022  0.0    0  0.0  \n",
       "\n",
       "[5 rows x 26 columns]"
      ]
     },
     "execution_count": 24,
     "metadata": {},
     "output_type": "execute_result"
    }
   ],
   "source": [
    "import pandas as pd\n",
    "pred_data = pd.read_csv(r'Parkinsons Test Data_3.csv', header=0)\n",
    "pred_data=pred_data.dropna()\n",
    "print(pred_data.shape)\n",
    "print(list(pred_data.columns))\n",
    "pred_data.head()"
   ]
  },
  {
   "cell_type": "code",
   "execution_count": 25,
   "metadata": {},
   "outputs": [
    {
     "data": {
      "text/plain": [
       "array([[1.35000e-01, 7.30000e-06, 6.70000e-02, ..., 0.00000e+00,\n",
       "        0.00000e+00, 0.00000e+00],\n",
       "       [1.43000e-01, 7.10000e-06, 7.30000e-02, ..., 0.00000e+00,\n",
       "        0.00000e+00, 0.00000e+00],\n",
       "       [1.62000e-01, 8.00000e-06, 8.70000e-02, ..., 0.00000e+00,\n",
       "        0.00000e+00, 0.00000e+00],\n",
       "       ...,\n",
       "       [2.81600e+00, 1.53056e-04, 1.09000e+00, ..., 4.52380e+01,\n",
       "        2.00000e+00, 5.31940e+01],\n",
       "       [1.14500e+00, 5.30630e-05, 7.03000e-01, ..., 6.90480e+01,\n",
       "        1.00000e+00, 5.74790e+01],\n",
       "       [1.59200e+00, 8.91590e-05, 6.53000e-01, ..., 5.52630e+01,\n",
       "        0.00000e+00, 0.00000e+00]])"
      ]
     },
     "execution_count": 25,
     "metadata": {},
     "output_type": "execute_result"
    }
   ],
   "source": [
    "pred_X = pred_data.loc[:, :].values\n",
    "pred_X"
   ]
  },
  {
   "cell_type": "code",
   "execution_count": 26,
   "metadata": {},
   "outputs": [],
   "source": [
    "pred_X = standard_X.fit_transform(pred_X)"
   ]
  },
  {
   "cell_type": "code",
   "execution_count": 27,
   "metadata": {},
   "outputs": [
    {
     "data": {
      "text/plain": [
       "array([[-0.70099042, -0.7168957 , -0.67816489, ..., -0.31940471,\n",
       "        -0.29960235, -0.24794817],\n",
       "       [-0.69188618, -0.72016035, -0.66496499, ..., -0.31940471,\n",
       "        -0.29960235, -0.24794817],\n",
       "       [-0.67026361, -0.70546945, -0.63416524, ..., -0.31940471,\n",
       "        -0.29960235, -0.24794817],\n",
       "       ...,\n",
       "       [ 2.35006831,  1.66231185,  1.57241691, ...,  4.31160964,\n",
       "         2.05976619,  7.94301349],\n",
       "       [ 0.44841999,  0.03010391,  0.7210238 , ...,  6.74903949,\n",
       "         0.88008192,  8.60282983],\n",
       "       [ 0.95711945,  0.61930693,  0.61102469, ...,  5.33786895,\n",
       "        -0.29960235, -0.24794817]])"
      ]
     },
     "execution_count": 27,
     "metadata": {},
     "output_type": "execute_result"
    }
   ],
   "source": [
    "pred_X"
   ]
  },
  {
   "cell_type": "code",
   "execution_count": null,
   "metadata": {},
   "outputs": [],
   "source": [
    "pred_y = model.predict(pred_X)\n",
    "res = pd.DataFrame(pred_y)\n",
    "res.columns = [\"status\"]\n",
    "res.to_csv(\"XG - predictions - all 2.csv\")"
   ]
  }
 ],
 "metadata": {
  "kernelspec": {
   "display_name": "Python 3",
   "language": "python",
   "name": "python3"
  },
  "language_info": {
   "codemirror_mode": {
    "name": "ipython",
    "version": 3
   },
   "file_extension": ".py",
   "mimetype": "text/x-python",
   "name": "python",
   "nbconvert_exporter": "python",
   "pygments_lexer": "ipython3",
   "version": "3.7.4"
  }
 },
 "nbformat": 4,
 "nbformat_minor": 4
}
