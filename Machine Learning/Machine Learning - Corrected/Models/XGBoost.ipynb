{
 "cells": [
  {
   "cell_type": "code",
   "execution_count": 14,
   "metadata": {},
   "outputs": [],
   "source": [
    "import numpy as np\n",
    "import pandas as pd\n",
    "from sklearn import preprocessing\n",
    "from sklearn.preprocessing import StandardScaler\n",
    "from sklearn.model_selection import train_test_split\n",
    "from sklearn.metrics import accuracy_score\n",
    "from sklearn.linear_model import LogisticRegression\n",
    "from sklearn.metrics import confusion_matrix\n",
    "from sklearn.model_selection import cross_val_score\n",
    "from xgboost import XGBClassifier"
   ]
  },
  {
   "cell_type": "code",
   "execution_count": 15,
   "metadata": {},
   "outputs": [
    {
     "data": {
      "text/html": [
       "<div>\n",
       "<style scoped>\n",
       "    .dataframe tbody tr th:only-of-type {\n",
       "        vertical-align: middle;\n",
       "    }\n",
       "\n",
       "    .dataframe tbody tr th {\n",
       "        vertical-align: top;\n",
       "    }\n",
       "\n",
       "    .dataframe thead th {\n",
       "        text-align: right;\n",
       "    }\n",
       "</style>\n",
       "<table border=\"1\" class=\"dataframe\">\n",
       "  <thead>\n",
       "    <tr style=\"text-align: right;\">\n",
       "      <th></th>\n",
       "      <th>Subject Id</th>\n",
       "      <th>Jitter(local)</th>\n",
       "      <th>Jitter(local, absolute)</th>\n",
       "      <th>Jitter (rap)</th>\n",
       "      <th>Jitter (ppq5)</th>\n",
       "      <th>Jitter (ddp)</th>\n",
       "      <th>Shimmer (local)</th>\n",
       "      <th>Shimmer (local, db)</th>\n",
       "      <th>Shimmer (apq3)</th>\n",
       "      <th>Shimmer (apq5)</th>\n",
       "      <th>...</th>\n",
       "      <th>Maximum pitch</th>\n",
       "      <th>Number of pulses</th>\n",
       "      <th>Number of periods</th>\n",
       "      <th>Mean period</th>\n",
       "      <th>Standard deviation of period</th>\n",
       "      <th>Fraction of locally unvoiced frames</th>\n",
       "      <th>Number of voice breaks</th>\n",
       "      <th>Degree of voice breaks</th>\n",
       "      <th>UPDRS</th>\n",
       "      <th>status</th>\n",
       "    </tr>\n",
       "  </thead>\n",
       "  <tbody>\n",
       "    <tr>\n",
       "      <th>0</th>\n",
       "      <td>1</td>\n",
       "      <td>0.01488</td>\n",
       "      <td>0.000090</td>\n",
       "      <td>0.00900</td>\n",
       "      <td>0.00794</td>\n",
       "      <td>0.02699</td>\n",
       "      <td>0.08334</td>\n",
       "      <td>0.779</td>\n",
       "      <td>0.04517</td>\n",
       "      <td>0.04609</td>\n",
       "      <td>...</td>\n",
       "      <td>187.576</td>\n",
       "      <td>160</td>\n",
       "      <td>159</td>\n",
       "      <td>0.006065</td>\n",
       "      <td>0.000416</td>\n",
       "      <td>0.00000</td>\n",
       "      <td>0</td>\n",
       "      <td>0.00000</td>\n",
       "      <td>23</td>\n",
       "      <td>1</td>\n",
       "    </tr>\n",
       "    <tr>\n",
       "      <th>1</th>\n",
       "      <td>1</td>\n",
       "      <td>0.00728</td>\n",
       "      <td>0.000038</td>\n",
       "      <td>0.00353</td>\n",
       "      <td>0.00376</td>\n",
       "      <td>0.01059</td>\n",
       "      <td>0.05864</td>\n",
       "      <td>0.642</td>\n",
       "      <td>0.02058</td>\n",
       "      <td>0.03180</td>\n",
       "      <td>...</td>\n",
       "      <td>234.505</td>\n",
       "      <td>170</td>\n",
       "      <td>169</td>\n",
       "      <td>0.005181</td>\n",
       "      <td>0.000403</td>\n",
       "      <td>0.02247</td>\n",
       "      <td>0</td>\n",
       "      <td>0.00000</td>\n",
       "      <td>23</td>\n",
       "      <td>1</td>\n",
       "    </tr>\n",
       "    <tr>\n",
       "      <th>2</th>\n",
       "      <td>1</td>\n",
       "      <td>0.00472</td>\n",
       "      <td>0.000031</td>\n",
       "      <td>0.00224</td>\n",
       "      <td>0.00245</td>\n",
       "      <td>0.00673</td>\n",
       "      <td>0.06404</td>\n",
       "      <td>0.629</td>\n",
       "      <td>0.03434</td>\n",
       "      <td>0.03765</td>\n",
       "      <td>...</td>\n",
       "      <td>190.019</td>\n",
       "      <td>675</td>\n",
       "      <td>673</td>\n",
       "      <td>0.006649</td>\n",
       "      <td>0.000132</td>\n",
       "      <td>0.26180</td>\n",
       "      <td>1</td>\n",
       "      <td>0.26325</td>\n",
       "      <td>23</td>\n",
       "      <td>1</td>\n",
       "    </tr>\n",
       "    <tr>\n",
       "      <th>3</th>\n",
       "      <td>2</td>\n",
       "      <td>0.00427</td>\n",
       "      <td>0.000034</td>\n",
       "      <td>0.00243</td>\n",
       "      <td>0.00249</td>\n",
       "      <td>0.00728</td>\n",
       "      <td>0.07428</td>\n",
       "      <td>0.694</td>\n",
       "      <td>0.04205</td>\n",
       "      <td>0.04311</td>\n",
       "      <td>...</td>\n",
       "      <td>129.205</td>\n",
       "      <td>345</td>\n",
       "      <td>344</td>\n",
       "      <td>0.008073</td>\n",
       "      <td>0.000143</td>\n",
       "      <td>0.00000</td>\n",
       "      <td>0</td>\n",
       "      <td>0.00000</td>\n",
       "      <td>8</td>\n",
       "      <td>1</td>\n",
       "    </tr>\n",
       "    <tr>\n",
       "      <th>4</th>\n",
       "      <td>2</td>\n",
       "      <td>0.00844</td>\n",
       "      <td>0.000069</td>\n",
       "      <td>0.00509</td>\n",
       "      <td>0.00489</td>\n",
       "      <td>0.01527</td>\n",
       "      <td>0.14053</td>\n",
       "      <td>1.239</td>\n",
       "      <td>0.06131</td>\n",
       "      <td>0.07015</td>\n",
       "      <td>...</td>\n",
       "      <td>126.788</td>\n",
       "      <td>585</td>\n",
       "      <td>582</td>\n",
       "      <td>0.008174</td>\n",
       "      <td>0.000123</td>\n",
       "      <td>0.00209</td>\n",
       "      <td>2</td>\n",
       "      <td>0.00768</td>\n",
       "      <td>8</td>\n",
       "      <td>1</td>\n",
       "    </tr>\n",
       "  </tbody>\n",
       "</table>\n",
       "<p>5 rows × 29 columns</p>\n",
       "</div>"
      ],
      "text/plain": [
       "   Subject Id  Jitter(local)  Jitter(local, absolute)  Jitter (rap)  \\\n",
       "0           1        0.01488                 0.000090       0.00900   \n",
       "1           1        0.00728                 0.000038       0.00353   \n",
       "2           1        0.00472                 0.000031       0.00224   \n",
       "3           2        0.00427                 0.000034       0.00243   \n",
       "4           2        0.00844                 0.000069       0.00509   \n",
       "\n",
       "   Jitter (ppq5)  Jitter (ddp)  Shimmer (local)  Shimmer (local, db)  \\\n",
       "0        0.00794       0.02699          0.08334                0.779   \n",
       "1        0.00376       0.01059          0.05864                0.642   \n",
       "2        0.00245       0.00673          0.06404                0.629   \n",
       "3        0.00249       0.00728          0.07428                0.694   \n",
       "4        0.00489       0.01527          0.14053                1.239   \n",
       "\n",
       "   Shimmer (apq3)  Shimmer (apq5)  ...  Maximum pitch  Number of pulses  \\\n",
       "0         0.04517         0.04609  ...        187.576               160   \n",
       "1         0.02058         0.03180  ...        234.505               170   \n",
       "2         0.03434         0.03765  ...        190.019               675   \n",
       "3         0.04205         0.04311  ...        129.205               345   \n",
       "4         0.06131         0.07015  ...        126.788               585   \n",
       "\n",
       "   Number of periods  Mean period  Standard deviation of period  \\\n",
       "0                159     0.006065                      0.000416   \n",
       "1                169     0.005181                      0.000403   \n",
       "2                673     0.006649                      0.000132   \n",
       "3                344     0.008073                      0.000143   \n",
       "4                582     0.008174                      0.000123   \n",
       "\n",
       "   Fraction of locally unvoiced frames  Number of voice breaks  \\\n",
       "0                              0.00000                       0   \n",
       "1                              0.02247                       0   \n",
       "2                              0.26180                       1   \n",
       "3                              0.00000                       0   \n",
       "4                              0.00209                       2   \n",
       "\n",
       "   Degree of voice breaks  UPDRS  status  \n",
       "0                 0.00000     23       1  \n",
       "1                 0.00000     23       1  \n",
       "2                 0.26325     23       1  \n",
       "3                 0.00000      8       1  \n",
       "4                 0.00768      8       1  \n",
       "\n",
       "[5 rows x 29 columns]"
      ]
     },
     "execution_count": 15,
     "metadata": {},
     "output_type": "execute_result"
    }
   ],
   "source": [
    "data = pd.read_csv(r'..\\Datasets\\Parkinsons Processed Training - Only Vowels - Sri Lankan.csv', header = 0)\n",
    "data.head()"
   ]
  },
  {
   "cell_type": "code",
   "execution_count": 16,
   "metadata": {},
   "outputs": [
    {
     "data": {
      "text/plain": [
       "array([[1.488000e-02, 9.021300e-05, 9.000000e-03, ..., 1.590000e+02,\n",
       "        6.064725e-03, 4.162760e-04],\n",
       "       [7.280000e-03, 3.769800e-05, 3.530000e-03, ..., 1.690000e+02,\n",
       "        5.181253e-03, 4.034940e-04],\n",
       "       [4.720000e-03, 3.137300e-05, 2.240000e-03, ..., 6.730000e+02,\n",
       "        6.649119e-03, 1.321080e-04],\n",
       "       ...,\n",
       "       [4.710000e-03, 3.383700e-05, 1.860000e-03, ..., 1.750000e+02,\n",
       "        7.178780e-03, 1.298030e-04],\n",
       "       [4.319000e-02, 3.171220e-04, 2.774000e-02, ..., 2.560000e+02,\n",
       "        7.342534e-03, 3.119150e-04],\n",
       "       [1.543000e-02, 1.033570e-04, 1.004000e-02, ..., 4.250000e+02,\n",
       "        6.700038e-03, 1.082910e-04]])"
      ]
     },
     "execution_count": 16,
     "metadata": {},
     "output_type": "execute_result"
    }
   ],
   "source": [
    "X = data.iloc[:, 1:24].values\n",
    "X"
   ]
  },
  {
   "cell_type": "code",
   "execution_count": 17,
   "metadata": {},
   "outputs": [
    {
     "data": {
      "text/plain": [
       "array([1, 1, 1, 1, 1, 1, 1, 1, 1, 1, 1, 1, 1, 1, 1, 1, 1, 1, 1, 1, 1, 1,\n",
       "       1, 1, 1, 1, 1, 1, 1, 1, 1, 1, 1, 1, 1, 1, 1, 1, 1, 1, 1, 1, 1, 1,\n",
       "       1, 1, 1, 1, 1, 1, 1, 1, 1, 1, 1, 1, 1, 1, 1, 1, 0, 0, 0, 0, 0, 0,\n",
       "       0, 0, 0, 0, 0, 0, 0, 0, 0, 0, 0, 0, 0, 0, 0, 0, 0, 0, 0, 0, 0, 0,\n",
       "       0, 0, 0, 0, 0, 0, 0, 0, 0, 0, 0, 0, 0, 0, 0, 0, 0, 0, 0, 0, 0, 0,\n",
       "       0, 0, 0, 0, 0, 0, 0, 0, 0, 0], dtype=int64)"
      ]
     },
     "execution_count": 17,
     "metadata": {},
     "output_type": "execute_result"
    }
   ],
   "source": [
    "y = data.iloc[:, -1].values\n",
    "y"
   ]
  },
  {
   "cell_type": "code",
   "execution_count": 47,
   "metadata": {},
   "outputs": [],
   "source": [
    "X_train, X_test, Y_train, Y_test = train_test_split(X, y, random_state=12, test_size = 0.01)"
   ]
  },
  {
   "cell_type": "code",
   "execution_count": 48,
   "metadata": {},
   "outputs": [],
   "source": [
    "standard_X = StandardScaler()\n",
    "X_train = standard_X.fit_transform(X_train)\n",
    "X_test = standard_X.transform(X_test)"
   ]
  },
  {
   "cell_type": "code",
   "execution_count": 49,
   "metadata": {},
   "outputs": [
    {
     "data": {
      "text/plain": [
       "XGBClassifier(base_score=0.5, booster='gbtree', colsample_bylevel=1,\n",
       "              colsample_bynode=1, colsample_bytree=0.4, gamma=0,\n",
       "              learning_rate=0.25, max_delta_step=0, max_depth=8,\n",
       "              min_child_weight=1, missing=None, n_estimators=20, n_jobs=1,\n",
       "              nthread=None, objective='binary:logistic', random_state=0,\n",
       "              reg_alpha=0, reg_lambda=1, scale_pos_weight=1, seed=None,\n",
       "              silent=None, subsample=1, verbosity=1)"
      ]
     },
     "execution_count": 49,
     "metadata": {},
     "output_type": "execute_result"
    }
   ],
   "source": [
    "model = XGBClassifier(colsample_bytree = 0.4, learning_rate = 0.25, max_depth= 8, min_child_weight= 1, n_estimators = 20)\n",
    "model.fit(X_train, Y_train)\n",
    "# n_estimators = 600"
   ]
  },
  {
   "cell_type": "code",
   "execution_count": 50,
   "metadata": {},
   "outputs": [],
   "source": [
    "y_pred = model.predict(X_test)"
   ]
  },
  {
   "cell_type": "code",
   "execution_count": 51,
   "metadata": {},
   "outputs": [
    {
     "name": "stdout",
     "output_type": "stream",
     "text": [
      "[[0 1]\n",
      " [0 1]]\n"
     ]
    }
   ],
   "source": [
    "from sklearn.metrics import confusion_matrix\n",
    "cm = confusion_matrix(Y_test, y_pred) # Calulate Confusion matrix for test set.\n",
    "print(cm)"
   ]
  },
  {
   "cell_type": "code",
   "execution_count": 52,
   "metadata": {},
   "outputs": [
    {
     "name": "stdout",
     "output_type": "stream",
     "text": [
      "Accuracy for training set -> 0.9916666666666667\n",
      "Accuracy for test set -> 0.5\n"
     ]
    }
   ],
   "source": [
    "# Evaluate\n",
    "print(\"Accuracy for training set -> \", end = \"\")\n",
    "scale_X = standard_X.transform(X)\n",
    "Y_hat = [round(yhat) for yhat in model.predict(scale_X)]\n",
    "print(accuracy_score(y, Y_hat)) # Full set accuracy\n",
    "Y_hat = [round(yhat) for yhat in model.predict(X_test)]\n",
    "print(\"Accuracy for test set -> \", end = \"\")\n",
    "print(accuracy_score(Y_test, Y_hat)) # Test set accuracy"
   ]
  },
  {
   "cell_type": "code",
   "execution_count": 54,
   "metadata": {},
   "outputs": [
    {
     "name": "stdout",
     "output_type": "stream",
     "text": [
      "Accuracy: 72.75 %\n",
      "Standard Deviation: 9.91 %\n"
     ]
    }
   ],
   "source": [
    "accuracies = cross_val_score(estimator = model, X = X_train, y = Y_train, cv = 5)\n",
    "print(\"Accuracy: {:.2f} %\".format(accuracies.mean()*100))\n",
    "print(\"Standard Deviation: {:.2f} %\".format(accuracies.std()*100))"
   ]
  },
  {
   "cell_type": "code",
   "execution_count": 56,
   "metadata": {},
   "outputs": [
    {
     "name": "stdout",
     "output_type": "stream",
     "text": [
      "0.727536231884058\n",
      "0.09909668677172076\n"
     ]
    }
   ],
   "source": [
    "#Just for testing: Remove after testing\n",
    "accuracies = cross_val_score(estimator = model, X = X_train, y = Y_train, cv = 5)\n",
    "print(accuracies.mean())\n",
    "print(accuracies.std())"
   ]
  },
  {
   "cell_type": "code",
   "execution_count": 57,
   "metadata": {},
   "outputs": [
    {
     "data": {
      "text/html": [
       "<div>\n",
       "<style scoped>\n",
       "    .dataframe tbody tr th:only-of-type {\n",
       "        vertical-align: middle;\n",
       "    }\n",
       "\n",
       "    .dataframe tbody tr th {\n",
       "        vertical-align: top;\n",
       "    }\n",
       "\n",
       "    .dataframe thead th {\n",
       "        text-align: right;\n",
       "    }\n",
       "</style>\n",
       "<table border=\"1\" class=\"dataframe\">\n",
       "  <thead>\n",
       "    <tr style=\"text-align: right;\">\n",
       "      <th></th>\n",
       "      <th>Subject ID</th>\n",
       "      <th>Jitter(local)</th>\n",
       "      <th>Jitter(local, absolute)</th>\n",
       "      <th>Jitter (rap)</th>\n",
       "      <th>Jitter (ppq5)</th>\n",
       "      <th>Jitter (ddp)</th>\n",
       "      <th>Shimmer (local)</th>\n",
       "      <th>Shimmer (local, db)</th>\n",
       "      <th>Shimmer (apq3)</th>\n",
       "      <th>Shimmer (apq5)</th>\n",
       "      <th>...</th>\n",
       "      <th>Minimum pitch</th>\n",
       "      <th>Maximum pitch</th>\n",
       "      <th>Number of pulses</th>\n",
       "      <th>Number of periods</th>\n",
       "      <th>Mean period</th>\n",
       "      <th>Standard deviation of period</th>\n",
       "      <th>Fraction of locally unvoiced frames</th>\n",
       "      <th>Number of voice breaks</th>\n",
       "      <th>Degree of voice breaks</th>\n",
       "      <th>status</th>\n",
       "    </tr>\n",
       "  </thead>\n",
       "  <tbody>\n",
       "    <tr>\n",
       "      <th>0</th>\n",
       "      <td>16</td>\n",
       "      <td>0.014680</td>\n",
       "      <td>0.000086</td>\n",
       "      <td>0.00510</td>\n",
       "      <td>0.00615</td>\n",
       "      <td>0.01530</td>\n",
       "      <td>0.08510</td>\n",
       "      <td>0.0814</td>\n",
       "      <td>0.03719</td>\n",
       "      <td>0.05185</td>\n",
       "      <td>...</td>\n",
       "      <td>82.429</td>\n",
       "      <td>244.408</td>\n",
       "      <td>94</td>\n",
       "      <td>93</td>\n",
       "      <td>0.00582</td>\n",
       "      <td>0.001900</td>\n",
       "      <td>0.00000</td>\n",
       "      <td>0</td>\n",
       "      <td>0.0</td>\n",
       "      <td>1</td>\n",
       "    </tr>\n",
       "    <tr>\n",
       "      <th>1</th>\n",
       "      <td>16</td>\n",
       "      <td>0.001029</td>\n",
       "      <td>0.000047</td>\n",
       "      <td>0.00407</td>\n",
       "      <td>0.00574</td>\n",
       "      <td>0.01220</td>\n",
       "      <td>0.04188</td>\n",
       "      <td>0.5570</td>\n",
       "      <td>0.01337</td>\n",
       "      <td>0.02081</td>\n",
       "      <td>...</td>\n",
       "      <td>187.378</td>\n",
       "      <td>242.159</td>\n",
       "      <td>113</td>\n",
       "      <td>112</td>\n",
       "      <td>0.00457</td>\n",
       "      <td>0.000297</td>\n",
       "      <td>0.00641</td>\n",
       "      <td>0</td>\n",
       "      <td>0.0</td>\n",
       "      <td>1</td>\n",
       "    </tr>\n",
       "    <tr>\n",
       "      <th>2</th>\n",
       "      <td>16</td>\n",
       "      <td>0.013350</td>\n",
       "      <td>0.000056</td>\n",
       "      <td>0.00403</td>\n",
       "      <td>0.00663</td>\n",
       "      <td>0.01210</td>\n",
       "      <td>0.05257</td>\n",
       "      <td>0.7430</td>\n",
       "      <td>0.01663</td>\n",
       "      <td>0.02859</td>\n",
       "      <td>...</td>\n",
       "      <td>108.624</td>\n",
       "      <td>355.665</td>\n",
       "      <td>122</td>\n",
       "      <td>120</td>\n",
       "      <td>0.00420</td>\n",
       "      <td>0.000703</td>\n",
       "      <td>0.02500</td>\n",
       "      <td>0</td>\n",
       "      <td>0.0</td>\n",
       "      <td>1</td>\n",
       "    </tr>\n",
       "    <tr>\n",
       "      <th>3</th>\n",
       "      <td>16</td>\n",
       "      <td>0.021640</td>\n",
       "      <td>0.000113</td>\n",
       "      <td>0.01130</td>\n",
       "      <td>0.01200</td>\n",
       "      <td>0.03389</td>\n",
       "      <td>0.06250</td>\n",
       "      <td>0.0781</td>\n",
       "      <td>0.01745</td>\n",
       "      <td>0.02950</td>\n",
       "      <td>...</td>\n",
       "      <td>184.991</td>\n",
       "      <td>239.213</td>\n",
       "      <td>69</td>\n",
       "      <td>68</td>\n",
       "      <td>0.00524</td>\n",
       "      <td>0.000254</td>\n",
       "      <td>0.07759</td>\n",
       "      <td>0</td>\n",
       "      <td>0.0</td>\n",
       "      <td>1</td>\n",
       "    </tr>\n",
       "    <tr>\n",
       "      <th>4</th>\n",
       "      <td>16</td>\n",
       "      <td>0.020900</td>\n",
       "      <td>0.000095</td>\n",
       "      <td>0.00989</td>\n",
       "      <td>0.01107</td>\n",
       "      <td>0.02966</td>\n",
       "      <td>0.06128</td>\n",
       "      <td>0.8380</td>\n",
       "      <td>0.02133</td>\n",
       "      <td>0.03216</td>\n",
       "      <td>...</td>\n",
       "      <td>178.835</td>\n",
       "      <td>273.413</td>\n",
       "      <td>87</td>\n",
       "      <td>86</td>\n",
       "      <td>0.00456</td>\n",
       "      <td>0.000433</td>\n",
       "      <td>0.01639</td>\n",
       "      <td>0</td>\n",
       "      <td>0.0</td>\n",
       "      <td>1</td>\n",
       "    </tr>\n",
       "  </tbody>\n",
       "</table>\n",
       "<p>5 rows × 28 columns</p>\n",
       "</div>"
      ],
      "text/plain": [
       "   Subject ID  Jitter(local)  Jitter(local, absolute)  Jitter (rap)  \\\n",
       "0          16       0.014680                 0.000086       0.00510   \n",
       "1          16       0.001029                 0.000047       0.00407   \n",
       "2          16       0.013350                 0.000056       0.00403   \n",
       "3          16       0.021640                 0.000113       0.01130   \n",
       "4          16       0.020900                 0.000095       0.00989   \n",
       "\n",
       "   Jitter (ppq5)  Jitter (ddp)  Shimmer (local)  Shimmer (local, db)  \\\n",
       "0        0.00615       0.01530          0.08510               0.0814   \n",
       "1        0.00574       0.01220          0.04188               0.5570   \n",
       "2        0.00663       0.01210          0.05257               0.7430   \n",
       "3        0.01200       0.03389          0.06250               0.0781   \n",
       "4        0.01107       0.02966          0.06128               0.8380   \n",
       "\n",
       "   Shimmer (apq3)  Shimmer (apq5)  ...  Minimum pitch  Maximum pitch  \\\n",
       "0         0.03719         0.05185  ...         82.429        244.408   \n",
       "1         0.01337         0.02081  ...        187.378        242.159   \n",
       "2         0.01663         0.02859  ...        108.624        355.665   \n",
       "3         0.01745         0.02950  ...        184.991        239.213   \n",
       "4         0.02133         0.03216  ...        178.835        273.413   \n",
       "\n",
       "   Number of pulses  Number of periods  Mean period  \\\n",
       "0                94                 93      0.00582   \n",
       "1               113                112      0.00457   \n",
       "2               122                120      0.00420   \n",
       "3                69                 68      0.00524   \n",
       "4                87                 86      0.00456   \n",
       "\n",
       "   Standard deviation of period  Fraction of locally unvoiced frames  \\\n",
       "0                      0.001900                              0.00000   \n",
       "1                      0.000297                              0.00641   \n",
       "2                      0.000703                              0.02500   \n",
       "3                      0.000254                              0.07759   \n",
       "4                      0.000433                              0.01639   \n",
       "\n",
       "   Number of voice breaks  Degree of voice breaks  status  \n",
       "0                       0                     0.0       1  \n",
       "1                       0                     0.0       1  \n",
       "2                       0                     0.0       1  \n",
       "3                       0                     0.0       1  \n",
       "4                       0                     0.0       1  \n",
       "\n",
       "[5 rows x 28 columns]"
      ]
     },
     "execution_count": 57,
     "metadata": {},
     "output_type": "execute_result"
    }
   ],
   "source": [
    "data_test = pd.read_csv(r'../Datasets/Sri Lankan Dataset - Finalised.csv', header = 0)\n",
    "data_test.head()"
   ]
  },
  {
   "cell_type": "code",
   "execution_count": 58,
   "metadata": {},
   "outputs": [
    {
     "data": {
      "text/plain": [
       "(99, 28)"
      ]
     },
     "execution_count": 58,
     "metadata": {},
     "output_type": "execute_result"
    }
   ],
   "source": [
    "data_test.shape"
   ]
  },
  {
   "cell_type": "code",
   "execution_count": 59,
   "metadata": {},
   "outputs": [
    {
     "data": {
      "text/plain": [
       "array([[1.468e-02, 8.550e-05, 5.100e-03, ..., 9.300e+01, 5.820e-03,\n",
       "        1.900e-03],\n",
       "       [1.029e-03, 4.700e-05, 4.070e-03, ..., 1.120e+02, 4.570e-03,\n",
       "        2.970e-04],\n",
       "       [1.335e-02, 5.610e-05, 4.030e-03, ..., 1.200e+02, 4.200e-03,\n",
       "        7.030e-04],\n",
       "       ...,\n",
       "       [6.290e-03, 6.700e-05, 3.600e-03, ..., 4.430e+02, 1.060e-02,\n",
       "        1.460e-04],\n",
       "       [3.880e-03, 4.110e-05, 2.000e-03, ..., 3.310e+02, 1.060e-02,\n",
       "        1.600e-04],\n",
       "       [8.550e-03, 7.950e-05, 4.150e-03, ..., 4.580e+02, 9.300e-03,\n",
       "        2.520e-03]])"
      ]
     },
     "execution_count": 59,
     "metadata": {},
     "output_type": "execute_result"
    }
   ],
   "source": [
    "testing_X = data_test.iloc[:, 1:24].values\n",
    "testing_X"
   ]
  },
  {
   "cell_type": "code",
   "execution_count": 60,
   "metadata": {},
   "outputs": [
    {
     "data": {
      "text/plain": [
       "array([[ 0.93813831,  0.74520764,  0.19310524, ..., -0.91182336,\n",
       "        -0.286079  ,  3.88702347],\n",
       "       [-1.03786733, -0.10987048, -0.05008211, ..., -0.84768418,\n",
       "        -1.03778556, -0.22050412],\n",
       "       [ 0.74561853,  0.09223889, -0.05952628, ..., -0.82067821,\n",
       "        -1.26029071,  0.81983038],\n",
       "       ...,\n",
       "       [-0.27632857,  0.33432594, -0.16105109, ...,  0.26968779,\n",
       "         2.58844688, -0.60742655],\n",
       "       [-0.6251802 , -0.24090843, -0.53881786, ..., -0.10839578,\n",
       "         2.58844688, -0.57155295],\n",
       "       [ 0.0508103 ,  0.61194871, -0.03119377, ...,  0.32032398,\n",
       "         1.80667206,  5.47571162]])"
      ]
     },
     "execution_count": 60,
     "metadata": {},
     "output_type": "execute_result"
    }
   ],
   "source": [
    "testing_X = standard_X.transform(testing_X)\n",
    "testing_X"
   ]
  },
  {
   "cell_type": "code",
   "execution_count": 61,
   "metadata": {},
   "outputs": [],
   "source": [
    "y_predict_test = model.predict(testing_X)"
   ]
  },
  {
   "cell_type": "code",
   "execution_count": 62,
   "metadata": {},
   "outputs": [],
   "source": [
    "y_proba = model.predict_proba(testing_X)"
   ]
  },
  {
   "cell_type": "code",
   "execution_count": 63,
   "metadata": {},
   "outputs": [
    {
     "data": {
      "text/plain": [
       "array([[0.71818256, 0.28181747],\n",
       "       [0.05715561, 0.9428444 ],\n",
       "       [0.2631635 , 0.7368365 ],\n",
       "       [0.67404866, 0.32595134],\n",
       "       [0.5343987 , 0.4656013 ],\n",
       "       [0.28495985, 0.71504015],\n",
       "       [0.19757563, 0.8024244 ],\n",
       "       [0.3224125 , 0.6775875 ],\n",
       "       [0.29715633, 0.70284367],\n",
       "       [0.11488813, 0.88511187],\n",
       "       [0.48762846, 0.51237154],\n",
       "       [0.65213084, 0.34786916],\n",
       "       [0.73543787, 0.26456216],\n",
       "       [0.60508716, 0.39491287],\n",
       "       [0.31668454, 0.68331546],\n",
       "       [0.8074318 , 0.19256821],\n",
       "       [0.2234205 , 0.7765795 ],\n",
       "       [0.10325426, 0.89674574],\n",
       "       [0.81109756, 0.18890244],\n",
       "       [0.23978758, 0.7602124 ],\n",
       "       [0.12624544, 0.87375456],\n",
       "       [0.07318163, 0.9268184 ],\n",
       "       [0.700977  , 0.29902297],\n",
       "       [0.56876403, 0.43123597],\n",
       "       [0.19382519, 0.8061748 ],\n",
       "       [0.29434788, 0.7056521 ],\n",
       "       [0.8638784 , 0.13612159],\n",
       "       [0.87392783, 0.12607218],\n",
       "       [0.7896353 , 0.21036473],\n",
       "       [0.6421343 , 0.3578657 ],\n",
       "       [0.34877217, 0.65122783],\n",
       "       [0.4859203 , 0.5140797 ],\n",
       "       [0.0527913 , 0.9472087 ],\n",
       "       [0.17241782, 0.8275822 ],\n",
       "       [0.13041592, 0.8695841 ],\n",
       "       [0.16594148, 0.8340585 ],\n",
       "       [0.15184814, 0.84815186],\n",
       "       [0.17223948, 0.8277605 ],\n",
       "       [0.28023475, 0.71976525],\n",
       "       [0.31274825, 0.68725175],\n",
       "       [0.24046475, 0.75953525],\n",
       "       [0.25401562, 0.7459844 ],\n",
       "       [0.22902471, 0.7709753 ],\n",
       "       [0.0929352 , 0.9070648 ],\n",
       "       [0.28499144, 0.71500856],\n",
       "       [0.24435508, 0.7556449 ],\n",
       "       [0.8224547 , 0.17754532],\n",
       "       [0.20294428, 0.7970557 ],\n",
       "       [0.5469681 , 0.45303193],\n",
       "       [0.5397806 , 0.46021935],\n",
       "       [0.5829851 , 0.4170149 ],\n",
       "       [0.6673784 , 0.33262157],\n",
       "       [0.26536053, 0.73463947],\n",
       "       [0.05319619, 0.9468038 ],\n",
       "       [0.18423063, 0.8157694 ],\n",
       "       [0.45079017, 0.54920983],\n",
       "       [0.43317997, 0.56682   ],\n",
       "       [0.1906206 , 0.8093794 ],\n",
       "       [0.64821213, 0.35178787],\n",
       "       [0.61216235, 0.38783765],\n",
       "       [0.83564913, 0.16435087],\n",
       "       [0.09080958, 0.9091904 ],\n",
       "       [0.7965361 , 0.2034639 ],\n",
       "       [0.4658532 , 0.5341468 ],\n",
       "       [0.86085486, 0.13914514],\n",
       "       [0.7786416 , 0.2213584 ],\n",
       "       [0.85345995, 0.14654006],\n",
       "       [0.68816185, 0.31183812],\n",
       "       [0.5492027 , 0.45079732],\n",
       "       [0.861987  , 0.13801304],\n",
       "       [0.58613914, 0.41386086],\n",
       "       [0.85194254, 0.14805743],\n",
       "       [0.6832895 , 0.31671044],\n",
       "       [0.46665233, 0.53334767],\n",
       "       [0.67584074, 0.32415926],\n",
       "       [0.15650743, 0.84349257],\n",
       "       [0.05482733, 0.94517267],\n",
       "       [0.34248418, 0.6575158 ],\n",
       "       [0.10303575, 0.89696425],\n",
       "       [0.82784116, 0.17215887],\n",
       "       [0.24504948, 0.7549505 ],\n",
       "       [0.65934265, 0.34065735],\n",
       "       [0.33675575, 0.66324425],\n",
       "       [0.28048944, 0.71951056],\n",
       "       [0.6977332 , 0.30226678],\n",
       "       [0.1354559 , 0.8645441 ],\n",
       "       [0.9037197 , 0.09628027],\n",
       "       [0.854787  , 0.145213  ],\n",
       "       [0.2720241 , 0.7279759 ],\n",
       "       [0.8922066 , 0.10779338],\n",
       "       [0.8392299 , 0.16077013],\n",
       "       [0.8607054 , 0.13929465],\n",
       "       [0.93774754, 0.06225246],\n",
       "       [0.17009777, 0.82990223],\n",
       "       [0.8915332 , 0.10846681],\n",
       "       [0.913008  , 0.08699203],\n",
       "       [0.4479242 , 0.5520758 ],\n",
       "       [0.8881476 , 0.11185238],\n",
       "       [0.85660607, 0.14339395]], dtype=float32)"
      ]
     },
     "execution_count": 63,
     "metadata": {},
     "output_type": "execute_result"
    }
   ],
   "source": [
    "y_proba"
   ]
  },
  {
   "cell_type": "code",
   "execution_count": 64,
   "metadata": {},
   "outputs": [
    {
     "data": {
      "text/plain": [
       "array([0, 1, 1, 0, 0, 1, 1, 1, 1, 1, 1, 0, 0, 0, 1, 0, 1, 1, 0, 1, 1, 1,\n",
       "       0, 0, 1, 1, 0, 0, 0, 0, 1, 1, 1, 1, 1, 1, 1, 1, 1, 1, 1, 1, 1, 1,\n",
       "       1, 1, 0, 1, 0, 0, 0, 0, 1, 1, 1, 1, 1, 1, 0, 0, 0, 1, 0, 1, 0, 0,\n",
       "       0, 0, 0, 0, 0, 0, 0, 1, 0, 1, 1, 1, 1, 0, 1, 0, 1, 1, 0, 1, 0, 0,\n",
       "       1, 0, 0, 0, 0, 1, 0, 0, 1, 0, 0], dtype=int64)"
      ]
     },
     "execution_count": 64,
     "metadata": {},
     "output_type": "execute_result"
    }
   ],
   "source": [
    "y_predict_test"
   ]
  },
  {
   "cell_type": "code",
   "execution_count": 65,
   "metadata": {},
   "outputs": [
    {
     "name": "stdout",
     "output_type": "stream",
     "text": [
      "53\n"
     ]
    }
   ],
   "source": [
    "total = 0\n",
    "for i in y_predict_test:\n",
    "    total = total + i\n",
    "    \n",
    "print(total)"
   ]
  },
  {
   "cell_type": "code",
   "execution_count": 66,
   "metadata": {},
   "outputs": [],
   "source": [
    "X_train, X_test, Y_train, Y_test = train_test_split(X, y, random_state=12, test_size = 0.2)"
   ]
  },
  {
   "cell_type": "code",
   "execution_count": 67,
   "metadata": {},
   "outputs": [],
   "source": [
    "min_max_scaler = preprocessing.MinMaxScaler()\n",
    "X_train = min_max_scaler.fit_transform(X_train)\n",
    "X_test = min_max_scaler.transform(X_test)"
   ]
  },
  {
   "cell_type": "code",
   "execution_count": 69,
   "metadata": {},
   "outputs": [
    {
     "data": {
      "text/plain": [
       "XGBClassifier(base_score=0.5, booster='gbtree', colsample_bylevel=1,\n",
       "              colsample_bynode=1, colsample_bytree=0.4, gamma=0,\n",
       "              learning_rate=0.25, max_delta_step=0, max_depth=8,\n",
       "              min_child_weight=1, missing=None, n_estimators=20, n_jobs=1,\n",
       "              nthread=None, objective='binary:logistic', random_state=0,\n",
       "              reg_alpha=0, reg_lambda=1, scale_pos_weight=1, seed=None,\n",
       "              silent=None, subsample=1, verbosity=1)"
      ]
     },
     "execution_count": 69,
     "metadata": {},
     "output_type": "execute_result"
    }
   ],
   "source": [
    "model = XGBClassifier(colsample_bytree = 0.4, learning_rate = 0.25, max_depth= 8, min_child_weight= 1, n_estimators = 20)\n",
    "model.fit(X_train, Y_train)"
   ]
  },
  {
   "cell_type": "code",
   "execution_count": 405,
   "metadata": {},
   "outputs": [
    {
     "ename": "ValueError",
     "evalue": "Found input variables with inconsistent numbers of samples: [24, 2]",
     "output_type": "error",
     "traceback": [
      "\u001b[1;31m---------------------------------------------------------------------------\u001b[0m",
      "\u001b[1;31mValueError\u001b[0m                                Traceback (most recent call last)",
      "\u001b[1;32m<ipython-input-405-1200b2e7d7f7>\u001b[0m in \u001b[0;36m<module>\u001b[1;34m\u001b[0m\n\u001b[0;32m      1\u001b[0m \u001b[1;32mfrom\u001b[0m \u001b[0msklearn\u001b[0m\u001b[1;33m.\u001b[0m\u001b[0mmetrics\u001b[0m \u001b[1;32mimport\u001b[0m \u001b[0mconfusion_matrix\u001b[0m\u001b[1;33m\u001b[0m\u001b[1;33m\u001b[0m\u001b[0m\n\u001b[1;32m----> 2\u001b[1;33m \u001b[0mcm\u001b[0m \u001b[1;33m=\u001b[0m \u001b[0mconfusion_matrix\u001b[0m\u001b[1;33m(\u001b[0m\u001b[0mY_test\u001b[0m\u001b[1;33m,\u001b[0m \u001b[0my_pred\u001b[0m\u001b[1;33m)\u001b[0m \u001b[1;31m# Calulate Confusion matrix for test set.\u001b[0m\u001b[1;33m\u001b[0m\u001b[1;33m\u001b[0m\u001b[0m\n\u001b[0m\u001b[0;32m      3\u001b[0m \u001b[0mprint\u001b[0m\u001b[1;33m(\u001b[0m\u001b[0mcm\u001b[0m\u001b[1;33m)\u001b[0m\u001b[1;33m\u001b[0m\u001b[1;33m\u001b[0m\u001b[0m\n",
      "\u001b[1;32mC:\\Anaconda\\lib\\site-packages\\sklearn\\metrics\\_classification.py\u001b[0m in \u001b[0;36mconfusion_matrix\u001b[1;34m(y_true, y_pred, labels, sample_weight, normalize)\u001b[0m\n\u001b[0;32m    266\u001b[0m \u001b[1;33m\u001b[0m\u001b[0m\n\u001b[0;32m    267\u001b[0m     \"\"\"\n\u001b[1;32m--> 268\u001b[1;33m     \u001b[0my_type\u001b[0m\u001b[1;33m,\u001b[0m \u001b[0my_true\u001b[0m\u001b[1;33m,\u001b[0m \u001b[0my_pred\u001b[0m \u001b[1;33m=\u001b[0m \u001b[0m_check_targets\u001b[0m\u001b[1;33m(\u001b[0m\u001b[0my_true\u001b[0m\u001b[1;33m,\u001b[0m \u001b[0my_pred\u001b[0m\u001b[1;33m)\u001b[0m\u001b[1;33m\u001b[0m\u001b[1;33m\u001b[0m\u001b[0m\n\u001b[0m\u001b[0;32m    269\u001b[0m     \u001b[1;32mif\u001b[0m \u001b[0my_type\u001b[0m \u001b[1;32mnot\u001b[0m \u001b[1;32min\u001b[0m \u001b[1;33m(\u001b[0m\u001b[1;34m\"binary\"\u001b[0m\u001b[1;33m,\u001b[0m \u001b[1;34m\"multiclass\"\u001b[0m\u001b[1;33m)\u001b[0m\u001b[1;33m:\u001b[0m\u001b[1;33m\u001b[0m\u001b[1;33m\u001b[0m\u001b[0m\n\u001b[0;32m    270\u001b[0m         \u001b[1;32mraise\u001b[0m \u001b[0mValueError\u001b[0m\u001b[1;33m(\u001b[0m\u001b[1;34m\"%s is not supported\"\u001b[0m \u001b[1;33m%\u001b[0m \u001b[0my_type\u001b[0m\u001b[1;33m)\u001b[0m\u001b[1;33m\u001b[0m\u001b[1;33m\u001b[0m\u001b[0m\n",
      "\u001b[1;32mC:\\Anaconda\\lib\\site-packages\\sklearn\\metrics\\_classification.py\u001b[0m in \u001b[0;36m_check_targets\u001b[1;34m(y_true, y_pred)\u001b[0m\n\u001b[0;32m     78\u001b[0m     \u001b[0my_pred\u001b[0m \u001b[1;33m:\u001b[0m \u001b[0marray\u001b[0m \u001b[1;32mor\u001b[0m \u001b[0mindicator\u001b[0m \u001b[0mmatrix\u001b[0m\u001b[1;33m\u001b[0m\u001b[1;33m\u001b[0m\u001b[0m\n\u001b[0;32m     79\u001b[0m     \"\"\"\n\u001b[1;32m---> 80\u001b[1;33m     \u001b[0mcheck_consistent_length\u001b[0m\u001b[1;33m(\u001b[0m\u001b[0my_true\u001b[0m\u001b[1;33m,\u001b[0m \u001b[0my_pred\u001b[0m\u001b[1;33m)\u001b[0m\u001b[1;33m\u001b[0m\u001b[1;33m\u001b[0m\u001b[0m\n\u001b[0m\u001b[0;32m     81\u001b[0m     \u001b[0mtype_true\u001b[0m \u001b[1;33m=\u001b[0m \u001b[0mtype_of_target\u001b[0m\u001b[1;33m(\u001b[0m\u001b[0my_true\u001b[0m\u001b[1;33m)\u001b[0m\u001b[1;33m\u001b[0m\u001b[1;33m\u001b[0m\u001b[0m\n\u001b[0;32m     82\u001b[0m     \u001b[0mtype_pred\u001b[0m \u001b[1;33m=\u001b[0m \u001b[0mtype_of_target\u001b[0m\u001b[1;33m(\u001b[0m\u001b[0my_pred\u001b[0m\u001b[1;33m)\u001b[0m\u001b[1;33m\u001b[0m\u001b[1;33m\u001b[0m\u001b[0m\n",
      "\u001b[1;32mC:\\Anaconda\\lib\\site-packages\\sklearn\\utils\\validation.py\u001b[0m in \u001b[0;36mcheck_consistent_length\u001b[1;34m(*arrays)\u001b[0m\n\u001b[0;32m    210\u001b[0m     \u001b[1;32mif\u001b[0m \u001b[0mlen\u001b[0m\u001b[1;33m(\u001b[0m\u001b[0muniques\u001b[0m\u001b[1;33m)\u001b[0m \u001b[1;33m>\u001b[0m \u001b[1;36m1\u001b[0m\u001b[1;33m:\u001b[0m\u001b[1;33m\u001b[0m\u001b[1;33m\u001b[0m\u001b[0m\n\u001b[0;32m    211\u001b[0m         raise ValueError(\"Found input variables with inconsistent numbers of\"\n\u001b[1;32m--> 212\u001b[1;33m                          \" samples: %r\" % [int(l) for l in lengths])\n\u001b[0m\u001b[0;32m    213\u001b[0m \u001b[1;33m\u001b[0m\u001b[0m\n\u001b[0;32m    214\u001b[0m \u001b[1;33m\u001b[0m\u001b[0m\n",
      "\u001b[1;31mValueError\u001b[0m: Found input variables with inconsistent numbers of samples: [24, 2]"
     ]
    }
   ],
   "source": [
    "from sklearn.metrics import confusion_matrix\n",
    "cm = confusion_matrix(Y_test, y_pred) # Calulate Confusion matrix for test set.\n",
    "print(cm)"
   ]
  },
  {
   "cell_type": "code",
   "execution_count": 70,
   "metadata": {},
   "outputs": [
    {
     "name": "stdout",
     "output_type": "stream",
     "text": [
      "Accuracy for training set -> 0.9083333333333333\n",
      "Accuracy for test set -> 0.5416666666666666\n"
     ]
    }
   ],
   "source": [
    "# Evaluate\n",
    "print(\"Accuracy for training set -> \", end = \"\")\n",
    "scale_X = min_max_scaler.transform(X)\n",
    "Y_hat = [round(yhat) for yhat in model.predict(scale_X)]\n",
    "print(accuracy_score(y, Y_hat)) # Full set accuracy\n",
    "Y_hat = [round(yhat) for yhat in model.predict(X_test)]\n",
    "print(\"Accuracy for test set -> \", end = \"\")\n",
    "print(accuracy_score(Y_test, Y_hat)) # Test set accuracy"
   ]
  },
  {
   "cell_type": "code",
   "execution_count": 71,
   "metadata": {},
   "outputs": [
    {
     "name": "stdout",
     "output_type": "stream",
     "text": [
      "Accuracy: 60.32 %\n",
      "Standard Deviation: 5.88 %\n"
     ]
    }
   ],
   "source": [
    "accuracies = cross_val_score(estimator = model, X = X_train, y = Y_train, cv = 5)\n",
    "print(\"Accuracy: {:.2f} %\".format(accuracies.mean()*100))\n",
    "print(\"Standard Deviation: {:.2f} %\".format(accuracies.std()*100))"
   ]
  },
  {
   "cell_type": "code",
   "execution_count": 72,
   "metadata": {},
   "outputs": [
    {
     "data": {
      "text/html": [
       "<div>\n",
       "<style scoped>\n",
       "    .dataframe tbody tr th:only-of-type {\n",
       "        vertical-align: middle;\n",
       "    }\n",
       "\n",
       "    .dataframe tbody tr th {\n",
       "        vertical-align: top;\n",
       "    }\n",
       "\n",
       "    .dataframe thead th {\n",
       "        text-align: right;\n",
       "    }\n",
       "</style>\n",
       "<table border=\"1\" class=\"dataframe\">\n",
       "  <thead>\n",
       "    <tr style=\"text-align: right;\">\n",
       "      <th></th>\n",
       "      <th>Subject ID</th>\n",
       "      <th>Jitter(local)</th>\n",
       "      <th>Jitter(local, absolute)</th>\n",
       "      <th>Jitter (rap)</th>\n",
       "      <th>Jitter (ppq5)</th>\n",
       "      <th>Jitter (ddp)</th>\n",
       "      <th>Shimmer (local)</th>\n",
       "      <th>Shimmer (local, db)</th>\n",
       "      <th>Shimmer (apq3)</th>\n",
       "      <th>Shimmer (apq5)</th>\n",
       "      <th>...</th>\n",
       "      <th>Minimum pitch</th>\n",
       "      <th>Maximum pitch</th>\n",
       "      <th>Number of pulses</th>\n",
       "      <th>Number of periods</th>\n",
       "      <th>Mean period</th>\n",
       "      <th>Standard deviation of period</th>\n",
       "      <th>Fraction of locally unvoiced frames</th>\n",
       "      <th>Number of voice breaks</th>\n",
       "      <th>Degree of voice breaks</th>\n",
       "      <th>status</th>\n",
       "    </tr>\n",
       "  </thead>\n",
       "  <tbody>\n",
       "    <tr>\n",
       "      <th>0</th>\n",
       "      <td>16</td>\n",
       "      <td>0.014680</td>\n",
       "      <td>0.000086</td>\n",
       "      <td>0.00510</td>\n",
       "      <td>0.00615</td>\n",
       "      <td>0.01530</td>\n",
       "      <td>0.08510</td>\n",
       "      <td>0.0814</td>\n",
       "      <td>0.03719</td>\n",
       "      <td>0.05185</td>\n",
       "      <td>...</td>\n",
       "      <td>82.429</td>\n",
       "      <td>244.408</td>\n",
       "      <td>94</td>\n",
       "      <td>93</td>\n",
       "      <td>0.00582</td>\n",
       "      <td>0.001900</td>\n",
       "      <td>0.00000</td>\n",
       "      <td>0</td>\n",
       "      <td>0.0</td>\n",
       "      <td>1</td>\n",
       "    </tr>\n",
       "    <tr>\n",
       "      <th>1</th>\n",
       "      <td>16</td>\n",
       "      <td>0.001029</td>\n",
       "      <td>0.000047</td>\n",
       "      <td>0.00407</td>\n",
       "      <td>0.00574</td>\n",
       "      <td>0.01220</td>\n",
       "      <td>0.04188</td>\n",
       "      <td>0.5570</td>\n",
       "      <td>0.01337</td>\n",
       "      <td>0.02081</td>\n",
       "      <td>...</td>\n",
       "      <td>187.378</td>\n",
       "      <td>242.159</td>\n",
       "      <td>113</td>\n",
       "      <td>112</td>\n",
       "      <td>0.00457</td>\n",
       "      <td>0.000297</td>\n",
       "      <td>0.00641</td>\n",
       "      <td>0</td>\n",
       "      <td>0.0</td>\n",
       "      <td>1</td>\n",
       "    </tr>\n",
       "    <tr>\n",
       "      <th>2</th>\n",
       "      <td>16</td>\n",
       "      <td>0.013350</td>\n",
       "      <td>0.000056</td>\n",
       "      <td>0.00403</td>\n",
       "      <td>0.00663</td>\n",
       "      <td>0.01210</td>\n",
       "      <td>0.05257</td>\n",
       "      <td>0.7430</td>\n",
       "      <td>0.01663</td>\n",
       "      <td>0.02859</td>\n",
       "      <td>...</td>\n",
       "      <td>108.624</td>\n",
       "      <td>355.665</td>\n",
       "      <td>122</td>\n",
       "      <td>120</td>\n",
       "      <td>0.00420</td>\n",
       "      <td>0.000703</td>\n",
       "      <td>0.02500</td>\n",
       "      <td>0</td>\n",
       "      <td>0.0</td>\n",
       "      <td>1</td>\n",
       "    </tr>\n",
       "    <tr>\n",
       "      <th>3</th>\n",
       "      <td>16</td>\n",
       "      <td>0.021640</td>\n",
       "      <td>0.000113</td>\n",
       "      <td>0.01130</td>\n",
       "      <td>0.01200</td>\n",
       "      <td>0.03389</td>\n",
       "      <td>0.06250</td>\n",
       "      <td>0.0781</td>\n",
       "      <td>0.01745</td>\n",
       "      <td>0.02950</td>\n",
       "      <td>...</td>\n",
       "      <td>184.991</td>\n",
       "      <td>239.213</td>\n",
       "      <td>69</td>\n",
       "      <td>68</td>\n",
       "      <td>0.00524</td>\n",
       "      <td>0.000254</td>\n",
       "      <td>0.07759</td>\n",
       "      <td>0</td>\n",
       "      <td>0.0</td>\n",
       "      <td>1</td>\n",
       "    </tr>\n",
       "    <tr>\n",
       "      <th>4</th>\n",
       "      <td>16</td>\n",
       "      <td>0.020900</td>\n",
       "      <td>0.000095</td>\n",
       "      <td>0.00989</td>\n",
       "      <td>0.01107</td>\n",
       "      <td>0.02966</td>\n",
       "      <td>0.06128</td>\n",
       "      <td>0.8380</td>\n",
       "      <td>0.02133</td>\n",
       "      <td>0.03216</td>\n",
       "      <td>...</td>\n",
       "      <td>178.835</td>\n",
       "      <td>273.413</td>\n",
       "      <td>87</td>\n",
       "      <td>86</td>\n",
       "      <td>0.00456</td>\n",
       "      <td>0.000433</td>\n",
       "      <td>0.01639</td>\n",
       "      <td>0</td>\n",
       "      <td>0.0</td>\n",
       "      <td>1</td>\n",
       "    </tr>\n",
       "  </tbody>\n",
       "</table>\n",
       "<p>5 rows × 28 columns</p>\n",
       "</div>"
      ],
      "text/plain": [
       "   Subject ID  Jitter(local)  Jitter(local, absolute)  Jitter (rap)  \\\n",
       "0          16       0.014680                 0.000086       0.00510   \n",
       "1          16       0.001029                 0.000047       0.00407   \n",
       "2          16       0.013350                 0.000056       0.00403   \n",
       "3          16       0.021640                 0.000113       0.01130   \n",
       "4          16       0.020900                 0.000095       0.00989   \n",
       "\n",
       "   Jitter (ppq5)  Jitter (ddp)  Shimmer (local)  Shimmer (local, db)  \\\n",
       "0        0.00615       0.01530          0.08510               0.0814   \n",
       "1        0.00574       0.01220          0.04188               0.5570   \n",
       "2        0.00663       0.01210          0.05257               0.7430   \n",
       "3        0.01200       0.03389          0.06250               0.0781   \n",
       "4        0.01107       0.02966          0.06128               0.8380   \n",
       "\n",
       "   Shimmer (apq3)  Shimmer (apq5)  ...  Minimum pitch  Maximum pitch  \\\n",
       "0         0.03719         0.05185  ...         82.429        244.408   \n",
       "1         0.01337         0.02081  ...        187.378        242.159   \n",
       "2         0.01663         0.02859  ...        108.624        355.665   \n",
       "3         0.01745         0.02950  ...        184.991        239.213   \n",
       "4         0.02133         0.03216  ...        178.835        273.413   \n",
       "\n",
       "   Number of pulses  Number of periods  Mean period  \\\n",
       "0                94                 93      0.00582   \n",
       "1               113                112      0.00457   \n",
       "2               122                120      0.00420   \n",
       "3                69                 68      0.00524   \n",
       "4                87                 86      0.00456   \n",
       "\n",
       "   Standard deviation of period  Fraction of locally unvoiced frames  \\\n",
       "0                      0.001900                              0.00000   \n",
       "1                      0.000297                              0.00641   \n",
       "2                      0.000703                              0.02500   \n",
       "3                      0.000254                              0.07759   \n",
       "4                      0.000433                              0.01639   \n",
       "\n",
       "   Number of voice breaks  Degree of voice breaks  status  \n",
       "0                       0                     0.0       1  \n",
       "1                       0                     0.0       1  \n",
       "2                       0                     0.0       1  \n",
       "3                       0                     0.0       1  \n",
       "4                       0                     0.0       1  \n",
       "\n",
       "[5 rows x 28 columns]"
      ]
     },
     "execution_count": 72,
     "metadata": {},
     "output_type": "execute_result"
    }
   ],
   "source": [
    "data_test = pd.read_csv(r'../Datasets/Sri Lankan Dataset - Finalised.csv', header = 0)\n",
    "data_test.head()"
   ]
  },
  {
   "cell_type": "code",
   "execution_count": 73,
   "metadata": {},
   "outputs": [
    {
     "data": {
      "text/plain": [
       "(99, 28)"
      ]
     },
     "execution_count": 73,
     "metadata": {},
     "output_type": "execute_result"
    }
   ],
   "source": [
    "data_test.shape"
   ]
  },
  {
   "cell_type": "code",
   "execution_count": 74,
   "metadata": {},
   "outputs": [
    {
     "data": {
      "text/plain": [
       "array([[1.468e-02, 8.550e-05, 5.100e-03, ..., 9.300e+01, 5.820e-03,\n",
       "        1.900e-03],\n",
       "       [1.029e-03, 4.700e-05, 4.070e-03, ..., 1.120e+02, 4.570e-03,\n",
       "        2.970e-04],\n",
       "       [1.335e-02, 5.610e-05, 4.030e-03, ..., 1.200e+02, 4.200e-03,\n",
       "        7.030e-04],\n",
       "       ...,\n",
       "       [6.290e-03, 6.700e-05, 3.600e-03, ..., 4.430e+02, 1.060e-02,\n",
       "        1.460e-04],\n",
       "       [3.880e-03, 4.110e-05, 2.000e-03, ..., 3.310e+02, 1.060e-02,\n",
       "        1.600e-04],\n",
       "       [8.550e-03, 7.950e-05, 4.150e-03, ..., 4.580e+02, 9.300e-03,\n",
       "        2.520e-03]])"
      ]
     },
     "execution_count": 74,
     "metadata": {},
     "output_type": "execute_result"
    }
   ],
   "source": [
    "testing_X = data_test.iloc[:, 1:24].values\n",
    "testing_X"
   ]
  },
  {
   "cell_type": "code",
   "execution_count": 75,
   "metadata": {},
   "outputs": [
    {
     "data": {
      "text/plain": [
       "array([[ 0.30951804,  0.25434041,  0.16519174, ...,  0.02581996,\n",
       "         0.38231429,  0.81985161],\n",
       "       [-0.0210947 ,  0.13039755,  0.12721239, ...,  0.03907886,\n",
       "         0.21563227,  0.1074021 ],\n",
       "       [ 0.27730685,  0.15969314,  0.12573746, ...,  0.04466155,\n",
       "         0.16629439,  0.28784782],\n",
       "       ...,\n",
       "       [ 0.10632114,  0.19478345,  0.10988201, ...,  0.27006281,\n",
       "         1.01970635,  0.04029051],\n",
       "       [ 0.0479535 ,  0.11140371,  0.05088496, ...,  0.19190509,\n",
       "         1.01970635,  0.04651278],\n",
       "       [ 0.16105595,  0.23502464,  0.13016224, ...,  0.28053036,\n",
       "         0.84635704,  1.09540912]])"
      ]
     },
     "execution_count": 75,
     "metadata": {},
     "output_type": "execute_result"
    }
   ],
   "source": [
    "testing_X = min_max_scaler.transform(testing_X)\n",
    "testing_X"
   ]
  },
  {
   "cell_type": "code",
   "execution_count": 76,
   "metadata": {},
   "outputs": [],
   "source": [
    "y_predict_test = model.predict(testing_X)"
   ]
  },
  {
   "cell_type": "code",
   "execution_count": 77,
   "metadata": {},
   "outputs": [
    {
     "name": "stdout",
     "output_type": "stream",
     "text": [
      "39\n"
     ]
    }
   ],
   "source": [
    "total = 0\n",
    "for i in y_predict_test:\n",
    "    total = total + i\n",
    "    \n",
    "print(total)"
   ]
  }
 ],
 "metadata": {
  "kernelspec": {
   "display_name": "Python 3",
   "language": "python",
   "name": "python3"
  },
  "language_info": {
   "codemirror_mode": {
    "name": "ipython",
    "version": 3
   },
   "file_extension": ".py",
   "mimetype": "text/x-python",
   "name": "python",
   "nbconvert_exporter": "python",
   "pygments_lexer": "ipython3",
   "version": "3.7.4"
  }
 },
 "nbformat": 4,
 "nbformat_minor": 4
}
