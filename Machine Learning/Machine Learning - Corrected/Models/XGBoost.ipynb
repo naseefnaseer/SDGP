{
 "cells": [
  {
   "cell_type": "code",
   "execution_count": 1,
   "metadata": {},
   "outputs": [],
   "source": [
    "import numpy as np\n",
    "import pandas as pd\n",
    "from sklearn import preprocessing\n",
    "from sklearn.preprocessing import StandardScaler\n",
    "from sklearn.model_selection import train_test_split\n",
    "from sklearn.metrics import accuracy_score\n",
    "from sklearn.linear_model import LogisticRegression\n",
    "from sklearn.metrics import confusion_matrix\n",
    "from sklearn.model_selection import cross_val_score\n",
    "from xgboost import XGBClassifier"
   ]
  },
  {
   "cell_type": "code",
   "execution_count": 84,
   "metadata": {},
   "outputs": [
    {
     "data": {
      "text/html": [
       "<div>\n",
       "<style scoped>\n",
       "    .dataframe tbody tr th:only-of-type {\n",
       "        vertical-align: middle;\n",
       "    }\n",
       "\n",
       "    .dataframe tbody tr th {\n",
       "        vertical-align: top;\n",
       "    }\n",
       "\n",
       "    .dataframe thead th {\n",
       "        text-align: right;\n",
       "    }\n",
       "</style>\n",
       "<table border=\"1\" class=\"dataframe\">\n",
       "  <thead>\n",
       "    <tr style=\"text-align: right;\">\n",
       "      <th></th>\n",
       "      <th>Subject Id</th>\n",
       "      <th>Jitter(local)</th>\n",
       "      <th>Jitter(local, absolute)</th>\n",
       "      <th>Jitter (rap)</th>\n",
       "      <th>Jitter (ppq5)</th>\n",
       "      <th>Jitter (ddp)</th>\n",
       "      <th>Shimmer (local)</th>\n",
       "      <th>Shimmer (local, db)</th>\n",
       "      <th>Shimmer (apq3)</th>\n",
       "      <th>Shimmer (apq5)</th>\n",
       "      <th>...</th>\n",
       "      <th>Maximum pitch</th>\n",
       "      <th>Number of pulses</th>\n",
       "      <th>Number of periods</th>\n",
       "      <th>Mean period</th>\n",
       "      <th>Standard deviation of period</th>\n",
       "      <th>Fraction of locally unvoiced frames</th>\n",
       "      <th>Number of voice breaks</th>\n",
       "      <th>Degree of voice breaks</th>\n",
       "      <th>UPDRS</th>\n",
       "      <th>status</th>\n",
       "    </tr>\n",
       "  </thead>\n",
       "  <tbody>\n",
       "    <tr>\n",
       "      <th>0</th>\n",
       "      <td>1</td>\n",
       "      <td>0.01488</td>\n",
       "      <td>0.000090</td>\n",
       "      <td>0.00900</td>\n",
       "      <td>0.00794</td>\n",
       "      <td>0.02699</td>\n",
       "      <td>0.08334</td>\n",
       "      <td>0.779</td>\n",
       "      <td>0.04517</td>\n",
       "      <td>0.04609</td>\n",
       "      <td>...</td>\n",
       "      <td>187.576</td>\n",
       "      <td>160</td>\n",
       "      <td>159</td>\n",
       "      <td>0.006065</td>\n",
       "      <td>0.000416</td>\n",
       "      <td>0.00000</td>\n",
       "      <td>0</td>\n",
       "      <td>0.00000</td>\n",
       "      <td>23</td>\n",
       "      <td>1</td>\n",
       "    </tr>\n",
       "    <tr>\n",
       "      <th>1</th>\n",
       "      <td>1</td>\n",
       "      <td>0.00728</td>\n",
       "      <td>0.000038</td>\n",
       "      <td>0.00353</td>\n",
       "      <td>0.00376</td>\n",
       "      <td>0.01059</td>\n",
       "      <td>0.05864</td>\n",
       "      <td>0.642</td>\n",
       "      <td>0.02058</td>\n",
       "      <td>0.03180</td>\n",
       "      <td>...</td>\n",
       "      <td>234.505</td>\n",
       "      <td>170</td>\n",
       "      <td>169</td>\n",
       "      <td>0.005181</td>\n",
       "      <td>0.000403</td>\n",
       "      <td>0.02247</td>\n",
       "      <td>0</td>\n",
       "      <td>0.00000</td>\n",
       "      <td>23</td>\n",
       "      <td>1</td>\n",
       "    </tr>\n",
       "    <tr>\n",
       "      <th>2</th>\n",
       "      <td>1</td>\n",
       "      <td>0.00472</td>\n",
       "      <td>0.000031</td>\n",
       "      <td>0.00224</td>\n",
       "      <td>0.00245</td>\n",
       "      <td>0.00673</td>\n",
       "      <td>0.06404</td>\n",
       "      <td>0.629</td>\n",
       "      <td>0.03434</td>\n",
       "      <td>0.03765</td>\n",
       "      <td>...</td>\n",
       "      <td>190.019</td>\n",
       "      <td>675</td>\n",
       "      <td>673</td>\n",
       "      <td>0.006649</td>\n",
       "      <td>0.000132</td>\n",
       "      <td>0.26180</td>\n",
       "      <td>1</td>\n",
       "      <td>0.26325</td>\n",
       "      <td>23</td>\n",
       "      <td>1</td>\n",
       "    </tr>\n",
       "    <tr>\n",
       "      <th>3</th>\n",
       "      <td>2</td>\n",
       "      <td>0.00427</td>\n",
       "      <td>0.000034</td>\n",
       "      <td>0.00243</td>\n",
       "      <td>0.00249</td>\n",
       "      <td>0.00728</td>\n",
       "      <td>0.07428</td>\n",
       "      <td>0.694</td>\n",
       "      <td>0.04205</td>\n",
       "      <td>0.04311</td>\n",
       "      <td>...</td>\n",
       "      <td>129.205</td>\n",
       "      <td>345</td>\n",
       "      <td>344</td>\n",
       "      <td>0.008073</td>\n",
       "      <td>0.000143</td>\n",
       "      <td>0.00000</td>\n",
       "      <td>0</td>\n",
       "      <td>0.00000</td>\n",
       "      <td>8</td>\n",
       "      <td>1</td>\n",
       "    </tr>\n",
       "    <tr>\n",
       "      <th>4</th>\n",
       "      <td>2</td>\n",
       "      <td>0.00844</td>\n",
       "      <td>0.000069</td>\n",
       "      <td>0.00509</td>\n",
       "      <td>0.00489</td>\n",
       "      <td>0.01527</td>\n",
       "      <td>0.14053</td>\n",
       "      <td>1.239</td>\n",
       "      <td>0.06131</td>\n",
       "      <td>0.07015</td>\n",
       "      <td>...</td>\n",
       "      <td>126.788</td>\n",
       "      <td>585</td>\n",
       "      <td>582</td>\n",
       "      <td>0.008174</td>\n",
       "      <td>0.000123</td>\n",
       "      <td>0.00209</td>\n",
       "      <td>2</td>\n",
       "      <td>0.00768</td>\n",
       "      <td>8</td>\n",
       "      <td>1</td>\n",
       "    </tr>\n",
       "  </tbody>\n",
       "</table>\n",
       "<p>5 rows × 29 columns</p>\n",
       "</div>"
      ],
      "text/plain": [
       "   Subject Id  Jitter(local)  Jitter(local, absolute)  Jitter (rap)  \\\n",
       "0           1        0.01488                 0.000090       0.00900   \n",
       "1           1        0.00728                 0.000038       0.00353   \n",
       "2           1        0.00472                 0.000031       0.00224   \n",
       "3           2        0.00427                 0.000034       0.00243   \n",
       "4           2        0.00844                 0.000069       0.00509   \n",
       "\n",
       "   Jitter (ppq5)  Jitter (ddp)  Shimmer (local)  Shimmer (local, db)  \\\n",
       "0        0.00794       0.02699          0.08334                0.779   \n",
       "1        0.00376       0.01059          0.05864                0.642   \n",
       "2        0.00245       0.00673          0.06404                0.629   \n",
       "3        0.00249       0.00728          0.07428                0.694   \n",
       "4        0.00489       0.01527          0.14053                1.239   \n",
       "\n",
       "   Shimmer (apq3)  Shimmer (apq5)  ...  Maximum pitch  Number of pulses  \\\n",
       "0         0.04517         0.04609  ...        187.576               160   \n",
       "1         0.02058         0.03180  ...        234.505               170   \n",
       "2         0.03434         0.03765  ...        190.019               675   \n",
       "3         0.04205         0.04311  ...        129.205               345   \n",
       "4         0.06131         0.07015  ...        126.788               585   \n",
       "\n",
       "   Number of periods  Mean period  Standard deviation of period  \\\n",
       "0                159     0.006065                      0.000416   \n",
       "1                169     0.005181                      0.000403   \n",
       "2                673     0.006649                      0.000132   \n",
       "3                344     0.008073                      0.000143   \n",
       "4                582     0.008174                      0.000123   \n",
       "\n",
       "   Fraction of locally unvoiced frames  Number of voice breaks  \\\n",
       "0                              0.00000                       0   \n",
       "1                              0.02247                       0   \n",
       "2                              0.26180                       1   \n",
       "3                              0.00000                       0   \n",
       "4                              0.00209                       2   \n",
       "\n",
       "   Degree of voice breaks  UPDRS  status  \n",
       "0                 0.00000     23       1  \n",
       "1                 0.00000     23       1  \n",
       "2                 0.26325     23       1  \n",
       "3                 0.00000      8       1  \n",
       "4                 0.00768      8       1  \n",
       "\n",
       "[5 rows x 29 columns]"
      ]
     },
     "execution_count": 84,
     "metadata": {},
     "output_type": "execute_result"
    }
   ],
   "source": [
    "data = pd.read_csv(r'..\\Datasets\\Parkinsons Processed Training - Only Vowels - Sri Lankan.csv', header = 0)\n",
    "data.head()"
   ]
  },
  {
   "cell_type": "code",
   "execution_count": 85,
   "metadata": {},
   "outputs": [
    {
     "data": {
      "text/plain": [
       "array([[1.488000e-02, 9.021300e-05, 9.000000e-03, ..., 1.590000e+02,\n",
       "        6.064725e-03, 4.162760e-04],\n",
       "       [7.280000e-03, 3.769800e-05, 3.530000e-03, ..., 1.690000e+02,\n",
       "        5.181253e-03, 4.034940e-04],\n",
       "       [4.720000e-03, 3.137300e-05, 2.240000e-03, ..., 6.730000e+02,\n",
       "        6.649119e-03, 1.321080e-04],\n",
       "       ...,\n",
       "       [4.710000e-03, 3.383700e-05, 1.860000e-03, ..., 1.750000e+02,\n",
       "        7.178780e-03, 1.298030e-04],\n",
       "       [4.319000e-02, 3.171220e-04, 2.774000e-02, ..., 2.560000e+02,\n",
       "        7.342534e-03, 3.119150e-04],\n",
       "       [1.543000e-02, 1.033570e-04, 1.004000e-02, ..., 4.250000e+02,\n",
       "        6.700038e-03, 1.082910e-04]])"
      ]
     },
     "execution_count": 85,
     "metadata": {},
     "output_type": "execute_result"
    }
   ],
   "source": [
    "X = data.iloc[:, 1:24].values\n",
    "X"
   ]
  },
  {
   "cell_type": "code",
   "execution_count": 86,
   "metadata": {},
   "outputs": [
    {
     "data": {
      "text/plain": [
       "array([1, 1, 1, 1, 1, 1, 1, 1, 1, 1, 1, 1, 1, 1, 1, 1, 1, 1, 1, 1, 1, 1,\n",
       "       1, 1, 1, 1, 1, 1, 1, 1, 1, 1, 1, 1, 1, 1, 1, 1, 1, 1, 1, 1, 1, 1,\n",
       "       1, 1, 1, 1, 1, 1, 1, 1, 1, 1, 1, 1, 1, 1, 1, 1, 0, 0, 0, 0, 0, 0,\n",
       "       0, 0, 0, 0, 0, 0, 0, 0, 0, 0, 0, 0, 0, 0, 0, 0, 0, 0, 0, 0, 0, 0,\n",
       "       0, 0, 0, 0, 0, 0, 0, 0, 0, 0, 0, 0, 0, 0, 0, 0, 0, 0, 0, 0, 0, 0,\n",
       "       0, 0, 0, 0, 0, 0, 0, 0, 0, 0], dtype=int64)"
      ]
     },
     "execution_count": 86,
     "metadata": {},
     "output_type": "execute_result"
    }
   ],
   "source": [
    "y = data.iloc[:, -1].values\n",
    "y"
   ]
  },
  {
   "cell_type": "code",
   "execution_count": 489,
   "metadata": {},
   "outputs": [],
   "source": [
    "X_train, X_test, Y_train, Y_test = train_test_split(X, y, random_state=12, test_size = 0.01)"
   ]
  },
  {
   "cell_type": "code",
   "execution_count": 490,
   "metadata": {},
   "outputs": [],
   "source": [
    "standard_X = StandardScaler()\n",
    "X_train = standard_X.fit_transform(X_train)\n",
    "X_test = standard_X.transform(X_test)"
   ]
  },
  {
   "cell_type": "code",
   "execution_count": 491,
   "metadata": {},
   "outputs": [
    {
     "data": {
      "text/plain": [
       "XGBClassifier(base_score=0.5, booster='gbtree', colsample_bylevel=1,\n",
       "              colsample_bynode=1, colsample_bytree=1, gamma=0,\n",
       "              learning_rate=0.015, max_delta_step=0, max_depth=2,\n",
       "              min_child_weight=1, missing=None, n_estimators=600, n_jobs=1,\n",
       "              nthread=None, objective='binary:logistic', random_state=0,\n",
       "              reg_alpha=0, reg_lambda=1, scale_pos_weight=1, seed=None,\n",
       "              silent=None, subsample=1, verbosity=1)"
      ]
     },
     "execution_count": 491,
     "metadata": {},
     "output_type": "execute_result"
    }
   ],
   "source": [
    "model = XGBClassifier(max_depth = 2, learning_rate=0.015, n_estimators = 600)\n",
    "model.fit(X_train, Y_train)"
   ]
  },
  {
   "cell_type": "code",
   "execution_count": 492,
   "metadata": {},
   "outputs": [],
   "source": [
    "y_pred = model.predict(X_test)"
   ]
  },
  {
   "cell_type": "code",
   "execution_count": 493,
   "metadata": {},
   "outputs": [
    {
     "name": "stdout",
     "output_type": "stream",
     "text": [
      "[[0 1]\n",
      " [0 1]]\n"
     ]
    }
   ],
   "source": [
    "from sklearn.metrics import confusion_matrix\n",
    "cm = confusion_matrix(Y_test, y_pred) # Calulate Confusion matrix for test set.\n",
    "print(cm)"
   ]
  },
  {
   "cell_type": "code",
   "execution_count": 494,
   "metadata": {},
   "outputs": [
    {
     "name": "stdout",
     "output_type": "stream",
     "text": [
      "Accuracy for training set -> 0.975\n",
      "Accuracy for test set -> 0.5\n"
     ]
    }
   ],
   "source": [
    "# Evaluate\n",
    "print(\"Accuracy for training set -> \", end = \"\")\n",
    "scale_X = standard_X.transform(X)\n",
    "Y_hat = [round(yhat) for yhat in model.predict(scale_X)]\n",
    "print(accuracy_score(y, Y_hat)) # Full set accuracy\n",
    "Y_hat = [round(yhat) for yhat in model.predict(X_test)]\n",
    "print(\"Accuracy for test set -> \", end = \"\")\n",
    "print(accuracy_score(Y_test, Y_hat)) # Test set accuracy"
   ]
  },
  {
   "cell_type": "code",
   "execution_count": 495,
   "metadata": {},
   "outputs": [
    {
     "name": "stdout",
     "output_type": "stream",
     "text": [
      "Accuracy: 67.73 %\n",
      "Standard Deviation: 16.16 %\n"
     ]
    }
   ],
   "source": [
    "accuracies = cross_val_score(estimator = model, X = X_train, y = Y_train, cv = 10)\n",
    "print(\"Accuracy: {:.2f} %\".format(accuracies.mean()*100))\n",
    "print(\"Standard Deviation: {:.2f} %\".format(accuracies.std()*100))"
   ]
  },
  {
   "cell_type": "code",
   "execution_count": 496,
   "metadata": {},
   "outputs": [
    {
     "data": {
      "text/html": [
       "<div>\n",
       "<style scoped>\n",
       "    .dataframe tbody tr th:only-of-type {\n",
       "        vertical-align: middle;\n",
       "    }\n",
       "\n",
       "    .dataframe tbody tr th {\n",
       "        vertical-align: top;\n",
       "    }\n",
       "\n",
       "    .dataframe thead th {\n",
       "        text-align: right;\n",
       "    }\n",
       "</style>\n",
       "<table border=\"1\" class=\"dataframe\">\n",
       "  <thead>\n",
       "    <tr style=\"text-align: right;\">\n",
       "      <th></th>\n",
       "      <th>Subject ID</th>\n",
       "      <th>Jitter(local)</th>\n",
       "      <th>Jitter(local, absolute)</th>\n",
       "      <th>Jitter (rap)</th>\n",
       "      <th>Jitter (ppq5)</th>\n",
       "      <th>Jitter (ddp)</th>\n",
       "      <th>Shimmer (local)</th>\n",
       "      <th>Shimmer (local, db)</th>\n",
       "      <th>Shimmer (apq3)</th>\n",
       "      <th>Shimmer (apq5)</th>\n",
       "      <th>...</th>\n",
       "      <th>Minimum pitch</th>\n",
       "      <th>Maximum pitch</th>\n",
       "      <th>Number of pulses</th>\n",
       "      <th>Number of periods</th>\n",
       "      <th>Mean period</th>\n",
       "      <th>Standard deviation of period</th>\n",
       "      <th>Fraction of locally unvoiced frames</th>\n",
       "      <th>Number of voice breaks</th>\n",
       "      <th>Degree of voice breaks</th>\n",
       "      <th>status</th>\n",
       "    </tr>\n",
       "  </thead>\n",
       "  <tbody>\n",
       "    <tr>\n",
       "      <th>0</th>\n",
       "      <td>16</td>\n",
       "      <td>0.014680</td>\n",
       "      <td>0.000086</td>\n",
       "      <td>0.00510</td>\n",
       "      <td>0.00615</td>\n",
       "      <td>0.01530</td>\n",
       "      <td>0.08510</td>\n",
       "      <td>0.0814</td>\n",
       "      <td>0.03719</td>\n",
       "      <td>0.05185</td>\n",
       "      <td>...</td>\n",
       "      <td>82.429</td>\n",
       "      <td>244.408</td>\n",
       "      <td>94</td>\n",
       "      <td>93</td>\n",
       "      <td>0.00582</td>\n",
       "      <td>0.001900</td>\n",
       "      <td>0.00000</td>\n",
       "      <td>0</td>\n",
       "      <td>0.0</td>\n",
       "      <td>1</td>\n",
       "    </tr>\n",
       "    <tr>\n",
       "      <th>1</th>\n",
       "      <td>16</td>\n",
       "      <td>0.001029</td>\n",
       "      <td>0.000047</td>\n",
       "      <td>0.00407</td>\n",
       "      <td>0.00574</td>\n",
       "      <td>0.01220</td>\n",
       "      <td>0.04188</td>\n",
       "      <td>0.5570</td>\n",
       "      <td>0.01337</td>\n",
       "      <td>0.02081</td>\n",
       "      <td>...</td>\n",
       "      <td>187.378</td>\n",
       "      <td>242.159</td>\n",
       "      <td>113</td>\n",
       "      <td>112</td>\n",
       "      <td>0.00457</td>\n",
       "      <td>0.000297</td>\n",
       "      <td>0.00641</td>\n",
       "      <td>0</td>\n",
       "      <td>0.0</td>\n",
       "      <td>1</td>\n",
       "    </tr>\n",
       "    <tr>\n",
       "      <th>2</th>\n",
       "      <td>16</td>\n",
       "      <td>0.013350</td>\n",
       "      <td>0.000056</td>\n",
       "      <td>0.00403</td>\n",
       "      <td>0.00663</td>\n",
       "      <td>0.01210</td>\n",
       "      <td>0.05257</td>\n",
       "      <td>0.7430</td>\n",
       "      <td>0.01663</td>\n",
       "      <td>0.02859</td>\n",
       "      <td>...</td>\n",
       "      <td>108.624</td>\n",
       "      <td>355.665</td>\n",
       "      <td>122</td>\n",
       "      <td>120</td>\n",
       "      <td>0.00420</td>\n",
       "      <td>0.000703</td>\n",
       "      <td>0.02500</td>\n",
       "      <td>0</td>\n",
       "      <td>0.0</td>\n",
       "      <td>1</td>\n",
       "    </tr>\n",
       "    <tr>\n",
       "      <th>3</th>\n",
       "      <td>16</td>\n",
       "      <td>0.021640</td>\n",
       "      <td>0.000113</td>\n",
       "      <td>0.01130</td>\n",
       "      <td>0.01200</td>\n",
       "      <td>0.03389</td>\n",
       "      <td>0.06250</td>\n",
       "      <td>0.0781</td>\n",
       "      <td>0.01745</td>\n",
       "      <td>0.02950</td>\n",
       "      <td>...</td>\n",
       "      <td>184.991</td>\n",
       "      <td>239.213</td>\n",
       "      <td>69</td>\n",
       "      <td>68</td>\n",
       "      <td>0.00524</td>\n",
       "      <td>0.000254</td>\n",
       "      <td>0.07759</td>\n",
       "      <td>0</td>\n",
       "      <td>0.0</td>\n",
       "      <td>1</td>\n",
       "    </tr>\n",
       "    <tr>\n",
       "      <th>4</th>\n",
       "      <td>16</td>\n",
       "      <td>0.020900</td>\n",
       "      <td>0.000095</td>\n",
       "      <td>0.00989</td>\n",
       "      <td>0.01107</td>\n",
       "      <td>0.02966</td>\n",
       "      <td>0.06128</td>\n",
       "      <td>0.8380</td>\n",
       "      <td>0.02133</td>\n",
       "      <td>0.03216</td>\n",
       "      <td>...</td>\n",
       "      <td>178.835</td>\n",
       "      <td>273.413</td>\n",
       "      <td>87</td>\n",
       "      <td>86</td>\n",
       "      <td>0.00456</td>\n",
       "      <td>0.000433</td>\n",
       "      <td>0.01639</td>\n",
       "      <td>0</td>\n",
       "      <td>0.0</td>\n",
       "      <td>1</td>\n",
       "    </tr>\n",
       "  </tbody>\n",
       "</table>\n",
       "<p>5 rows × 28 columns</p>\n",
       "</div>"
      ],
      "text/plain": [
       "   Subject ID  Jitter(local)  Jitter(local, absolute)  Jitter (rap)  \\\n",
       "0          16       0.014680                 0.000086       0.00510   \n",
       "1          16       0.001029                 0.000047       0.00407   \n",
       "2          16       0.013350                 0.000056       0.00403   \n",
       "3          16       0.021640                 0.000113       0.01130   \n",
       "4          16       0.020900                 0.000095       0.00989   \n",
       "\n",
       "   Jitter (ppq5)  Jitter (ddp)  Shimmer (local)  Shimmer (local, db)  \\\n",
       "0        0.00615       0.01530          0.08510               0.0814   \n",
       "1        0.00574       0.01220          0.04188               0.5570   \n",
       "2        0.00663       0.01210          0.05257               0.7430   \n",
       "3        0.01200       0.03389          0.06250               0.0781   \n",
       "4        0.01107       0.02966          0.06128               0.8380   \n",
       "\n",
       "   Shimmer (apq3)  Shimmer (apq5)  ...  Minimum pitch  Maximum pitch  \\\n",
       "0         0.03719         0.05185  ...         82.429        244.408   \n",
       "1         0.01337         0.02081  ...        187.378        242.159   \n",
       "2         0.01663         0.02859  ...        108.624        355.665   \n",
       "3         0.01745         0.02950  ...        184.991        239.213   \n",
       "4         0.02133         0.03216  ...        178.835        273.413   \n",
       "\n",
       "   Number of pulses  Number of periods  Mean period  \\\n",
       "0                94                 93      0.00582   \n",
       "1               113                112      0.00457   \n",
       "2               122                120      0.00420   \n",
       "3                69                 68      0.00524   \n",
       "4                87                 86      0.00456   \n",
       "\n",
       "   Standard deviation of period  Fraction of locally unvoiced frames  \\\n",
       "0                      0.001900                              0.00000   \n",
       "1                      0.000297                              0.00641   \n",
       "2                      0.000703                              0.02500   \n",
       "3                      0.000254                              0.07759   \n",
       "4                      0.000433                              0.01639   \n",
       "\n",
       "   Number of voice breaks  Degree of voice breaks  status  \n",
       "0                       0                     0.0       1  \n",
       "1                       0                     0.0       1  \n",
       "2                       0                     0.0       1  \n",
       "3                       0                     0.0       1  \n",
       "4                       0                     0.0       1  \n",
       "\n",
       "[5 rows x 28 columns]"
      ]
     },
     "execution_count": 496,
     "metadata": {},
     "output_type": "execute_result"
    }
   ],
   "source": [
    "data_test = pd.read_csv(r'../Datasets/Sri Lankan Dataset - Finalised.csv', header = 0)\n",
    "data_test.head()"
   ]
  },
  {
   "cell_type": "code",
   "execution_count": 497,
   "metadata": {},
   "outputs": [
    {
     "data": {
      "text/plain": [
       "(99, 28)"
      ]
     },
     "execution_count": 497,
     "metadata": {},
     "output_type": "execute_result"
    }
   ],
   "source": [
    "data_test.shape"
   ]
  },
  {
   "cell_type": "code",
   "execution_count": 498,
   "metadata": {},
   "outputs": [
    {
     "data": {
      "text/plain": [
       "array([[1.468e-02, 8.550e-05, 5.100e-03, ..., 9.300e+01, 5.820e-03,\n",
       "        1.900e-03],\n",
       "       [1.029e-03, 4.700e-05, 4.070e-03, ..., 1.120e+02, 4.570e-03,\n",
       "        2.970e-04],\n",
       "       [1.335e-02, 5.610e-05, 4.030e-03, ..., 1.200e+02, 4.200e-03,\n",
       "        7.030e-04],\n",
       "       ...,\n",
       "       [6.290e-03, 6.700e-05, 3.600e-03, ..., 4.430e+02, 1.060e-02,\n",
       "        1.460e-04],\n",
       "       [3.880e-03, 4.110e-05, 2.000e-03, ..., 3.310e+02, 1.060e-02,\n",
       "        1.600e-04],\n",
       "       [8.550e-03, 7.950e-05, 4.150e-03, ..., 4.580e+02, 9.300e-03,\n",
       "        2.520e-03]])"
      ]
     },
     "execution_count": 498,
     "metadata": {},
     "output_type": "execute_result"
    }
   ],
   "source": [
    "testing_X = data_test.iloc[:, 1:24].values\n",
    "testing_X"
   ]
  },
  {
   "cell_type": "code",
   "execution_count": 499,
   "metadata": {},
   "outputs": [
    {
     "data": {
      "text/plain": [
       "array([[ 0.93813831,  0.74520764,  0.19310524, ..., -0.91182336,\n",
       "        -0.286079  ,  3.88702347],\n",
       "       [-1.03786733, -0.10987048, -0.05008211, ..., -0.84768418,\n",
       "        -1.03778556, -0.22050412],\n",
       "       [ 0.74561853,  0.09223889, -0.05952628, ..., -0.82067821,\n",
       "        -1.26029071,  0.81983038],\n",
       "       ...,\n",
       "       [-0.27632857,  0.33432594, -0.16105109, ...,  0.26968779,\n",
       "         2.58844688, -0.60742655],\n",
       "       [-0.6251802 , -0.24090843, -0.53881786, ..., -0.10839578,\n",
       "         2.58844688, -0.57155295],\n",
       "       [ 0.0508103 ,  0.61194871, -0.03119377, ...,  0.32032398,\n",
       "         1.80667206,  5.47571162]])"
      ]
     },
     "execution_count": 499,
     "metadata": {},
     "output_type": "execute_result"
    }
   ],
   "source": [
    "testing_X = standard_X.transform(testing_X)\n",
    "testing_X"
   ]
  },
  {
   "cell_type": "code",
   "execution_count": 500,
   "metadata": {},
   "outputs": [],
   "source": [
    "y_predict_test = model.predict(testing_X)"
   ]
  },
  {
   "cell_type": "code",
   "execution_count": 501,
   "metadata": {},
   "outputs": [],
   "source": [
    "y_proba = model.predict_proba(testing_X)"
   ]
  },
  {
   "cell_type": "code",
   "execution_count": 502,
   "metadata": {},
   "outputs": [
    {
     "data": {
      "text/plain": [
       "array([[0.7613904 , 0.23860963],\n",
       "       [0.08631456, 0.91368544],\n",
       "       [0.39086682, 0.6091332 ],\n",
       "       [0.63283074, 0.36716923],\n",
       "       [0.69000125, 0.30999872],\n",
       "       [0.15789187, 0.84210813],\n",
       "       [0.17861533, 0.82138467],\n",
       "       [0.4722042 , 0.5277958 ],\n",
       "       [0.20415545, 0.79584455],\n",
       "       [0.10896623, 0.89103377],\n",
       "       [0.30854577, 0.69145423],\n",
       "       [0.2813993 , 0.7186007 ],\n",
       "       [0.79124105, 0.20875892],\n",
       "       [0.51305485, 0.48694515],\n",
       "       [0.61426204, 0.38573796],\n",
       "       [0.604401  , 0.39559904],\n",
       "       [0.18079793, 0.81920207],\n",
       "       [0.24793279, 0.7520672 ],\n",
       "       [0.8525643 , 0.14743571],\n",
       "       [0.18277246, 0.81722754],\n",
       "       [0.19009781, 0.8099022 ],\n",
       "       [0.1659388 , 0.8340612 ],\n",
       "       [0.76591516, 0.23408483],\n",
       "       [0.6222067 , 0.37779328],\n",
       "       [0.15444613, 0.8455539 ],\n",
       "       [0.46323955, 0.53676045],\n",
       "       [0.8584827 , 0.1415173 ],\n",
       "       [0.83992356, 0.16007642],\n",
       "       [0.79421854, 0.20578147],\n",
       "       [0.7706531 , 0.2293469 ],\n",
       "       [0.31546956, 0.68453044],\n",
       "       [0.35582966, 0.64417034],\n",
       "       [0.11760503, 0.88239497],\n",
       "       [0.26970118, 0.7302988 ],\n",
       "       [0.27219552, 0.7278045 ],\n",
       "       [0.07567835, 0.92432165],\n",
       "       [0.31919676, 0.68080324],\n",
       "       [0.1329698 , 0.8670302 ],\n",
       "       [0.55933857, 0.44066146],\n",
       "       [0.30449593, 0.69550407],\n",
       "       [0.5566324 , 0.44336763],\n",
       "       [0.7085162 , 0.29148382],\n",
       "       [0.28361017, 0.71638983],\n",
       "       [0.09090704, 0.90909296],\n",
       "       [0.7218673 , 0.27813268],\n",
       "       [0.37633818, 0.6236618 ],\n",
       "       [0.88899505, 0.11100498],\n",
       "       [0.59575963, 0.40424037],\n",
       "       [0.6067313 , 0.39326873],\n",
       "       [0.38972545, 0.61027455],\n",
       "       [0.7958853 , 0.20411468],\n",
       "       [0.6585465 , 0.3414535 ],\n",
       "       [0.45633507, 0.54366493],\n",
       "       [0.15084875, 0.84915125],\n",
       "       [0.34347886, 0.65652114],\n",
       "       [0.38479906, 0.61520094],\n",
       "       [0.38133222, 0.6186678 ],\n",
       "       [0.57421637, 0.4257836 ],\n",
       "       [0.46280462, 0.5371954 ],\n",
       "       [0.4390316 , 0.5609684 ],\n",
       "       [0.59388983, 0.4061102 ],\n",
       "       [0.15538388, 0.8446161 ],\n",
       "       [0.82812774, 0.17187226],\n",
       "       [0.5121668 , 0.4878332 ],\n",
       "       [0.9171522 , 0.08284778],\n",
       "       [0.7920937 , 0.2079063 ],\n",
       "       [0.42343062, 0.5765694 ],\n",
       "       [0.6411443 , 0.35885572],\n",
       "       [0.6913272 , 0.30867276],\n",
       "       [0.48766702, 0.512333  ],\n",
       "       [0.6175736 , 0.38242635],\n",
       "       [0.8158561 , 0.18414393],\n",
       "       [0.5723727 , 0.42762733],\n",
       "       [0.59758925, 0.40241075],\n",
       "       [0.36653763, 0.63346237],\n",
       "       [0.36560827, 0.6343917 ],\n",
       "       [0.26219803, 0.73780197],\n",
       "       [0.33610594, 0.66389406],\n",
       "       [0.31833267, 0.6816673 ],\n",
       "       [0.5701472 , 0.42985278],\n",
       "       [0.6747491 , 0.32525092],\n",
       "       [0.6514021 , 0.3485979 ],\n",
       "       [0.21364862, 0.7863514 ],\n",
       "       [0.58612597, 0.41387406],\n",
       "       [0.76159626, 0.23840375],\n",
       "       [0.1364919 , 0.8635081 ],\n",
       "       [0.8754455 , 0.12455453],\n",
       "       [0.6528647 , 0.34713534],\n",
       "       [0.38831228, 0.6116877 ],\n",
       "       [0.8116691 , 0.18833086],\n",
       "       [0.81281966, 0.18718036],\n",
       "       [0.760136  , 0.23986396],\n",
       "       [0.8412979 , 0.15870209],\n",
       "       [0.48466837, 0.5153316 ],\n",
       "       [0.8719999 , 0.1280001 ],\n",
       "       [0.79442203, 0.20557794],\n",
       "       [0.4756195 , 0.5243805 ],\n",
       "       [0.8184539 , 0.18154612],\n",
       "       [0.81612784, 0.18387216]], dtype=float32)"
      ]
     },
     "execution_count": 502,
     "metadata": {},
     "output_type": "execute_result"
    }
   ],
   "source": [
    "y_proba"
   ]
  },
  {
   "cell_type": "code",
   "execution_count": 503,
   "metadata": {},
   "outputs": [
    {
     "data": {
      "text/plain": [
       "array([0, 1, 1, 0, 0, 1, 1, 1, 1, 1, 1, 1, 0, 0, 0, 0, 1, 1, 0, 1, 1, 1,\n",
       "       0, 0, 1, 1, 0, 0, 0, 0, 1, 1, 1, 1, 1, 1, 1, 1, 0, 1, 0, 0, 1, 1,\n",
       "       0, 1, 0, 0, 0, 1, 0, 0, 1, 1, 1, 1, 1, 0, 1, 1, 0, 1, 0, 0, 0, 0,\n",
       "       1, 0, 0, 1, 0, 0, 0, 0, 1, 1, 1, 1, 1, 0, 0, 0, 1, 0, 0, 1, 0, 0,\n",
       "       1, 0, 0, 0, 0, 1, 0, 0, 1, 0, 0], dtype=int64)"
      ]
     },
     "execution_count": 503,
     "metadata": {},
     "output_type": "execute_result"
    }
   ],
   "source": [
    "y_predict_test"
   ]
  },
  {
   "cell_type": "code",
   "execution_count": 504,
   "metadata": {},
   "outputs": [
    {
     "name": "stdout",
     "output_type": "stream",
     "text": [
      "49\n"
     ]
    }
   ],
   "source": [
    "total = 0\n",
    "for i in y_predict_test:\n",
    "    total = total + i\n",
    "    \n",
    "print(total)"
   ]
  },
  {
   "cell_type": "code",
   "execution_count": 402,
   "metadata": {},
   "outputs": [],
   "source": [
    "X_train, X_test, Y_train, Y_test = train_test_split(X, y, random_state=12, test_size = 0.2)"
   ]
  },
  {
   "cell_type": "code",
   "execution_count": 403,
   "metadata": {},
   "outputs": [],
   "source": [
    "min_max_scaler = preprocessing.MinMaxScaler()\n",
    "X_train = min_max_scaler.fit_transform(X_train)\n",
    "X_test = min_max_scaler.transform(X_test)"
   ]
  },
  {
   "cell_type": "code",
   "execution_count": 404,
   "metadata": {},
   "outputs": [
    {
     "data": {
      "text/plain": [
       "XGBClassifier(base_score=0.5, booster='gbtree', colsample_bylevel=1,\n",
       "              colsample_bynode=1, colsample_bytree=1, gamma=0,\n",
       "              learning_rate=0.21, max_delta_step=0, max_depth=3,\n",
       "              min_child_weight=1, missing=None, n_estimators=600, n_jobs=1,\n",
       "              nthread=None, objective='binary:logistic', random_state=0,\n",
       "              reg_alpha=0, reg_lambda=1, scale_pos_weight=1, seed=None,\n",
       "              silent=None, subsample=1, verbosity=1)"
      ]
     },
     "execution_count": 404,
     "metadata": {},
     "output_type": "execute_result"
    }
   ],
   "source": [
    "model = XGBClassifier(max_depth = 3, learning_rate=0.21, n_estimators = 600)\n",
    "model.fit(X_train, Y_train)"
   ]
  },
  {
   "cell_type": "code",
   "execution_count": 405,
   "metadata": {},
   "outputs": [
    {
     "ename": "ValueError",
     "evalue": "Found input variables with inconsistent numbers of samples: [24, 2]",
     "output_type": "error",
     "traceback": [
      "\u001b[1;31m---------------------------------------------------------------------------\u001b[0m",
      "\u001b[1;31mValueError\u001b[0m                                Traceback (most recent call last)",
      "\u001b[1;32m<ipython-input-405-1200b2e7d7f7>\u001b[0m in \u001b[0;36m<module>\u001b[1;34m\u001b[0m\n\u001b[0;32m      1\u001b[0m \u001b[1;32mfrom\u001b[0m \u001b[0msklearn\u001b[0m\u001b[1;33m.\u001b[0m\u001b[0mmetrics\u001b[0m \u001b[1;32mimport\u001b[0m \u001b[0mconfusion_matrix\u001b[0m\u001b[1;33m\u001b[0m\u001b[1;33m\u001b[0m\u001b[0m\n\u001b[1;32m----> 2\u001b[1;33m \u001b[0mcm\u001b[0m \u001b[1;33m=\u001b[0m \u001b[0mconfusion_matrix\u001b[0m\u001b[1;33m(\u001b[0m\u001b[0mY_test\u001b[0m\u001b[1;33m,\u001b[0m \u001b[0my_pred\u001b[0m\u001b[1;33m)\u001b[0m \u001b[1;31m# Calulate Confusion matrix for test set.\u001b[0m\u001b[1;33m\u001b[0m\u001b[1;33m\u001b[0m\u001b[0m\n\u001b[0m\u001b[0;32m      3\u001b[0m \u001b[0mprint\u001b[0m\u001b[1;33m(\u001b[0m\u001b[0mcm\u001b[0m\u001b[1;33m)\u001b[0m\u001b[1;33m\u001b[0m\u001b[1;33m\u001b[0m\u001b[0m\n",
      "\u001b[1;32mC:\\Anaconda\\lib\\site-packages\\sklearn\\metrics\\_classification.py\u001b[0m in \u001b[0;36mconfusion_matrix\u001b[1;34m(y_true, y_pred, labels, sample_weight, normalize)\u001b[0m\n\u001b[0;32m    266\u001b[0m \u001b[1;33m\u001b[0m\u001b[0m\n\u001b[0;32m    267\u001b[0m     \"\"\"\n\u001b[1;32m--> 268\u001b[1;33m     \u001b[0my_type\u001b[0m\u001b[1;33m,\u001b[0m \u001b[0my_true\u001b[0m\u001b[1;33m,\u001b[0m \u001b[0my_pred\u001b[0m \u001b[1;33m=\u001b[0m \u001b[0m_check_targets\u001b[0m\u001b[1;33m(\u001b[0m\u001b[0my_true\u001b[0m\u001b[1;33m,\u001b[0m \u001b[0my_pred\u001b[0m\u001b[1;33m)\u001b[0m\u001b[1;33m\u001b[0m\u001b[1;33m\u001b[0m\u001b[0m\n\u001b[0m\u001b[0;32m    269\u001b[0m     \u001b[1;32mif\u001b[0m \u001b[0my_type\u001b[0m \u001b[1;32mnot\u001b[0m \u001b[1;32min\u001b[0m \u001b[1;33m(\u001b[0m\u001b[1;34m\"binary\"\u001b[0m\u001b[1;33m,\u001b[0m \u001b[1;34m\"multiclass\"\u001b[0m\u001b[1;33m)\u001b[0m\u001b[1;33m:\u001b[0m\u001b[1;33m\u001b[0m\u001b[1;33m\u001b[0m\u001b[0m\n\u001b[0;32m    270\u001b[0m         \u001b[1;32mraise\u001b[0m \u001b[0mValueError\u001b[0m\u001b[1;33m(\u001b[0m\u001b[1;34m\"%s is not supported\"\u001b[0m \u001b[1;33m%\u001b[0m \u001b[0my_type\u001b[0m\u001b[1;33m)\u001b[0m\u001b[1;33m\u001b[0m\u001b[1;33m\u001b[0m\u001b[0m\n",
      "\u001b[1;32mC:\\Anaconda\\lib\\site-packages\\sklearn\\metrics\\_classification.py\u001b[0m in \u001b[0;36m_check_targets\u001b[1;34m(y_true, y_pred)\u001b[0m\n\u001b[0;32m     78\u001b[0m     \u001b[0my_pred\u001b[0m \u001b[1;33m:\u001b[0m \u001b[0marray\u001b[0m \u001b[1;32mor\u001b[0m \u001b[0mindicator\u001b[0m \u001b[0mmatrix\u001b[0m\u001b[1;33m\u001b[0m\u001b[1;33m\u001b[0m\u001b[0m\n\u001b[0;32m     79\u001b[0m     \"\"\"\n\u001b[1;32m---> 80\u001b[1;33m     \u001b[0mcheck_consistent_length\u001b[0m\u001b[1;33m(\u001b[0m\u001b[0my_true\u001b[0m\u001b[1;33m,\u001b[0m \u001b[0my_pred\u001b[0m\u001b[1;33m)\u001b[0m\u001b[1;33m\u001b[0m\u001b[1;33m\u001b[0m\u001b[0m\n\u001b[0m\u001b[0;32m     81\u001b[0m     \u001b[0mtype_true\u001b[0m \u001b[1;33m=\u001b[0m \u001b[0mtype_of_target\u001b[0m\u001b[1;33m(\u001b[0m\u001b[0my_true\u001b[0m\u001b[1;33m)\u001b[0m\u001b[1;33m\u001b[0m\u001b[1;33m\u001b[0m\u001b[0m\n\u001b[0;32m     82\u001b[0m     \u001b[0mtype_pred\u001b[0m \u001b[1;33m=\u001b[0m \u001b[0mtype_of_target\u001b[0m\u001b[1;33m(\u001b[0m\u001b[0my_pred\u001b[0m\u001b[1;33m)\u001b[0m\u001b[1;33m\u001b[0m\u001b[1;33m\u001b[0m\u001b[0m\n",
      "\u001b[1;32mC:\\Anaconda\\lib\\site-packages\\sklearn\\utils\\validation.py\u001b[0m in \u001b[0;36mcheck_consistent_length\u001b[1;34m(*arrays)\u001b[0m\n\u001b[0;32m    210\u001b[0m     \u001b[1;32mif\u001b[0m \u001b[0mlen\u001b[0m\u001b[1;33m(\u001b[0m\u001b[0muniques\u001b[0m\u001b[1;33m)\u001b[0m \u001b[1;33m>\u001b[0m \u001b[1;36m1\u001b[0m\u001b[1;33m:\u001b[0m\u001b[1;33m\u001b[0m\u001b[1;33m\u001b[0m\u001b[0m\n\u001b[0;32m    211\u001b[0m         raise ValueError(\"Found input variables with inconsistent numbers of\"\n\u001b[1;32m--> 212\u001b[1;33m                          \" samples: %r\" % [int(l) for l in lengths])\n\u001b[0m\u001b[0;32m    213\u001b[0m \u001b[1;33m\u001b[0m\u001b[0m\n\u001b[0;32m    214\u001b[0m \u001b[1;33m\u001b[0m\u001b[0m\n",
      "\u001b[1;31mValueError\u001b[0m: Found input variables with inconsistent numbers of samples: [24, 2]"
     ]
    }
   ],
   "source": [
    "from sklearn.metrics import confusion_matrix\n",
    "cm = confusion_matrix(Y_test, y_pred) # Calulate Confusion matrix for test set.\n",
    "print(cm)"
   ]
  },
  {
   "cell_type": "code",
   "execution_count": 406,
   "metadata": {},
   "outputs": [
    {
     "name": "stdout",
     "output_type": "stream",
     "text": [
      "Accuracy for training set -> 0.9083333333333333\n",
      "Accuracy for test set -> 0.5416666666666666\n"
     ]
    }
   ],
   "source": [
    "# Evaluate\n",
    "print(\"Accuracy for training set -> \", end = \"\")\n",
    "scale_X = min_max_scaler.transform(X)\n",
    "Y_hat = [round(yhat) for yhat in model.predict(scale_X)]\n",
    "print(accuracy_score(y, Y_hat)) # Full set accuracy\n",
    "Y_hat = [round(yhat) for yhat in model.predict(X_test)]\n",
    "print(\"Accuracy for test set -> \", end = \"\")\n",
    "print(accuracy_score(Y_test, Y_hat)) # Test set accuracy"
   ]
  },
  {
   "cell_type": "code",
   "execution_count": 407,
   "metadata": {},
   "outputs": [
    {
     "name": "stdout",
     "output_type": "stream",
     "text": [
      "Accuracy: 62.56 %\n",
      "Standard Deviation: 7.97 %\n"
     ]
    }
   ],
   "source": [
    "accuracies = cross_val_score(estimator = model, X = X_train, y = Y_train, cv = 10)\n",
    "print(\"Accuracy: {:.2f} %\".format(accuracies.mean()*100))\n",
    "print(\"Standard Deviation: {:.2f} %\".format(accuracies.std()*100))"
   ]
  },
  {
   "cell_type": "code",
   "execution_count": 408,
   "metadata": {},
   "outputs": [
    {
     "data": {
      "text/html": [
       "<div>\n",
       "<style scoped>\n",
       "    .dataframe tbody tr th:only-of-type {\n",
       "        vertical-align: middle;\n",
       "    }\n",
       "\n",
       "    .dataframe tbody tr th {\n",
       "        vertical-align: top;\n",
       "    }\n",
       "\n",
       "    .dataframe thead th {\n",
       "        text-align: right;\n",
       "    }\n",
       "</style>\n",
       "<table border=\"1\" class=\"dataframe\">\n",
       "  <thead>\n",
       "    <tr style=\"text-align: right;\">\n",
       "      <th></th>\n",
       "      <th>Subject ID</th>\n",
       "      <th>Jitter(local)</th>\n",
       "      <th>Jitter(local, absolute)</th>\n",
       "      <th>Jitter (rap)</th>\n",
       "      <th>Jitter (ppq5)</th>\n",
       "      <th>Jitter (ddp)</th>\n",
       "      <th>Shimmer (local)</th>\n",
       "      <th>Shimmer (local, db)</th>\n",
       "      <th>Shimmer (apq3)</th>\n",
       "      <th>Shimmer (apq5)</th>\n",
       "      <th>...</th>\n",
       "      <th>Minimum pitch</th>\n",
       "      <th>Maximum pitch</th>\n",
       "      <th>Number of pulses</th>\n",
       "      <th>Number of periods</th>\n",
       "      <th>Mean period</th>\n",
       "      <th>Standard deviation of period</th>\n",
       "      <th>Fraction of locally unvoiced frames</th>\n",
       "      <th>Number of voice breaks</th>\n",
       "      <th>Degree of voice breaks</th>\n",
       "      <th>status</th>\n",
       "    </tr>\n",
       "  </thead>\n",
       "  <tbody>\n",
       "    <tr>\n",
       "      <th>0</th>\n",
       "      <td>16</td>\n",
       "      <td>0.014680</td>\n",
       "      <td>0.000086</td>\n",
       "      <td>0.00510</td>\n",
       "      <td>0.00615</td>\n",
       "      <td>0.01530</td>\n",
       "      <td>0.08510</td>\n",
       "      <td>0.0814</td>\n",
       "      <td>0.03719</td>\n",
       "      <td>0.05185</td>\n",
       "      <td>...</td>\n",
       "      <td>82.429</td>\n",
       "      <td>244.408</td>\n",
       "      <td>94</td>\n",
       "      <td>93</td>\n",
       "      <td>0.00582</td>\n",
       "      <td>0.001900</td>\n",
       "      <td>0.00000</td>\n",
       "      <td>0</td>\n",
       "      <td>0.0</td>\n",
       "      <td>1</td>\n",
       "    </tr>\n",
       "    <tr>\n",
       "      <th>1</th>\n",
       "      <td>16</td>\n",
       "      <td>0.001029</td>\n",
       "      <td>0.000047</td>\n",
       "      <td>0.00407</td>\n",
       "      <td>0.00574</td>\n",
       "      <td>0.01220</td>\n",
       "      <td>0.04188</td>\n",
       "      <td>0.5570</td>\n",
       "      <td>0.01337</td>\n",
       "      <td>0.02081</td>\n",
       "      <td>...</td>\n",
       "      <td>187.378</td>\n",
       "      <td>242.159</td>\n",
       "      <td>113</td>\n",
       "      <td>112</td>\n",
       "      <td>0.00457</td>\n",
       "      <td>0.000297</td>\n",
       "      <td>0.00641</td>\n",
       "      <td>0</td>\n",
       "      <td>0.0</td>\n",
       "      <td>1</td>\n",
       "    </tr>\n",
       "    <tr>\n",
       "      <th>2</th>\n",
       "      <td>16</td>\n",
       "      <td>0.013350</td>\n",
       "      <td>0.000056</td>\n",
       "      <td>0.00403</td>\n",
       "      <td>0.00663</td>\n",
       "      <td>0.01210</td>\n",
       "      <td>0.05257</td>\n",
       "      <td>0.7430</td>\n",
       "      <td>0.01663</td>\n",
       "      <td>0.02859</td>\n",
       "      <td>...</td>\n",
       "      <td>108.624</td>\n",
       "      <td>355.665</td>\n",
       "      <td>122</td>\n",
       "      <td>120</td>\n",
       "      <td>0.00420</td>\n",
       "      <td>0.000703</td>\n",
       "      <td>0.02500</td>\n",
       "      <td>0</td>\n",
       "      <td>0.0</td>\n",
       "      <td>1</td>\n",
       "    </tr>\n",
       "    <tr>\n",
       "      <th>3</th>\n",
       "      <td>16</td>\n",
       "      <td>0.021640</td>\n",
       "      <td>0.000113</td>\n",
       "      <td>0.01130</td>\n",
       "      <td>0.01200</td>\n",
       "      <td>0.03389</td>\n",
       "      <td>0.06250</td>\n",
       "      <td>0.0781</td>\n",
       "      <td>0.01745</td>\n",
       "      <td>0.02950</td>\n",
       "      <td>...</td>\n",
       "      <td>184.991</td>\n",
       "      <td>239.213</td>\n",
       "      <td>69</td>\n",
       "      <td>68</td>\n",
       "      <td>0.00524</td>\n",
       "      <td>0.000254</td>\n",
       "      <td>0.07759</td>\n",
       "      <td>0</td>\n",
       "      <td>0.0</td>\n",
       "      <td>1</td>\n",
       "    </tr>\n",
       "    <tr>\n",
       "      <th>4</th>\n",
       "      <td>16</td>\n",
       "      <td>0.020900</td>\n",
       "      <td>0.000095</td>\n",
       "      <td>0.00989</td>\n",
       "      <td>0.01107</td>\n",
       "      <td>0.02966</td>\n",
       "      <td>0.06128</td>\n",
       "      <td>0.8380</td>\n",
       "      <td>0.02133</td>\n",
       "      <td>0.03216</td>\n",
       "      <td>...</td>\n",
       "      <td>178.835</td>\n",
       "      <td>273.413</td>\n",
       "      <td>87</td>\n",
       "      <td>86</td>\n",
       "      <td>0.00456</td>\n",
       "      <td>0.000433</td>\n",
       "      <td>0.01639</td>\n",
       "      <td>0</td>\n",
       "      <td>0.0</td>\n",
       "      <td>1</td>\n",
       "    </tr>\n",
       "  </tbody>\n",
       "</table>\n",
       "<p>5 rows × 28 columns</p>\n",
       "</div>"
      ],
      "text/plain": [
       "   Subject ID  Jitter(local)  Jitter(local, absolute)  Jitter (rap)  \\\n",
       "0          16       0.014680                 0.000086       0.00510   \n",
       "1          16       0.001029                 0.000047       0.00407   \n",
       "2          16       0.013350                 0.000056       0.00403   \n",
       "3          16       0.021640                 0.000113       0.01130   \n",
       "4          16       0.020900                 0.000095       0.00989   \n",
       "\n",
       "   Jitter (ppq5)  Jitter (ddp)  Shimmer (local)  Shimmer (local, db)  \\\n",
       "0        0.00615       0.01530          0.08510               0.0814   \n",
       "1        0.00574       0.01220          0.04188               0.5570   \n",
       "2        0.00663       0.01210          0.05257               0.7430   \n",
       "3        0.01200       0.03389          0.06250               0.0781   \n",
       "4        0.01107       0.02966          0.06128               0.8380   \n",
       "\n",
       "   Shimmer (apq3)  Shimmer (apq5)  ...  Minimum pitch  Maximum pitch  \\\n",
       "0         0.03719         0.05185  ...         82.429        244.408   \n",
       "1         0.01337         0.02081  ...        187.378        242.159   \n",
       "2         0.01663         0.02859  ...        108.624        355.665   \n",
       "3         0.01745         0.02950  ...        184.991        239.213   \n",
       "4         0.02133         0.03216  ...        178.835        273.413   \n",
       "\n",
       "   Number of pulses  Number of periods  Mean period  \\\n",
       "0                94                 93      0.00582   \n",
       "1               113                112      0.00457   \n",
       "2               122                120      0.00420   \n",
       "3                69                 68      0.00524   \n",
       "4                87                 86      0.00456   \n",
       "\n",
       "   Standard deviation of period  Fraction of locally unvoiced frames  \\\n",
       "0                      0.001900                              0.00000   \n",
       "1                      0.000297                              0.00641   \n",
       "2                      0.000703                              0.02500   \n",
       "3                      0.000254                              0.07759   \n",
       "4                      0.000433                              0.01639   \n",
       "\n",
       "   Number of voice breaks  Degree of voice breaks  status  \n",
       "0                       0                     0.0       1  \n",
       "1                       0                     0.0       1  \n",
       "2                       0                     0.0       1  \n",
       "3                       0                     0.0       1  \n",
       "4                       0                     0.0       1  \n",
       "\n",
       "[5 rows x 28 columns]"
      ]
     },
     "execution_count": 408,
     "metadata": {},
     "output_type": "execute_result"
    }
   ],
   "source": [
    "data_test = pd.read_csv(r'../Datasets/Sri Lankan Dataset - Finalised.csv', header = 0)\n",
    "data_test.head()"
   ]
  },
  {
   "cell_type": "code",
   "execution_count": 409,
   "metadata": {},
   "outputs": [
    {
     "data": {
      "text/plain": [
       "(99, 28)"
      ]
     },
     "execution_count": 409,
     "metadata": {},
     "output_type": "execute_result"
    }
   ],
   "source": [
    "data_test.shape"
   ]
  },
  {
   "cell_type": "code",
   "execution_count": 410,
   "metadata": {},
   "outputs": [
    {
     "data": {
      "text/plain": [
       "array([[1.468e-02, 8.550e-05, 5.100e-03, ..., 9.300e+01, 5.820e-03,\n",
       "        1.900e-03],\n",
       "       [1.029e-03, 4.700e-05, 4.070e-03, ..., 1.120e+02, 4.570e-03,\n",
       "        2.970e-04],\n",
       "       [1.335e-02, 5.610e-05, 4.030e-03, ..., 1.200e+02, 4.200e-03,\n",
       "        7.030e-04],\n",
       "       ...,\n",
       "       [6.290e-03, 6.700e-05, 3.600e-03, ..., 4.430e+02, 1.060e-02,\n",
       "        1.460e-04],\n",
       "       [3.880e-03, 4.110e-05, 2.000e-03, ..., 3.310e+02, 1.060e-02,\n",
       "        1.600e-04],\n",
       "       [8.550e-03, 7.950e-05, 4.150e-03, ..., 4.580e+02, 9.300e-03,\n",
       "        2.520e-03]])"
      ]
     },
     "execution_count": 410,
     "metadata": {},
     "output_type": "execute_result"
    }
   ],
   "source": [
    "testing_X = data_test.iloc[:, 1:24].values\n",
    "testing_X"
   ]
  },
  {
   "cell_type": "code",
   "execution_count": 411,
   "metadata": {},
   "outputs": [
    {
     "data": {
      "text/plain": [
       "array([[ 0.30951804,  0.25434041,  0.16519174, ...,  0.02581996,\n",
       "         0.38231429,  0.81985161],\n",
       "       [-0.0210947 ,  0.13039755,  0.12721239, ...,  0.03907886,\n",
       "         0.21563227,  0.1074021 ],\n",
       "       [ 0.27730685,  0.15969314,  0.12573746, ...,  0.04466155,\n",
       "         0.16629439,  0.28784782],\n",
       "       ...,\n",
       "       [ 0.10632114,  0.19478345,  0.10988201, ...,  0.27006281,\n",
       "         1.01970635,  0.04029051],\n",
       "       [ 0.0479535 ,  0.11140371,  0.05088496, ...,  0.19190509,\n",
       "         1.01970635,  0.04651278],\n",
       "       [ 0.16105595,  0.23502464,  0.13016224, ...,  0.28053036,\n",
       "         0.84635704,  1.09540912]])"
      ]
     },
     "execution_count": 411,
     "metadata": {},
     "output_type": "execute_result"
    }
   ],
   "source": [
    "testing_X = min_max_scaler.transform(testing_X)\n",
    "testing_X"
   ]
  },
  {
   "cell_type": "code",
   "execution_count": 412,
   "metadata": {},
   "outputs": [],
   "source": [
    "y_predict_test = model.predict(testing_X)"
   ]
  },
  {
   "cell_type": "code",
   "execution_count": 413,
   "metadata": {},
   "outputs": [
    {
     "name": "stdout",
     "output_type": "stream",
     "text": [
      "42\n"
     ]
    }
   ],
   "source": [
    "total = 0\n",
    "for i in y_predict_test:\n",
    "    total = total + i\n",
    "    \n",
    "print(total)"
   ]
  }
 ],
 "metadata": {
  "kernelspec": {
   "display_name": "Python 3",
   "language": "python",
   "name": "python3"
  },
  "language_info": {
   "codemirror_mode": {
    "name": "ipython",
    "version": 3
   },
   "file_extension": ".py",
   "mimetype": "text/x-python",
   "name": "python",
   "nbconvert_exporter": "python",
   "pygments_lexer": "ipython3",
   "version": "3.7.4"
  }
 },
 "nbformat": 4,
 "nbformat_minor": 4
}
