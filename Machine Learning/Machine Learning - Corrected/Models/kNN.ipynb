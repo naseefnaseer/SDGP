{
 "cells": [
  {
   "cell_type": "code",
   "execution_count": 1,
   "metadata": {},
   "outputs": [],
   "source": [
    "import numpy as np\n",
    "import pandas as pd\n",
    "from sklearn import preprocessing\n",
    "from sklearn.preprocessing import StandardScaler\n",
    "from sklearn.model_selection import train_test_split\n",
    "from sklearn.metrics import accuracy_score\n",
    "from sklearn.linear_model import LogisticRegression\n",
    "from sklearn.metrics import confusion_matrix\n",
    "from sklearn.model_selection import cross_val_score\n",
    "from sklearn.neighbors import KNeighborsClassifier"
   ]
  },
  {
   "cell_type": "code",
   "execution_count": 6,
   "metadata": {},
   "outputs": [
    {
     "data": {
      "text/html": [
       "<div>\n",
       "<style scoped>\n",
       "    .dataframe tbody tr th:only-of-type {\n",
       "        vertical-align: middle;\n",
       "    }\n",
       "\n",
       "    .dataframe tbody tr th {\n",
       "        vertical-align: top;\n",
       "    }\n",
       "\n",
       "    .dataframe thead th {\n",
       "        text-align: right;\n",
       "    }\n",
       "</style>\n",
       "<table border=\"1\" class=\"dataframe\">\n",
       "  <thead>\n",
       "    <tr style=\"text-align: right;\">\n",
       "      <th></th>\n",
       "      <th>Subject Id</th>\n",
       "      <th>Jitter(local)</th>\n",
       "      <th>Jitter(local, absolute)</th>\n",
       "      <th>Jitter (rap)</th>\n",
       "      <th>Jitter (ppq5)</th>\n",
       "      <th>Jitter (ddp)</th>\n",
       "      <th>Shimmer (local)</th>\n",
       "      <th>Shimmer (local, db)</th>\n",
       "      <th>Shimmer (apq3)</th>\n",
       "      <th>Shimmer (apq5)</th>\n",
       "      <th>...</th>\n",
       "      <th>Maximum pitch</th>\n",
       "      <th>Number of pulses</th>\n",
       "      <th>Number of periods</th>\n",
       "      <th>Mean period</th>\n",
       "      <th>Standard deviation of period</th>\n",
       "      <th>Fraction of locally unvoiced frames</th>\n",
       "      <th>Number of voice breaks</th>\n",
       "      <th>Degree of voice breaks</th>\n",
       "      <th>UPDRS</th>\n",
       "      <th>status</th>\n",
       "    </tr>\n",
       "  </thead>\n",
       "  <tbody>\n",
       "    <tr>\n",
       "      <th>0</th>\n",
       "      <td>1</td>\n",
       "      <td>0.01488</td>\n",
       "      <td>0.000090</td>\n",
       "      <td>0.00900</td>\n",
       "      <td>0.00794</td>\n",
       "      <td>0.02699</td>\n",
       "      <td>0.08334</td>\n",
       "      <td>0.779</td>\n",
       "      <td>0.04517</td>\n",
       "      <td>0.04609</td>\n",
       "      <td>...</td>\n",
       "      <td>187.576</td>\n",
       "      <td>160</td>\n",
       "      <td>159</td>\n",
       "      <td>0.006065</td>\n",
       "      <td>0.000416</td>\n",
       "      <td>0.00000</td>\n",
       "      <td>0</td>\n",
       "      <td>0.00000</td>\n",
       "      <td>23</td>\n",
       "      <td>1</td>\n",
       "    </tr>\n",
       "    <tr>\n",
       "      <th>1</th>\n",
       "      <td>1</td>\n",
       "      <td>0.00728</td>\n",
       "      <td>0.000038</td>\n",
       "      <td>0.00353</td>\n",
       "      <td>0.00376</td>\n",
       "      <td>0.01059</td>\n",
       "      <td>0.05864</td>\n",
       "      <td>0.642</td>\n",
       "      <td>0.02058</td>\n",
       "      <td>0.03180</td>\n",
       "      <td>...</td>\n",
       "      <td>234.505</td>\n",
       "      <td>170</td>\n",
       "      <td>169</td>\n",
       "      <td>0.005181</td>\n",
       "      <td>0.000403</td>\n",
       "      <td>0.02247</td>\n",
       "      <td>0</td>\n",
       "      <td>0.00000</td>\n",
       "      <td>23</td>\n",
       "      <td>1</td>\n",
       "    </tr>\n",
       "    <tr>\n",
       "      <th>2</th>\n",
       "      <td>1</td>\n",
       "      <td>0.00472</td>\n",
       "      <td>0.000031</td>\n",
       "      <td>0.00224</td>\n",
       "      <td>0.00245</td>\n",
       "      <td>0.00673</td>\n",
       "      <td>0.06404</td>\n",
       "      <td>0.629</td>\n",
       "      <td>0.03434</td>\n",
       "      <td>0.03765</td>\n",
       "      <td>...</td>\n",
       "      <td>190.019</td>\n",
       "      <td>675</td>\n",
       "      <td>673</td>\n",
       "      <td>0.006649</td>\n",
       "      <td>0.000132</td>\n",
       "      <td>0.26180</td>\n",
       "      <td>1</td>\n",
       "      <td>0.26325</td>\n",
       "      <td>23</td>\n",
       "      <td>1</td>\n",
       "    </tr>\n",
       "    <tr>\n",
       "      <th>3</th>\n",
       "      <td>2</td>\n",
       "      <td>0.00427</td>\n",
       "      <td>0.000034</td>\n",
       "      <td>0.00243</td>\n",
       "      <td>0.00249</td>\n",
       "      <td>0.00728</td>\n",
       "      <td>0.07428</td>\n",
       "      <td>0.694</td>\n",
       "      <td>0.04205</td>\n",
       "      <td>0.04311</td>\n",
       "      <td>...</td>\n",
       "      <td>129.205</td>\n",
       "      <td>345</td>\n",
       "      <td>344</td>\n",
       "      <td>0.008073</td>\n",
       "      <td>0.000143</td>\n",
       "      <td>0.00000</td>\n",
       "      <td>0</td>\n",
       "      <td>0.00000</td>\n",
       "      <td>8</td>\n",
       "      <td>1</td>\n",
       "    </tr>\n",
       "    <tr>\n",
       "      <th>4</th>\n",
       "      <td>2</td>\n",
       "      <td>0.00844</td>\n",
       "      <td>0.000069</td>\n",
       "      <td>0.00509</td>\n",
       "      <td>0.00489</td>\n",
       "      <td>0.01527</td>\n",
       "      <td>0.14053</td>\n",
       "      <td>1.239</td>\n",
       "      <td>0.06131</td>\n",
       "      <td>0.07015</td>\n",
       "      <td>...</td>\n",
       "      <td>126.788</td>\n",
       "      <td>585</td>\n",
       "      <td>582</td>\n",
       "      <td>0.008174</td>\n",
       "      <td>0.000123</td>\n",
       "      <td>0.00209</td>\n",
       "      <td>2</td>\n",
       "      <td>0.00768</td>\n",
       "      <td>8</td>\n",
       "      <td>1</td>\n",
       "    </tr>\n",
       "  </tbody>\n",
       "</table>\n",
       "<p>5 rows × 29 columns</p>\n",
       "</div>"
      ],
      "text/plain": [
       "   Subject Id  Jitter(local)  Jitter(local, absolute)  Jitter (rap)  \\\n",
       "0           1        0.01488                 0.000090       0.00900   \n",
       "1           1        0.00728                 0.000038       0.00353   \n",
       "2           1        0.00472                 0.000031       0.00224   \n",
       "3           2        0.00427                 0.000034       0.00243   \n",
       "4           2        0.00844                 0.000069       0.00509   \n",
       "\n",
       "   Jitter (ppq5)  Jitter (ddp)  Shimmer (local)  Shimmer (local, db)  \\\n",
       "0        0.00794       0.02699          0.08334                0.779   \n",
       "1        0.00376       0.01059          0.05864                0.642   \n",
       "2        0.00245       0.00673          0.06404                0.629   \n",
       "3        0.00249       0.00728          0.07428                0.694   \n",
       "4        0.00489       0.01527          0.14053                1.239   \n",
       "\n",
       "   Shimmer (apq3)  Shimmer (apq5)  ...  Maximum pitch  Number of pulses  \\\n",
       "0         0.04517         0.04609  ...        187.576               160   \n",
       "1         0.02058         0.03180  ...        234.505               170   \n",
       "2         0.03434         0.03765  ...        190.019               675   \n",
       "3         0.04205         0.04311  ...        129.205               345   \n",
       "4         0.06131         0.07015  ...        126.788               585   \n",
       "\n",
       "   Number of periods  Mean period  Standard deviation of period  \\\n",
       "0                159     0.006065                      0.000416   \n",
       "1                169     0.005181                      0.000403   \n",
       "2                673     0.006649                      0.000132   \n",
       "3                344     0.008073                      0.000143   \n",
       "4                582     0.008174                      0.000123   \n",
       "\n",
       "   Fraction of locally unvoiced frames  Number of voice breaks  \\\n",
       "0                              0.00000                       0   \n",
       "1                              0.02247                       0   \n",
       "2                              0.26180                       1   \n",
       "3                              0.00000                       0   \n",
       "4                              0.00209                       2   \n",
       "\n",
       "   Degree of voice breaks  UPDRS  status  \n",
       "0                 0.00000     23       1  \n",
       "1                 0.00000     23       1  \n",
       "2                 0.26325     23       1  \n",
       "3                 0.00000      8       1  \n",
       "4                 0.00768      8       1  \n",
       "\n",
       "[5 rows x 29 columns]"
      ]
     },
     "execution_count": 6,
     "metadata": {},
     "output_type": "execute_result"
    }
   ],
   "source": [
    "data = pd.read_csv(r'..\\Datasets\\Parkinsons Processed Training - Only Vowels - Sri Lankan.csv', header = 0)\n",
    "data.head()"
   ]
  },
  {
   "cell_type": "code",
   "execution_count": 7,
   "metadata": {},
   "outputs": [
    {
     "data": {
      "text/plain": [
       "(120, 29)"
      ]
     },
     "execution_count": 7,
     "metadata": {},
     "output_type": "execute_result"
    }
   ],
   "source": [
    "data.shape"
   ]
  },
  {
   "cell_type": "code",
   "execution_count": 8,
   "metadata": {},
   "outputs": [
    {
     "data": {
      "text/plain": [
       "array([[1.488000e-02, 9.021300e-05, 9.000000e-03, ..., 1.590000e+02,\n",
       "        6.064725e-03, 4.162760e-04],\n",
       "       [7.280000e-03, 3.769800e-05, 3.530000e-03, ..., 1.690000e+02,\n",
       "        5.181253e-03, 4.034940e-04],\n",
       "       [4.720000e-03, 3.137300e-05, 2.240000e-03, ..., 6.730000e+02,\n",
       "        6.649119e-03, 1.321080e-04],\n",
       "       ...,\n",
       "       [4.710000e-03, 3.383700e-05, 1.860000e-03, ..., 1.750000e+02,\n",
       "        7.178780e-03, 1.298030e-04],\n",
       "       [4.319000e-02, 3.171220e-04, 2.774000e-02, ..., 2.560000e+02,\n",
       "        7.342534e-03, 3.119150e-04],\n",
       "       [1.543000e-02, 1.033570e-04, 1.004000e-02, ..., 4.250000e+02,\n",
       "        6.700038e-03, 1.082910e-04]])"
      ]
     },
     "execution_count": 8,
     "metadata": {},
     "output_type": "execute_result"
    }
   ],
   "source": [
    "X = data.iloc[:, 1:24].values\n",
    "X"
   ]
  },
  {
   "cell_type": "code",
   "execution_count": 9,
   "metadata": {},
   "outputs": [
    {
     "data": {
      "text/plain": [
       "array([1, 1, 1, 1, 1, 1, 1, 1, 1, 1, 1, 1, 1, 1, 1, 1, 1, 1, 1, 1, 1, 1,\n",
       "       1, 1, 1, 1, 1, 1, 1, 1, 1, 1, 1, 1, 1, 1, 1, 1, 1, 1, 1, 1, 1, 1,\n",
       "       1, 1, 1, 1, 1, 1, 1, 1, 1, 1, 1, 1, 1, 1, 1, 1, 0, 0, 0, 0, 0, 0,\n",
       "       0, 0, 0, 0, 0, 0, 0, 0, 0, 0, 0, 0, 0, 0, 0, 0, 0, 0, 0, 0, 0, 0,\n",
       "       0, 0, 0, 0, 0, 0, 0, 0, 0, 0, 0, 0, 0, 0, 0, 0, 0, 0, 0, 0, 0, 0,\n",
       "       0, 0, 0, 0, 0, 0, 0, 0, 0, 0], dtype=int64)"
      ]
     },
     "execution_count": 9,
     "metadata": {},
     "output_type": "execute_result"
    }
   ],
   "source": [
    "y = data.iloc[:, -1].values\n",
    "y"
   ]
  },
  {
   "cell_type": "code",
   "execution_count": 10,
   "metadata": {},
   "outputs": [],
   "source": [
    "X_train, X_test, Y_train, Y_test = train_test_split(X, y, random_state=12, test_size = 0.2)"
   ]
  },
  {
   "cell_type": "code",
   "execution_count": 11,
   "metadata": {},
   "outputs": [],
   "source": [
    "standard_X = StandardScaler()\n",
    "X_train = standard_X.fit_transform(X_train)\n",
    "X_test = standard_X.transform(X_test)"
   ]
  },
  {
   "cell_type": "code",
   "execution_count": 12,
   "metadata": {},
   "outputs": [
    {
     "name": "stdout",
     "output_type": "stream",
     "text": [
      "Best Accuracy: 0.6666666666666666\n",
      "N_neighbors:  5\n"
     ]
    }
   ],
   "source": [
    "training_accuracy = []\n",
    "test_accuracy = []\n",
    "# try n_neighbors from 1 to 100\n",
    "neighbors_settings = range(1, 40)\n",
    "index = 0\n",
    "max_accuracy = 0\n",
    "\n",
    "for n_neighbors in neighbors_settings:\n",
    "    # build the model\n",
    "    knn = KNeighborsClassifier(n_neighbors=n_neighbors)\n",
    "    knn.fit(X_train, Y_train)\n",
    "    # record training set accuracy\n",
    "    training_accuracy.append(knn.score(X_train, Y_train))\n",
    "    # record test set accuracy\n",
    "    accuracy = knn.score(X_test, Y_test)\n",
    "    test_accuracy.append(accuracy)\n",
    "    if(accuracy > max_accuracy):\n",
    "        max_accuracy = accuracy\n",
    "        index = n_neighbors\n",
    "\n",
    "print(\"Best Accuracy:\", max_accuracy)\n",
    "print(\"N_neighbors: \", index)"
   ]
  },
  {
   "cell_type": "code",
   "execution_count": 13,
   "metadata": {},
   "outputs": [
    {
     "data": {
      "text/plain": [
       "KNeighborsClassifier(algorithm='auto', leaf_size=30, metric='minkowski',\n",
       "                     metric_params=None, n_jobs=None, n_neighbors=5, p=2,\n",
       "                     weights='uniform')"
      ]
     },
     "execution_count": 13,
     "metadata": {},
     "output_type": "execute_result"
    }
   ],
   "source": [
    "model = KNeighborsClassifier(n_neighbors=5)\n",
    "model.fit(X_train, Y_train)"
   ]
  },
  {
   "cell_type": "code",
   "execution_count": 14,
   "metadata": {},
   "outputs": [],
   "source": [
    "y_pred = model.predict(X_test)"
   ]
  },
  {
   "cell_type": "code",
   "execution_count": 15,
   "metadata": {},
   "outputs": [
    {
     "name": "stdout",
     "output_type": "stream",
     "text": [
      "[[7 2]\n",
      " [6 9]]\n"
     ]
    }
   ],
   "source": [
    "cm = confusion_matrix(Y_test, y_pred) # Calulate Confusion matrix for test set.\n",
    "print(cm)"
   ]
  },
  {
   "cell_type": "code",
   "execution_count": 16,
   "metadata": {},
   "outputs": [
    {
     "name": "stdout",
     "output_type": "stream",
     "text": [
      "Accuracy: 51.11 %\n",
      "Standard Deviation: 16.71 %\n"
     ]
    }
   ],
   "source": [
    "accuracies = cross_val_score(estimator = model, X = X_train, y = Y_train, cv = 10)\n",
    "print(\"Accuracy: {:.2f} %\".format(accuracies.mean()*100))\n",
    "print(\"Standard Deviation: {:.2f} %\".format(accuracies.std()*100))"
   ]
  },
  {
   "cell_type": "code",
   "execution_count": 17,
   "metadata": {},
   "outputs": [
    {
     "data": {
      "text/html": [
       "<div>\n",
       "<style scoped>\n",
       "    .dataframe tbody tr th:only-of-type {\n",
       "        vertical-align: middle;\n",
       "    }\n",
       "\n",
       "    .dataframe tbody tr th {\n",
       "        vertical-align: top;\n",
       "    }\n",
       "\n",
       "    .dataframe thead th {\n",
       "        text-align: right;\n",
       "    }\n",
       "</style>\n",
       "<table border=\"1\" class=\"dataframe\">\n",
       "  <thead>\n",
       "    <tr style=\"text-align: right;\">\n",
       "      <th></th>\n",
       "      <th>Subject ID</th>\n",
       "      <th>Jitter(local)</th>\n",
       "      <th>Jitter(local, absolute)</th>\n",
       "      <th>Jitter (rap)</th>\n",
       "      <th>Jitter (ppq5)</th>\n",
       "      <th>Jitter (ddp)</th>\n",
       "      <th>Shimmer (local)</th>\n",
       "      <th>Shimmer (local, db)</th>\n",
       "      <th>Shimmer (apq3)</th>\n",
       "      <th>Shimmer (apq5)</th>\n",
       "      <th>...</th>\n",
       "      <th>Standard deviation</th>\n",
       "      <th>Minimum pitch</th>\n",
       "      <th>Maximum pitch</th>\n",
       "      <th>Number of pulses</th>\n",
       "      <th>Number of periods</th>\n",
       "      <th>Mean period</th>\n",
       "      <th>Standard deviation of period</th>\n",
       "      <th>Fraction of locally unvoiced frames</th>\n",
       "      <th>Number of voice breaks</th>\n",
       "      <th>Degree of voice breaks</th>\n",
       "    </tr>\n",
       "  </thead>\n",
       "  <tbody>\n",
       "    <tr>\n",
       "      <th>0</th>\n",
       "      <td>17</td>\n",
       "      <td>0.01119</td>\n",
       "      <td>0.000085</td>\n",
       "      <td>0.00387</td>\n",
       "      <td>0.00433</td>\n",
       "      <td>0.01160</td>\n",
       "      <td>0.04168</td>\n",
       "      <td>0.490</td>\n",
       "      <td>0.01733</td>\n",
       "      <td>0.02246</td>\n",
       "      <td>...</td>\n",
       "      <td>34.427</td>\n",
       "      <td>96.944</td>\n",
       "      <td>254.919</td>\n",
       "      <td>142</td>\n",
       "      <td>141</td>\n",
       "      <td>0.00762</td>\n",
       "      <td>0.001520</td>\n",
       "      <td>0.73839</td>\n",
       "      <td>0</td>\n",
       "      <td>0.00000</td>\n",
       "    </tr>\n",
       "    <tr>\n",
       "      <th>1</th>\n",
       "      <td>17</td>\n",
       "      <td>0.01001</td>\n",
       "      <td>0.000071</td>\n",
       "      <td>0.00314</td>\n",
       "      <td>0.00416</td>\n",
       "      <td>0.00943</td>\n",
       "      <td>0.03785</td>\n",
       "      <td>0.493</td>\n",
       "      <td>0.01256</td>\n",
       "      <td>0.02010</td>\n",
       "      <td>...</td>\n",
       "      <td>39.380</td>\n",
       "      <td>104.679</td>\n",
       "      <td>247.911</td>\n",
       "      <td>180</td>\n",
       "      <td>178</td>\n",
       "      <td>0.00710</td>\n",
       "      <td>0.001670</td>\n",
       "      <td>0.62000</td>\n",
       "      <td>1</td>\n",
       "      <td>0.06049</td>\n",
       "    </tr>\n",
       "    <tr>\n",
       "      <th>2</th>\n",
       "      <td>17</td>\n",
       "      <td>0.00576</td>\n",
       "      <td>0.000043</td>\n",
       "      <td>0.00221</td>\n",
       "      <td>0.00289</td>\n",
       "      <td>0.00663</td>\n",
       "      <td>0.03913</td>\n",
       "      <td>0.439</td>\n",
       "      <td>0.01367</td>\n",
       "      <td>0.01944</td>\n",
       "      <td>...</td>\n",
       "      <td>4.531</td>\n",
       "      <td>123.548</td>\n",
       "      <td>142.684</td>\n",
       "      <td>139</td>\n",
       "      <td>138</td>\n",
       "      <td>0.00753</td>\n",
       "      <td>0.000260</td>\n",
       "      <td>0.67122</td>\n",
       "      <td>0</td>\n",
       "      <td>0.00000</td>\n",
       "    </tr>\n",
       "    <tr>\n",
       "      <th>3</th>\n",
       "      <td>17</td>\n",
       "      <td>0.01288</td>\n",
       "      <td>0.000104</td>\n",
       "      <td>0.00559</td>\n",
       "      <td>0.00603</td>\n",
       "      <td>0.01677</td>\n",
       "      <td>0.04783</td>\n",
       "      <td>0.502</td>\n",
       "      <td>0.02122</td>\n",
       "      <td>0.02702</td>\n",
       "      <td>...</td>\n",
       "      <td>3.448</td>\n",
       "      <td>107.007</td>\n",
       "      <td>133.246</td>\n",
       "      <td>120</td>\n",
       "      <td>119</td>\n",
       "      <td>0.00804</td>\n",
       "      <td>0.000270</td>\n",
       "      <td>0.67381</td>\n",
       "      <td>0</td>\n",
       "      <td>0.00000</td>\n",
       "    </tr>\n",
       "    <tr>\n",
       "      <th>4</th>\n",
       "      <td>17</td>\n",
       "      <td>0.00784</td>\n",
       "      <td>0.000060</td>\n",
       "      <td>0.00243</td>\n",
       "      <td>0.00314</td>\n",
       "      <td>0.00729</td>\n",
       "      <td>0.03155</td>\n",
       "      <td>0.431</td>\n",
       "      <td>0.01156</td>\n",
       "      <td>0.01636</td>\n",
       "      <td>...</td>\n",
       "      <td>18.480</td>\n",
       "      <td>109.714</td>\n",
       "      <td>252.798</td>\n",
       "      <td>162</td>\n",
       "      <td>161</td>\n",
       "      <td>0.00769</td>\n",
       "      <td>0.000826</td>\n",
       "      <td>0.56169</td>\n",
       "      <td>0</td>\n",
       "      <td>0.00000</td>\n",
       "    </tr>\n",
       "  </tbody>\n",
       "</table>\n",
       "<p>5 rows × 27 columns</p>\n",
       "</div>"
      ],
      "text/plain": [
       "   Subject ID  Jitter(local)  Jitter(local, absolute)  Jitter (rap)  \\\n",
       "0          17        0.01119                 0.000085       0.00387   \n",
       "1          17        0.01001                 0.000071       0.00314   \n",
       "2          17        0.00576                 0.000043       0.00221   \n",
       "3          17        0.01288                 0.000104       0.00559   \n",
       "4          17        0.00784                 0.000060       0.00243   \n",
       "\n",
       "   Jitter (ppq5)  Jitter (ddp)  Shimmer (local)  Shimmer (local, db)  \\\n",
       "0        0.00433       0.01160          0.04168                0.490   \n",
       "1        0.00416       0.00943          0.03785                0.493   \n",
       "2        0.00289       0.00663          0.03913                0.439   \n",
       "3        0.00603       0.01677          0.04783                0.502   \n",
       "4        0.00314       0.00729          0.03155                0.431   \n",
       "\n",
       "   Shimmer (apq3)  Shimmer (apq5)  ...  Standard deviation  Minimum pitch  \\\n",
       "0         0.01733         0.02246  ...              34.427         96.944   \n",
       "1         0.01256         0.02010  ...              39.380        104.679   \n",
       "2         0.01367         0.01944  ...               4.531        123.548   \n",
       "3         0.02122         0.02702  ...               3.448        107.007   \n",
       "4         0.01156         0.01636  ...              18.480        109.714   \n",
       "\n",
       "   Maximum pitch  Number of pulses  Number of periods  Mean period  \\\n",
       "0        254.919               142                141      0.00762   \n",
       "1        247.911               180                178      0.00710   \n",
       "2        142.684               139                138      0.00753   \n",
       "3        133.246               120                119      0.00804   \n",
       "4        252.798               162                161      0.00769   \n",
       "\n",
       "   Standard deviation of period  Fraction of locally unvoiced frames  \\\n",
       "0                      0.001520                              0.73839   \n",
       "1                      0.001670                              0.62000   \n",
       "2                      0.000260                              0.67122   \n",
       "3                      0.000270                              0.67381   \n",
       "4                      0.000826                              0.56169   \n",
       "\n",
       "   Number of voice breaks  Degree of voice breaks  \n",
       "0                       0                 0.00000  \n",
       "1                       1                 0.06049  \n",
       "2                       0                 0.00000  \n",
       "3                       0                 0.00000  \n",
       "4                       0                 0.00000  \n",
       "\n",
       "[5 rows x 27 columns]"
      ]
     },
     "execution_count": 17,
     "metadata": {},
     "output_type": "execute_result"
    }
   ],
   "source": [
    "data_test = pd.read_csv(r'../Datasets/Sri Lankan Dataset.csv', header = 0)\n",
    "data_test.head()"
   ]
  },
  {
   "cell_type": "code",
   "execution_count": 18,
   "metadata": {},
   "outputs": [
    {
     "data": {
      "text/plain": [
       "array([[1.119000e-02, 8.520000e-05, 3.870000e-03, ..., 1.410000e+02,\n",
       "        7.620000e-03, 1.520000e-03],\n",
       "       [1.001000e-02, 7.110000e-05, 3.140000e-03, ..., 1.780000e+02,\n",
       "        7.100000e-03, 1.670000e-03],\n",
       "       [5.760000e-03, 4.330000e-05, 2.210000e-03, ..., 1.380000e+02,\n",
       "        7.530000e-03, 2.600000e-04],\n",
       "       ...,\n",
       "       [4.670000e-03, 2.450600e-05, 2.430000e-03, ..., 1.640000e+02,\n",
       "        5.249619e-03, 1.654250e-04],\n",
       "       [4.680000e-03, 2.411200e-05, 1.840000e-03, ..., 1.350000e+02,\n",
       "        5.155909e-03, 4.772440e-04],\n",
       "       [3.960000e-03, 1.769700e-05, 1.460000e-03, ..., 1.650000e+02,\n",
       "        4.471620e-03, 1.680530e-04]])"
      ]
     },
     "execution_count": 18,
     "metadata": {},
     "output_type": "execute_result"
    }
   ],
   "source": [
    "testing_X = data_test.iloc[:, 1:24].values\n",
    "testing_X"
   ]
  },
  {
   "cell_type": "code",
   "execution_count": 19,
   "metadata": {},
   "outputs": [
    {
     "data": {
      "text/plain": [
       "array([[ 0.37400024,  0.64550224, -0.13238182, ..., -0.76528168,\n",
       "         0.75775007,  2.9031042 ],\n",
       "       [ 0.21239995,  0.35239873, -0.2958588 , ..., -0.64298535,\n",
       "         0.45615794,  3.28381009],\n",
       "       [-0.36963498, -0.22549331, -0.50412398, ..., -0.77519759,\n",
       "         0.70555143, -0.29482525],\n",
       "       ...,\n",
       "       [-0.51890982, -0.61617326, -0.45485695, ..., -0.68925963,\n",
       "        -0.61703505, -0.53486031],\n",
       "       [-0.51754033, -0.62436353, -0.58698217, ..., -0.78511351,\n",
       "        -0.67138543,  0.25654855],\n",
       "       [-0.61614389, -0.75771524, -0.67207978, ..., -0.68595433,\n",
       "        -1.06826269, -0.52819034]])"
      ]
     },
     "execution_count": 19,
     "metadata": {},
     "output_type": "execute_result"
    }
   ],
   "source": [
    "testing_X = standard_X.transform(testing_X)\n",
    "testing_X"
   ]
  },
  {
   "cell_type": "code",
   "execution_count": 20,
   "metadata": {},
   "outputs": [],
   "source": [
    "y_predict_test = model.predict(testing_X)"
   ]
  },
  {
   "cell_type": "code",
   "execution_count": 21,
   "metadata": {},
   "outputs": [
    {
     "data": {
      "text/plain": [
       "array([1, 0, 0, 0, 1, 1, 1, 1, 1, 1, 1, 1, 0, 1, 0, 0, 0, 0, 1, 0, 0, 0,\n",
       "       0, 1, 0, 1, 0, 1, 0, 0, 0, 0, 0, 0, 1, 0, 0, 0, 1, 0, 0, 0, 0, 1,\n",
       "       1, 1, 0, 0, 0, 0, 0, 1, 1, 0, 0, 0, 0, 0, 1, 0], dtype=int64)"
      ]
     },
     "execution_count": 21,
     "metadata": {},
     "output_type": "execute_result"
    }
   ],
   "source": [
    "y_predict_test"
   ]
  },
  {
   "cell_type": "code",
   "execution_count": 22,
   "metadata": {},
   "outputs": [],
   "source": [
    "X_train, X_test, Y_train, Y_test = train_test_split(X, y, random_state=12, test_size = 0.2)"
   ]
  },
  {
   "cell_type": "code",
   "execution_count": 23,
   "metadata": {},
   "outputs": [],
   "source": [
    "min_max_scaler = preprocessing.MinMaxScaler()\n",
    "X_train = min_max_scaler.fit_transform(X_train)\n",
    "X_test = min_max_scaler.transform(X_test)"
   ]
  },
  {
   "cell_type": "code",
   "execution_count": 24,
   "metadata": {},
   "outputs": [
    {
     "name": "stdout",
     "output_type": "stream",
     "text": [
      "Best Accuracy: 0.6666666666666666\n",
      "N_neighbors:  3\n"
     ]
    }
   ],
   "source": [
    "training_accuracy = []\n",
    "test_accuracy = []\n",
    "# try n_neighbors from 1 to 100\n",
    "neighbors_settings = range(1, 40)\n",
    "index = 0\n",
    "max_accuracy = 0\n",
    "\n",
    "for n_neighbors in neighbors_settings:\n",
    "    # build the model\n",
    "    knn = KNeighborsClassifier(n_neighbors=n_neighbors)\n",
    "    knn.fit(X_train, Y_train)\n",
    "    # record training set accuracy\n",
    "    training_accuracy.append(knn.score(X_train, Y_train))\n",
    "    # record test set accuracy\n",
    "    accuracy = knn.score(X_test, Y_test)\n",
    "    test_accuracy.append(accuracy)\n",
    "    if(accuracy > max_accuracy):\n",
    "        max_accuracy = accuracy\n",
    "        index = n_neighbors\n",
    "\n",
    "print(\"Best Accuracy:\", max_accuracy)\n",
    "print(\"N_neighbors: \", index)"
   ]
  },
  {
   "cell_type": "code",
   "execution_count": 25,
   "metadata": {},
   "outputs": [
    {
     "data": {
      "text/plain": [
       "KNeighborsClassifier(algorithm='auto', leaf_size=30, metric='minkowski',\n",
       "                     metric_params=None, n_jobs=None, n_neighbors=3, p=2,\n",
       "                     weights='uniform')"
      ]
     },
     "execution_count": 25,
     "metadata": {},
     "output_type": "execute_result"
    }
   ],
   "source": [
    "model = KNeighborsClassifier(n_neighbors=3)\n",
    "model.fit(X_train, Y_train)"
   ]
  },
  {
   "cell_type": "code",
   "execution_count": 26,
   "metadata": {},
   "outputs": [
    {
     "data": {
      "text/plain": [
       "array([[1.119000e-02, 8.520000e-05, 3.870000e-03, ..., 1.410000e+02,\n",
       "        7.620000e-03, 1.520000e-03],\n",
       "       [1.001000e-02, 7.110000e-05, 3.140000e-03, ..., 1.780000e+02,\n",
       "        7.100000e-03, 1.670000e-03],\n",
       "       [5.760000e-03, 4.330000e-05, 2.210000e-03, ..., 1.380000e+02,\n",
       "        7.530000e-03, 2.600000e-04],\n",
       "       ...,\n",
       "       [4.670000e-03, 2.450600e-05, 2.430000e-03, ..., 1.640000e+02,\n",
       "        5.249619e-03, 1.654250e-04],\n",
       "       [4.680000e-03, 2.411200e-05, 1.840000e-03, ..., 1.350000e+02,\n",
       "        5.155909e-03, 4.772440e-04],\n",
       "       [3.960000e-03, 1.769700e-05, 1.460000e-03, ..., 1.650000e+02,\n",
       "        4.471620e-03, 1.680530e-04]])"
      ]
     },
     "execution_count": 26,
     "metadata": {},
     "output_type": "execute_result"
    }
   ],
   "source": [
    "testing_X = data_test.iloc[:, 1:24].values\n",
    "testing_X"
   ]
  },
  {
   "cell_type": "code",
   "execution_count": 27,
   "metadata": {},
   "outputs": [
    {
     "data": {
      "text/plain": [
       "array([[0.22499395, 0.25337463, 0.11983776, ..., 0.05931612, 0.6223364 ,\n",
       "        0.65096152],\n",
       "       [0.1964156 , 0.20798256, 0.09292035, ..., 0.08513608, 0.55299668,\n",
       "        0.71762866],\n",
       "       [0.09348511, 0.11848616, 0.05862832, ..., 0.05722261, 0.6103353 ,\n",
       "        0.09095754],\n",
       "       ...,\n",
       "       [0.06708646, 0.05798273, 0.06674041, ..., 0.07536636, 0.30625648,\n",
       "        0.0489239 ],\n",
       "       [0.06732865, 0.05671432, 0.04498525, ..., 0.0551291 , 0.29376067,\n",
       "        0.18751111],\n",
       "       [0.04989101, 0.03606254, 0.03097345, ..., 0.0760642 , 0.20251372,\n",
       "        0.05009191]])"
      ]
     },
     "execution_count": 27,
     "metadata": {},
     "output_type": "execute_result"
    }
   ],
   "source": [
    "testing_X = min_max_scaler.transform(testing_X)\n",
    "testing_X"
   ]
  },
  {
   "cell_type": "code",
   "execution_count": 28,
   "metadata": {},
   "outputs": [],
   "source": [
    "y_testing_pred = model.predict(testing_X)"
   ]
  },
  {
   "cell_type": "code",
   "execution_count": 29,
   "metadata": {},
   "outputs": [
    {
     "data": {
      "text/plain": [
       "array([0, 1, 0, 0, 1, 0, 1, 1, 1, 1, 1, 1, 0, 1, 0, 0, 0, 0, 1, 0, 0, 0,\n",
       "       1, 1, 0, 0, 0, 1, 1, 1, 0, 1, 0, 0, 0, 0, 1, 1, 1, 0, 0, 0, 0, 1,\n",
       "       1, 1, 0, 1, 0, 1, 0, 1, 0, 0, 0, 0, 1, 0, 1, 0], dtype=int64)"
      ]
     },
     "execution_count": 29,
     "metadata": {},
     "output_type": "execute_result"
    }
   ],
   "source": [
    "y_testing_pred"
   ]
  },
  {
   "cell_type": "code",
   "execution_count": 30,
   "metadata": {},
   "outputs": [
    {
     "data": {
      "text/plain": [
       "60"
      ]
     },
     "execution_count": 30,
     "metadata": {},
     "output_type": "execute_result"
    }
   ],
   "source": [
    "y_testing_pred.size"
   ]
  },
  {
   "cell_type": "code",
   "execution_count": 31,
   "metadata": {},
   "outputs": [
    {
     "name": "stdout",
     "output_type": "stream",
     "text": [
      "27\n"
     ]
    }
   ],
   "source": [
    "total = 0\n",
    "for i in y_testing_pred:\n",
    "    total = total + i\n",
    "    \n",
    "print(total)"
   ]
  },
  {
   "cell_type": "code",
   "execution_count": null,
   "metadata": {},
   "outputs": [],
   "source": []
  }
 ],
 "metadata": {
  "kernelspec": {
   "display_name": "Python 3",
   "language": "python",
   "name": "python3"
  },
  "language_info": {
   "codemirror_mode": {
    "name": "ipython",
    "version": 3
   },
   "file_extension": ".py",
   "mimetype": "text/x-python",
   "name": "python",
   "nbconvert_exporter": "python",
   "pygments_lexer": "ipython3",
   "version": "3.7.4"
  }
 },
 "nbformat": 4,
 "nbformat_minor": 4
}
