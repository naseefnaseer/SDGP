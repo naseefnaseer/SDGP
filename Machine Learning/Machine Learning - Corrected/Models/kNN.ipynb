{
 "cells": [
  {
   "cell_type": "code",
   "execution_count": 115,
   "metadata": {},
   "outputs": [],
   "source": [
    "import numpy as np\n",
    "import pandas as pd\n",
    "from sklearn import preprocessing\n",
    "from sklearn.preprocessing import StandardScaler\n",
    "from sklearn.model_selection import train_test_split\n",
    "from sklearn.metrics import accuracy_score\n",
    "from sklearn.linear_model import LogisticRegression\n",
    "from sklearn.metrics import confusion_matrix\n",
    "from sklearn.model_selection import cross_val_score\n",
    "from sklearn.neighbors import KNeighborsClassifier"
   ]
  },
  {
   "cell_type": "code",
   "execution_count": 116,
   "metadata": {},
   "outputs": [
    {
     "data": {
      "text/html": [
       "<div>\n",
       "<style scoped>\n",
       "    .dataframe tbody tr th:only-of-type {\n",
       "        vertical-align: middle;\n",
       "    }\n",
       "\n",
       "    .dataframe tbody tr th {\n",
       "        vertical-align: top;\n",
       "    }\n",
       "\n",
       "    .dataframe thead th {\n",
       "        text-align: right;\n",
       "    }\n",
       "</style>\n",
       "<table border=\"1\" class=\"dataframe\">\n",
       "  <thead>\n",
       "    <tr style=\"text-align: right;\">\n",
       "      <th></th>\n",
       "      <th>Subject Id</th>\n",
       "      <th>Jitter(local)</th>\n",
       "      <th>Jitter(local, absolute)</th>\n",
       "      <th>Jitter (rap)</th>\n",
       "      <th>Jitter (ppq5)</th>\n",
       "      <th>Jitter (ddp)</th>\n",
       "      <th>Shimmer (local)</th>\n",
       "      <th>Shimmer (local, db)</th>\n",
       "      <th>Shimmer (apq3)</th>\n",
       "      <th>Shimmer (apq5)</th>\n",
       "      <th>...</th>\n",
       "      <th>Maximum pitch</th>\n",
       "      <th>Number of pulses</th>\n",
       "      <th>Number of periods</th>\n",
       "      <th>Mean period</th>\n",
       "      <th>Standard deviation of period</th>\n",
       "      <th>Fraction of locally unvoiced frames</th>\n",
       "      <th>Number of voice breaks</th>\n",
       "      <th>Degree of voice breaks</th>\n",
       "      <th>UPDRS</th>\n",
       "      <th>status</th>\n",
       "    </tr>\n",
       "  </thead>\n",
       "  <tbody>\n",
       "    <tr>\n",
       "      <th>0</th>\n",
       "      <td>1</td>\n",
       "      <td>0.01488</td>\n",
       "      <td>0.000090</td>\n",
       "      <td>0.00900</td>\n",
       "      <td>0.00794</td>\n",
       "      <td>0.02699</td>\n",
       "      <td>0.08334</td>\n",
       "      <td>0.779</td>\n",
       "      <td>0.04517</td>\n",
       "      <td>0.04609</td>\n",
       "      <td>...</td>\n",
       "      <td>187.576</td>\n",
       "      <td>160</td>\n",
       "      <td>159</td>\n",
       "      <td>0.006065</td>\n",
       "      <td>0.000416</td>\n",
       "      <td>0.00000</td>\n",
       "      <td>0</td>\n",
       "      <td>0.00000</td>\n",
       "      <td>23</td>\n",
       "      <td>1</td>\n",
       "    </tr>\n",
       "    <tr>\n",
       "      <th>1</th>\n",
       "      <td>1</td>\n",
       "      <td>0.00728</td>\n",
       "      <td>0.000038</td>\n",
       "      <td>0.00353</td>\n",
       "      <td>0.00376</td>\n",
       "      <td>0.01059</td>\n",
       "      <td>0.05864</td>\n",
       "      <td>0.642</td>\n",
       "      <td>0.02058</td>\n",
       "      <td>0.03180</td>\n",
       "      <td>...</td>\n",
       "      <td>234.505</td>\n",
       "      <td>170</td>\n",
       "      <td>169</td>\n",
       "      <td>0.005181</td>\n",
       "      <td>0.000403</td>\n",
       "      <td>0.02247</td>\n",
       "      <td>0</td>\n",
       "      <td>0.00000</td>\n",
       "      <td>23</td>\n",
       "      <td>1</td>\n",
       "    </tr>\n",
       "    <tr>\n",
       "      <th>2</th>\n",
       "      <td>1</td>\n",
       "      <td>0.01220</td>\n",
       "      <td>0.000074</td>\n",
       "      <td>0.00732</td>\n",
       "      <td>0.00670</td>\n",
       "      <td>0.02196</td>\n",
       "      <td>0.08719</td>\n",
       "      <td>0.875</td>\n",
       "      <td>0.04347</td>\n",
       "      <td>0.05166</td>\n",
       "      <td>...</td>\n",
       "      <td>211.442</td>\n",
       "      <td>1431</td>\n",
       "      <td>1427</td>\n",
       "      <td>0.006071</td>\n",
       "      <td>0.000474</td>\n",
       "      <td>0.10656</td>\n",
       "      <td>1</td>\n",
       "      <td>0.00178</td>\n",
       "      <td>23</td>\n",
       "      <td>1</td>\n",
       "    </tr>\n",
       "    <tr>\n",
       "      <th>3</th>\n",
       "      <td>2</td>\n",
       "      <td>0.00427</td>\n",
       "      <td>0.000034</td>\n",
       "      <td>0.00243</td>\n",
       "      <td>0.00249</td>\n",
       "      <td>0.00728</td>\n",
       "      <td>0.07428</td>\n",
       "      <td>0.694</td>\n",
       "      <td>0.04205</td>\n",
       "      <td>0.04311</td>\n",
       "      <td>...</td>\n",
       "      <td>129.205</td>\n",
       "      <td>345</td>\n",
       "      <td>344</td>\n",
       "      <td>0.008073</td>\n",
       "      <td>0.000143</td>\n",
       "      <td>0.00000</td>\n",
       "      <td>0</td>\n",
       "      <td>0.00000</td>\n",
       "      <td>8</td>\n",
       "      <td>1</td>\n",
       "    </tr>\n",
       "    <tr>\n",
       "      <th>4</th>\n",
       "      <td>2</td>\n",
       "      <td>0.00844</td>\n",
       "      <td>0.000069</td>\n",
       "      <td>0.00509</td>\n",
       "      <td>0.00489</td>\n",
       "      <td>0.01527</td>\n",
       "      <td>0.14053</td>\n",
       "      <td>1.239</td>\n",
       "      <td>0.06131</td>\n",
       "      <td>0.07015</td>\n",
       "      <td>...</td>\n",
       "      <td>126.788</td>\n",
       "      <td>585</td>\n",
       "      <td>582</td>\n",
       "      <td>0.008174</td>\n",
       "      <td>0.000123</td>\n",
       "      <td>0.00209</td>\n",
       "      <td>2</td>\n",
       "      <td>0.00768</td>\n",
       "      <td>8</td>\n",
       "      <td>1</td>\n",
       "    </tr>\n",
       "  </tbody>\n",
       "</table>\n",
       "<p>5 rows × 29 columns</p>\n",
       "</div>"
      ],
      "text/plain": [
       "   Subject Id  Jitter(local)  Jitter(local, absolute)  Jitter (rap)  \\\n",
       "0           1        0.01488                 0.000090       0.00900   \n",
       "1           1        0.00728                 0.000038       0.00353   \n",
       "2           1        0.01220                 0.000074       0.00732   \n",
       "3           2        0.00427                 0.000034       0.00243   \n",
       "4           2        0.00844                 0.000069       0.00509   \n",
       "\n",
       "   Jitter (ppq5)  Jitter (ddp)  Shimmer (local)  Shimmer (local, db)  \\\n",
       "0        0.00794       0.02699          0.08334                0.779   \n",
       "1        0.00376       0.01059          0.05864                0.642   \n",
       "2        0.00670       0.02196          0.08719                0.875   \n",
       "3        0.00249       0.00728          0.07428                0.694   \n",
       "4        0.00489       0.01527          0.14053                1.239   \n",
       "\n",
       "   Shimmer (apq3)  Shimmer (apq5)  ...  Maximum pitch  Number of pulses  \\\n",
       "0         0.04517         0.04609  ...        187.576               160   \n",
       "1         0.02058         0.03180  ...        234.505               170   \n",
       "2         0.04347         0.05166  ...        211.442              1431   \n",
       "3         0.04205         0.04311  ...        129.205               345   \n",
       "4         0.06131         0.07015  ...        126.788               585   \n",
       "\n",
       "   Number of periods  Mean period  Standard deviation of period  \\\n",
       "0                159     0.006065                      0.000416   \n",
       "1                169     0.005181                      0.000403   \n",
       "2               1427     0.006071                      0.000474   \n",
       "3                344     0.008073                      0.000143   \n",
       "4                582     0.008174                      0.000123   \n",
       "\n",
       "   Fraction of locally unvoiced frames  Number of voice breaks  \\\n",
       "0                              0.00000                       0   \n",
       "1                              0.02247                       0   \n",
       "2                              0.10656                       1   \n",
       "3                              0.00000                       0   \n",
       "4                              0.00209                       2   \n",
       "\n",
       "   Degree of voice breaks  UPDRS  status  \n",
       "0                 0.00000     23       1  \n",
       "1                 0.00000     23       1  \n",
       "2                 0.00178     23       1  \n",
       "3                 0.00000      8       1  \n",
       "4                 0.00768      8       1  \n",
       "\n",
       "[5 rows x 29 columns]"
      ]
     },
     "execution_count": 116,
     "metadata": {},
     "output_type": "execute_result"
    }
   ],
   "source": [
    "data = pd.read_csv(r'..\\Datasets\\Sri Lankan Voice Recordings.csv', header = 0)\n",
    "data.head()"
   ]
  },
  {
   "cell_type": "code",
   "execution_count": 117,
   "metadata": {},
   "outputs": [
    {
     "data": {
      "text/plain": [
       "(120, 29)"
      ]
     },
     "execution_count": 117,
     "metadata": {},
     "output_type": "execute_result"
    }
   ],
   "source": [
    "data.shape"
   ]
  },
  {
   "cell_type": "code",
   "execution_count": 119,
   "metadata": {},
   "outputs": [
    {
     "data": {
      "text/plain": [
       "array([[1.488000e-02, 9.021300e-05, 9.000000e-03, ..., 1.590000e+02,\n",
       "        6.064725e-03, 4.162760e-04],\n",
       "       [7.280000e-03, 3.769800e-05, 3.530000e-03, ..., 1.690000e+02,\n",
       "        5.181253e-03, 4.034940e-04],\n",
       "       [1.220000e-02, 7.404100e-05, 7.320000e-03, ..., 1.427000e+03,\n",
       "        6.070749e-03, 4.742890e-04],\n",
       "       ...,\n",
       "       [4.710000e-03, 3.383700e-05, 1.860000e-03, ..., 1.750000e+02,\n",
       "        7.178780e-03, 1.298030e-04],\n",
       "       [4.319000e-02, 3.171220e-04, 2.774000e-02, ..., 2.560000e+02,\n",
       "        7.342534e-03, 3.119150e-04],\n",
       "       [1.543000e-02, 1.033570e-04, 1.004000e-02, ..., 4.250000e+02,\n",
       "        6.700038e-03, 1.082910e-04]])"
      ]
     },
     "execution_count": 119,
     "metadata": {},
     "output_type": "execute_result"
    }
   ],
   "source": [
    "X = data.iloc[:, 1:24].values\n",
    "X"
   ]
  },
  {
   "cell_type": "code",
   "execution_count": 120,
   "metadata": {},
   "outputs": [
    {
     "data": {
      "text/plain": [
       "array([1, 1, 1, 1, 1, 1, 1, 1, 1, 1, 1, 1, 1, 1, 1, 1, 1, 1, 1, 1, 1, 1,\n",
       "       1, 1, 1, 1, 1, 1, 1, 1, 1, 1, 1, 1, 1, 1, 1, 1, 1, 1, 1, 1, 1, 1,\n",
       "       1, 1, 1, 1, 1, 1, 1, 1, 1, 1, 1, 1, 1, 1, 1, 1, 0, 0, 0, 0, 0, 0,\n",
       "       0, 0, 0, 0, 0, 0, 0, 0, 0, 0, 0, 0, 0, 0, 0, 0, 0, 0, 0, 0, 0, 0,\n",
       "       0, 0, 0, 0, 0, 0, 0, 0, 0, 0, 0, 0, 0, 0, 0, 0, 0, 0, 0, 0, 0, 0,\n",
       "       0, 0, 0, 0, 0, 0, 0, 0, 0, 0], dtype=int64)"
      ]
     },
     "execution_count": 120,
     "metadata": {},
     "output_type": "execute_result"
    }
   ],
   "source": [
    "y = data.iloc[:, -1].values\n",
    "y"
   ]
  },
  {
   "cell_type": "code",
   "execution_count": 124,
   "metadata": {},
   "outputs": [],
   "source": [
    "X_train, X_test, Y_train, Y_test = train_test_split(X, y, random_state=12, test_size = 0.05)"
   ]
  },
  {
   "cell_type": "code",
   "execution_count": 125,
   "metadata": {},
   "outputs": [],
   "source": [
    "standard_X = StandardScaler()\n",
    "X_train = standard_X.fit_transform(X_train)\n",
    "X_test = standard_X.transform(X_test)"
   ]
  },
  {
   "cell_type": "code",
   "execution_count": 126,
   "metadata": {},
   "outputs": [
    {
     "name": "stdout",
     "output_type": "stream",
     "text": [
      "Best Accuracy: 0.8333333333333334\n",
      "N_neighbors:  9\n"
     ]
    }
   ],
   "source": [
    "training_accuracy = []\n",
    "test_accuracy = []\n",
    "# try n_neighbors from 1 to 100\n",
    "neighbors_settings = range(1, 40)\n",
    "index = 0\n",
    "max_accuracy = 0\n",
    "\n",
    "for n_neighbors in neighbors_settings:\n",
    "    # build the model\n",
    "    knn = KNeighborsClassifier(n_neighbors=n_neighbors)\n",
    "    knn.fit(X_train, Y_train)\n",
    "    # record training set accuracy\n",
    "    training_accuracy.append(knn.score(X_train, Y_train))\n",
    "    # record test set accuracy\n",
    "    accuracy = knn.score(X_test, Y_test)\n",
    "    test_accuracy.append(accuracy)\n",
    "    if(accuracy > max_accuracy):\n",
    "        max_accuracy = accuracy\n",
    "        index = n_neighbors\n",
    "\n",
    "print(\"Best Accuracy:\", max_accuracy)\n",
    "print(\"N_neighbors: \", index)"
   ]
  },
  {
   "cell_type": "code",
   "execution_count": 127,
   "metadata": {},
   "outputs": [
    {
     "data": {
      "text/plain": [
       "KNeighborsClassifier(algorithm='auto', leaf_size=30, metric='minkowski',\n",
       "                     metric_params=None, n_jobs=None, n_neighbors=9, p=2,\n",
       "                     weights='uniform')"
      ]
     },
     "execution_count": 127,
     "metadata": {},
     "output_type": "execute_result"
    }
   ],
   "source": [
    "model = KNeighborsClassifier(n_neighbors=9)\n",
    "model.fit(X_train, Y_train)"
   ]
  },
  {
   "cell_type": "code",
   "execution_count": 128,
   "metadata": {},
   "outputs": [],
   "source": [
    "y_pred = model.predict(X_test)"
   ]
  },
  {
   "cell_type": "code",
   "execution_count": 129,
   "metadata": {},
   "outputs": [
    {
     "name": "stdout",
     "output_type": "stream",
     "text": [
      "[[2 1]\n",
      " [0 3]]\n"
     ]
    }
   ],
   "source": [
    "cm = confusion_matrix(Y_test, y_pred) # Calulate Confusion matrix for test set.\n",
    "print(cm)"
   ]
  },
  {
   "cell_type": "code",
   "execution_count": 130,
   "metadata": {},
   "outputs": [
    {
     "name": "stdout",
     "output_type": "stream",
     "text": [
      "Accuracy: 55.98 %\n",
      "Standard Deviation: 12.12 %\n"
     ]
    }
   ],
   "source": [
    "accuracies = cross_val_score(estimator = model, X = X_train, y = Y_train, cv = 10)\n",
    "print(\"Accuracy: {:.2f} %\".format(accuracies.mean()*100))\n",
    "print(\"Standard Deviation: {:.2f} %\".format(accuracies.std()*100))"
   ]
  },
  {
   "cell_type": "code",
   "execution_count": 131,
   "metadata": {},
   "outputs": [
    {
     "data": {
      "text/html": [
       "<div>\n",
       "<style scoped>\n",
       "    .dataframe tbody tr th:only-of-type {\n",
       "        vertical-align: middle;\n",
       "    }\n",
       "\n",
       "    .dataframe tbody tr th {\n",
       "        vertical-align: top;\n",
       "    }\n",
       "\n",
       "    .dataframe thead th {\n",
       "        text-align: right;\n",
       "    }\n",
       "</style>\n",
       "<table border=\"1\" class=\"dataframe\">\n",
       "  <thead>\n",
       "    <tr style=\"text-align: right;\">\n",
       "      <th></th>\n",
       "      <th>Subject ID</th>\n",
       "      <th>Jitter(local)</th>\n",
       "      <th>Jitter(local, absolute)</th>\n",
       "      <th>Jitter (rap)</th>\n",
       "      <th>Jitter (ppq5)</th>\n",
       "      <th>Jitter (ddp)</th>\n",
       "      <th>Shimmer (local)</th>\n",
       "      <th>Shimmer (local, db)</th>\n",
       "      <th>Shimmer (apq3)</th>\n",
       "      <th>Shimmer (apq5)</th>\n",
       "      <th>...</th>\n",
       "      <th>Minimum pitch</th>\n",
       "      <th>Maximum pitch</th>\n",
       "      <th>Number of pulses</th>\n",
       "      <th>Number of periods</th>\n",
       "      <th>Mean period</th>\n",
       "      <th>Standard deviation of period</th>\n",
       "      <th>Fraction of locally unvoiced frames</th>\n",
       "      <th>Number of voice breaks</th>\n",
       "      <th>Degree of voice breaks</th>\n",
       "      <th>status</th>\n",
       "    </tr>\n",
       "  </thead>\n",
       "  <tbody>\n",
       "    <tr>\n",
       "      <th>0</th>\n",
       "      <td>16</td>\n",
       "      <td>0.014680</td>\n",
       "      <td>0.000086</td>\n",
       "      <td>0.00510</td>\n",
       "      <td>0.00615</td>\n",
       "      <td>0.01530</td>\n",
       "      <td>0.08510</td>\n",
       "      <td>0.0814</td>\n",
       "      <td>0.03719</td>\n",
       "      <td>0.05185</td>\n",
       "      <td>...</td>\n",
       "      <td>82.429</td>\n",
       "      <td>244.408</td>\n",
       "      <td>94</td>\n",
       "      <td>93</td>\n",
       "      <td>0.00582</td>\n",
       "      <td>0.001900</td>\n",
       "      <td>0.00000</td>\n",
       "      <td>0</td>\n",
       "      <td>0.0</td>\n",
       "      <td>1</td>\n",
       "    </tr>\n",
       "    <tr>\n",
       "      <th>1</th>\n",
       "      <td>16</td>\n",
       "      <td>0.001029</td>\n",
       "      <td>0.000047</td>\n",
       "      <td>0.00407</td>\n",
       "      <td>0.00574</td>\n",
       "      <td>0.01220</td>\n",
       "      <td>0.04188</td>\n",
       "      <td>0.5570</td>\n",
       "      <td>0.01337</td>\n",
       "      <td>0.02081</td>\n",
       "      <td>...</td>\n",
       "      <td>187.378</td>\n",
       "      <td>242.159</td>\n",
       "      <td>113</td>\n",
       "      <td>112</td>\n",
       "      <td>0.00457</td>\n",
       "      <td>0.000297</td>\n",
       "      <td>0.00641</td>\n",
       "      <td>0</td>\n",
       "      <td>0.0</td>\n",
       "      <td>1</td>\n",
       "    </tr>\n",
       "    <tr>\n",
       "      <th>2</th>\n",
       "      <td>16</td>\n",
       "      <td>0.013350</td>\n",
       "      <td>0.000056</td>\n",
       "      <td>0.00403</td>\n",
       "      <td>0.00663</td>\n",
       "      <td>0.01210</td>\n",
       "      <td>0.05257</td>\n",
       "      <td>0.7430</td>\n",
       "      <td>0.01663</td>\n",
       "      <td>0.02859</td>\n",
       "      <td>...</td>\n",
       "      <td>108.624</td>\n",
       "      <td>355.665</td>\n",
       "      <td>122</td>\n",
       "      <td>120</td>\n",
       "      <td>0.00420</td>\n",
       "      <td>0.000703</td>\n",
       "      <td>0.02500</td>\n",
       "      <td>0</td>\n",
       "      <td>0.0</td>\n",
       "      <td>1</td>\n",
       "    </tr>\n",
       "    <tr>\n",
       "      <th>3</th>\n",
       "      <td>16</td>\n",
       "      <td>0.021640</td>\n",
       "      <td>0.000113</td>\n",
       "      <td>0.01130</td>\n",
       "      <td>0.01200</td>\n",
       "      <td>0.03389</td>\n",
       "      <td>0.06250</td>\n",
       "      <td>0.0781</td>\n",
       "      <td>0.01745</td>\n",
       "      <td>0.02950</td>\n",
       "      <td>...</td>\n",
       "      <td>184.991</td>\n",
       "      <td>239.213</td>\n",
       "      <td>69</td>\n",
       "      <td>68</td>\n",
       "      <td>0.00524</td>\n",
       "      <td>0.000254</td>\n",
       "      <td>0.07759</td>\n",
       "      <td>0</td>\n",
       "      <td>0.0</td>\n",
       "      <td>1</td>\n",
       "    </tr>\n",
       "    <tr>\n",
       "      <th>4</th>\n",
       "      <td>16</td>\n",
       "      <td>0.020900</td>\n",
       "      <td>0.000095</td>\n",
       "      <td>0.00989</td>\n",
       "      <td>0.01107</td>\n",
       "      <td>0.02966</td>\n",
       "      <td>0.06128</td>\n",
       "      <td>0.8380</td>\n",
       "      <td>0.02133</td>\n",
       "      <td>0.03216</td>\n",
       "      <td>...</td>\n",
       "      <td>178.835</td>\n",
       "      <td>273.413</td>\n",
       "      <td>87</td>\n",
       "      <td>86</td>\n",
       "      <td>0.00456</td>\n",
       "      <td>0.000433</td>\n",
       "      <td>0.01639</td>\n",
       "      <td>0</td>\n",
       "      <td>0.0</td>\n",
       "      <td>1</td>\n",
       "    </tr>\n",
       "  </tbody>\n",
       "</table>\n",
       "<p>5 rows × 28 columns</p>\n",
       "</div>"
      ],
      "text/plain": [
       "   Subject ID  Jitter(local)  Jitter(local, absolute)  Jitter (rap)  \\\n",
       "0          16       0.014680                 0.000086       0.00510   \n",
       "1          16       0.001029                 0.000047       0.00407   \n",
       "2          16       0.013350                 0.000056       0.00403   \n",
       "3          16       0.021640                 0.000113       0.01130   \n",
       "4          16       0.020900                 0.000095       0.00989   \n",
       "\n",
       "   Jitter (ppq5)  Jitter (ddp)  Shimmer (local)  Shimmer (local, db)  \\\n",
       "0        0.00615       0.01530          0.08510               0.0814   \n",
       "1        0.00574       0.01220          0.04188               0.5570   \n",
       "2        0.00663       0.01210          0.05257               0.7430   \n",
       "3        0.01200       0.03389          0.06250               0.0781   \n",
       "4        0.01107       0.02966          0.06128               0.8380   \n",
       "\n",
       "   Shimmer (apq3)  Shimmer (apq5)  ...  Minimum pitch  Maximum pitch  \\\n",
       "0         0.03719         0.05185  ...         82.429        244.408   \n",
       "1         0.01337         0.02081  ...        187.378        242.159   \n",
       "2         0.01663         0.02859  ...        108.624        355.665   \n",
       "3         0.01745         0.02950  ...        184.991        239.213   \n",
       "4         0.02133         0.03216  ...        178.835        273.413   \n",
       "\n",
       "   Number of pulses  Number of periods  Mean period  \\\n",
       "0                94                 93      0.00582   \n",
       "1               113                112      0.00457   \n",
       "2               122                120      0.00420   \n",
       "3                69                 68      0.00524   \n",
       "4                87                 86      0.00456   \n",
       "\n",
       "   Standard deviation of period  Fraction of locally unvoiced frames  \\\n",
       "0                      0.001900                              0.00000   \n",
       "1                      0.000297                              0.00641   \n",
       "2                      0.000703                              0.02500   \n",
       "3                      0.000254                              0.07759   \n",
       "4                      0.000433                              0.01639   \n",
       "\n",
       "   Number of voice breaks  Degree of voice breaks  status  \n",
       "0                       0                     0.0       1  \n",
       "1                       0                     0.0       1  \n",
       "2                       0                     0.0       1  \n",
       "3                       0                     0.0       1  \n",
       "4                       0                     0.0       1  \n",
       "\n",
       "[5 rows x 28 columns]"
      ]
     },
     "execution_count": 131,
     "metadata": {},
     "output_type": "execute_result"
    }
   ],
   "source": [
    "data_test = pd.read_csv(r'../Datasets/Sri Lankan Dataset - Finalised.csv', header = 0)\n",
    "data_test.head()"
   ]
  },
  {
   "cell_type": "code",
   "execution_count": 132,
   "metadata": {},
   "outputs": [
    {
     "data": {
      "text/plain": [
       "(99, 28)"
      ]
     },
     "execution_count": 132,
     "metadata": {},
     "output_type": "execute_result"
    }
   ],
   "source": [
    "data_test.shape"
   ]
  },
  {
   "cell_type": "code",
   "execution_count": 133,
   "metadata": {},
   "outputs": [
    {
     "data": {
      "text/plain": [
       "array([[1.468e-02, 8.550e-05, 5.100e-03, ..., 9.300e+01, 5.820e-03,\n",
       "        1.900e-03],\n",
       "       [1.029e-03, 4.700e-05, 4.070e-03, ..., 1.120e+02, 4.570e-03,\n",
       "        2.970e-04],\n",
       "       [1.335e-02, 5.610e-05, 4.030e-03, ..., 1.200e+02, 4.200e-03,\n",
       "        7.030e-04],\n",
       "       ...,\n",
       "       [6.290e-03, 6.700e-05, 3.600e-03, ..., 4.430e+02, 1.060e-02,\n",
       "        1.460e-04],\n",
       "       [3.880e-03, 4.110e-05, 2.000e-03, ..., 3.310e+02, 1.060e-02,\n",
       "        1.600e-04],\n",
       "       [8.550e-03, 7.950e-05, 4.150e-03, ..., 4.580e+02, 9.300e-03,\n",
       "        2.520e-03]])"
      ]
     },
     "execution_count": 133,
     "metadata": {},
     "output_type": "execute_result"
    }
   ],
   "source": [
    "testing_X = data_test.iloc[:, 1:24].values\n",
    "testing_X"
   ]
  },
  {
   "cell_type": "code",
   "execution_count": 134,
   "metadata": {},
   "outputs": [
    {
     "data": {
      "text/plain": [
       "array([[ 0.85853335,  0.66915057,  0.16458618, ..., -0.90013491,\n",
       "        -0.35002187,  2.00844864],\n",
       "       [-1.0697394 , -0.17256105, -0.0771665 , ..., -0.8349714 ,\n",
       "        -1.14072389, -0.22520751],\n",
       "       [ 0.67066413,  0.02638897, -0.08655496, ..., -0.80753414,\n",
       "        -1.37477169,  0.34052199],\n",
       "       ...,\n",
       "       [-0.32659655,  0.26469174, -0.18748083, ...,  0.30024554,\n",
       "         2.67362267, -0.4356143 ],\n",
       "       [-0.66702124, -0.30155062, -0.56301899, ..., -0.08387621,\n",
       "         2.67362267, -0.41610638],\n",
       "       [-0.00736013,  0.53797474, -0.05838959, ...,  0.35169041,\n",
       "         1.85129256,  2.87237054]])"
      ]
     },
     "execution_count": 134,
     "metadata": {},
     "output_type": "execute_result"
    }
   ],
   "source": [
    "testing_X = standard_X.transform(testing_X)\n",
    "testing_X"
   ]
  },
  {
   "cell_type": "code",
   "execution_count": 135,
   "metadata": {},
   "outputs": [],
   "source": [
    "y_predict_test = model.predict(testing_X)"
   ]
  },
  {
   "cell_type": "code",
   "execution_count": 136,
   "metadata": {},
   "outputs": [
    {
     "data": {
      "text/plain": [
       "array([1, 0, 0, 1, 1, 1, 1, 1, 1, 0, 1, 1, 1, 1, 1, 1, 1, 1, 1, 1, 1, 1,\n",
       "       1, 1, 1, 1, 1, 0, 1, 1, 0, 0, 0, 0, 0, 0, 1, 1, 1, 1, 1, 1, 0, 1,\n",
       "       1, 1, 1, 0, 1, 1, 0, 0, 1, 1, 0, 1, 1, 1, 0, 0, 0, 0, 0, 0, 1, 0,\n",
       "       1, 1, 1, 1, 1, 1, 1, 1, 1, 1, 1, 0, 1, 0, 0, 1, 1, 0, 1, 0, 0, 0,\n",
       "       1, 0, 0, 1, 0, 1, 0, 0, 0, 0, 0], dtype=int64)"
      ]
     },
     "execution_count": 136,
     "metadata": {},
     "output_type": "execute_result"
    }
   ],
   "source": [
    "y_predict_test"
   ]
  },
  {
   "cell_type": "code",
   "execution_count": 137,
   "metadata": {},
   "outputs": [
    {
     "name": "stdout",
     "output_type": "stream",
     "text": [
      "62\n"
     ]
    }
   ],
   "source": [
    "total = 0\n",
    "for i in y_predict_test:\n",
    "    total = total + i\n",
    "    \n",
    "print(total)"
   ]
  },
  {
   "cell_type": "code",
   "execution_count": 138,
   "metadata": {},
   "outputs": [],
   "source": [
    "X_train, X_test, Y_train, Y_test = train_test_split(X, y, random_state=12, test_size = 0.05)"
   ]
  },
  {
   "cell_type": "code",
   "execution_count": 139,
   "metadata": {},
   "outputs": [],
   "source": [
    "min_max_scaler = preprocessing.MinMaxScaler()\n",
    "X_train = min_max_scaler.fit_transform(X_train)\n",
    "X_test = min_max_scaler.transform(X_test)"
   ]
  },
  {
   "cell_type": "code",
   "execution_count": 140,
   "metadata": {},
   "outputs": [
    {
     "data": {
      "text/plain": [
       "GridSearchCV(cv=10, error_score=nan,\n",
       "             estimator=KNeighborsClassifier(algorithm='auto', leaf_size=30,\n",
       "                                            metric='minkowski',\n",
       "                                            metric_params=None, n_jobs=None,\n",
       "                                            n_neighbors=5, p=2,\n",
       "                                            weights='uniform'),\n",
       "             iid='deprecated', n_jobs=None,\n",
       "             param_grid={'n_neighbors': array([ 1,  2,  3,  4,  5,  6,  7,  8,  9, 10, 11, 12, 13, 14, 15, 16, 17,\n",
       "       18, 19, 20, 21, 22, 23, 24, 25, 26, 27, 28, 29, 30, 31, 32, 33, 34,\n",
       "       35, 36, 37, 38, 39, 40, 41, 42, 43, 44, 45, 46, 47, 48, 49])},\n",
       "             pre_dispatch='2*n_jobs', refit=True, return_train_score=False,\n",
       "             scoring=None, verbose=0)"
      ]
     },
     "execution_count": 140,
     "metadata": {},
     "output_type": "execute_result"
    }
   ],
   "source": [
    "from sklearn.model_selection import GridSearchCV\n",
    "#create new a knn model\n",
    "knn2 = KNeighborsClassifier()\n",
    "#create a dictionary of all values we want to test for n_neighbors\n",
    "param_grid = {'n_neighbors': np.arange(1, 50)}\n",
    "#use gridsearch to test all values for n_neighbors\n",
    "knn_gscv = GridSearchCV(knn2, param_grid, cv=10)\n",
    "#fit model to data\n",
    "knn_gscv.fit(X_train, Y_train)"
   ]
  },
  {
   "cell_type": "code",
   "execution_count": 141,
   "metadata": {},
   "outputs": [
    {
     "data": {
      "text/plain": [
       "{'n_neighbors': 5}"
      ]
     },
     "execution_count": 141,
     "metadata": {},
     "output_type": "execute_result"
    }
   ],
   "source": [
    "#check top performing n_neighbors value\n",
    "knn_gscv.best_params_"
   ]
  },
  {
   "cell_type": "code",
   "execution_count": 142,
   "metadata": {},
   "outputs": [
    {
     "data": {
      "text/plain": [
       "0.6136363636363635"
      ]
     },
     "execution_count": 142,
     "metadata": {},
     "output_type": "execute_result"
    }
   ],
   "source": [
    "knn_gscv.best_score_"
   ]
  },
  {
   "cell_type": "code",
   "execution_count": 143,
   "metadata": {},
   "outputs": [
    {
     "name": "stdout",
     "output_type": "stream",
     "text": [
      "Best Accuracy: 0.8333333333333334\n",
      "N_neighbors:  36\n"
     ]
    }
   ],
   "source": [
    "training_accuracy = []\n",
    "test_accuracy = []\n",
    "# try n_neighbors from 1 to 100\n",
    "neighbors_settings = range(1, 100)\n",
    "index = 0\n",
    "max_accuracy = 0\n",
    "\n",
    "for n_neighbors in neighbors_settings:\n",
    "    # build the model\n",
    "    knn = KNeighborsClassifier(n_neighbors=n_neighbors)\n",
    "    knn.fit(X_train, Y_train)\n",
    "    # record training set accuracy\n",
    "    training_accuracy.append(knn.score(X_train, Y_train))\n",
    "    # record test set accuracy\n",
    "    accuracy = knn.score(X_test, Y_test)\n",
    "    test_accuracy.append(accuracy)\n",
    "    if(accuracy > max_accuracy):\n",
    "        max_accuracy = accuracy\n",
    "        index = n_neighbors\n",
    "\n",
    "print(\"Best Accuracy:\", max_accuracy)\n",
    "print(\"N_neighbors: \", index)"
   ]
  },
  {
   "cell_type": "code",
   "execution_count": 144,
   "metadata": {},
   "outputs": [
    {
     "data": {
      "text/plain": [
       "KNeighborsClassifier(algorithm='auto', leaf_size=30, metric='minkowski',\n",
       "                     metric_params=None, n_jobs=None, n_neighbors=5, p=2,\n",
       "                     weights='uniform')"
      ]
     },
     "execution_count": 144,
     "metadata": {},
     "output_type": "execute_result"
    }
   ],
   "source": [
    "model = KNeighborsClassifier(n_neighbors=5)\n",
    "model.fit(X_train, Y_train)"
   ]
  },
  {
   "cell_type": "code",
   "execution_count": 145,
   "metadata": {},
   "outputs": [
    {
     "name": "stdout",
     "output_type": "stream",
     "text": [
      "Accuracy: 61.36 %\n",
      "Standard Deviation: 8.11 %\n"
     ]
    }
   ],
   "source": [
    "accuracies = cross_val_score(estimator = model, X = X_train, y = Y_train, cv = 10)\n",
    "print(\"Accuracy: {:.2f} %\".format(accuracies.mean()*100))\n",
    "print(\"Standard Deviation: {:.2f} %\".format(accuracies.std()*100))"
   ]
  },
  {
   "cell_type": "code",
   "execution_count": 146,
   "metadata": {},
   "outputs": [
    {
     "data": {
      "text/plain": [
       "array([[1.468e-02, 8.550e-05, 5.100e-03, ..., 9.300e+01, 5.820e-03,\n",
       "        1.900e-03],\n",
       "       [1.029e-03, 4.700e-05, 4.070e-03, ..., 1.120e+02, 4.570e-03,\n",
       "        2.970e-04],\n",
       "       [1.335e-02, 5.610e-05, 4.030e-03, ..., 1.200e+02, 4.200e-03,\n",
       "        7.030e-04],\n",
       "       ...,\n",
       "       [6.290e-03, 6.700e-05, 3.600e-03, ..., 4.430e+02, 1.060e-02,\n",
       "        1.460e-04],\n",
       "       [3.880e-03, 4.110e-05, 2.000e-03, ..., 3.310e+02, 1.060e-02,\n",
       "        1.600e-04],\n",
       "       [8.550e-03, 7.950e-05, 4.150e-03, ..., 4.580e+02, 9.300e-03,\n",
       "        2.520e-03]])"
      ]
     },
     "execution_count": 146,
     "metadata": {},
     "output_type": "execute_result"
    }
   ],
   "source": [
    "testing_X = data_test.iloc[:, 1:24].values\n",
    "testing_X"
   ]
  },
  {
   "cell_type": "code",
   "execution_count": 147,
   "metadata": {},
   "outputs": [
    {
     "data": {
      "text/plain": [
       "array([[ 0.30951804,  0.25434041,  0.16179193, ...,  0.03806228,\n",
       "         0.38231429,  0.27616559],\n",
       "       [-0.0210947 ,  0.13039755,  0.1236579 , ...,  0.05121107,\n",
       "         0.21563227,  0.03617821],\n",
       "       [ 0.27730685,  0.15969314,  0.12217697, ...,  0.0567474 ,\n",
       "         0.16629439,  0.09696104],\n",
       "       ...,\n",
       "       [ 0.10632114,  0.19478345,  0.10625694, ...,  0.28027682,\n",
       "         1.01970635,  0.01357179],\n",
       "       [ 0.0479535 ,  0.11140371,  0.04701962, ...,  0.20276817,\n",
       "         1.01970635,  0.01566775],\n",
       "       [ 0.16105595,  0.23502464,  0.12661977, ...,  0.29065744,\n",
       "         0.84635704,  0.36898665]])"
      ]
     },
     "execution_count": 147,
     "metadata": {},
     "output_type": "execute_result"
    }
   ],
   "source": [
    "testing_X = min_max_scaler.transform(testing_X)\n",
    "testing_X"
   ]
  },
  {
   "cell_type": "code",
   "execution_count": 148,
   "metadata": {},
   "outputs": [],
   "source": [
    "y_testing_pred = model.predict(testing_X)"
   ]
  },
  {
   "cell_type": "code",
   "execution_count": 149,
   "metadata": {},
   "outputs": [
    {
     "data": {
      "text/plain": [
       "array([1, 0, 0, 1, 1, 1, 1, 1, 0, 0, 1, 1, 1, 1, 1, 1, 1, 1, 1, 1, 0, 0,\n",
       "       0, 1, 1, 1, 1, 0, 1, 1, 0, 0, 0, 0, 0, 0, 1, 1, 1, 1, 1, 1, 0, 1,\n",
       "       1, 0, 0, 0, 1, 1, 1, 0, 1, 1, 0, 0, 0, 1, 1, 1, 0, 0, 0, 0, 0, 0,\n",
       "       1, 1, 1, 0, 1, 1, 1, 1, 1, 1, 0, 0, 0, 1, 0, 0, 1, 0, 0, 0, 0, 0,\n",
       "       1, 0, 0, 0, 0, 0, 0, 0, 0, 0, 1], dtype=int64)"
      ]
     },
     "execution_count": 149,
     "metadata": {},
     "output_type": "execute_result"
    }
   ],
   "source": [
    "y_testing_pred"
   ]
  },
  {
   "cell_type": "code",
   "execution_count": 150,
   "metadata": {},
   "outputs": [
    {
     "data": {
      "text/plain": [
       "99"
      ]
     },
     "execution_count": 150,
     "metadata": {},
     "output_type": "execute_result"
    }
   ],
   "source": [
    "y_testing_pred.size"
   ]
  },
  {
   "cell_type": "code",
   "execution_count": 151,
   "metadata": {},
   "outputs": [
    {
     "name": "stdout",
     "output_type": "stream",
     "text": [
      "51\n"
     ]
    }
   ],
   "source": [
    "total = 0\n",
    "for i in y_testing_pred:\n",
    "    total = total + i\n",
    "    \n",
    "print(total)"
   ]
  },
  {
   "cell_type": "code",
   "execution_count": 152,
   "metadata": {},
   "outputs": [
    {
     "ename": "SyntaxError",
     "evalue": "invalid character in identifier (<ipython-input-152-90980b4d398a>, line 5)",
     "output_type": "error",
     "traceback": [
      "\u001b[1;36m  File \u001b[1;32m\"<ipython-input-152-90980b4d398a>\"\u001b[1;36m, line \u001b[1;32m5\u001b[0m\n\u001b[1;33m    param_grid = {‘n_neighbors’: np.arange(1, 25)}\u001b[0m\n\u001b[1;37m                              ^\u001b[0m\n\u001b[1;31mSyntaxError\u001b[0m\u001b[1;31m:\u001b[0m invalid character in identifier\n"
     ]
    }
   ],
   "source": [
    "from sklearn.model_selection import GridSearchCV\n",
    "#create new a knn model\n",
    "knn2 = KNeighborsClassifier()\n",
    "#create a dictionary of all values we want to test for n_neighbors\n",
    "param_grid = {‘n_neighbors’: np.arange(1, 25)}\n",
    "#use gridsearch to test all values for n_neighbors\n",
    "knn_gscv = GridSearchCV(knn2, param_grid, cv=5)\n",
    "#fit model to data\n",
    "knn_gscv.fit(X, y)"
   ]
  }
 ],
 "metadata": {
  "kernelspec": {
   "display_name": "Python 3",
   "language": "python",
   "name": "python3"
  },
  "language_info": {
   "codemirror_mode": {
    "name": "ipython",
    "version": 3
   },
   "file_extension": ".py",
   "mimetype": "text/x-python",
   "name": "python",
   "nbconvert_exporter": "python",
   "pygments_lexer": "ipython3",
   "version": "3.7.4"
  }
 },
 "nbformat": 4,
 "nbformat_minor": 4
}
