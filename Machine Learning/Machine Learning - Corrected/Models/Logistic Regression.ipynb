{
 "cells": [
  {
   "cell_type": "code",
   "execution_count": 1,
   "metadata": {},
   "outputs": [],
   "source": [
    "import numpy as np\n",
    "import pandas as pd\n",
    "from sklearn import preprocessing\n",
    "from sklearn.preprocessing import StandardScaler\n",
    "from sklearn.model_selection import train_test_split\n",
    "from sklearn.metrics import accuracy_score\n",
    "from sklearn.linear_model import LogisticRegression\n",
    "from sklearn.metrics import confusion_matrix\n",
    "from sklearn.model_selection import cross_val_score"
   ]
  },
  {
   "cell_type": "code",
   "execution_count": 2,
   "metadata": {},
   "outputs": [
    {
     "data": {
      "text/html": [
       "<div>\n",
       "<style scoped>\n",
       "    .dataframe tbody tr th:only-of-type {\n",
       "        vertical-align: middle;\n",
       "    }\n",
       "\n",
       "    .dataframe tbody tr th {\n",
       "        vertical-align: top;\n",
       "    }\n",
       "\n",
       "    .dataframe thead th {\n",
       "        text-align: right;\n",
       "    }\n",
       "</style>\n",
       "<table border=\"1\" class=\"dataframe\">\n",
       "  <thead>\n",
       "    <tr style=\"text-align: right;\">\n",
       "      <th></th>\n",
       "      <th>Subject Id</th>\n",
       "      <th>Jitter(local)</th>\n",
       "      <th>Jitter(local, absolute)</th>\n",
       "      <th>Jitter (rap)</th>\n",
       "      <th>Jitter (ppq5)</th>\n",
       "      <th>Jitter (ddp)</th>\n",
       "      <th>Shimmer (local)</th>\n",
       "      <th>Shimmer (local, db)</th>\n",
       "      <th>Shimmer (apq3)</th>\n",
       "      <th>Shimmer (apq5)</th>\n",
       "      <th>...</th>\n",
       "      <th>Maximum pitch</th>\n",
       "      <th>Number of pulses</th>\n",
       "      <th>Number of periods</th>\n",
       "      <th>Mean period</th>\n",
       "      <th>Standard deviation of period</th>\n",
       "      <th>Fraction of locally unvoiced frames</th>\n",
       "      <th>Number of voice breaks</th>\n",
       "      <th>Degree of voice breaks</th>\n",
       "      <th>UPDRS</th>\n",
       "      <th>status</th>\n",
       "    </tr>\n",
       "  </thead>\n",
       "  <tbody>\n",
       "    <tr>\n",
       "      <th>0</th>\n",
       "      <td>1</td>\n",
       "      <td>0.01488</td>\n",
       "      <td>0.000090</td>\n",
       "      <td>0.00900</td>\n",
       "      <td>0.00794</td>\n",
       "      <td>0.02699</td>\n",
       "      <td>0.08334</td>\n",
       "      <td>0.779</td>\n",
       "      <td>0.04517</td>\n",
       "      <td>0.04609</td>\n",
       "      <td>...</td>\n",
       "      <td>187.576</td>\n",
       "      <td>160</td>\n",
       "      <td>159</td>\n",
       "      <td>0.006065</td>\n",
       "      <td>0.000416</td>\n",
       "      <td>0.00000</td>\n",
       "      <td>0</td>\n",
       "      <td>0.00000</td>\n",
       "      <td>23</td>\n",
       "      <td>1</td>\n",
       "    </tr>\n",
       "    <tr>\n",
       "      <th>1</th>\n",
       "      <td>1</td>\n",
       "      <td>0.00728</td>\n",
       "      <td>0.000038</td>\n",
       "      <td>0.00353</td>\n",
       "      <td>0.00376</td>\n",
       "      <td>0.01059</td>\n",
       "      <td>0.05864</td>\n",
       "      <td>0.642</td>\n",
       "      <td>0.02058</td>\n",
       "      <td>0.03180</td>\n",
       "      <td>...</td>\n",
       "      <td>234.505</td>\n",
       "      <td>170</td>\n",
       "      <td>169</td>\n",
       "      <td>0.005181</td>\n",
       "      <td>0.000403</td>\n",
       "      <td>0.02247</td>\n",
       "      <td>0</td>\n",
       "      <td>0.00000</td>\n",
       "      <td>23</td>\n",
       "      <td>1</td>\n",
       "    </tr>\n",
       "    <tr>\n",
       "      <th>2</th>\n",
       "      <td>1</td>\n",
       "      <td>0.00472</td>\n",
       "      <td>0.000031</td>\n",
       "      <td>0.00224</td>\n",
       "      <td>0.00245</td>\n",
       "      <td>0.00673</td>\n",
       "      <td>0.06404</td>\n",
       "      <td>0.629</td>\n",
       "      <td>0.03434</td>\n",
       "      <td>0.03765</td>\n",
       "      <td>...</td>\n",
       "      <td>190.019</td>\n",
       "      <td>675</td>\n",
       "      <td>673</td>\n",
       "      <td>0.006649</td>\n",
       "      <td>0.000132</td>\n",
       "      <td>0.26180</td>\n",
       "      <td>1</td>\n",
       "      <td>0.26325</td>\n",
       "      <td>23</td>\n",
       "      <td>1</td>\n",
       "    </tr>\n",
       "    <tr>\n",
       "      <th>3</th>\n",
       "      <td>2</td>\n",
       "      <td>0.00427</td>\n",
       "      <td>0.000034</td>\n",
       "      <td>0.00243</td>\n",
       "      <td>0.00249</td>\n",
       "      <td>0.00728</td>\n",
       "      <td>0.07428</td>\n",
       "      <td>0.694</td>\n",
       "      <td>0.04205</td>\n",
       "      <td>0.04311</td>\n",
       "      <td>...</td>\n",
       "      <td>129.205</td>\n",
       "      <td>345</td>\n",
       "      <td>344</td>\n",
       "      <td>0.008073</td>\n",
       "      <td>0.000143</td>\n",
       "      <td>0.00000</td>\n",
       "      <td>0</td>\n",
       "      <td>0.00000</td>\n",
       "      <td>8</td>\n",
       "      <td>1</td>\n",
       "    </tr>\n",
       "    <tr>\n",
       "      <th>4</th>\n",
       "      <td>2</td>\n",
       "      <td>0.00844</td>\n",
       "      <td>0.000069</td>\n",
       "      <td>0.00509</td>\n",
       "      <td>0.00489</td>\n",
       "      <td>0.01527</td>\n",
       "      <td>0.14053</td>\n",
       "      <td>1.239</td>\n",
       "      <td>0.06131</td>\n",
       "      <td>0.07015</td>\n",
       "      <td>...</td>\n",
       "      <td>126.788</td>\n",
       "      <td>585</td>\n",
       "      <td>582</td>\n",
       "      <td>0.008174</td>\n",
       "      <td>0.000123</td>\n",
       "      <td>0.00209</td>\n",
       "      <td>2</td>\n",
       "      <td>0.00768</td>\n",
       "      <td>8</td>\n",
       "      <td>1</td>\n",
       "    </tr>\n",
       "  </tbody>\n",
       "</table>\n",
       "<p>5 rows × 29 columns</p>\n",
       "</div>"
      ],
      "text/plain": [
       "   Subject Id  Jitter(local)  Jitter(local, absolute)  Jitter (rap)  \\\n",
       "0           1        0.01488                 0.000090       0.00900   \n",
       "1           1        0.00728                 0.000038       0.00353   \n",
       "2           1        0.00472                 0.000031       0.00224   \n",
       "3           2        0.00427                 0.000034       0.00243   \n",
       "4           2        0.00844                 0.000069       0.00509   \n",
       "\n",
       "   Jitter (ppq5)  Jitter (ddp)  Shimmer (local)  Shimmer (local, db)  \\\n",
       "0        0.00794       0.02699          0.08334                0.779   \n",
       "1        0.00376       0.01059          0.05864                0.642   \n",
       "2        0.00245       0.00673          0.06404                0.629   \n",
       "3        0.00249       0.00728          0.07428                0.694   \n",
       "4        0.00489       0.01527          0.14053                1.239   \n",
       "\n",
       "   Shimmer (apq3)  Shimmer (apq5)  ...  Maximum pitch  Number of pulses  \\\n",
       "0         0.04517         0.04609  ...        187.576               160   \n",
       "1         0.02058         0.03180  ...        234.505               170   \n",
       "2         0.03434         0.03765  ...        190.019               675   \n",
       "3         0.04205         0.04311  ...        129.205               345   \n",
       "4         0.06131         0.07015  ...        126.788               585   \n",
       "\n",
       "   Number of periods  Mean period  Standard deviation of period  \\\n",
       "0                159     0.006065                      0.000416   \n",
       "1                169     0.005181                      0.000403   \n",
       "2                673     0.006649                      0.000132   \n",
       "3                344     0.008073                      0.000143   \n",
       "4                582     0.008174                      0.000123   \n",
       "\n",
       "   Fraction of locally unvoiced frames  Number of voice breaks  \\\n",
       "0                              0.00000                       0   \n",
       "1                              0.02247                       0   \n",
       "2                              0.26180                       1   \n",
       "3                              0.00000                       0   \n",
       "4                              0.00209                       2   \n",
       "\n",
       "   Degree of voice breaks  UPDRS  status  \n",
       "0                 0.00000     23       1  \n",
       "1                 0.00000     23       1  \n",
       "2                 0.26325     23       1  \n",
       "3                 0.00000      8       1  \n",
       "4                 0.00768      8       1  \n",
       "\n",
       "[5 rows x 29 columns]"
      ]
     },
     "execution_count": 2,
     "metadata": {},
     "output_type": "execute_result"
    }
   ],
   "source": [
    "data = pd.read_csv(r'..\\Datasets\\Parkinsons Processed Training - Only Vowels - Sri Lankan.csv', header = 0)\n",
    "data.head()"
   ]
  },
  {
   "cell_type": "code",
   "execution_count": 3,
   "metadata": {},
   "outputs": [
    {
     "data": {
      "text/plain": [
       "(120, 29)"
      ]
     },
     "execution_count": 3,
     "metadata": {},
     "output_type": "execute_result"
    }
   ],
   "source": [
    "data.shape"
   ]
  },
  {
   "cell_type": "code",
   "execution_count": 5,
   "metadata": {},
   "outputs": [],
   "source": [
    "X_table = data.iloc[:, 1:24]"
   ]
  },
  {
   "cell_type": "code",
   "execution_count": 6,
   "metadata": {},
   "outputs": [
    {
     "data": {
      "text/html": [
       "<div>\n",
       "<style scoped>\n",
       "    .dataframe tbody tr th:only-of-type {\n",
       "        vertical-align: middle;\n",
       "    }\n",
       "\n",
       "    .dataframe tbody tr th {\n",
       "        vertical-align: top;\n",
       "    }\n",
       "\n",
       "    .dataframe thead th {\n",
       "        text-align: right;\n",
       "    }\n",
       "</style>\n",
       "<table border=\"1\" class=\"dataframe\">\n",
       "  <thead>\n",
       "    <tr style=\"text-align: right;\">\n",
       "      <th></th>\n",
       "      <th>Jitter(local)</th>\n",
       "      <th>Jitter(local, absolute)</th>\n",
       "      <th>Jitter (rap)</th>\n",
       "      <th>Jitter (ppq5)</th>\n",
       "      <th>Jitter (ddp)</th>\n",
       "      <th>Shimmer (local)</th>\n",
       "      <th>Shimmer (local, db)</th>\n",
       "      <th>Shimmer (apq3)</th>\n",
       "      <th>Shimmer (apq5)</th>\n",
       "      <th>Shimmer (apq11)</th>\n",
       "      <th>...</th>\n",
       "      <th>HTM</th>\n",
       "      <th>Median Pitch</th>\n",
       "      <th>Mean Pitch</th>\n",
       "      <th>Standard deviation</th>\n",
       "      <th>Minimum pitch</th>\n",
       "      <th>Maximum pitch</th>\n",
       "      <th>Number of pulses</th>\n",
       "      <th>Number of periods</th>\n",
       "      <th>Mean period</th>\n",
       "      <th>Standard deviation of period</th>\n",
       "    </tr>\n",
       "  </thead>\n",
       "  <tbody>\n",
       "    <tr>\n",
       "      <th>0</th>\n",
       "      <td>0.01488</td>\n",
       "      <td>0.000090</td>\n",
       "      <td>0.00900</td>\n",
       "      <td>0.00794</td>\n",
       "      <td>0.02699</td>\n",
       "      <td>0.08334</td>\n",
       "      <td>0.779</td>\n",
       "      <td>0.04517</td>\n",
       "      <td>0.04609</td>\n",
       "      <td>0.06802</td>\n",
       "      <td>...</td>\n",
       "      <td>11.130</td>\n",
       "      <td>166.533</td>\n",
       "      <td>164.781</td>\n",
       "      <td>10.421</td>\n",
       "      <td>142.229</td>\n",
       "      <td>187.576</td>\n",
       "      <td>160</td>\n",
       "      <td>159</td>\n",
       "      <td>0.006065</td>\n",
       "      <td>0.000416</td>\n",
       "    </tr>\n",
       "    <tr>\n",
       "      <th>1</th>\n",
       "      <td>0.00728</td>\n",
       "      <td>0.000038</td>\n",
       "      <td>0.00353</td>\n",
       "      <td>0.00376</td>\n",
       "      <td>0.01059</td>\n",
       "      <td>0.05864</td>\n",
       "      <td>0.642</td>\n",
       "      <td>0.02058</td>\n",
       "      <td>0.03180</td>\n",
       "      <td>0.07194</td>\n",
       "      <td>...</td>\n",
       "      <td>17.403</td>\n",
       "      <td>195.252</td>\n",
       "      <td>193.289</td>\n",
       "      <td>14.773</td>\n",
       "      <td>159.515</td>\n",
       "      <td>234.505</td>\n",
       "      <td>170</td>\n",
       "      <td>169</td>\n",
       "      <td>0.005181</td>\n",
       "      <td>0.000403</td>\n",
       "    </tr>\n",
       "    <tr>\n",
       "      <th>2</th>\n",
       "      <td>0.00472</td>\n",
       "      <td>0.000031</td>\n",
       "      <td>0.00224</td>\n",
       "      <td>0.00245</td>\n",
       "      <td>0.00673</td>\n",
       "      <td>0.06404</td>\n",
       "      <td>0.629</td>\n",
       "      <td>0.03434</td>\n",
       "      <td>0.03765</td>\n",
       "      <td>0.05138</td>\n",
       "      <td>...</td>\n",
       "      <td>17.809</td>\n",
       "      <td>150.215</td>\n",
       "      <td>150.379</td>\n",
       "      <td>3.027</td>\n",
       "      <td>141.083</td>\n",
       "      <td>190.019</td>\n",
       "      <td>675</td>\n",
       "      <td>673</td>\n",
       "      <td>0.006649</td>\n",
       "      <td>0.000132</td>\n",
       "    </tr>\n",
       "    <tr>\n",
       "      <th>3</th>\n",
       "      <td>0.00427</td>\n",
       "      <td>0.000034</td>\n",
       "      <td>0.00243</td>\n",
       "      <td>0.00249</td>\n",
       "      <td>0.00728</td>\n",
       "      <td>0.07428</td>\n",
       "      <td>0.694</td>\n",
       "      <td>0.04205</td>\n",
       "      <td>0.04311</td>\n",
       "      <td>0.05250</td>\n",
       "      <td>...</td>\n",
       "      <td>15.267</td>\n",
       "      <td>124.171</td>\n",
       "      <td>123.883</td>\n",
       "      <td>2.179</td>\n",
       "      <td>118.461</td>\n",
       "      <td>129.205</td>\n",
       "      <td>345</td>\n",
       "      <td>344</td>\n",
       "      <td>0.008073</td>\n",
       "      <td>0.000143</td>\n",
       "    </tr>\n",
       "    <tr>\n",
       "      <th>4</th>\n",
       "      <td>0.00844</td>\n",
       "      <td>0.000069</td>\n",
       "      <td>0.00509</td>\n",
       "      <td>0.00489</td>\n",
       "      <td>0.01527</td>\n",
       "      <td>0.14053</td>\n",
       "      <td>1.239</td>\n",
       "      <td>0.06131</td>\n",
       "      <td>0.07015</td>\n",
       "      <td>0.09260</td>\n",
       "      <td>...</td>\n",
       "      <td>10.747</td>\n",
       "      <td>122.220</td>\n",
       "      <td>122.381</td>\n",
       "      <td>1.650</td>\n",
       "      <td>118.020</td>\n",
       "      <td>126.788</td>\n",
       "      <td>585</td>\n",
       "      <td>582</td>\n",
       "      <td>0.008174</td>\n",
       "      <td>0.000123</td>\n",
       "    </tr>\n",
       "    <tr>\n",
       "      <th>...</th>\n",
       "      <td>...</td>\n",
       "      <td>...</td>\n",
       "      <td>...</td>\n",
       "      <td>...</td>\n",
       "      <td>...</td>\n",
       "      <td>...</td>\n",
       "      <td>...</td>\n",
       "      <td>...</td>\n",
       "      <td>...</td>\n",
       "      <td>...</td>\n",
       "      <td>...</td>\n",
       "      <td>...</td>\n",
       "      <td>...</td>\n",
       "      <td>...</td>\n",
       "      <td>...</td>\n",
       "      <td>...</td>\n",
       "      <td>...</td>\n",
       "      <td>...</td>\n",
       "      <td>...</td>\n",
       "      <td>...</td>\n",
       "      <td>...</td>\n",
       "    </tr>\n",
       "    <tr>\n",
       "      <th>115</th>\n",
       "      <td>0.00601</td>\n",
       "      <td>0.000031</td>\n",
       "      <td>0.00316</td>\n",
       "      <td>0.00339</td>\n",
       "      <td>0.00947</td>\n",
       "      <td>0.07492</td>\n",
       "      <td>0.681</td>\n",
       "      <td>0.03729</td>\n",
       "      <td>0.04581</td>\n",
       "      <td>0.06352</td>\n",
       "      <td>...</td>\n",
       "      <td>16.770</td>\n",
       "      <td>202.463</td>\n",
       "      <td>193.859</td>\n",
       "      <td>28.380</td>\n",
       "      <td>99.593</td>\n",
       "      <td>214.486</td>\n",
       "      <td>215</td>\n",
       "      <td>213</td>\n",
       "      <td>0.005161</td>\n",
       "      <td>0.001022</td>\n",
       "    </tr>\n",
       "    <tr>\n",
       "      <th>116</th>\n",
       "      <td>0.00382</td>\n",
       "      <td>0.000017</td>\n",
       "      <td>0.00169</td>\n",
       "      <td>0.00203</td>\n",
       "      <td>0.00508</td>\n",
       "      <td>0.06905</td>\n",
       "      <td>0.648</td>\n",
       "      <td>0.02728</td>\n",
       "      <td>0.03968</td>\n",
       "      <td>0.06920</td>\n",
       "      <td>...</td>\n",
       "      <td>19.500</td>\n",
       "      <td>221.165</td>\n",
       "      <td>222.804</td>\n",
       "      <td>6.486</td>\n",
       "      <td>205.108</td>\n",
       "      <td>237.431</td>\n",
       "      <td>188</td>\n",
       "      <td>187</td>\n",
       "      <td>0.004490</td>\n",
       "      <td>0.000134</td>\n",
       "    </tr>\n",
       "    <tr>\n",
       "      <th>117</th>\n",
       "      <td>0.00471</td>\n",
       "      <td>0.000034</td>\n",
       "      <td>0.00186</td>\n",
       "      <td>0.00230</td>\n",
       "      <td>0.00558</td>\n",
       "      <td>0.02793</td>\n",
       "      <td>0.260</td>\n",
       "      <td>0.01183</td>\n",
       "      <td>0.01520</td>\n",
       "      <td>0.02576</td>\n",
       "      <td>...</td>\n",
       "      <td>22.797</td>\n",
       "      <td>138.697</td>\n",
       "      <td>139.265</td>\n",
       "      <td>2.273</td>\n",
       "      <td>132.744</td>\n",
       "      <td>145.840</td>\n",
       "      <td>176</td>\n",
       "      <td>175</td>\n",
       "      <td>0.007179</td>\n",
       "      <td>0.000130</td>\n",
       "    </tr>\n",
       "    <tr>\n",
       "      <th>118</th>\n",
       "      <td>0.04319</td>\n",
       "      <td>0.000317</td>\n",
       "      <td>0.02774</td>\n",
       "      <td>0.01708</td>\n",
       "      <td>0.08322</td>\n",
       "      <td>0.13924</td>\n",
       "      <td>1.195</td>\n",
       "      <td>0.08558</td>\n",
       "      <td>0.06036</td>\n",
       "      <td>0.08585</td>\n",
       "      <td>...</td>\n",
       "      <td>12.266</td>\n",
       "      <td>136.805</td>\n",
       "      <td>136.026</td>\n",
       "      <td>4.846</td>\n",
       "      <td>124.543</td>\n",
       "      <td>165.029</td>\n",
       "      <td>258</td>\n",
       "      <td>256</td>\n",
       "      <td>0.007343</td>\n",
       "      <td>0.000312</td>\n",
       "    </tr>\n",
       "    <tr>\n",
       "      <th>119</th>\n",
       "      <td>0.01543</td>\n",
       "      <td>0.000103</td>\n",
       "      <td>0.01004</td>\n",
       "      <td>0.00648</td>\n",
       "      <td>0.03012</td>\n",
       "      <td>0.17447</td>\n",
       "      <td>1.694</td>\n",
       "      <td>0.11171</td>\n",
       "      <td>0.06851</td>\n",
       "      <td>0.09395</td>\n",
       "      <td>...</td>\n",
       "      <td>16.199</td>\n",
       "      <td>149.185</td>\n",
       "      <td>149.272</td>\n",
       "      <td>1.886</td>\n",
       "      <td>141.443</td>\n",
       "      <td>158.612</td>\n",
       "      <td>426</td>\n",
       "      <td>425</td>\n",
       "      <td>0.006700</td>\n",
       "      <td>0.000108</td>\n",
       "    </tr>\n",
       "  </tbody>\n",
       "</table>\n",
       "<p>120 rows × 23 columns</p>\n",
       "</div>"
      ],
      "text/plain": [
       "     Jitter(local)  Jitter(local, absolute)  Jitter (rap)  Jitter (ppq5)  \\\n",
       "0          0.01488                 0.000090       0.00900        0.00794   \n",
       "1          0.00728                 0.000038       0.00353        0.00376   \n",
       "2          0.00472                 0.000031       0.00224        0.00245   \n",
       "3          0.00427                 0.000034       0.00243        0.00249   \n",
       "4          0.00844                 0.000069       0.00509        0.00489   \n",
       "..             ...                      ...           ...            ...   \n",
       "115        0.00601                 0.000031       0.00316        0.00339   \n",
       "116        0.00382                 0.000017       0.00169        0.00203   \n",
       "117        0.00471                 0.000034       0.00186        0.00230   \n",
       "118        0.04319                 0.000317       0.02774        0.01708   \n",
       "119        0.01543                 0.000103       0.01004        0.00648   \n",
       "\n",
       "     Jitter (ddp)  Shimmer (local)  Shimmer (local, db)  Shimmer (apq3)  \\\n",
       "0         0.02699          0.08334                0.779         0.04517   \n",
       "1         0.01059          0.05864                0.642         0.02058   \n",
       "2         0.00673          0.06404                0.629         0.03434   \n",
       "3         0.00728          0.07428                0.694         0.04205   \n",
       "4         0.01527          0.14053                1.239         0.06131   \n",
       "..            ...              ...                  ...             ...   \n",
       "115       0.00947          0.07492                0.681         0.03729   \n",
       "116       0.00508          0.06905                0.648         0.02728   \n",
       "117       0.00558          0.02793                0.260         0.01183   \n",
       "118       0.08322          0.13924                1.195         0.08558   \n",
       "119       0.03012          0.17447                1.694         0.11171   \n",
       "\n",
       "     Shimmer (apq5)  Shimmer (apq11)  ...     HTM  Median Pitch  Mean Pitch  \\\n",
       "0           0.04609          0.06802  ...  11.130       166.533     164.781   \n",
       "1           0.03180          0.07194  ...  17.403       195.252     193.289   \n",
       "2           0.03765          0.05138  ...  17.809       150.215     150.379   \n",
       "3           0.04311          0.05250  ...  15.267       124.171     123.883   \n",
       "4           0.07015          0.09260  ...  10.747       122.220     122.381   \n",
       "..              ...              ...  ...     ...           ...         ...   \n",
       "115         0.04581          0.06352  ...  16.770       202.463     193.859   \n",
       "116         0.03968          0.06920  ...  19.500       221.165     222.804   \n",
       "117         0.01520          0.02576  ...  22.797       138.697     139.265   \n",
       "118         0.06036          0.08585  ...  12.266       136.805     136.026   \n",
       "119         0.06851          0.09395  ...  16.199       149.185     149.272   \n",
       "\n",
       "     Standard deviation  Minimum pitch  Maximum pitch  Number of pulses  \\\n",
       "0                10.421        142.229        187.576               160   \n",
       "1                14.773        159.515        234.505               170   \n",
       "2                 3.027        141.083        190.019               675   \n",
       "3                 2.179        118.461        129.205               345   \n",
       "4                 1.650        118.020        126.788               585   \n",
       "..                  ...            ...            ...               ...   \n",
       "115              28.380         99.593        214.486               215   \n",
       "116               6.486        205.108        237.431               188   \n",
       "117               2.273        132.744        145.840               176   \n",
       "118               4.846        124.543        165.029               258   \n",
       "119               1.886        141.443        158.612               426   \n",
       "\n",
       "     Number of periods  Mean period  Standard deviation of period  \n",
       "0                  159     0.006065                      0.000416  \n",
       "1                  169     0.005181                      0.000403  \n",
       "2                  673     0.006649                      0.000132  \n",
       "3                  344     0.008073                      0.000143  \n",
       "4                  582     0.008174                      0.000123  \n",
       "..                 ...          ...                           ...  \n",
       "115                213     0.005161                      0.001022  \n",
       "116                187     0.004490                      0.000134  \n",
       "117                175     0.007179                      0.000130  \n",
       "118                256     0.007343                      0.000312  \n",
       "119                425     0.006700                      0.000108  \n",
       "\n",
       "[120 rows x 23 columns]"
      ]
     },
     "execution_count": 6,
     "metadata": {},
     "output_type": "execute_result"
    }
   ],
   "source": [
    "X_table"
   ]
  },
  {
   "cell_type": "code",
   "execution_count": 7,
   "metadata": {},
   "outputs": [
    {
     "data": {
      "text/plain": [
       "array([[1.488000e-02, 9.021300e-05, 9.000000e-03, ..., 1.590000e+02,\n",
       "        6.064725e-03, 4.162760e-04],\n",
       "       [7.280000e-03, 3.769800e-05, 3.530000e-03, ..., 1.690000e+02,\n",
       "        5.181253e-03, 4.034940e-04],\n",
       "       [4.720000e-03, 3.137300e-05, 2.240000e-03, ..., 6.730000e+02,\n",
       "        6.649119e-03, 1.321080e-04],\n",
       "       ...,\n",
       "       [4.710000e-03, 3.383700e-05, 1.860000e-03, ..., 1.750000e+02,\n",
       "        7.178780e-03, 1.298030e-04],\n",
       "       [4.319000e-02, 3.171220e-04, 2.774000e-02, ..., 2.560000e+02,\n",
       "        7.342534e-03, 3.119150e-04],\n",
       "       [1.543000e-02, 1.033570e-04, 1.004000e-02, ..., 4.250000e+02,\n",
       "        6.700038e-03, 1.082910e-04]])"
      ]
     },
     "execution_count": 7,
     "metadata": {},
     "output_type": "execute_result"
    }
   ],
   "source": [
    "X = data.iloc[:, 1:24].values\n",
    "X"
   ]
  },
  {
   "cell_type": "code",
   "execution_count": 8,
   "metadata": {},
   "outputs": [],
   "source": [
    "y = data.iloc[:, -1].values"
   ]
  },
  {
   "cell_type": "code",
   "execution_count": 9,
   "metadata": {},
   "outputs": [
    {
     "data": {
      "text/plain": [
       "array([1, 1, 1, 1, 1, 1, 1, 1, 1, 1, 1, 1, 1, 1, 1, 1, 1, 1, 1, 1, 1, 1,\n",
       "       1, 1, 1, 1, 1, 1, 1, 1, 1, 1, 1, 1, 1, 1, 1, 1, 1, 1, 1, 1, 1, 1,\n",
       "       1, 1, 1, 1, 1, 1, 1, 1, 1, 1, 1, 1, 1, 1, 1, 1, 0, 0, 0, 0, 0, 0,\n",
       "       0, 0, 0, 0, 0, 0, 0, 0, 0, 0, 0, 0, 0, 0, 0, 0, 0, 0, 0, 0, 0, 0,\n",
       "       0, 0, 0, 0, 0, 0, 0, 0, 0, 0, 0, 0, 0, 0, 0, 0, 0, 0, 0, 0, 0, 0,\n",
       "       0, 0, 0, 0, 0, 0, 0, 0, 0, 0], dtype=int64)"
      ]
     },
     "execution_count": 9,
     "metadata": {},
     "output_type": "execute_result"
    }
   ],
   "source": [
    "y"
   ]
  },
  {
   "cell_type": "code",
   "execution_count": 10,
   "metadata": {},
   "outputs": [
    {
     "data": {
      "text/plain": [
       "120"
      ]
     },
     "execution_count": 10,
     "metadata": {},
     "output_type": "execute_result"
    }
   ],
   "source": [
    "y.size"
   ]
  },
  {
   "cell_type": "code",
   "execution_count": 12,
   "metadata": {},
   "outputs": [],
   "source": [
    "X_train, X_test, Y_train, Y_test = train_test_split(X, y, random_state=12, test_size = 0.05)"
   ]
  },
  {
   "cell_type": "code",
   "execution_count": 13,
   "metadata": {},
   "outputs": [],
   "source": [
    "standard_X = StandardScaler()\n",
    "X_train = standard_X.fit_transform(X_train)\n",
    "X_test = standard_X.transform(X_test)"
   ]
  },
  {
   "cell_type": "code",
   "execution_count": 14,
   "metadata": {},
   "outputs": [
    {
     "data": {
      "text/plain": [
       "array([[-0.47582385, -0.25413313, -0.66856381, ..., -0.69276098,\n",
       "         1.18547244,  0.65223381],\n",
       "       [-0.11928969, -0.30568555, -0.16953713, ..., -0.67933618,\n",
       "        -0.66592172,  0.06844739],\n",
       "       [-0.50191171, -0.48906679, -0.6425482 , ..., -0.21282432,\n",
       "         0.02572184,  1.17282677],\n",
       "       ...,\n",
       "       [-0.05696868, -0.10989273, -0.1340613 , ..., -0.21618052,\n",
       "        -0.15667352,  0.1624282 ],\n",
       "       [ 0.11260245,  0.90597372, -0.17190218, ..., -0.91762641,\n",
       "         2.43736423,  1.04568876],\n",
       "       [-0.02653283,  0.18182396,  0.11190446, ...,  0.62958198,\n",
       "         0.73221524, -0.6968619 ]])"
      ]
     },
     "execution_count": 14,
     "metadata": {},
     "output_type": "execute_result"
    }
   ],
   "source": [
    "X_train"
   ]
  },
  {
   "cell_type": "code",
   "execution_count": 15,
   "metadata": {},
   "outputs": [
    {
     "data": {
      "text/plain": [
       "array([[ 0.28217357,  0.2922871 , -0.06310964, -0.17417162, -0.06304857,\n",
       "        -0.75331427, -0.55445741, -0.76528054, -0.66609614, -0.69003663,\n",
       "        -0.76516922,  0.3084593 , -0.20324423,  1.01284909, -0.29396213,\n",
       "        -0.33844259, -0.24005009, -0.2433175 , -0.4904014 , -0.75513068,\n",
       "        -0.74981639,  0.07876344, -0.11943653],\n",
       "       [ 0.4068156 ,  0.17169521,  0.5447096 ,  0.34834323,  0.54471531,\n",
       "         1.68874841,  1.54504888,  1.61263962,  2.34292106,  1.35454907,\n",
       "         1.6126087 , -0.95016882,  0.7269022 , -1.40614805,  0.23924838,\n",
       "         0.25966106, -0.03626776,  0.43902381,  0.51139016, -0.29867834,\n",
       "        -0.29337313, -0.5180547 , -0.18767531],\n",
       "       [-0.74539846, -0.69059998, -0.77262625, -0.78873571, -0.77328885,\n",
       "        -0.87455142, -0.95159854, -0.91894602, -0.8440928 , -0.81524832,\n",
       "        -0.91906917,  0.66749836, -0.57697709,  1.51429899, -0.48831184,\n",
       "        -0.54080413, -0.43537516, -0.23933811, -0.63039845, -0.76519948,\n",
       "        -0.75988499,  0.33635209, -0.50054494],\n",
       "       [ 0.02274425,  0.12812167, -0.42732816, -0.29870883, -0.42644565,\n",
       "        -0.13964958,  0.02848073, -0.480964  , -0.40701817,  0.55077081,\n",
       "        -0.4809736 , -0.03029387,  0.04965572, -0.29240329, -0.71118265,\n",
       "        -0.51377844,  2.21266394, -0.48011137,  2.96157194, -0.72492427,\n",
       "        -0.72632299,  0.37750395,  2.49480257],\n",
       "       [ 0.48507919,  0.01688279,  0.30347395,  0.0640735 ,  0.30350163,\n",
       "        -0.03592883, -0.12480181, -0.07095335, -0.03955881,  0.18779155,\n",
       "        -0.07108514, -0.1346308 ,  0.175805  , -0.66200416,  0.99840796,\n",
       "         0.99862522,  0.05299138,  0.94186208,  0.44572561, -0.92965657,\n",
       "        -0.92433881, -1.03320466, -0.30142042],\n",
       "       [ 1.87788134,  1.73992172,  1.88096589,  1.85361917,  1.88084992,\n",
       "         0.96860759,  1.0457194 ,  0.97354702,  0.82530841,  1.65640349,\n",
       "         0.97364063, -1.01569969,  0.70459434, -1.47710294, -0.24213414,\n",
       "        -0.1943125 , -0.0451021 , -0.03780487, -0.35947096, -0.88266883,\n",
       "        -0.87735201, -0.07652375,  0.13699697]])"
      ]
     },
     "execution_count": 15,
     "metadata": {},
     "output_type": "execute_result"
    }
   ],
   "source": [
    "X_test"
   ]
  },
  {
   "cell_type": "code",
   "execution_count": 16,
   "metadata": {},
   "outputs": [],
   "source": [
    "model = LogisticRegression()"
   ]
  },
  {
   "cell_type": "code",
   "execution_count": 17,
   "metadata": {},
   "outputs": [
    {
     "data": {
      "text/plain": [
       "LogisticRegression(C=1.0, class_weight=None, dual=False, fit_intercept=True,\n",
       "                   intercept_scaling=1, l1_ratio=None, max_iter=100,\n",
       "                   multi_class='auto', n_jobs=None, penalty='l2',\n",
       "                   random_state=None, solver='lbfgs', tol=0.0001, verbose=0,\n",
       "                   warm_start=False)"
      ]
     },
     "execution_count": 17,
     "metadata": {},
     "output_type": "execute_result"
    }
   ],
   "source": [
    "model.fit(X_train, Y_train)"
   ]
  },
  {
   "cell_type": "code",
   "execution_count": 18,
   "metadata": {},
   "outputs": [],
   "source": [
    "y_pred = model.predict(X_test)"
   ]
  },
  {
   "cell_type": "code",
   "execution_count": 19,
   "metadata": {},
   "outputs": [
    {
     "name": "stdout",
     "output_type": "stream",
     "text": [
      "[[3 0]\n",
      " [2 1]]\n"
     ]
    }
   ],
   "source": [
    "cm = confusion_matrix(Y_test, y_pred) # Calulate Confusion matrix for test set.\n",
    "print(cm)"
   ]
  },
  {
   "cell_type": "code",
   "execution_count": 20,
   "metadata": {},
   "outputs": [
    {
     "name": "stdout",
     "output_type": "stream",
     "text": [
      "0.6666666666666666\n"
     ]
    }
   ],
   "source": [
    "print(accuracy_score(Y_test, y_pred))"
   ]
  },
  {
   "cell_type": "code",
   "execution_count": 21,
   "metadata": {},
   "outputs": [
    {
     "name": "stdout",
     "output_type": "stream",
     "text": [
      "Accuracy: 58.86 %\n",
      "Standard Deviation: 22.56 %\n"
     ]
    }
   ],
   "source": [
    "accuracies = cross_val_score(estimator = model, X = X_train, y = Y_train, cv = 10)\n",
    "print(\"Accuracy: {:.2f} %\".format(accuracies.mean()*100))\n",
    "print(\"Standard Deviation: {:.2f} %\".format(accuracies.std()*100))"
   ]
  },
  {
   "cell_type": "code",
   "execution_count": 24,
   "metadata": {},
   "outputs": [
    {
     "data": {
      "text/html": [
       "<div>\n",
       "<style scoped>\n",
       "    .dataframe tbody tr th:only-of-type {\n",
       "        vertical-align: middle;\n",
       "    }\n",
       "\n",
       "    .dataframe tbody tr th {\n",
       "        vertical-align: top;\n",
       "    }\n",
       "\n",
       "    .dataframe thead th {\n",
       "        text-align: right;\n",
       "    }\n",
       "</style>\n",
       "<table border=\"1\" class=\"dataframe\">\n",
       "  <thead>\n",
       "    <tr style=\"text-align: right;\">\n",
       "      <th></th>\n",
       "      <th>Subject ID</th>\n",
       "      <th>Jitter(local)</th>\n",
       "      <th>Jitter(local, absolute)</th>\n",
       "      <th>Jitter (rap)</th>\n",
       "      <th>Jitter (ppq5)</th>\n",
       "      <th>Jitter (ddp)</th>\n",
       "      <th>Shimmer (local)</th>\n",
       "      <th>Shimmer (local, db)</th>\n",
       "      <th>Shimmer (apq3)</th>\n",
       "      <th>Shimmer (apq5)</th>\n",
       "      <th>...</th>\n",
       "      <th>Minimum pitch</th>\n",
       "      <th>Maximum pitch</th>\n",
       "      <th>Number of pulses</th>\n",
       "      <th>Number of periods</th>\n",
       "      <th>Mean period</th>\n",
       "      <th>Standard deviation of period</th>\n",
       "      <th>Fraction of locally unvoiced frames</th>\n",
       "      <th>Number of voice breaks</th>\n",
       "      <th>Degree of voice breaks</th>\n",
       "      <th>status</th>\n",
       "    </tr>\n",
       "  </thead>\n",
       "  <tbody>\n",
       "    <tr>\n",
       "      <th>0</th>\n",
       "      <td>16</td>\n",
       "      <td>0.014680</td>\n",
       "      <td>0.000086</td>\n",
       "      <td>0.00510</td>\n",
       "      <td>0.00615</td>\n",
       "      <td>0.01530</td>\n",
       "      <td>0.08510</td>\n",
       "      <td>0.0814</td>\n",
       "      <td>0.03719</td>\n",
       "      <td>0.05185</td>\n",
       "      <td>...</td>\n",
       "      <td>82.429</td>\n",
       "      <td>244.408</td>\n",
       "      <td>94</td>\n",
       "      <td>93</td>\n",
       "      <td>0.00582</td>\n",
       "      <td>0.001900</td>\n",
       "      <td>0.00000</td>\n",
       "      <td>0</td>\n",
       "      <td>0.0</td>\n",
       "      <td>1</td>\n",
       "    </tr>\n",
       "    <tr>\n",
       "      <th>1</th>\n",
       "      <td>16</td>\n",
       "      <td>0.001029</td>\n",
       "      <td>0.000047</td>\n",
       "      <td>0.00407</td>\n",
       "      <td>0.00574</td>\n",
       "      <td>0.01220</td>\n",
       "      <td>0.04188</td>\n",
       "      <td>0.5570</td>\n",
       "      <td>0.01337</td>\n",
       "      <td>0.02081</td>\n",
       "      <td>...</td>\n",
       "      <td>187.378</td>\n",
       "      <td>242.159</td>\n",
       "      <td>113</td>\n",
       "      <td>112</td>\n",
       "      <td>0.00457</td>\n",
       "      <td>0.000297</td>\n",
       "      <td>0.00641</td>\n",
       "      <td>0</td>\n",
       "      <td>0.0</td>\n",
       "      <td>1</td>\n",
       "    </tr>\n",
       "    <tr>\n",
       "      <th>2</th>\n",
       "      <td>16</td>\n",
       "      <td>0.013350</td>\n",
       "      <td>0.000056</td>\n",
       "      <td>0.00403</td>\n",
       "      <td>0.00663</td>\n",
       "      <td>0.01210</td>\n",
       "      <td>0.05257</td>\n",
       "      <td>0.7430</td>\n",
       "      <td>0.01663</td>\n",
       "      <td>0.02859</td>\n",
       "      <td>...</td>\n",
       "      <td>108.624</td>\n",
       "      <td>355.665</td>\n",
       "      <td>122</td>\n",
       "      <td>120</td>\n",
       "      <td>0.00420</td>\n",
       "      <td>0.000703</td>\n",
       "      <td>0.02500</td>\n",
       "      <td>0</td>\n",
       "      <td>0.0</td>\n",
       "      <td>1</td>\n",
       "    </tr>\n",
       "    <tr>\n",
       "      <th>3</th>\n",
       "      <td>16</td>\n",
       "      <td>0.021640</td>\n",
       "      <td>0.000113</td>\n",
       "      <td>0.01130</td>\n",
       "      <td>0.01200</td>\n",
       "      <td>0.03389</td>\n",
       "      <td>0.06250</td>\n",
       "      <td>0.0781</td>\n",
       "      <td>0.01745</td>\n",
       "      <td>0.02950</td>\n",
       "      <td>...</td>\n",
       "      <td>184.991</td>\n",
       "      <td>239.213</td>\n",
       "      <td>69</td>\n",
       "      <td>68</td>\n",
       "      <td>0.00524</td>\n",
       "      <td>0.000254</td>\n",
       "      <td>0.07759</td>\n",
       "      <td>0</td>\n",
       "      <td>0.0</td>\n",
       "      <td>1</td>\n",
       "    </tr>\n",
       "    <tr>\n",
       "      <th>4</th>\n",
       "      <td>16</td>\n",
       "      <td>0.020900</td>\n",
       "      <td>0.000095</td>\n",
       "      <td>0.00989</td>\n",
       "      <td>0.01107</td>\n",
       "      <td>0.02966</td>\n",
       "      <td>0.06128</td>\n",
       "      <td>0.8380</td>\n",
       "      <td>0.02133</td>\n",
       "      <td>0.03216</td>\n",
       "      <td>...</td>\n",
       "      <td>178.835</td>\n",
       "      <td>273.413</td>\n",
       "      <td>87</td>\n",
       "      <td>86</td>\n",
       "      <td>0.00456</td>\n",
       "      <td>0.000433</td>\n",
       "      <td>0.01639</td>\n",
       "      <td>0</td>\n",
       "      <td>0.0</td>\n",
       "      <td>1</td>\n",
       "    </tr>\n",
       "  </tbody>\n",
       "</table>\n",
       "<p>5 rows × 28 columns</p>\n",
       "</div>"
      ],
      "text/plain": [
       "   Subject ID  Jitter(local)  Jitter(local, absolute)  Jitter (rap)  \\\n",
       "0          16       0.014680                 0.000086       0.00510   \n",
       "1          16       0.001029                 0.000047       0.00407   \n",
       "2          16       0.013350                 0.000056       0.00403   \n",
       "3          16       0.021640                 0.000113       0.01130   \n",
       "4          16       0.020900                 0.000095       0.00989   \n",
       "\n",
       "   Jitter (ppq5)  Jitter (ddp)  Shimmer (local)  Shimmer (local, db)  \\\n",
       "0        0.00615       0.01530          0.08510               0.0814   \n",
       "1        0.00574       0.01220          0.04188               0.5570   \n",
       "2        0.00663       0.01210          0.05257               0.7430   \n",
       "3        0.01200       0.03389          0.06250               0.0781   \n",
       "4        0.01107       0.02966          0.06128               0.8380   \n",
       "\n",
       "   Shimmer (apq3)  Shimmer (apq5)  ...  Minimum pitch  Maximum pitch  \\\n",
       "0         0.03719         0.05185  ...         82.429        244.408   \n",
       "1         0.01337         0.02081  ...        187.378        242.159   \n",
       "2         0.01663         0.02859  ...        108.624        355.665   \n",
       "3         0.01745         0.02950  ...        184.991        239.213   \n",
       "4         0.02133         0.03216  ...        178.835        273.413   \n",
       "\n",
       "   Number of pulses  Number of periods  Mean period  \\\n",
       "0                94                 93      0.00582   \n",
       "1               113                112      0.00457   \n",
       "2               122                120      0.00420   \n",
       "3                69                 68      0.00524   \n",
       "4                87                 86      0.00456   \n",
       "\n",
       "   Standard deviation of period  Fraction of locally unvoiced frames  \\\n",
       "0                      0.001900                              0.00000   \n",
       "1                      0.000297                              0.00641   \n",
       "2                      0.000703                              0.02500   \n",
       "3                      0.000254                              0.07759   \n",
       "4                      0.000433                              0.01639   \n",
       "\n",
       "   Number of voice breaks  Degree of voice breaks  status  \n",
       "0                       0                     0.0       1  \n",
       "1                       0                     0.0       1  \n",
       "2                       0                     0.0       1  \n",
       "3                       0                     0.0       1  \n",
       "4                       0                     0.0       1  \n",
       "\n",
       "[5 rows x 28 columns]"
      ]
     },
     "execution_count": 24,
     "metadata": {},
     "output_type": "execute_result"
    }
   ],
   "source": [
    "data_test = pd.read_csv(r'../Datasets/Sri Lankan Dataset - Finalised.csv', header = 0)\n",
    "data_test.head()"
   ]
  },
  {
   "cell_type": "code",
   "execution_count": 25,
   "metadata": {},
   "outputs": [
    {
     "data": {
      "text/plain": [
       "(99, 28)"
      ]
     },
     "execution_count": 25,
     "metadata": {},
     "output_type": "execute_result"
    }
   ],
   "source": [
    "data_test.shape"
   ]
  },
  {
   "cell_type": "code",
   "execution_count": 26,
   "metadata": {},
   "outputs": [
    {
     "data": {
      "text/plain": [
       "array([[1.468e-02, 8.550e-05, 5.100e-03, ..., 9.300e+01, 5.820e-03,\n",
       "        1.900e-03],\n",
       "       [1.029e-03, 4.700e-05, 4.070e-03, ..., 1.120e+02, 4.570e-03,\n",
       "        2.970e-04],\n",
       "       [1.335e-02, 5.610e-05, 4.030e-03, ..., 1.200e+02, 4.200e-03,\n",
       "        7.030e-04],\n",
       "       ...,\n",
       "       [6.290e-03, 6.700e-05, 3.600e-03, ..., 4.430e+02, 1.060e-02,\n",
       "        1.460e-04],\n",
       "       [3.880e-03, 4.110e-05, 2.000e-03, ..., 3.310e+02, 1.060e-02,\n",
       "        1.600e-04],\n",
       "       [8.550e-03, 7.950e-05, 4.150e-03, ..., 4.580e+02, 9.300e-03,\n",
       "        2.520e-03]])"
      ]
     },
     "execution_count": 26,
     "metadata": {},
     "output_type": "execute_result"
    }
   ],
   "source": [
    "testing_X = data_test.iloc[:, 1:24].values\n",
    "testing_X"
   ]
  },
  {
   "cell_type": "code",
   "execution_count": 27,
   "metadata": {},
   "outputs": [
    {
     "data": {
      "text/plain": [
       "array([[ 0.95321144,  0.7537766 ,  0.20177657, ..., -0.93440741,\n",
       "        -0.28617592,  3.94440071],\n",
       "       [-1.02526328, -0.09952019, -0.04182414, ..., -0.87063961,\n",
       "        -1.02932188, -0.20737227],\n",
       "       [ 0.76045111,  0.10216815, -0.05128436, ..., -0.84379   ,\n",
       "        -1.24929308,  0.84416848],\n",
       "       ...,\n",
       "       [-0.26277295,  0.34375087, -0.15298174, ...,  0.24026273,\n",
       "         2.55561421, -0.59846255],\n",
       "       [-0.61206048, -0.23028515, -0.5313906 , ..., -0.13563171,\n",
       "         2.55561421, -0.56220252],\n",
       "       [ 0.0647747 ,  0.62079528, -0.02290369, ...,  0.29060574,\n",
       "         1.78274241,  5.55020186]])"
      ]
     },
     "execution_count": 27,
     "metadata": {},
     "output_type": "execute_result"
    }
   ],
   "source": [
    "testing_X = standard_X.transform(testing_X)\n",
    "testing_X"
   ]
  },
  {
   "cell_type": "code",
   "execution_count": 28,
   "metadata": {},
   "outputs": [],
   "source": [
    "y_predict_test = model.predict(testing_X)"
   ]
  },
  {
   "cell_type": "code",
   "execution_count": 29,
   "metadata": {},
   "outputs": [
    {
     "data": {
      "text/plain": [
       "array([0, 1, 0, 1, 1, 1, 0, 0, 0, 0, 0, 0, 0, 1, 0, 0, 1, 0, 0, 0, 0, 0,\n",
       "       0, 1, 1, 1, 0, 0, 0, 0, 0, 1, 0, 0, 0, 0, 1, 1, 0, 1, 1, 1, 1, 1,\n",
       "       0, 1, 0, 1, 1, 1, 1, 1, 0, 1, 0, 1, 1, 1, 0, 1, 0, 1, 0, 1, 0, 0,\n",
       "       0, 0, 1, 0, 0, 0, 1, 1, 0, 1, 0, 1, 1, 0, 0, 1, 1, 1, 0, 0, 0, 0,\n",
       "       0, 0, 0, 0, 0, 0, 0, 0, 0, 0, 0], dtype=int64)"
      ]
     },
     "execution_count": 29,
     "metadata": {},
     "output_type": "execute_result"
    }
   ],
   "source": [
    "y_predict_test"
   ]
  },
  {
   "cell_type": "code",
   "execution_count": 30,
   "metadata": {},
   "outputs": [
    {
     "name": "stdout",
     "output_type": "stream",
     "text": [
      "39\n"
     ]
    }
   ],
   "source": [
    "total = 0\n",
    "for i in y_predict_test:\n",
    "    total = total + i\n",
    "    \n",
    "print(total)"
   ]
  },
  {
   "cell_type": "code",
   "execution_count": 31,
   "metadata": {},
   "outputs": [],
   "source": [
    "X_train, X_test, Y_train, Y_test = train_test_split(X, y, random_state=12, test_size = 0.05)"
   ]
  },
  {
   "cell_type": "code",
   "execution_count": 32,
   "metadata": {},
   "outputs": [
    {
     "data": {
      "text/plain": [
       "array([[0.0707193 , 0.10793975, 0.02949853, ..., 0.0760642 , 0.7123939 ,\n",
       "        0.25491159],\n",
       "       [0.13029789, 0.10045167, 0.10730088, ..., 0.07885555, 0.29714018,\n",
       "        0.1547331 ],\n",
       "       [0.06635989, 0.07381522, 0.03355457, ..., 0.17585485, 0.4522706 ,\n",
       "        0.344246  ],\n",
       "       ...,\n",
       "       [0.14071204, 0.12889092, 0.11283186, ..., 0.17515701, 0.4113607 ,\n",
       "        0.17086033],\n",
       "       [0.1690482 , 0.27644731, 0.10693215, ..., 0.02930914, 0.99318377,\n",
       "        0.32242896],\n",
       "       [0.14579801, 0.17126328, 0.15117994, ..., 0.35101186, 0.61073174,\n",
       "        0.02340506]])"
      ]
     },
     "execution_count": 32,
     "metadata": {},
     "output_type": "execute_result"
    }
   ],
   "source": [
    "min_max_scaler = preprocessing.MinMaxScaler()\n",
    "X_train = min_max_scaler.fit_transform(X_train)\n",
    "X_train"
   ]
  },
  {
   "cell_type": "code",
   "execution_count": 33,
   "metadata": {},
   "outputs": [
    {
     "data": {
      "text/plain": [
       "array([[0.19738435, 0.18730825, 0.12389381, 0.14041268, 0.12400147,\n",
       "        0.10883841, 0.19181034, 0.08921632, 0.06982366, 0.1369328 ,\n",
       "        0.08924331, 0.91752493, 0.07960864, 0.7938975 , 0.24743588,\n",
       "        0.2450266 , 0.04388076, 0.28907329, 0.1519222 , 0.06092437,\n",
       "        0.06420098, 0.46416743, 0.12249198],\n",
       "       [0.21821264, 0.16979207, 0.21865782, 0.23754404, 0.21875384,\n",
       "        0.65937528, 0.67887931, 0.63293394, 0.59229238, 0.6076122 ,\n",
       "        0.63293394, 0.66665167, 0.25876166, 0.27052624, 0.3515671 ,\n",
       "        0.36402187, 0.07019252, 0.42545724, 0.37742743, 0.15616246,\n",
       "        0.15910677, 0.33030563, 0.11078212],\n",
       "       [0.02567208, 0.04454217, 0.01327434, 0.02617011, 0.0132727 ,\n",
       "        0.08150679, 0.09967672, 0.05408031, 0.03891733, 0.10810811,\n",
       "        0.05405332, 0.98908959, 0.00762495, 0.90239059, 0.20948112,\n",
       "        0.2047659 , 0.01866097, 0.28986868, 0.12040859, 0.05882353,\n",
       "        0.06210747, 0.52194262, 0.05709329],\n",
       "       [0.15403245, 0.16346293, 0.06710914, 0.1172622 , 0.06734669,\n",
       "        0.24718254, 0.32704741, 0.15422604, 0.11480849, 0.42257625,\n",
       "        0.15422604, 0.8500037 , 0.12831902, 0.51149469, 0.16595645,\n",
       "        0.21014278, 0.36056783, 0.24174378, 0.92896811, 0.06722689,\n",
       "        0.06908583, 0.53117267, 0.57109873],\n",
       "       [0.23129087, 0.14730529, 0.1810472 , 0.18470055, 0.18114784,\n",
       "        0.27056527, 0.29148707, 0.24797604, 0.17861206, 0.33901562,\n",
       "        0.24794905, 0.82920698, 0.1526163 , 0.4315283 , 0.49982415,\n",
       "        0.51104194, 0.08171739, 0.52596276, 0.36264621, 0.0245098 ,\n",
       "        0.02791347, 0.21476139, 0.09126332],\n",
       "       [0.46403488, 0.39757973, 0.42699115, 0.51736286, 0.42706157,\n",
       "        0.49702724, 0.56303879, 0.48680376, 0.32878271, 0.67710141,\n",
       "        0.48683074, 0.65358988, 0.254465  , 0.25517452, 0.25755742,\n",
       "        0.27370189, 0.06905186, 0.33015043, 0.1813949 , 0.03431373,\n",
       "        0.03768318, 0.42933769, 0.1664963 ]])"
      ]
     },
     "execution_count": 33,
     "metadata": {},
     "output_type": "execute_result"
    }
   ],
   "source": [
    "X_test = min_max_scaler.transform(X_test)\n",
    "X_test"
   ]
  },
  {
   "cell_type": "code",
   "execution_count": 34,
   "metadata": {},
   "outputs": [
    {
     "data": {
      "text/plain": [
       "LogisticRegression(C=1.0, class_weight=None, dual=False, fit_intercept=True,\n",
       "                   intercept_scaling=1, l1_ratio=None, max_iter=100,\n",
       "                   multi_class='auto', n_jobs=None, penalty='l2',\n",
       "                   random_state=None, solver='lbfgs', tol=0.0001, verbose=0,\n",
       "                   warm_start=False)"
      ]
     },
     "execution_count": 34,
     "metadata": {},
     "output_type": "execute_result"
    }
   ],
   "source": [
    "model_minmax = LogisticRegression()\n",
    "model_minmax.fit(X_train, Y_train)"
   ]
  },
  {
   "cell_type": "code",
   "execution_count": 35,
   "metadata": {},
   "outputs": [],
   "source": [
    "y_pred = model_minmax.predict(X_test)"
   ]
  },
  {
   "cell_type": "code",
   "execution_count": 36,
   "metadata": {},
   "outputs": [
    {
     "name": "stdout",
     "output_type": "stream",
     "text": [
      "[[3 0]\n",
      " [2 1]]\n"
     ]
    }
   ],
   "source": [
    "cm = confusion_matrix(Y_test, y_pred) # Calulate Confusion matrix for test set.\n",
    "print(cm)"
   ]
  },
  {
   "cell_type": "code",
   "execution_count": 39,
   "metadata": {},
   "outputs": [
    {
     "data": {
      "text/plain": [
       "array([[1.468e-02, 8.550e-05, 5.100e-03, ..., 9.300e+01, 5.820e-03,\n",
       "        1.900e-03],\n",
       "       [1.029e-03, 4.700e-05, 4.070e-03, ..., 1.120e+02, 4.570e-03,\n",
       "        2.970e-04],\n",
       "       [1.335e-02, 5.610e-05, 4.030e-03, ..., 1.200e+02, 4.200e-03,\n",
       "        7.030e-04],\n",
       "       ...,\n",
       "       [6.290e-03, 6.700e-05, 3.600e-03, ..., 4.430e+02, 1.060e-02,\n",
       "        1.460e-04],\n",
       "       [3.880e-03, 4.110e-05, 2.000e-03, ..., 3.310e+02, 1.060e-02,\n",
       "        1.600e-04],\n",
       "       [8.550e-03, 7.950e-05, 4.150e-03, ..., 4.580e+02, 9.300e-03,\n",
       "        2.520e-03]])"
      ]
     },
     "execution_count": 39,
     "metadata": {},
     "output_type": "execute_result"
    }
   ],
   "source": [
    "testing_X = data_test.iloc[:, 1:24].values\n",
    "testing_X"
   ]
  },
  {
   "cell_type": "code",
   "execution_count": 40,
   "metadata": {},
   "outputs": [
    {
     "data": {
      "text/plain": [
       "array([[ 0.30951804,  0.25434041,  0.16519174, ...,  0.02581996,\n",
       "         0.38231429,  0.81985161],\n",
       "       [-0.0210947 ,  0.13039755,  0.12721239, ...,  0.03907886,\n",
       "         0.21563227,  0.1074021 ],\n",
       "       [ 0.27730685,  0.15969314,  0.12573746, ...,  0.04466155,\n",
       "         0.16629439,  0.28784782],\n",
       "       ...,\n",
       "       [ 0.10632114,  0.19478345,  0.10988201, ...,  0.27006281,\n",
       "         1.01970635,  0.04029051],\n",
       "       [ 0.0479535 ,  0.11140371,  0.05088496, ...,  0.19190509,\n",
       "         1.01970635,  0.04651278],\n",
       "       [ 0.16105595,  0.23502464,  0.13016224, ...,  0.28053036,\n",
       "         0.84635704,  1.09540912]])"
      ]
     },
     "execution_count": 40,
     "metadata": {},
     "output_type": "execute_result"
    }
   ],
   "source": [
    "testing_X = min_max_scaler.transform(testing_X)\n",
    "testing_X"
   ]
  },
  {
   "cell_type": "code",
   "execution_count": 41,
   "metadata": {},
   "outputs": [],
   "source": [
    "y_test_predict = model_minmax.predict(testing_X)"
   ]
  },
  {
   "cell_type": "code",
   "execution_count": 42,
   "metadata": {},
   "outputs": [
    {
     "data": {
      "text/plain": [
       "array([0, 0, 0, 1, 1, 1, 0, 0, 0, 0, 0, 0, 0, 1, 1, 0, 1, 0, 0, 0, 0, 0,\n",
       "       0, 0, 1, 0, 0, 0, 0, 0, 0, 1, 0, 0, 0, 0, 1, 1, 1, 1, 1, 1, 1, 1,\n",
       "       0, 1, 0, 1, 1, 0, 1, 1, 0, 1, 0, 1, 1, 1, 0, 1, 0, 1, 0, 1, 0, 0,\n",
       "       0, 0, 1, 0, 0, 0, 1, 0, 0, 1, 0, 1, 1, 0, 0, 1, 1, 1, 0, 0, 0, 0,\n",
       "       0, 0, 0, 0, 0, 1, 1, 0, 1, 0, 0], dtype=int64)"
      ]
     },
     "execution_count": 42,
     "metadata": {},
     "output_type": "execute_result"
    }
   ],
   "source": [
    "y_test_predict"
   ]
  },
  {
   "cell_type": "code",
   "execution_count": 43,
   "metadata": {},
   "outputs": [
    {
     "name": "stdout",
     "output_type": "stream",
     "text": [
      "39\n"
     ]
    }
   ],
   "source": [
    "total = 0\n",
    "for i in y_predict_test:\n",
    "    total = total + i\n",
    "    \n",
    "print(total)"
   ]
  }
 ],
 "metadata": {
  "kernelspec": {
   "display_name": "Python 3",
   "language": "python",
   "name": "python3"
  },
  "language_info": {
   "codemirror_mode": {
    "name": "ipython",
    "version": 3
   },
   "file_extension": ".py",
   "mimetype": "text/x-python",
   "name": "python",
   "nbconvert_exporter": "python",
   "pygments_lexer": "ipython3",
   "version": "3.7.4"
  }
 },
 "nbformat": 4,
 "nbformat_minor": 4
}
