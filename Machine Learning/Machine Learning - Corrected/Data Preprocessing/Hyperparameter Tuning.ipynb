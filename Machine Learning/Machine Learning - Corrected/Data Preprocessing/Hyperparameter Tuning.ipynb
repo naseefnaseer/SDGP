{
 "cells": [
  {
   "cell_type": "markdown",
   "metadata": {},
   "source": [
    "# Hyperparameter tuning"
   ]
  },
  {
   "cell_type": "markdown",
   "metadata": {},
   "source": [
    "## Importing the libraries"
   ]
  },
  {
   "cell_type": "code",
   "execution_count": 2,
   "metadata": {},
   "outputs": [],
   "source": [
    "import numpy as np\n",
    "import pandas as pd\n",
    "from sklearn import preprocessing\n",
    "from sklearn.preprocessing import StandardScaler\n",
    "from sklearn.model_selection import train_test_split\n",
    "from sklearn.metrics import accuracy_score\n",
    "from sklearn.metrics import confusion_matrix\n",
    "from sklearn.model_selection import cross_val_score\n",
    "from sklearn.model_selection import GridSearchCV\n",
    "from sklearn import model_selection\n",
    "from xgboost import XGBClassifier\n",
    "from sklearn.neighbors import KNeighborsClassifier\n",
    "from sklearn.tree import DecisionTreeClassifier\n",
    "from sklearn.ensemble import GradientBoostingClassifier\n",
    "from sklearn.ensemble import RandomForestClassifier\n",
    "from sklearn.svm import SVC\n",
    "from sklearn import metrics\n",
    "from sklearn.linear_model import LogisticRegression"
   ]
  },
  {
   "cell_type": "markdown",
   "metadata": {},
   "source": [
    "## Import the dataset"
   ]
  },
  {
   "cell_type": "code",
   "execution_count": 2,
   "metadata": {},
   "outputs": [
    {
     "data": {
      "text/html": [
       "<div>\n",
       "<style scoped>\n",
       "    .dataframe tbody tr th:only-of-type {\n",
       "        vertical-align: middle;\n",
       "    }\n",
       "\n",
       "    .dataframe tbody tr th {\n",
       "        vertical-align: top;\n",
       "    }\n",
       "\n",
       "    .dataframe thead th {\n",
       "        text-align: right;\n",
       "    }\n",
       "</style>\n",
       "<table border=\"1\" class=\"dataframe\">\n",
       "  <thead>\n",
       "    <tr style=\"text-align: right;\">\n",
       "      <th></th>\n",
       "      <th>Subject Id</th>\n",
       "      <th>Jitter(local)</th>\n",
       "      <th>Jitter(local, absolute)</th>\n",
       "      <th>Jitter (rap)</th>\n",
       "      <th>Jitter (ppq5)</th>\n",
       "      <th>Jitter (ddp)</th>\n",
       "      <th>Shimmer (local)</th>\n",
       "      <th>Shimmer (local, db)</th>\n",
       "      <th>Shimmer (apq3)</th>\n",
       "      <th>Shimmer (apq5)</th>\n",
       "      <th>...</th>\n",
       "      <th>Maximum pitch</th>\n",
       "      <th>Number of pulses</th>\n",
       "      <th>Number of periods</th>\n",
       "      <th>Mean period</th>\n",
       "      <th>Standard deviation of period</th>\n",
       "      <th>Fraction of locally unvoiced frames</th>\n",
       "      <th>Number of voice breaks</th>\n",
       "      <th>Degree of voice breaks</th>\n",
       "      <th>UPDRS</th>\n",
       "      <th>status</th>\n",
       "    </tr>\n",
       "  </thead>\n",
       "  <tbody>\n",
       "    <tr>\n",
       "      <th>0</th>\n",
       "      <td>1</td>\n",
       "      <td>0.01488</td>\n",
       "      <td>0.000090</td>\n",
       "      <td>0.00900</td>\n",
       "      <td>0.00794</td>\n",
       "      <td>0.02699</td>\n",
       "      <td>0.08334</td>\n",
       "      <td>0.779</td>\n",
       "      <td>0.04517</td>\n",
       "      <td>0.04609</td>\n",
       "      <td>...</td>\n",
       "      <td>187.576</td>\n",
       "      <td>160</td>\n",
       "      <td>159</td>\n",
       "      <td>0.006065</td>\n",
       "      <td>0.000416</td>\n",
       "      <td>0.00000</td>\n",
       "      <td>0</td>\n",
       "      <td>0.00000</td>\n",
       "      <td>23</td>\n",
       "      <td>1</td>\n",
       "    </tr>\n",
       "    <tr>\n",
       "      <th>1</th>\n",
       "      <td>1</td>\n",
       "      <td>0.00728</td>\n",
       "      <td>0.000038</td>\n",
       "      <td>0.00353</td>\n",
       "      <td>0.00376</td>\n",
       "      <td>0.01059</td>\n",
       "      <td>0.05864</td>\n",
       "      <td>0.642</td>\n",
       "      <td>0.02058</td>\n",
       "      <td>0.03180</td>\n",
       "      <td>...</td>\n",
       "      <td>234.505</td>\n",
       "      <td>170</td>\n",
       "      <td>169</td>\n",
       "      <td>0.005181</td>\n",
       "      <td>0.000403</td>\n",
       "      <td>0.02247</td>\n",
       "      <td>0</td>\n",
       "      <td>0.00000</td>\n",
       "      <td>23</td>\n",
       "      <td>1</td>\n",
       "    </tr>\n",
       "    <tr>\n",
       "      <th>2</th>\n",
       "      <td>1</td>\n",
       "      <td>0.01220</td>\n",
       "      <td>0.000074</td>\n",
       "      <td>0.00732</td>\n",
       "      <td>0.00670</td>\n",
       "      <td>0.02196</td>\n",
       "      <td>0.08719</td>\n",
       "      <td>0.875</td>\n",
       "      <td>0.04347</td>\n",
       "      <td>0.05166</td>\n",
       "      <td>...</td>\n",
       "      <td>211.442</td>\n",
       "      <td>1431</td>\n",
       "      <td>1427</td>\n",
       "      <td>0.006071</td>\n",
       "      <td>0.000474</td>\n",
       "      <td>0.10656</td>\n",
       "      <td>1</td>\n",
       "      <td>0.00178</td>\n",
       "      <td>23</td>\n",
       "      <td>1</td>\n",
       "    </tr>\n",
       "    <tr>\n",
       "      <th>3</th>\n",
       "      <td>2</td>\n",
       "      <td>0.00427</td>\n",
       "      <td>0.000034</td>\n",
       "      <td>0.00243</td>\n",
       "      <td>0.00249</td>\n",
       "      <td>0.00728</td>\n",
       "      <td>0.07428</td>\n",
       "      <td>0.694</td>\n",
       "      <td>0.04205</td>\n",
       "      <td>0.04311</td>\n",
       "      <td>...</td>\n",
       "      <td>129.205</td>\n",
       "      <td>345</td>\n",
       "      <td>344</td>\n",
       "      <td>0.008073</td>\n",
       "      <td>0.000143</td>\n",
       "      <td>0.00000</td>\n",
       "      <td>0</td>\n",
       "      <td>0.00000</td>\n",
       "      <td>8</td>\n",
       "      <td>1</td>\n",
       "    </tr>\n",
       "    <tr>\n",
       "      <th>4</th>\n",
       "      <td>2</td>\n",
       "      <td>0.00844</td>\n",
       "      <td>0.000069</td>\n",
       "      <td>0.00509</td>\n",
       "      <td>0.00489</td>\n",
       "      <td>0.01527</td>\n",
       "      <td>0.14053</td>\n",
       "      <td>1.239</td>\n",
       "      <td>0.06131</td>\n",
       "      <td>0.07015</td>\n",
       "      <td>...</td>\n",
       "      <td>126.788</td>\n",
       "      <td>585</td>\n",
       "      <td>582</td>\n",
       "      <td>0.008174</td>\n",
       "      <td>0.000123</td>\n",
       "      <td>0.00209</td>\n",
       "      <td>2</td>\n",
       "      <td>0.00768</td>\n",
       "      <td>8</td>\n",
       "      <td>1</td>\n",
       "    </tr>\n",
       "  </tbody>\n",
       "</table>\n",
       "<p>5 rows × 29 columns</p>\n",
       "</div>"
      ],
      "text/plain": [
       "   Subject Id  Jitter(local)  Jitter(local, absolute)  Jitter (rap)  \\\n",
       "0           1        0.01488                 0.000090       0.00900   \n",
       "1           1        0.00728                 0.000038       0.00353   \n",
       "2           1        0.01220                 0.000074       0.00732   \n",
       "3           2        0.00427                 0.000034       0.00243   \n",
       "4           2        0.00844                 0.000069       0.00509   \n",
       "\n",
       "   Jitter (ppq5)  Jitter (ddp)  Shimmer (local)  Shimmer (local, db)  \\\n",
       "0        0.00794       0.02699          0.08334                0.779   \n",
       "1        0.00376       0.01059          0.05864                0.642   \n",
       "2        0.00670       0.02196          0.08719                0.875   \n",
       "3        0.00249       0.00728          0.07428                0.694   \n",
       "4        0.00489       0.01527          0.14053                1.239   \n",
       "\n",
       "   Shimmer (apq3)  Shimmer (apq5)  ...  Maximum pitch  Number of pulses  \\\n",
       "0         0.04517         0.04609  ...        187.576               160   \n",
       "1         0.02058         0.03180  ...        234.505               170   \n",
       "2         0.04347         0.05166  ...        211.442              1431   \n",
       "3         0.04205         0.04311  ...        129.205               345   \n",
       "4         0.06131         0.07015  ...        126.788               585   \n",
       "\n",
       "   Number of periods  Mean period  Standard deviation of period  \\\n",
       "0                159     0.006065                      0.000416   \n",
       "1                169     0.005181                      0.000403   \n",
       "2               1427     0.006071                      0.000474   \n",
       "3                344     0.008073                      0.000143   \n",
       "4                582     0.008174                      0.000123   \n",
       "\n",
       "   Fraction of locally unvoiced frames  Number of voice breaks  \\\n",
       "0                              0.00000                       0   \n",
       "1                              0.02247                       0   \n",
       "2                              0.10656                       1   \n",
       "3                              0.00000                       0   \n",
       "4                              0.00209                       2   \n",
       "\n",
       "   Degree of voice breaks  UPDRS  status  \n",
       "0                 0.00000     23       1  \n",
       "1                 0.00000     23       1  \n",
       "2                 0.00178     23       1  \n",
       "3                 0.00000      8       1  \n",
       "4                 0.00768      8       1  \n",
       "\n",
       "[5 rows x 29 columns]"
      ]
     },
     "execution_count": 2,
     "metadata": {},
     "output_type": "execute_result"
    }
   ],
   "source": [
    "#data = pd.read_csv(r'..\\Datasets\\Parkinsons Processed Training - Only Vowels - Sri Lankan.csv', header = 0)\n",
    "data = pd.read_csv(r'..\\Datasets\\Sri Lankan Voice Recordings.csv', header = 0)\n",
    "data.head()"
   ]
  },
  {
   "cell_type": "code",
   "execution_count": 3,
   "metadata": {},
   "outputs": [
    {
     "data": {
      "text/plain": [
       "(120, 29)"
      ]
     },
     "execution_count": 3,
     "metadata": {},
     "output_type": "execute_result"
    }
   ],
   "source": [
    "data.shape"
   ]
  },
  {
   "cell_type": "code",
   "execution_count": 4,
   "metadata": {},
   "outputs": [
    {
     "data": {
      "text/plain": [
       "array([[1.488000e-02, 9.021300e-05, 9.000000e-03, ..., 1.590000e+02,\n",
       "        6.064725e-03, 4.162760e-04],\n",
       "       [7.280000e-03, 3.769800e-05, 3.530000e-03, ..., 1.690000e+02,\n",
       "        5.181253e-03, 4.034940e-04],\n",
       "       [1.220000e-02, 7.404100e-05, 7.320000e-03, ..., 1.427000e+03,\n",
       "        6.070749e-03, 4.742890e-04],\n",
       "       ...,\n",
       "       [4.710000e-03, 3.383700e-05, 1.860000e-03, ..., 1.750000e+02,\n",
       "        7.178780e-03, 1.298030e-04],\n",
       "       [4.319000e-02, 3.171220e-04, 2.774000e-02, ..., 2.560000e+02,\n",
       "        7.342534e-03, 3.119150e-04],\n",
       "       [1.543000e-02, 1.033570e-04, 1.004000e-02, ..., 4.250000e+02,\n",
       "        6.700038e-03, 1.082910e-04]])"
      ]
     },
     "execution_count": 4,
     "metadata": {},
     "output_type": "execute_result"
    }
   ],
   "source": [
    "X = data.iloc[:, 1:24].values\n",
    "X"
   ]
  },
  {
   "cell_type": "code",
   "execution_count": 5,
   "metadata": {},
   "outputs": [
    {
     "data": {
      "text/plain": [
       "array([1, 1, 1, 1, 1, 1, 1, 1, 1, 1, 1, 1, 1, 1, 1, 1, 1, 1, 1, 1, 1, 1,\n",
       "       1, 1, 1, 1, 1, 1, 1, 1, 1, 1, 1, 1, 1, 1, 1, 1, 1, 1, 1, 1, 1, 1,\n",
       "       1, 1, 1, 1, 1, 1, 1, 1, 1, 1, 1, 1, 1, 1, 1, 1, 0, 0, 0, 0, 0, 0,\n",
       "       0, 0, 0, 0, 0, 0, 0, 0, 0, 0, 0, 0, 0, 0, 0, 0, 0, 0, 0, 0, 0, 0,\n",
       "       0, 0, 0, 0, 0, 0, 0, 0, 0, 0, 0, 0, 0, 0, 0, 0, 0, 0, 0, 0, 0, 0,\n",
       "       0, 0, 0, 0, 0, 0, 0, 0, 0, 0], dtype=int64)"
      ]
     },
     "execution_count": 5,
     "metadata": {},
     "output_type": "execute_result"
    }
   ],
   "source": [
    "y = data.iloc[:, -1].values\n",
    "y"
   ]
  },
  {
   "cell_type": "code",
   "execution_count": 6,
   "metadata": {},
   "outputs": [
    {
     "data": {
      "text/plain": [
       "array([[ 0.87868587,  0.77094821,  1.07622998, ..., -0.64799993,\n",
       "        -0.18879174, -0.06122861],\n",
       "       [-0.20384012, -0.39022832, -0.21557662, ..., -0.61325462,\n",
       "        -0.75744717, -0.07935857],\n",
       "       [ 0.49695302,  0.41336377,  0.67947768, ...,  3.75770466,\n",
       "        -0.18491433,  0.02105691],\n",
       "       ...,\n",
       "       [-0.56990483, -0.47560017, -0.60996731, ..., -0.59240744,\n",
       "         0.52828072, -0.46756133],\n",
       "       [ 4.9110952 ,  5.78820816,  5.50190746, ..., -0.31097047,\n",
       "         0.63368259, -0.20925404],\n",
       "       [ 0.95702657,  1.06157954,  1.32183855, ...,  0.27622517,\n",
       "         0.22013372, -0.49807391]])"
      ]
     },
     "execution_count": 6,
     "metadata": {},
     "output_type": "execute_result"
    }
   ],
   "source": [
    "standard_X = StandardScaler()\n",
    "X_scaled_standard = standard_X.fit_transform(X)\n",
    "X_scaled_standard"
   ]
  },
  {
   "cell_type": "code",
   "execution_count": 7,
   "metadata": {},
   "outputs": [],
   "source": [
    "X_train, X_test, Y_train, Y_test = train_test_split(X_scaled_standard, y, random_state=12, test_size = 0.03, stratify = y)"
   ]
  },
  {
   "cell_type": "code",
   "execution_count": 8,
   "metadata": {},
   "outputs": [
    {
     "data": {
      "text/plain": [
       "array([[ 2.03243068e+00,  2.11502967e+00,  8.66045726e-01, ...,\n",
       "        -1.06841811e+00,  1.29996886e-01, -4.88417066e-03],\n",
       "       [-4.57379102e-01, -4.04534350e-01, -5.08417609e-01, ...,\n",
       "         2.95335087e-02,  2.44406777e-01,  6.24127102e-01],\n",
       "       [-2.03840119e-01, -3.90228319e-01, -2.15576623e-01, ...,\n",
       "        -6.13254622e-01, -7.57447172e-01, -7.93585743e-02],\n",
       "       ...,\n",
       "       [ 4.32856090e-01,  5.25401886e-01,  5.18887461e-01, ...,\n",
       "         9.19013300e-01,  2.42550462e-01,  8.90104518e+00],\n",
       "       [-7.12342461e-01, -7.29394021e-01, -7.46941315e-01, ...,\n",
       "        -4.88171526e-01, -2.09654682e-01,  1.08884147e-02],\n",
       "       [ 3.13774670e+00,  2.29492746e+00,  3.24419792e+00, ...,\n",
       "        -9.22487830e-01, -7.59941354e-01,  5.88509711e-01]])"
      ]
     },
     "execution_count": 8,
     "metadata": {},
     "output_type": "execute_result"
    }
   ],
   "source": [
    "X_train"
   ]
  },
  {
   "cell_type": "code",
   "execution_count": 9,
   "metadata": {},
   "outputs": [
    {
     "data": {
      "text/plain": [
       "array([[ 0.88580776,  0.18616985,  1.10456943,  1.02148997,  0.5017585 ,\n",
       "         0.82422158,  0.88291856,  0.66926104,  0.79973733,  1.29691498,\n",
       "         0.66936215, -0.38490124,  0.14346764, -1.1265146 ,  1.65847582,\n",
       "         1.45528789,  0.14140209,  1.47389896,  0.56073736, -0.85434353,\n",
       "        -0.84952269, -1.34419653, -0.25563566],\n",
       "       [-0.55423669, -0.33879736, -0.71387862, -0.78764192, -0.44176821,\n",
       "        -0.41268046, -0.42856324, -0.70789171, -0.47110632,  0.22056811,\n",
       "        -0.70777823,  0.28504756, -0.18183412,  0.34972248, -1.04522078,\n",
       "        -1.06531115, -0.15349823, -1.0778343 , -0.87100128, -0.6286788 ,\n",
       "        -0.62715274,  1.2469842 ,  0.24034833],\n",
       "       [-0.45880348, -0.47226136, -0.3596355 , -0.43983564, -0.25829333,\n",
       "        -0.68993443, -0.68992616, -0.6520271 , -0.66922367, -0.88356788,\n",
       "        -0.6521544 ,  0.375783  , -0.39791572, -0.02504765, -0.17302819,\n",
       "        -0.15265831, -0.03269698,  0.02223609, -0.30941527, -0.65645292,\n",
       "        -0.65147446, -0.10501555, -0.03284505],\n",
       "       [-0.60124111, -0.75829353, -0.55801165, -0.54498638, -0.36126809,\n",
       "        -0.61464823, -0.56857909, -0.66680419, -0.60536766, -0.41665565,\n",
       "        -0.66669108,  0.34412264, -0.32854108, -0.08687957,  0.91109257,\n",
       "         0.99806439,  0.04554079,  1.20611735,  0.50411994,  0.28092366,\n",
       "         0.28664876, -1.07716653, -0.25555197]])"
      ]
     },
     "execution_count": 9,
     "metadata": {},
     "output_type": "execute_result"
    }
   ],
   "source": [
    "X_test"
   ]
  },
  {
   "cell_type": "code",
   "execution_count": 10,
   "metadata": {},
   "outputs": [
    {
     "data": {
      "text/plain": [
       "array([1, 0, 1, 0, 1, 1, 0, 0, 1, 1, 1, 1, 0, 0, 0, 0, 1, 0, 0, 0, 0, 1,\n",
       "       0, 0, 0, 0, 1, 0, 1, 1, 0, 0, 1, 0, 0, 1, 0, 0, 0, 1, 1, 1, 1, 1,\n",
       "       0, 0, 1, 0, 0, 1, 1, 1, 0, 0, 1, 1, 0, 0, 1, 1, 1, 1, 0, 0, 1, 0,\n",
       "       1, 1, 0, 0, 1, 1, 0, 0, 0, 0, 0, 1, 1, 1, 0, 0, 0, 1, 0, 1, 0, 1,\n",
       "       0, 1, 1, 1, 0, 0, 1, 1, 1, 0, 1, 0, 1, 1, 0, 1, 0, 0, 1, 0, 1, 1,\n",
       "       1, 1, 0, 1, 0, 1], dtype=int64)"
      ]
     },
     "execution_count": 10,
     "metadata": {},
     "output_type": "execute_result"
    }
   ],
   "source": [
    "Y_train"
   ]
  },
  {
   "cell_type": "code",
   "execution_count": 11,
   "metadata": {},
   "outputs": [
    {
     "data": {
      "text/plain": [
       "array([1, 0, 0, 1], dtype=int64)"
      ]
     },
     "execution_count": 11,
     "metadata": {},
     "output_type": "execute_result"
    }
   ],
   "source": [
    "Y_test"
   ]
  },
  {
   "cell_type": "markdown",
   "metadata": {},
   "source": [
    "## Performing Grid Search on Various Models"
   ]
  },
  {
   "cell_type": "markdown",
   "metadata": {},
   "source": [
    "### Logistic Regression"
   ]
  },
  {
   "cell_type": "code",
   "execution_count": 12,
   "metadata": {},
   "outputs": [],
   "source": [
    "log_param_grid = {'penalty' : ['l1', 'l2', 'elasticnet', 'none'], 'C' : range(0,100),\n",
    "                  'solver' : ['newton-cg', 'lbfgs', 'liblinear', 'sag', 'saga'], \n",
    "}"
   ]
  },
  {
   "cell_type": "code",
   "execution_count": 13,
   "metadata": {},
   "outputs": [
    {
     "name": "stdout",
     "output_type": "stream",
     "text": [
      "Fitting 10 folds for each of 2000 candidates, totalling 20000 fits\n"
     ]
    },
    {
     "name": "stderr",
     "output_type": "stream",
     "text": [
      "[Parallel(n_jobs=4)]: Using backend LokyBackend with 4 concurrent workers.\n",
      "[Parallel(n_jobs=4)]: Done  68 tasks      | elapsed:    1.8s\n",
      "[Parallel(n_jobs=4)]: Done 2380 tasks      | elapsed:    9.4s\n",
      "[Parallel(n_jobs=4)]: Done 6380 tasks      | elapsed:   22.5s\n",
      "[Parallel(n_jobs=4)]: Done 11980 tasks      | elapsed:   40.3s\n",
      "[Parallel(n_jobs=4)]: Done 19180 tasks      | elapsed:  1.1min\n",
      "[Parallel(n_jobs=4)]: Done 20000 out of 20000 | elapsed:  1.1min finished\n"
     ]
    },
    {
     "data": {
      "text/plain": [
       "GridSearchCV(cv=10, error_score=nan,\n",
       "             estimator=LogisticRegression(C=1.0, class_weight=None, dual=False,\n",
       "                                          fit_intercept=True,\n",
       "                                          intercept_scaling=1, l1_ratio=None,\n",
       "                                          max_iter=100, multi_class='auto',\n",
       "                                          n_jobs=None, penalty='l2',\n",
       "                                          random_state=None, solver='lbfgs',\n",
       "                                          tol=0.0001, verbose=0,\n",
       "                                          warm_start=False),\n",
       "             iid='deprecated', n_jobs=4,\n",
       "             param_grid={'C': range(0, 100),\n",
       "                         'penalty': ['l1', 'l2', 'elasticnet', 'none'],\n",
       "                         'solver': ['newton-cg', 'lbfgs', 'liblinear', 'sag',\n",
       "                                    'saga']},\n",
       "             pre_dispatch='2*n_jobs', refit=True, return_train_score=False,\n",
       "             scoring=None, verbose=1)"
      ]
     },
     "execution_count": 13,
     "metadata": {},
     "output_type": "execute_result"
    }
   ],
   "source": [
    "model = LogisticRegression()\n",
    "model_logreg = GridSearchCV(model, log_param_grid, cv=10, n_jobs = 4, verbose = 1)\n",
    "model_logreg.fit(X_train, Y_train)"
   ]
  },
  {
   "cell_type": "code",
   "execution_count": 14,
   "metadata": {},
   "outputs": [
    {
     "data": {
      "text/plain": [
       "{'C': 15, 'penalty': 'l2', 'solver': 'newton-cg'}"
      ]
     },
     "execution_count": 14,
     "metadata": {},
     "output_type": "execute_result"
    }
   ],
   "source": [
    "model_logreg.best_params_"
   ]
  },
  {
   "cell_type": "code",
   "execution_count": 15,
   "metadata": {},
   "outputs": [
    {
     "data": {
      "text/plain": [
       "0.671969696969697"
      ]
     },
     "execution_count": 15,
     "metadata": {},
     "output_type": "execute_result"
    }
   ],
   "source": [
    "model_logreg.best_score_"
   ]
  },
  {
   "cell_type": "markdown",
   "metadata": {},
   "source": [
    "### Decision Trees"
   ]
  },
  {
   "cell_type": "code",
   "execution_count": 16,
   "metadata": {},
   "outputs": [],
   "source": [
    "dec_trees_param_grid = {\n",
    "    'criterion' : ['gini', 'entropy'], 'splitter' : ['best', 'random'],\n",
    "    'max_depth' : range(1,16), 'min_samples_split' : range(5, 405, 5), \n",
    "    'min_samples_leaf' : range(5, 105, 5), 'max_leaf_nodes': range (2,21),\n",
    "    'min_impurity_decrease': [0.00005, 0.00001, 0.0002, 0.0005, 0.001, 0.0015, 0.002, 0.005, 0.01,0.02,0.05,0.1,0.15,0.2,0.4]\n",
    "}"
   ]
  },
  {
   "cell_type": "code",
   "execution_count": 45,
   "metadata": {},
   "outputs": [],
   "source": [
    "dec_trees_param_grid = {\n",
    "    'max_depth' : range(1,16), 'criterion' : ['gini', 'entropy'], 'splitter' : ['best', 'random'], \n",
    "    'min_samples_split' : range(0, 10), 'max_leaf_nodes': range(1,50, 5), 'min_impurity_decrease': np.arange(0.00001, 0.0001, -0.0001) } "
   ]
  },
  {
   "cell_type": "code",
   "execution_count": 46,
   "metadata": {},
   "outputs": [
    {
     "name": "stdout",
     "output_type": "stream",
     "text": [
      "Fitting 10 folds for each of 24000 candidates, totalling 240000 fits\n"
     ]
    },
    {
     "name": "stderr",
     "output_type": "stream",
     "text": [
      "[Parallel(n_jobs=4)]: Using backend LokyBackend with 4 concurrent workers.\n",
      "[Parallel(n_jobs=4)]: Done 312 tasks      | elapsed:    0.5s\n",
      "[Parallel(n_jobs=4)]: Done 9720 tasks      | elapsed:    7.0s\n",
      "[Parallel(n_jobs=4)]: Done 25720 tasks      | elapsed:   17.8s\n",
      "[Parallel(n_jobs=4)]: Done 48120 tasks      | elapsed:   33.1s\n",
      "[Parallel(n_jobs=4)]: Done 76920 tasks      | elapsed:   53.3s\n",
      "[Parallel(n_jobs=4)]: Done 112120 tasks      | elapsed:  1.3min\n",
      "[Parallel(n_jobs=4)]: Done 153720 tasks      | elapsed:  1.8min\n",
      "[Parallel(n_jobs=4)]: Done 201720 tasks      | elapsed:  2.4min\n",
      "[Parallel(n_jobs=4)]: Done 239993 out of 240000 | elapsed:  3.0min remaining:    0.0s\n",
      "[Parallel(n_jobs=4)]: Done 240000 out of 240000 | elapsed:  3.0min finished\n"
     ]
    },
    {
     "data": {
      "text/plain": [
       "GridSearchCV(cv=10, error_score=nan,\n",
       "             estimator=DecisionTreeClassifier(ccp_alpha=0.0, class_weight=None,\n",
       "                                              criterion='gini', max_depth=None,\n",
       "                                              max_features=None,\n",
       "                                              max_leaf_nodes=None,\n",
       "                                              min_impurity_decrease=0.0,\n",
       "                                              min_impurity_split=None,\n",
       "                                              min_samples_leaf=1,\n",
       "                                              min_samples_split=2,\n",
       "                                              min_weight_fraction_leaf=0.0,\n",
       "                                              presort='deprecated',\n",
       "                                              random_state=20,\n",
       "                                              splitter='best'),\n",
       "             iid='deprecated', n_jobs=4,\n",
       "             param_grid={'criterion': ['gini', 'entropy'],\n",
       "                         'max_depth': range(1, 16),\n",
       "                         'max_leaf_nodes': range(1, 50, 5),\n",
       "                         'min_impurity_decrease': [1e-05, 0.0001, 0.001, 0.1],\n",
       "                         'min_samples_split': range(0, 10),\n",
       "                         'splitter': ['best', 'random']},\n",
       "             pre_dispatch='2*n_jobs', refit=True, return_train_score=False,\n",
       "             scoring=None, verbose=1)"
      ]
     },
     "execution_count": 46,
     "metadata": {},
     "output_type": "execute_result"
    }
   ],
   "source": [
    "model = DecisionTreeClassifier(random_state=20)\n",
    "model_dectree = GridSearchCV(model, dec_trees_param_grid, cv=10, n_jobs = 4, verbose = 1)\n",
    "model_dectree.fit(X_train, Y_train)"
   ]
  },
  {
   "cell_type": "code",
   "execution_count": 49,
   "metadata": {},
   "outputs": [
    {
     "data": {
      "text/plain": [
       "{'criterion': 'gini',\n",
       " 'max_depth': 8,\n",
       " 'max_leaf_nodes': 21,\n",
       " 'min_impurity_decrease': 1e-05,\n",
       " 'min_samples_split': 6,\n",
       " 'splitter': 'random'}"
      ]
     },
     "execution_count": 49,
     "metadata": {},
     "output_type": "execute_result"
    }
   ],
   "source": [
    "model_dectree.best_params_"
   ]
  },
  {
   "cell_type": "code",
   "execution_count": 57,
   "metadata": {},
   "outputs": [
    {
     "data": {
      "text/plain": [
       "0.6992424242424242"
      ]
     },
     "execution_count": 57,
     "metadata": {},
     "output_type": "execute_result"
    }
   ],
   "source": [
    "model_dectree.best_score_"
   ]
  },
  {
   "cell_type": "markdown",
   "metadata": {},
   "source": [
    "### Gradient Boosting"
   ]
  },
  {
   "cell_type": "code",
   "execution_count": 72,
   "metadata": {},
   "outputs": [],
   "source": [
    "grad_boost_param_grid = {\n",
    "    'loss' : ['deviance', 'exponential'], 'max_features' : ['auto', 'sqrt', 'log2', None], \n",
    "    'learning_rate' : np.arange(0.9, 0.7, -0.01), 'n_estimators' : range(10,120,10), \n",
    "    'max_depth' : range(2,6)\n",
    "    }"
   ]
  },
  {
   "cell_type": "code",
   "execution_count": 73,
   "metadata": {},
   "outputs": [
    {
     "name": "stdout",
     "output_type": "stream",
     "text": [
      "Fitting 116 folds for each of 7392 candidates, totalling 857472 fits\n"
     ]
    },
    {
     "name": "stderr",
     "output_type": "stream",
     "text": [
      "[Parallel(n_jobs=-1)]: Using backend LokyBackend with 8 concurrent workers.\n",
      "[Parallel(n_jobs=-1)]: Done  56 tasks      | elapsed:    0.3s\n",
      "[Parallel(n_jobs=-1)]: Done 656 tasks      | elapsed:    7.3s\n",
      "[Parallel(n_jobs=-1)]: Done 1656 tasks      | elapsed:   21.8s\n",
      "[Parallel(n_jobs=-1)]: Done 3056 tasks      | elapsed:   36.2s\n",
      "[Parallel(n_jobs=-1)]: Done 4856 tasks      | elapsed:   58.9s\n",
      "[Parallel(n_jobs=-1)]: Done 7056 tasks      | elapsed:  1.4min\n",
      "[Parallel(n_jobs=-1)]: Done 9656 tasks      | elapsed:  1.9min\n",
      "[Parallel(n_jobs=-1)]: Done 12656 tasks      | elapsed:  2.6min\n",
      "[Parallel(n_jobs=-1)]: Done 16056 tasks      | elapsed:  3.2min\n",
      "[Parallel(n_jobs=-1)]: Done 19856 tasks      | elapsed:  4.0min\n",
      "[Parallel(n_jobs=-1)]: Done 24467 tasks      | elapsed:  4.9min\n",
      "[Parallel(n_jobs=-1)]: Done 28976 tasks      | elapsed:  5.9min\n",
      "[Parallel(n_jobs=-1)]: Done 33976 tasks      | elapsed:  7.0min\n",
      "[Parallel(n_jobs=-1)]: Done 39376 tasks      | elapsed:  8.2min\n",
      "[Parallel(n_jobs=-1)]: Done 45922 tasks      | elapsed:  9.5min\n",
      "[Parallel(n_jobs=-1)]: Done 52200 tasks      | elapsed: 10.8min\n",
      "[Parallel(n_jobs=-1)]: Done 58968 tasks      | elapsed: 12.1min\n",
      "[Parallel(n_jobs=-1)]: Done 65968 tasks      | elapsed: 13.5min\n",
      "[Parallel(n_jobs=-1)]: Done 72416 tasks      | elapsed: 15.0min\n",
      "[Parallel(n_jobs=-1)]: Done 80216 tasks      | elapsed: 16.7min\n",
      "[Parallel(n_jobs=-1)]: Done 89560 tasks      | elapsed: 18.6min\n",
      "[Parallel(n_jobs=-1)]: Done 98160 tasks      | elapsed: 20.3min\n",
      "[Parallel(n_jobs=-1)]: Done 107160 tasks      | elapsed: 22.2min\n",
      "[Parallel(n_jobs=-1)]: Done 116560 tasks      | elapsed: 24.2min\n",
      "[Parallel(n_jobs=-1)]: Done 126360 tasks      | elapsed: 26.3min\n",
      "[Parallel(n_jobs=-1)]: Done 137624 tasks      | elapsed: 28.6min\n",
      "[Parallel(n_jobs=-1)]: Done 147544 tasks      | elapsed: 30.5min\n",
      "[Parallel(n_jobs=-1)]: Done 158544 tasks      | elapsed: 33.1min\n",
      "[Parallel(n_jobs=-1)]: Done 171088 tasks      | elapsed: 35.7min\n",
      "[Parallel(n_jobs=-1)]: Done 182888 tasks      | elapsed: 38.1min\n",
      "[Parallel(n_jobs=-1)]: Done 195088 tasks      | elapsed: 40.9min\n",
      "[Parallel(n_jobs=-1)]: Done 208456 tasks      | elapsed: 43.7min\n",
      "[Parallel(n_jobs=-1)]: Done 219008 tasks      | elapsed: 45.9min\n",
      "[Parallel(n_jobs=-1)]: Done 232408 tasks      | elapsed: 48.7min\n",
      "[Parallel(n_jobs=-1)]: Done 246208 tasks      | elapsed: 51.9min\n",
      "[Parallel(n_jobs=-1)]: Done 260720 tasks      | elapsed: 54.8min\n",
      "[Parallel(n_jobs=-1)]: Done 275984 tasks      | elapsed: 58.0min\n",
      "[Parallel(n_jobs=-1)]: Done 290984 tasks      | elapsed: 61.3min\n",
      "[Parallel(n_jobs=-1)]: Done 306384 tasks      | elapsed: 64.5min\n",
      "[Parallel(n_jobs=-1)]: Done 322504 tasks      | elapsed: 68.1min\n",
      "[Parallel(n_jobs=-1)]: Done 339080 tasks      | elapsed: 71.5min\n",
      "[Parallel(n_jobs=-1)]: Done 355680 tasks      | elapsed: 75.0min\n",
      "[Parallel(n_jobs=-1)]: Done 372680 tasks      | elapsed: 78.7min\n",
      "[Parallel(n_jobs=-1)]: Done 390080 tasks      | elapsed: 82.3min\n",
      "[Parallel(n_jobs=-1)]: Done 408232 tasks      | elapsed: 86.4min\n",
      "[Parallel(n_jobs=-1)]: Done 427544 tasks      | elapsed: 90.4min\n",
      "[Parallel(n_jobs=-1)]: Done 446144 tasks      | elapsed: 94.5min\n",
      "[Parallel(n_jobs=-1)]: Done 465144 tasks      | elapsed: 98.5min\n",
      "[Parallel(n_jobs=-1)]: Done 484544 tasks      | elapsed: 102.8min\n",
      "[Parallel(n_jobs=-1)]: Done 504344 tasks      | elapsed: 107.0min\n",
      "[Parallel(n_jobs=-1)]: Done 524544 tasks      | elapsed: 111.4min\n",
      "[Parallel(n_jobs=-1)]: Done 542256 tasks      | elapsed: 115.3min\n",
      "[Parallel(n_jobs=-1)]: Done 563744 tasks      | elapsed: 120.0min\n",
      "[Parallel(n_jobs=-1)]: Done 585616 tasks      | elapsed: 124.7min\n",
      "[Parallel(n_jobs=-1)]: Done 603848 tasks      | elapsed: 128.8min\n",
      "[Parallel(n_jobs=-1)]: Done 624632 tasks      | elapsed: 133.3min\n",
      "[Parallel(n_jobs=-1)]: Done 647584 tasks      | elapsed: 138.4min\n",
      "[Parallel(n_jobs=-1)]: Done 670904 tasks      | elapsed: 143.6min\n",
      "[Parallel(n_jobs=-1)]: Done 694648 tasks      | elapsed: 149.0min\n",
      "[Parallel(n_jobs=-1)]: Done 718824 tasks      | elapsed: 154.1min\n",
      "[Parallel(n_jobs=-1)]: Done 743368 tasks      | elapsed: 159.8min\n",
      "[Parallel(n_jobs=-1)]: Done 768304 tasks      | elapsed: 165.4min\n",
      "[Parallel(n_jobs=-1)]: Done 794152 tasks      | elapsed: 171.2min\n",
      "[Parallel(n_jobs=-1)]: Done 820424 tasks      | elapsed: 177.3min\n",
      "[Parallel(n_jobs=-1)]: Done 846168 tasks      | elapsed: 183.0min\n",
      "[Parallel(n_jobs=-1)]: Done 857457 out of 857472 | elapsed: 185.9min remaining:    0.1s\n",
      "[Parallel(n_jobs=-1)]: Done 857472 out of 857472 | elapsed: 185.9min finished\n"
     ]
    },
    {
     "data": {
      "text/plain": [
       "GridSearchCV(cv=LeaveOneOut(), error_score=nan,\n",
       "             estimator=GradientBoostingClassifier(ccp_alpha=0.0,\n",
       "                                                  criterion='friedman_mse',\n",
       "                                                  init=None, learning_rate=0.1,\n",
       "                                                  loss='deviance', max_depth=3,\n",
       "                                                  max_features=None,\n",
       "                                                  max_leaf_nodes=None,\n",
       "                                                  min_impurity_decrease=0.0,\n",
       "                                                  min_impurity_split=None,\n",
       "                                                  min_samples_leaf=1,\n",
       "                                                  min_samples_split=2,\n",
       "                                                  min_weight_fraction_leaf=0.0,\n",
       "                                                  n_estimators=100...\n",
       "             param_grid={'learning_rate': array([0.9 , 0.89, 0.88, 0.87, 0.86, 0.85, 0.84, 0.83, 0.82, 0.81, 0.8 ,\n",
       "       0.79, 0.78, 0.77, 0.76, 0.75, 0.74, 0.73, 0.72, 0.71, 0.7 ]),\n",
       "                         'loss': ['deviance', 'exponential'],\n",
       "                         'max_depth': range(2, 6),\n",
       "                         'max_features': ['auto', 'sqrt', 'log2', None],\n",
       "                         'n_estimators': range(10, 120, 10)},\n",
       "             pre_dispatch='2*n_jobs', refit=True, return_train_score=False,\n",
       "             scoring=None, verbose=1)"
      ]
     },
     "execution_count": 73,
     "metadata": {},
     "output_type": "execute_result"
    }
   ],
   "source": [
    "model = GradientBoostingClassifier(random_state=20)\n",
    "leave_one_out = model_selection.LeaveOneOut()\n",
    "model_gradboost = GridSearchCV(model, grad_boost_param_grid, cv=leave_one_out, n_jobs = -1, verbose = 1)\n",
    "model_gradboost.fit(X_scaled_standard, y)"
   ]
  },
  {
   "cell_type": "code",
   "execution_count": 74,
   "metadata": {},
   "outputs": [
    {
     "data": {
      "text/plain": [
       "{'learning_rate': 0.88,\n",
       " 'loss': 'exponential',\n",
       " 'max_depth': 2,\n",
       " 'max_features': 'auto',\n",
       " 'n_estimators': 40}"
      ]
     },
     "execution_count": 74,
     "metadata": {},
     "output_type": "execute_result"
    }
   ],
   "source": [
    "model_gradboost.best_params_"
   ]
  },
  {
   "cell_type": "code",
   "execution_count": 75,
   "metadata": {},
   "outputs": [
    {
     "data": {
      "text/plain": [
       "0.75"
      ]
     },
     "execution_count": 75,
     "metadata": {},
     "output_type": "execute_result"
    }
   ],
   "source": [
    "model_gradboost.best_score_"
   ]
  },
  {
   "cell_type": "code",
   "execution_count": 76,
   "metadata": {},
   "outputs": [
    {
     "data": {
      "text/plain": [
       "GradientBoostingClassifier(ccp_alpha=0.0, criterion='friedman_mse', init=None,\n",
       "                           learning_rate=0.88, loss='exponential', max_depth=2,\n",
       "                           max_features='auto', max_leaf_nodes=None,\n",
       "                           min_impurity_decrease=0.0, min_impurity_split=None,\n",
       "                           min_samples_leaf=1, min_samples_split=2,\n",
       "                           min_weight_fraction_leaf=0.0, n_estimators=40,\n",
       "                           n_iter_no_change=None, presort='deprecated',\n",
       "                           random_state=20, subsample=1.0, tol=0.0001,\n",
       "                           validation_fraction=0.1, verbose=0,\n",
       "                           warm_start=False)"
      ]
     },
     "execution_count": 76,
     "metadata": {},
     "output_type": "execute_result"
    }
   ],
   "source": [
    "model_1 = GradientBoostingClassifier(random_state=20, learning_rate = 0.88, loss = 'exponential', max_depth = 2,\n",
    "                                    max_features = 'auto', n_estimators = 40)\n",
    "model_1.fit(X_train, Y_train)"
   ]
  },
  {
   "cell_type": "code",
   "execution_count": 77,
   "metadata": {},
   "outputs": [],
   "source": [
    "results = model_selection.cross_val_score(model_1, X_train, Y_train, cv=leave_one_out)"
   ]
  },
  {
   "cell_type": "code",
   "execution_count": 78,
   "metadata": {},
   "outputs": [
    {
     "name": "stdout",
     "output_type": "stream",
     "text": [
      "Accuracy: 75.000% (43.301%)\n"
     ]
    }
   ],
   "source": [
    "print(\"Accuracy: %.3f%% (%.3f%%)\" % (results.mean()*100.0, results.std()*100.0))"
   ]
  },
  {
   "cell_type": "code",
   "execution_count": 79,
   "metadata": {},
   "outputs": [
    {
     "data": {
      "text/html": [
       "<div>\n",
       "<style scoped>\n",
       "    .dataframe tbody tr th:only-of-type {\n",
       "        vertical-align: middle;\n",
       "    }\n",
       "\n",
       "    .dataframe tbody tr th {\n",
       "        vertical-align: top;\n",
       "    }\n",
       "\n",
       "    .dataframe thead th {\n",
       "        text-align: right;\n",
       "    }\n",
       "</style>\n",
       "<table border=\"1\" class=\"dataframe\">\n",
       "  <thead>\n",
       "    <tr style=\"text-align: right;\">\n",
       "      <th></th>\n",
       "      <th>Subject ID</th>\n",
       "      <th>Jitter(local)</th>\n",
       "      <th>Jitter(local, absolute)</th>\n",
       "      <th>Jitter (rap)</th>\n",
       "      <th>Jitter (ppq5)</th>\n",
       "      <th>Jitter (ddp)</th>\n",
       "      <th>Shimmer (local)</th>\n",
       "      <th>Shimmer (local, db)</th>\n",
       "      <th>Shimmer (apq3)</th>\n",
       "      <th>Shimmer (apq5)</th>\n",
       "      <th>...</th>\n",
       "      <th>Minimum pitch</th>\n",
       "      <th>Maximum pitch</th>\n",
       "      <th>Number of pulses</th>\n",
       "      <th>Number of periods</th>\n",
       "      <th>Mean period</th>\n",
       "      <th>Standard deviation of period</th>\n",
       "      <th>Fraction of locally unvoiced frames</th>\n",
       "      <th>Number of voice breaks</th>\n",
       "      <th>Degree of voice breaks</th>\n",
       "      <th>status</th>\n",
       "    </tr>\n",
       "  </thead>\n",
       "  <tbody>\n",
       "    <tr>\n",
       "      <th>0</th>\n",
       "      <td>16</td>\n",
       "      <td>0.014680</td>\n",
       "      <td>0.000086</td>\n",
       "      <td>0.00510</td>\n",
       "      <td>0.00615</td>\n",
       "      <td>0.01530</td>\n",
       "      <td>0.08510</td>\n",
       "      <td>0.0814</td>\n",
       "      <td>0.03719</td>\n",
       "      <td>0.05185</td>\n",
       "      <td>...</td>\n",
       "      <td>82.429</td>\n",
       "      <td>244.408</td>\n",
       "      <td>94</td>\n",
       "      <td>93</td>\n",
       "      <td>0.00582</td>\n",
       "      <td>0.001900</td>\n",
       "      <td>0.00000</td>\n",
       "      <td>0</td>\n",
       "      <td>0.0</td>\n",
       "      <td>1</td>\n",
       "    </tr>\n",
       "    <tr>\n",
       "      <th>1</th>\n",
       "      <td>16</td>\n",
       "      <td>0.001029</td>\n",
       "      <td>0.000047</td>\n",
       "      <td>0.00407</td>\n",
       "      <td>0.00574</td>\n",
       "      <td>0.01220</td>\n",
       "      <td>0.04188</td>\n",
       "      <td>0.5570</td>\n",
       "      <td>0.01337</td>\n",
       "      <td>0.02081</td>\n",
       "      <td>...</td>\n",
       "      <td>187.378</td>\n",
       "      <td>242.159</td>\n",
       "      <td>113</td>\n",
       "      <td>112</td>\n",
       "      <td>0.00457</td>\n",
       "      <td>0.000297</td>\n",
       "      <td>0.00641</td>\n",
       "      <td>0</td>\n",
       "      <td>0.0</td>\n",
       "      <td>1</td>\n",
       "    </tr>\n",
       "    <tr>\n",
       "      <th>2</th>\n",
       "      <td>16</td>\n",
       "      <td>0.013350</td>\n",
       "      <td>0.000056</td>\n",
       "      <td>0.00403</td>\n",
       "      <td>0.00663</td>\n",
       "      <td>0.01210</td>\n",
       "      <td>0.05257</td>\n",
       "      <td>0.7430</td>\n",
       "      <td>0.01663</td>\n",
       "      <td>0.02859</td>\n",
       "      <td>...</td>\n",
       "      <td>108.624</td>\n",
       "      <td>355.665</td>\n",
       "      <td>122</td>\n",
       "      <td>120</td>\n",
       "      <td>0.00420</td>\n",
       "      <td>0.000703</td>\n",
       "      <td>0.02500</td>\n",
       "      <td>0</td>\n",
       "      <td>0.0</td>\n",
       "      <td>1</td>\n",
       "    </tr>\n",
       "    <tr>\n",
       "      <th>3</th>\n",
       "      <td>16</td>\n",
       "      <td>0.021640</td>\n",
       "      <td>0.000113</td>\n",
       "      <td>0.01130</td>\n",
       "      <td>0.01200</td>\n",
       "      <td>0.03389</td>\n",
       "      <td>0.06250</td>\n",
       "      <td>0.0781</td>\n",
       "      <td>0.01745</td>\n",
       "      <td>0.02950</td>\n",
       "      <td>...</td>\n",
       "      <td>184.991</td>\n",
       "      <td>239.213</td>\n",
       "      <td>69</td>\n",
       "      <td>68</td>\n",
       "      <td>0.00524</td>\n",
       "      <td>0.000254</td>\n",
       "      <td>0.07759</td>\n",
       "      <td>0</td>\n",
       "      <td>0.0</td>\n",
       "      <td>1</td>\n",
       "    </tr>\n",
       "    <tr>\n",
       "      <th>4</th>\n",
       "      <td>16</td>\n",
       "      <td>0.020900</td>\n",
       "      <td>0.000095</td>\n",
       "      <td>0.00989</td>\n",
       "      <td>0.01107</td>\n",
       "      <td>0.02966</td>\n",
       "      <td>0.06128</td>\n",
       "      <td>0.8380</td>\n",
       "      <td>0.02133</td>\n",
       "      <td>0.03216</td>\n",
       "      <td>...</td>\n",
       "      <td>178.835</td>\n",
       "      <td>273.413</td>\n",
       "      <td>87</td>\n",
       "      <td>86</td>\n",
       "      <td>0.00456</td>\n",
       "      <td>0.000433</td>\n",
       "      <td>0.01639</td>\n",
       "      <td>0</td>\n",
       "      <td>0.0</td>\n",
       "      <td>1</td>\n",
       "    </tr>\n",
       "  </tbody>\n",
       "</table>\n",
       "<p>5 rows × 28 columns</p>\n",
       "</div>"
      ],
      "text/plain": [
       "   Subject ID  Jitter(local)  Jitter(local, absolute)  Jitter (rap)  \\\n",
       "0          16       0.014680                 0.000086       0.00510   \n",
       "1          16       0.001029                 0.000047       0.00407   \n",
       "2          16       0.013350                 0.000056       0.00403   \n",
       "3          16       0.021640                 0.000113       0.01130   \n",
       "4          16       0.020900                 0.000095       0.00989   \n",
       "\n",
       "   Jitter (ppq5)  Jitter (ddp)  Shimmer (local)  Shimmer (local, db)  \\\n",
       "0        0.00615       0.01530          0.08510               0.0814   \n",
       "1        0.00574       0.01220          0.04188               0.5570   \n",
       "2        0.00663       0.01210          0.05257               0.7430   \n",
       "3        0.01200       0.03389          0.06250               0.0781   \n",
       "4        0.01107       0.02966          0.06128               0.8380   \n",
       "\n",
       "   Shimmer (apq3)  Shimmer (apq5)  ...  Minimum pitch  Maximum pitch  \\\n",
       "0         0.03719         0.05185  ...         82.429        244.408   \n",
       "1         0.01337         0.02081  ...        187.378        242.159   \n",
       "2         0.01663         0.02859  ...        108.624        355.665   \n",
       "3         0.01745         0.02950  ...        184.991        239.213   \n",
       "4         0.02133         0.03216  ...        178.835        273.413   \n",
       "\n",
       "   Number of pulses  Number of periods  Mean period  \\\n",
       "0                94                 93      0.00582   \n",
       "1               113                112      0.00457   \n",
       "2               122                120      0.00420   \n",
       "3                69                 68      0.00524   \n",
       "4                87                 86      0.00456   \n",
       "\n",
       "   Standard deviation of period  Fraction of locally unvoiced frames  \\\n",
       "0                      0.001900                              0.00000   \n",
       "1                      0.000297                              0.00641   \n",
       "2                      0.000703                              0.02500   \n",
       "3                      0.000254                              0.07759   \n",
       "4                      0.000433                              0.01639   \n",
       "\n",
       "   Number of voice breaks  Degree of voice breaks  status  \n",
       "0                       0                     0.0       1  \n",
       "1                       0                     0.0       1  \n",
       "2                       0                     0.0       1  \n",
       "3                       0                     0.0       1  \n",
       "4                       0                     0.0       1  \n",
       "\n",
       "[5 rows x 28 columns]"
      ]
     },
     "execution_count": 79,
     "metadata": {},
     "output_type": "execute_result"
    }
   ],
   "source": [
    "data_test = pd.read_csv(r'../Datasets/Sri Lankan Dataset - Finalised.csv', header = 0)\n",
    "data_test.head()"
   ]
  },
  {
   "cell_type": "code",
   "execution_count": 80,
   "metadata": {},
   "outputs": [
    {
     "data": {
      "text/plain": [
       "array([[1.468e-02, 8.550e-05, 5.100e-03, ..., 9.300e+01, 5.820e-03,\n",
       "        1.900e-03],\n",
       "       [1.029e-03, 4.700e-05, 4.070e-03, ..., 1.120e+02, 4.570e-03,\n",
       "        2.970e-04],\n",
       "       [1.335e-02, 5.610e-05, 4.030e-03, ..., 1.200e+02, 4.200e-03,\n",
       "        7.030e-04],\n",
       "       ...,\n",
       "       [6.290e-03, 6.700e-05, 3.600e-03, ..., 4.430e+02, 1.060e-02,\n",
       "        1.460e-04],\n",
       "       [3.880e-03, 4.110e-05, 2.000e-03, ..., 3.310e+02, 1.060e-02,\n",
       "        1.600e-04],\n",
       "       [8.550e-03, 7.950e-05, 4.150e-03, ..., 4.580e+02, 9.300e-03,\n",
       "        2.520e-03]])"
      ]
     },
     "execution_count": 80,
     "metadata": {},
     "output_type": "execute_result"
    }
   ],
   "source": [
    "testing_X = data_test.iloc[:, 1:24].values\n",
    "testing_X"
   ]
  },
  {
   "cell_type": "code",
   "execution_count": 81,
   "metadata": {},
   "outputs": [
    {
     "data": {
      "text/plain": [
       "array([[ 0.85019835,  0.66673751,  0.15519785, ..., -0.87731893,\n",
       "        -0.34631139,  2.04328249],\n",
       "       [-1.09421775, -0.18454872, -0.0880491 , ..., -0.81130286,\n",
       "        -1.15088617, -0.23040945],\n",
       "       [ 0.6607563 ,  0.01666439, -0.09749558, ..., -0.78350661,\n",
       "        -1.38904031,  0.34546013],\n",
       "       ...,\n",
       "       [-0.34485337,  0.25767789, -0.19904528, ...,  0.33876672,\n",
       "         2.7303826 , -0.44458754],\n",
       "       [-0.68812806, -0.31500557, -0.57690461, ..., -0.05038069,\n",
       "         2.7303826 , -0.42472997],\n",
       "       [-0.02294433,  0.53406953, -0.06915613, ...,  0.39088467,\n",
       "         1.89362482,  2.92268923]])"
      ]
     },
     "execution_count": 81,
     "metadata": {},
     "output_type": "execute_result"
    }
   ],
   "source": [
    "testing_X = standard_X.transform(testing_X)\n",
    "testing_X"
   ]
  },
  {
   "cell_type": "code",
   "execution_count": 82,
   "metadata": {},
   "outputs": [],
   "source": [
    "y_predict_test = model_1.predict(testing_X)"
   ]
  },
  {
   "cell_type": "code",
   "execution_count": 83,
   "metadata": {},
   "outputs": [
    {
     "data": {
      "text/plain": [
       "array([0, 1, 0, 1, 0, 1, 1, 1, 1, 1, 1, 1, 1, 1, 1, 1, 1, 1, 1, 1, 1, 1,\n",
       "       1, 1, 1, 1, 0, 0, 0, 0, 1, 1, 1, 1, 1, 1, 1, 1, 0, 0, 1, 1, 1, 1,\n",
       "       0, 0, 1, 1, 1, 1, 1, 0, 0, 1, 1, 1, 1, 1, 0, 1, 0, 0, 0, 0, 0, 0,\n",
       "       0, 1, 0, 0, 1, 0, 0, 1, 1, 1, 1, 1, 1, 0, 0, 0, 1, 1, 0, 1, 0, 0,\n",
       "       1, 0, 0, 1, 1, 0, 0, 0, 1, 0, 0], dtype=int64)"
      ]
     },
     "execution_count": 83,
     "metadata": {},
     "output_type": "execute_result"
    }
   ],
   "source": [
    "y_predict_test"
   ]
  },
  {
   "cell_type": "code",
   "execution_count": 4,
   "metadata": {},
   "outputs": [
    {
     "data": {
      "text/plain": [
       "array([0.9 , 0.89, 0.88, 0.87, 0.86, 0.85, 0.84, 0.83, 0.82, 0.81, 0.8 ,\n",
       "       0.79, 0.78, 0.77, 0.76, 0.75, 0.74, 0.73, 0.72, 0.71, 0.7 ])"
      ]
     },
     "execution_count": 4,
     "metadata": {},
     "output_type": "execute_result"
    }
   ],
   "source": [
    "np.arange(0.9,0.7,-0.01)"
   ]
  },
  {
   "cell_type": "code",
   "execution_count": null,
   "metadata": {},
   "outputs": [],
   "source": []
  }
 ],
 "metadata": {
  "kernelspec": {
   "display_name": "Python 3",
   "language": "python",
   "name": "python3"
  },
  "language_info": {
   "codemirror_mode": {
    "name": "ipython",
    "version": 3
   },
   "file_extension": ".py",
   "mimetype": "text/x-python",
   "name": "python",
   "nbconvert_exporter": "python",
   "pygments_lexer": "ipython3",
   "version": "3.7.4"
  }
 },
 "nbformat": 4,
 "nbformat_minor": 4
}
