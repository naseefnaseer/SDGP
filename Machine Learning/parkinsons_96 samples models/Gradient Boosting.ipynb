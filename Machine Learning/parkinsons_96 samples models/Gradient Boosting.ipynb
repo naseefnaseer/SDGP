{
 "cells": [
  {
   "cell_type": "markdown",
   "metadata": {},
   "source": [
    "## Data Preprocessing"
   ]
  },
  {
   "cell_type": "markdown",
   "metadata": {},
   "source": [
    "### Importing the libraries"
   ]
  },
  {
   "cell_type": "code",
   "execution_count": 1,
   "metadata": {},
   "outputs": [],
   "source": [
    "import numpy as np\n",
    "import pandas as pd\n",
    "import matplotlib.pyplot as plt\n",
    "import seaborn as sns\n",
    "import warnings\n",
    "warnings.filterwarnings('ignore')"
   ]
  },
  {
   "cell_type": "markdown",
   "metadata": {},
   "source": [
    "### Importing the dataset"
   ]
  },
  {
   "cell_type": "code",
   "execution_count": 2,
   "metadata": {},
   "outputs": [],
   "source": [
    "data = pd.read_csv(r'parkinsons_train.csv', header=0)"
   ]
  },
  {
   "cell_type": "code",
   "execution_count": 3,
   "metadata": {},
   "outputs": [
    {
     "data": {
      "text/html": [
       "<div>\n",
       "<style scoped>\n",
       "    .dataframe tbody tr th:only-of-type {\n",
       "        vertical-align: middle;\n",
       "    }\n",
       "\n",
       "    .dataframe tbody tr th {\n",
       "        vertical-align: top;\n",
       "    }\n",
       "\n",
       "    .dataframe thead th {\n",
       "        text-align: right;\n",
       "    }\n",
       "</style>\n",
       "<table border=\"1\" class=\"dataframe\">\n",
       "  <thead>\n",
       "    <tr style=\"text-align: right;\">\n",
       "      <th></th>\n",
       "      <th>MDVP:Fo(Hz)</th>\n",
       "      <th>MDVP:Fhi(Hz)</th>\n",
       "      <th>MDVP:Flo(Hz)</th>\n",
       "      <th>MDVP:Jitter(%)</th>\n",
       "      <th>MDVP:Jitter(Abs)</th>\n",
       "      <th>MDVP:RAP</th>\n",
       "      <th>MDVP:PPQ</th>\n",
       "      <th>Jitter:DDP</th>\n",
       "      <th>MDVP:Shimmer</th>\n",
       "      <th>MDVP:Shimmer(dB)</th>\n",
       "      <th>...</th>\n",
       "      <th>Shimmer:DDA</th>\n",
       "      <th>NHR</th>\n",
       "      <th>HNR</th>\n",
       "      <th>status</th>\n",
       "      <th>RPDE</th>\n",
       "      <th>DFA</th>\n",
       "      <th>spread1</th>\n",
       "      <th>spread2</th>\n",
       "      <th>D2</th>\n",
       "      <th>PPE</th>\n",
       "    </tr>\n",
       "  </thead>\n",
       "  <tbody>\n",
       "    <tr>\n",
       "      <th>0</th>\n",
       "      <td>156.405</td>\n",
       "      <td>189.398</td>\n",
       "      <td>142.822</td>\n",
       "      <td>0.00768</td>\n",
       "      <td>0.00005</td>\n",
       "      <td>0.00372</td>\n",
       "      <td>0.00399</td>\n",
       "      <td>0.01116</td>\n",
       "      <td>0.03995</td>\n",
       "      <td>0.348</td>\n",
       "      <td>...</td>\n",
       "      <td>0.05164</td>\n",
       "      <td>0.03365</td>\n",
       "      <td>17.153</td>\n",
       "      <td>1</td>\n",
       "      <td>0.649554</td>\n",
       "      <td>0.686080</td>\n",
       "      <td>-4.554466</td>\n",
       "      <td>0.340176</td>\n",
       "      <td>2.856676</td>\n",
       "      <td>0.322111</td>\n",
       "    </tr>\n",
       "    <tr>\n",
       "      <th>1</th>\n",
       "      <td>153.848</td>\n",
       "      <td>165.738</td>\n",
       "      <td>65.782</td>\n",
       "      <td>0.00840</td>\n",
       "      <td>0.00005</td>\n",
       "      <td>0.00428</td>\n",
       "      <td>0.00450</td>\n",
       "      <td>0.01285</td>\n",
       "      <td>0.03810</td>\n",
       "      <td>0.328</td>\n",
       "      <td>...</td>\n",
       "      <td>0.05000</td>\n",
       "      <td>0.03871</td>\n",
       "      <td>17.536</td>\n",
       "      <td>1</td>\n",
       "      <td>0.660125</td>\n",
       "      <td>0.704087</td>\n",
       "      <td>-4.095442</td>\n",
       "      <td>0.262564</td>\n",
       "      <td>2.739710</td>\n",
       "      <td>0.365391</td>\n",
       "    </tr>\n",
       "    <tr>\n",
       "      <th>2</th>\n",
       "      <td>153.880</td>\n",
       "      <td>172.860</td>\n",
       "      <td>78.128</td>\n",
       "      <td>0.00480</td>\n",
       "      <td>0.00003</td>\n",
       "      <td>0.00232</td>\n",
       "      <td>0.00267</td>\n",
       "      <td>0.00696</td>\n",
       "      <td>0.04137</td>\n",
       "      <td>0.370</td>\n",
       "      <td>...</td>\n",
       "      <td>0.06062</td>\n",
       "      <td>0.01849</td>\n",
       "      <td>19.493</td>\n",
       "      <td>1</td>\n",
       "      <td>0.629017</td>\n",
       "      <td>0.698951</td>\n",
       "      <td>-5.186960</td>\n",
       "      <td>0.237622</td>\n",
       "      <td>2.557536</td>\n",
       "      <td>0.259765</td>\n",
       "    </tr>\n",
       "    <tr>\n",
       "      <th>3</th>\n",
       "      <td>167.930</td>\n",
       "      <td>193.221</td>\n",
       "      <td>79.068</td>\n",
       "      <td>0.00442</td>\n",
       "      <td>0.00003</td>\n",
       "      <td>0.00220</td>\n",
       "      <td>0.00247</td>\n",
       "      <td>0.00661</td>\n",
       "      <td>0.04351</td>\n",
       "      <td>0.377</td>\n",
       "      <td>...</td>\n",
       "      <td>0.06685</td>\n",
       "      <td>0.01280</td>\n",
       "      <td>22.468</td>\n",
       "      <td>1</td>\n",
       "      <td>0.619060</td>\n",
       "      <td>0.679834</td>\n",
       "      <td>-4.330956</td>\n",
       "      <td>0.262384</td>\n",
       "      <td>2.916777</td>\n",
       "      <td>0.285695</td>\n",
       "    </tr>\n",
       "    <tr>\n",
       "      <th>4</th>\n",
       "      <td>173.917</td>\n",
       "      <td>192.735</td>\n",
       "      <td>86.180</td>\n",
       "      <td>0.00476</td>\n",
       "      <td>0.00003</td>\n",
       "      <td>0.00221</td>\n",
       "      <td>0.00258</td>\n",
       "      <td>0.00663</td>\n",
       "      <td>0.04192</td>\n",
       "      <td>0.364</td>\n",
       "      <td>...</td>\n",
       "      <td>0.06562</td>\n",
       "      <td>0.01840</td>\n",
       "      <td>20.422</td>\n",
       "      <td>1</td>\n",
       "      <td>0.537264</td>\n",
       "      <td>0.686894</td>\n",
       "      <td>-5.248776</td>\n",
       "      <td>0.210279</td>\n",
       "      <td>2.547508</td>\n",
       "      <td>0.253556</td>\n",
       "    </tr>\n",
       "  </tbody>\n",
       "</table>\n",
       "<p>5 rows × 23 columns</p>\n",
       "</div>"
      ],
      "text/plain": [
       "   MDVP:Fo(Hz)  MDVP:Fhi(Hz)  MDVP:Flo(Hz)  MDVP:Jitter(%)  MDVP:Jitter(Abs)  \\\n",
       "0      156.405       189.398       142.822         0.00768           0.00005   \n",
       "1      153.848       165.738        65.782         0.00840           0.00005   \n",
       "2      153.880       172.860        78.128         0.00480           0.00003   \n",
       "3      167.930       193.221        79.068         0.00442           0.00003   \n",
       "4      173.917       192.735        86.180         0.00476           0.00003   \n",
       "\n",
       "   MDVP:RAP  MDVP:PPQ  Jitter:DDP  MDVP:Shimmer  MDVP:Shimmer(dB)  ...  \\\n",
       "0   0.00372   0.00399     0.01116       0.03995             0.348  ...   \n",
       "1   0.00428   0.00450     0.01285       0.03810             0.328  ...   \n",
       "2   0.00232   0.00267     0.00696       0.04137             0.370  ...   \n",
       "3   0.00220   0.00247     0.00661       0.04351             0.377  ...   \n",
       "4   0.00221   0.00258     0.00663       0.04192             0.364  ...   \n",
       "\n",
       "   Shimmer:DDA      NHR     HNR  status      RPDE       DFA   spread1  \\\n",
       "0      0.05164  0.03365  17.153       1  0.649554  0.686080 -4.554466   \n",
       "1      0.05000  0.03871  17.536       1  0.660125  0.704087 -4.095442   \n",
       "2      0.06062  0.01849  19.493       1  0.629017  0.698951 -5.186960   \n",
       "3      0.06685  0.01280  22.468       1  0.619060  0.679834 -4.330956   \n",
       "4      0.06562  0.01840  20.422       1  0.537264  0.686894 -5.248776   \n",
       "\n",
       "    spread2        D2       PPE  \n",
       "0  0.340176  2.856676  0.322111  \n",
       "1  0.262564  2.739710  0.365391  \n",
       "2  0.237622  2.557536  0.259765  \n",
       "3  0.262384  2.916777  0.285695  \n",
       "4  0.210279  2.547508  0.253556  \n",
       "\n",
       "[5 rows x 23 columns]"
      ]
     },
     "execution_count": 3,
     "metadata": {},
     "output_type": "execute_result"
    }
   ],
   "source": [
    "data.head()"
   ]
  },
  {
   "cell_type": "code",
   "execution_count": 4,
   "metadata": {},
   "outputs": [
    {
     "data": {
      "text/plain": [
       "(96, 23)"
      ]
     },
     "execution_count": 4,
     "metadata": {},
     "output_type": "execute_result"
    }
   ],
   "source": [
    "data.shape"
   ]
  },
  {
   "cell_type": "code",
   "execution_count": 5,
   "metadata": {},
   "outputs": [
    {
     "data": {
      "text/plain": [
       "RangeIndex(start=0, stop=96, step=1)"
      ]
     },
     "execution_count": 5,
     "metadata": {},
     "output_type": "execute_result"
    }
   ],
   "source": [
    "data.index"
   ]
  },
  {
   "cell_type": "code",
   "execution_count": 6,
   "metadata": {},
   "outputs": [
    {
     "data": {
      "text/plain": [
       "Index(['MDVP:Fo(Hz)', 'MDVP:Fhi(Hz)', 'MDVP:Flo(Hz)', 'MDVP:Jitter(%)',\n",
       "       'MDVP:Jitter(Abs)', 'MDVP:RAP', 'MDVP:PPQ', 'Jitter:DDP',\n",
       "       'MDVP:Shimmer', 'MDVP:Shimmer(dB)', 'Shimmer:APQ3', 'Shimmer:APQ5',\n",
       "       'MDVP:APQ', 'Shimmer:DDA', 'NHR', 'HNR', 'status', 'RPDE', 'DFA',\n",
       "       'spread1', 'spread2', 'D2', 'PPE'],\n",
       "      dtype='object')"
      ]
     },
     "execution_count": 6,
     "metadata": {},
     "output_type": "execute_result"
    }
   ],
   "source": [
    "data.columns"
   ]
  },
  {
   "cell_type": "markdown",
   "metadata": {},
   "source": [
    "### Checking for null values (missing values)"
   ]
  },
  {
   "cell_type": "code",
   "execution_count": 7,
   "metadata": {},
   "outputs": [
    {
     "data": {
      "text/plain": [
       "MDVP:Fo(Hz)         0\n",
       "MDVP:Fhi(Hz)        0\n",
       "MDVP:Flo(Hz)        0\n",
       "MDVP:Jitter(%)      0\n",
       "MDVP:Jitter(Abs)    0\n",
       "MDVP:RAP            0\n",
       "MDVP:PPQ            0\n",
       "Jitter:DDP          0\n",
       "MDVP:Shimmer        0\n",
       "MDVP:Shimmer(dB)    0\n",
       "Shimmer:APQ3        0\n",
       "Shimmer:APQ5        0\n",
       "MDVP:APQ            0\n",
       "Shimmer:DDA         0\n",
       "NHR                 0\n",
       "HNR                 0\n",
       "status              0\n",
       "RPDE                0\n",
       "DFA                 0\n",
       "spread1             0\n",
       "spread2             0\n",
       "D2                  0\n",
       "PPE                 0\n",
       "dtype: int64"
      ]
     },
     "execution_count": 7,
     "metadata": {},
     "output_type": "execute_result"
    }
   ],
   "source": [
    "data.isnull().sum()"
   ]
  },
  {
   "cell_type": "markdown",
   "metadata": {},
   "source": [
    "### Selecting independent and dependent variables"
   ]
  },
  {
   "cell_type": "code",
   "execution_count": 8,
   "metadata": {},
   "outputs": [],
   "source": [
    "X = data.loc[:, data.columns != 'status'].values\n",
    "y = data.loc[:, 'status'].values"
   ]
  },
  {
   "cell_type": "markdown",
   "metadata": {},
   "source": [
    "### Spliting the dataset for training and testing"
   ]
  },
  {
   "cell_type": "code",
   "execution_count": 9,
   "metadata": {},
   "outputs": [],
   "source": [
    "from sklearn.model_selection import train_test_split\n",
    "X_train, X_test, y_train, y_test = train_test_split(X, y, random_state = 12)"
   ]
  },
  {
   "cell_type": "code",
   "execution_count": 10,
   "metadata": {},
   "outputs": [
    {
     "data": {
      "text/plain": [
       "array([[2.428520e+02, 2.550340e+02, 2.279110e+02, ..., 1.020830e-01,\n",
       "        2.365800e+00, 1.027060e-01],\n",
       "       [1.487900e+02, 1.583590e+02, 1.389900e+02, ..., 1.824590e-01,\n",
       "        2.251553e+00, 1.603060e-01],\n",
       "       [2.289690e+02, 2.395410e+02, 1.132010e+02, ..., 6.274000e-03,\n",
       "        2.118596e+00, 9.154600e-02],\n",
       "       ...,\n",
       "       [1.044000e+02, 2.060020e+02, 7.796800e+01, ..., 2.368530e-01,\n",
       "        2.846369e+00, 2.195140e-01],\n",
       "       [2.455100e+02, 2.620900e+02, 2.318480e+02, ..., 1.276420e-01,\n",
       "        2.392122e+00, 9.733600e-02],\n",
       "       [1.170040e+02, 1.444660e+02, 9.992300e+01, ..., 2.292980e-01,\n",
       "        1.872946e+00, 1.631180e-01]])"
      ]
     },
     "execution_count": 10,
     "metadata": {},
     "output_type": "execute_result"
    }
   ],
   "source": [
    "X_train"
   ]
  },
  {
   "cell_type": "code",
   "execution_count": 11,
   "metadata": {},
   "outputs": [
    {
     "data": {
      "text/plain": [
       "24"
      ]
     },
     "execution_count": 11,
     "metadata": {},
     "output_type": "execute_result"
    }
   ],
   "source": [
    "len(X_test)"
   ]
  },
  {
   "cell_type": "code",
   "execution_count": 12,
   "metadata": {},
   "outputs": [
    {
     "data": {
      "text/plain": [
       "array([0, 1, 0, 1, 1, 0, 1, 0, 1, 1, 1, 1, 1, 1, 0, 0, 0, 0, 0, 0, 1, 1,\n",
       "       0, 1, 0, 1, 0, 0, 1, 1, 1, 1, 0, 1, 1, 0, 0, 0, 0, 1, 0, 0, 0, 0,\n",
       "       0, 1, 1, 1, 0, 0, 1, 1, 1, 1, 0, 1, 0, 0, 0, 0, 1, 1, 1, 1, 1, 0,\n",
       "       0, 1, 1, 1, 0, 0], dtype=int64)"
      ]
     },
     "execution_count": 12,
     "metadata": {},
     "output_type": "execute_result"
    }
   ],
   "source": [
    "y_train"
   ]
  },
  {
   "cell_type": "code",
   "execution_count": 13,
   "metadata": {},
   "outputs": [
    {
     "data": {
      "text/plain": [
       "array([1, 1, 0, 1, 1, 0, 0, 1, 1, 0, 0, 1, 0, 1, 0, 0, 1, 1, 1, 0, 0, 0,\n",
       "       0, 0], dtype=int64)"
      ]
     },
     "execution_count": 13,
     "metadata": {},
     "output_type": "execute_result"
    }
   ],
   "source": [
    "y_test"
   ]
  },
  {
   "cell_type": "markdown",
   "metadata": {},
   "source": [
    "### Limiting the range of variables -> to compare them commonly"
   ]
  },
  {
   "cell_type": "code",
   "execution_count": 14,
   "metadata": {},
   "outputs": [
    {
     "data": {
      "text/plain": [
       "StandardScaler(copy=True, with_mean=True, with_std=True)"
      ]
     },
     "execution_count": 14,
     "metadata": {},
     "output_type": "execute_result"
    }
   ],
   "source": [
    "from sklearn.preprocessing import StandardScaler\n",
    "standard_X = StandardScaler()\n",
    "standard_X.fit(X_train)"
   ]
  },
  {
   "cell_type": "code",
   "execution_count": 15,
   "metadata": {},
   "outputs": [],
   "source": [
    "X_train = standard_X.transform(X_train)\n",
    "X_test = standard_X.transform(X_test)"
   ]
  },
  {
   "cell_type": "code",
   "execution_count": 16,
   "metadata": {},
   "outputs": [
    {
     "data": {
      "text/plain": [
       "array([[ 1.75619315,  0.52219892,  1.90311067, ..., -1.31716901,\n",
       "         0.38359317, -0.82236558],\n",
       "       [-0.34392729, -0.49828958,  0.20358298, ..., -0.15638479,\n",
       "         0.02304834, -0.07258327],\n",
       "       [ 1.44622768,  0.35865686, -0.28931655, ..., -2.70083547,\n",
       "        -0.39654218, -0.9676359 ],\n",
       "       ...,\n",
       "       [-1.33502195,  0.00462362, -0.9627172 , ...,  0.62916931,\n",
       "         1.90019025,  0.69813045],\n",
       "       [ 1.81553826,  0.59668112,  1.97835769, ..., -0.94804783,\n",
       "         0.46666109, -0.89226716],\n",
       "       [-1.05361269, -0.64494225, -0.54309607, ...,  0.52006056,\n",
       "        -1.17177336, -0.03597932]])"
      ]
     },
     "execution_count": 16,
     "metadata": {},
     "output_type": "execute_result"
    }
   ],
   "source": [
    "X_train"
   ]
  },
  {
   "cell_type": "markdown",
   "metadata": {},
   "source": [
    "## Gradient Boosting"
   ]
  },
  {
   "cell_type": "code",
   "execution_count": 17,
   "metadata": {},
   "outputs": [],
   "source": [
    "from sklearn.metrics import classification_report, confusion_matrix, accuracy_score\n",
    "from sklearn.ensemble import GradientBoostingClassifier"
   ]
  },
  {
   "cell_type": "code",
   "execution_count": 18,
   "metadata": {},
   "outputs": [
    {
     "name": "stdout",
     "output_type": "stream",
     "text": [
      "Learning rate:  0.05\n",
      "Accuracy score of training set : 1.000\n",
      "Accuracy score of testing set : 0.958\n",
      "\n",
      "\n",
      "Learning rate:  0.075\n",
      "Accuracy score of training set : 1.000\n",
      "Accuracy score of testing set : 0.875\n",
      "\n",
      "\n",
      "Learning rate:  0.1\n",
      "Accuracy score of training set : 1.000\n",
      "Accuracy score of testing set : 0.875\n",
      "\n",
      "\n",
      "Learning rate:  0.25\n",
      "Accuracy score of training set : 1.000\n",
      "Accuracy score of testing set : 0.875\n",
      "\n",
      "\n",
      "Learning rate:  0.75\n",
      "Accuracy score of training set : 1.000\n",
      "Accuracy score of testing set : 1.000\n",
      "\n",
      "\n",
      "Learning rate:  1\n",
      "Accuracy score of training set : 1.000\n",
      "Accuracy score of testing set : 0.958\n",
      "\n",
      "\n"
     ]
    }
   ],
   "source": [
    "learning_rate_list = [0.05, 0.075, 0.1, 0.25, 0.75, 1]\n",
    "\n",
    "for learning_rate in learning_rate_list:\n",
    "    model = GradientBoostingClassifier(n_estimators = 20, learning_rate = learning_rate, random_state = 0)\n",
    "    model.fit(X_train, y_train)\n",
    "    \n",
    "    print(\"Learning rate: \", learning_rate)\n",
    "    print(\"Accuracy score of training set : {0:.3f}\".format(model.score(X_train, y_train)))\n",
    "    print(\"Accuracy score of testing set : {0:.3f}\".format(model.score(X_test, y_test)))\n",
    "    print(\"\\n\")"
   ]
  },
  {
   "cell_type": "code",
   "execution_count": 19,
   "metadata": {},
   "outputs": [
    {
     "name": "stdout",
     "output_type": "stream",
     "text": [
      "Confusion Matrix\n",
      "[[13  0]\n",
      " [ 0 11]]\n",
      "\n",
      "\n",
      "Classfications Results\n",
      "              precision    recall  f1-score   support\n",
      "\n",
      "           0       1.00      1.00      1.00        13\n",
      "           1       1.00      1.00      1.00        11\n",
      "\n",
      "    accuracy                           1.00        24\n",
      "   macro avg       1.00      1.00      1.00        24\n",
      "weighted avg       1.00      1.00      1.00        24\n",
      "\n",
      "Accuracy Score\n",
      "1.0\n"
     ]
    }
   ],
   "source": [
    "learning_rate = 0.75\n",
    "\n",
    "model = GradientBoostingClassifier(n_estimators = 20, learning_rate = learning_rate, random_state = 0)\n",
    "model.fit(X_train, y_train)\n",
    "y_pred = model.predict(X_test)\n",
    "\n",
    "print(\"Confusion Matrix\")\n",
    "print(confusion_matrix(y_test, y_pred))\n",
    "print(\"\\n\")\n",
    "\n",
    "print(\"Classfications Results\")\n",
    "print(classification_report(y_test, y_pred))\n",
    "\n",
    "print(\"Accuracy Score\")\n",
    "print(accuracy_score(y_test, y_pred))"
   ]
  },
  {
   "cell_type": "code",
   "execution_count": 20,
   "metadata": {},
   "outputs": [
    {
     "data": {
      "image/png": "[encoded data removed]",
      "text/plain": [
       "<Figure size 576x576 with 1 Axes>"
      ]
     },
     "metadata": {
      "needs_background": "light"
     },
     "output_type": "display_data"
    }
   ],
   "source": [
    "cm = confusion_matrix(y_test, model.predict(X_test))\n",
    "\n",
    "fig, ax = plt.subplots(figsize=(8, 8))\n",
    "ax.imshow(cm)\n",
    "ax.grid(False)\n",
    "ax.xaxis.set(ticks=(0, 1), ticklabels=('Predicted 0s', 'Predicted 1s'))\n",
    "ax.yaxis.set(ticks=(0, 1), ticklabels=('Actual 0s', 'Actual 1s'))\n",
    "ax.set_ylim(1.5, -0.5)\n",
    "for i in range(2):\n",
    "    for j in range(2):\n",
    "        ax.text(j, i, cm[i, j], ha='center', va='center', color='red')\n",
    "plt.show()"
   ]
  },
  {
   "cell_type": "markdown",
   "metadata": {},
   "source": [
    "## Saving the model"
   ]
  },
  {
   "cell_type": "code",
   "execution_count": 21,
   "metadata": {},
   "outputs": [
    {
     "data": {
      "text/plain": [
       "['Gradient Boosting model.sav']"
      ]
     },
     "execution_count": 21,
     "metadata": {},
     "output_type": "execute_result"
    }
   ],
   "source": [
    "import joblib\n",
    "filename = 'Gradient Boosting model.sav'\n",
    "joblib.dump(model, filename)"
   ]
  }
 ],
 "metadata": {
  "kernelspec": {
   "display_name": "Python 3",
   "language": "python",
   "name": "python3"
  },
  "language_info": {
   "codemirror_mode": {
    "name": "ipython",
    "version": 3
   },
   "file_extension": ".py",
   "mimetype": "text/x-python",
   "name": "python",
   "nbconvert_exporter": "python",
   "pygments_lexer": "ipython3",
   "version": "3.7.4"
  }
 },
 "nbformat": 4,
 "nbformat_minor": 4
}
