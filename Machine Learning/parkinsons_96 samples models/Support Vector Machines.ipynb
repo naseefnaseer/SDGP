{
 "cells": [
  {
   "cell_type": "markdown",
   "metadata": {},
   "source": [
    "## Data Preprocessing"
   ]
  },
  {
   "cell_type": "markdown",
   "metadata": {},
   "source": [
    "### Importing the libraries"
   ]
  },
  {
   "cell_type": "code",
   "execution_count": 1,
   "metadata": {},
   "outputs": [],
   "source": [
    "import numpy as np\n",
    "import pandas as pd\n",
    "import matplotlib.pyplot as plt\n",
    "%matplotlib inline\n",
    "import seaborn as sns\n",
    "import warnings\n",
    "warnings.filterwarnings('ignore')"
   ]
  },
  {
   "cell_type": "markdown",
   "metadata": {},
   "source": [
    "### Importing the dataset"
   ]
  },
  {
   "cell_type": "code",
   "execution_count": 2,
   "metadata": {},
   "outputs": [],
   "source": [
    "data = pd.read_csv(r'parkinsons_train.csv', header=0)"
   ]
  },
  {
   "cell_type": "code",
   "execution_count": 3,
   "metadata": {},
   "outputs": [
    {
     "data": {
      "text/html": [
       "<div>\n",
       "<style scoped>\n",
       "    .dataframe tbody tr th:only-of-type {\n",
       "        vertical-align: middle;\n",
       "    }\n",
       "\n",
       "    .dataframe tbody tr th {\n",
       "        vertical-align: top;\n",
       "    }\n",
       "\n",
       "    .dataframe thead th {\n",
       "        text-align: right;\n",
       "    }\n",
       "</style>\n",
       "<table border=\"1\" class=\"dataframe\">\n",
       "  <thead>\n",
       "    <tr style=\"text-align: right;\">\n",
       "      <th></th>\n",
       "      <th>MDVP:Fo(Hz)</th>\n",
       "      <th>MDVP:Fhi(Hz)</th>\n",
       "      <th>MDVP:Flo(Hz)</th>\n",
       "      <th>MDVP:Jitter(%)</th>\n",
       "      <th>MDVP:Jitter(Abs)</th>\n",
       "      <th>MDVP:RAP</th>\n",
       "      <th>MDVP:PPQ</th>\n",
       "      <th>Jitter:DDP</th>\n",
       "      <th>MDVP:Shimmer</th>\n",
       "      <th>MDVP:Shimmer(dB)</th>\n",
       "      <th>...</th>\n",
       "      <th>Shimmer:DDA</th>\n",
       "      <th>NHR</th>\n",
       "      <th>HNR</th>\n",
       "      <th>status</th>\n",
       "      <th>RPDE</th>\n",
       "      <th>DFA</th>\n",
       "      <th>spread1</th>\n",
       "      <th>spread2</th>\n",
       "      <th>D2</th>\n",
       "      <th>PPE</th>\n",
       "    </tr>\n",
       "  </thead>\n",
       "  <tbody>\n",
       "    <tr>\n",
       "      <th>0</th>\n",
       "      <td>156.405</td>\n",
       "      <td>189.398</td>\n",
       "      <td>142.822</td>\n",
       "      <td>0.00768</td>\n",
       "      <td>0.00005</td>\n",
       "      <td>0.00372</td>\n",
       "      <td>0.00399</td>\n",
       "      <td>0.01116</td>\n",
       "      <td>0.03995</td>\n",
       "      <td>0.348</td>\n",
       "      <td>...</td>\n",
       "      <td>0.05164</td>\n",
       "      <td>0.03365</td>\n",
       "      <td>17.153</td>\n",
       "      <td>1</td>\n",
       "      <td>0.649554</td>\n",
       "      <td>0.686080</td>\n",
       "      <td>-4.554466</td>\n",
       "      <td>0.340176</td>\n",
       "      <td>2.856676</td>\n",
       "      <td>0.322111</td>\n",
       "    </tr>\n",
       "    <tr>\n",
       "      <th>1</th>\n",
       "      <td>153.848</td>\n",
       "      <td>165.738</td>\n",
       "      <td>65.782</td>\n",
       "      <td>0.00840</td>\n",
       "      <td>0.00005</td>\n",
       "      <td>0.00428</td>\n",
       "      <td>0.00450</td>\n",
       "      <td>0.01285</td>\n",
       "      <td>0.03810</td>\n",
       "      <td>0.328</td>\n",
       "      <td>...</td>\n",
       "      <td>0.05000</td>\n",
       "      <td>0.03871</td>\n",
       "      <td>17.536</td>\n",
       "      <td>1</td>\n",
       "      <td>0.660125</td>\n",
       "      <td>0.704087</td>\n",
       "      <td>-4.095442</td>\n",
       "      <td>0.262564</td>\n",
       "      <td>2.739710</td>\n",
       "      <td>0.365391</td>\n",
       "    </tr>\n",
       "    <tr>\n",
       "      <th>2</th>\n",
       "      <td>153.880</td>\n",
       "      <td>172.860</td>\n",
       "      <td>78.128</td>\n",
       "      <td>0.00480</td>\n",
       "      <td>0.00003</td>\n",
       "      <td>0.00232</td>\n",
       "      <td>0.00267</td>\n",
       "      <td>0.00696</td>\n",
       "      <td>0.04137</td>\n",
       "      <td>0.370</td>\n",
       "      <td>...</td>\n",
       "      <td>0.06062</td>\n",
       "      <td>0.01849</td>\n",
       "      <td>19.493</td>\n",
       "      <td>1</td>\n",
       "      <td>0.629017</td>\n",
       "      <td>0.698951</td>\n",
       "      <td>-5.186960</td>\n",
       "      <td>0.237622</td>\n",
       "      <td>2.557536</td>\n",
       "      <td>0.259765</td>\n",
       "    </tr>\n",
       "    <tr>\n",
       "      <th>3</th>\n",
       "      <td>167.930</td>\n",
       "      <td>193.221</td>\n",
       "      <td>79.068</td>\n",
       "      <td>0.00442</td>\n",
       "      <td>0.00003</td>\n",
       "      <td>0.00220</td>\n",
       "      <td>0.00247</td>\n",
       "      <td>0.00661</td>\n",
       "      <td>0.04351</td>\n",
       "      <td>0.377</td>\n",
       "      <td>...</td>\n",
       "      <td>0.06685</td>\n",
       "      <td>0.01280</td>\n",
       "      <td>22.468</td>\n",
       "      <td>1</td>\n",
       "      <td>0.619060</td>\n",
       "      <td>0.679834</td>\n",
       "      <td>-4.330956</td>\n",
       "      <td>0.262384</td>\n",
       "      <td>2.916777</td>\n",
       "      <td>0.285695</td>\n",
       "    </tr>\n",
       "    <tr>\n",
       "      <th>4</th>\n",
       "      <td>173.917</td>\n",
       "      <td>192.735</td>\n",
       "      <td>86.180</td>\n",
       "      <td>0.00476</td>\n",
       "      <td>0.00003</td>\n",
       "      <td>0.00221</td>\n",
       "      <td>0.00258</td>\n",
       "      <td>0.00663</td>\n",
       "      <td>0.04192</td>\n",
       "      <td>0.364</td>\n",
       "      <td>...</td>\n",
       "      <td>0.06562</td>\n",
       "      <td>0.01840</td>\n",
       "      <td>20.422</td>\n",
       "      <td>1</td>\n",
       "      <td>0.537264</td>\n",
       "      <td>0.686894</td>\n",
       "      <td>-5.248776</td>\n",
       "      <td>0.210279</td>\n",
       "      <td>2.547508</td>\n",
       "      <td>0.253556</td>\n",
       "    </tr>\n",
       "  </tbody>\n",
       "</table>\n",
       "<p>5 rows × 23 columns</p>\n",
       "</div>"
      ],
      "text/plain": [
       "   MDVP:Fo(Hz)  MDVP:Fhi(Hz)  MDVP:Flo(Hz)  MDVP:Jitter(%)  MDVP:Jitter(Abs)  \\\n",
       "0      156.405       189.398       142.822         0.00768           0.00005   \n",
       "1      153.848       165.738        65.782         0.00840           0.00005   \n",
       "2      153.880       172.860        78.128         0.00480           0.00003   \n",
       "3      167.930       193.221        79.068         0.00442           0.00003   \n",
       "4      173.917       192.735        86.180         0.00476           0.00003   \n",
       "\n",
       "   MDVP:RAP  MDVP:PPQ  Jitter:DDP  MDVP:Shimmer  MDVP:Shimmer(dB)  ...  \\\n",
       "0   0.00372   0.00399     0.01116       0.03995             0.348  ...   \n",
       "1   0.00428   0.00450     0.01285       0.03810             0.328  ...   \n",
       "2   0.00232   0.00267     0.00696       0.04137             0.370  ...   \n",
       "3   0.00220   0.00247     0.00661       0.04351             0.377  ...   \n",
       "4   0.00221   0.00258     0.00663       0.04192             0.364  ...   \n",
       "\n",
       "   Shimmer:DDA      NHR     HNR  status      RPDE       DFA   spread1  \\\n",
       "0      0.05164  0.03365  17.153       1  0.649554  0.686080 -4.554466   \n",
       "1      0.05000  0.03871  17.536       1  0.660125  0.704087 -4.095442   \n",
       "2      0.06062  0.01849  19.493       1  0.629017  0.698951 -5.186960   \n",
       "3      0.06685  0.01280  22.468       1  0.619060  0.679834 -4.330956   \n",
       "4      0.06562  0.01840  20.422       1  0.537264  0.686894 -5.248776   \n",
       "\n",
       "    spread2        D2       PPE  \n",
       "0  0.340176  2.856676  0.322111  \n",
       "1  0.262564  2.739710  0.365391  \n",
       "2  0.237622  2.557536  0.259765  \n",
       "3  0.262384  2.916777  0.285695  \n",
       "4  0.210279  2.547508  0.253556  \n",
       "\n",
       "[5 rows x 23 columns]"
      ]
     },
     "execution_count": 3,
     "metadata": {},
     "output_type": "execute_result"
    }
   ],
   "source": [
    "data.head()"
   ]
  },
  {
   "cell_type": "code",
   "execution_count": 4,
   "metadata": {},
   "outputs": [
    {
     "data": {
      "text/plain": [
       "(96, 23)"
      ]
     },
     "execution_count": 4,
     "metadata": {},
     "output_type": "execute_result"
    }
   ],
   "source": [
    "data.shape"
   ]
  },
  {
   "cell_type": "code",
   "execution_count": 5,
   "metadata": {},
   "outputs": [
    {
     "data": {
      "text/plain": [
       "RangeIndex(start=0, stop=96, step=1)"
      ]
     },
     "execution_count": 5,
     "metadata": {},
     "output_type": "execute_result"
    }
   ],
   "source": [
    "data.index"
   ]
  },
  {
   "cell_type": "code",
   "execution_count": 6,
   "metadata": {},
   "outputs": [
    {
     "data": {
      "text/plain": [
       "Index(['MDVP:Fo(Hz)', 'MDVP:Fhi(Hz)', 'MDVP:Flo(Hz)', 'MDVP:Jitter(%)',\n",
       "       'MDVP:Jitter(Abs)', 'MDVP:RAP', 'MDVP:PPQ', 'Jitter:DDP',\n",
       "       'MDVP:Shimmer', 'MDVP:Shimmer(dB)', 'Shimmer:APQ3', 'Shimmer:APQ5',\n",
       "       'MDVP:APQ', 'Shimmer:DDA', 'NHR', 'HNR', 'status', 'RPDE', 'DFA',\n",
       "       'spread1', 'spread2', 'D2', 'PPE'],\n",
       "      dtype='object')"
      ]
     },
     "execution_count": 6,
     "metadata": {},
     "output_type": "execute_result"
    }
   ],
   "source": [
    "data.columns"
   ]
  },
  {
   "cell_type": "markdown",
   "metadata": {},
   "source": [
    "### Checking for null values (missing values)"
   ]
  },
  {
   "cell_type": "code",
   "execution_count": 7,
   "metadata": {},
   "outputs": [
    {
     "data": {
      "text/plain": [
       "MDVP:Fo(Hz)         0\n",
       "MDVP:Fhi(Hz)        0\n",
       "MDVP:Flo(Hz)        0\n",
       "MDVP:Jitter(%)      0\n",
       "MDVP:Jitter(Abs)    0\n",
       "MDVP:RAP            0\n",
       "MDVP:PPQ            0\n",
       "Jitter:DDP          0\n",
       "MDVP:Shimmer        0\n",
       "MDVP:Shimmer(dB)    0\n",
       "Shimmer:APQ3        0\n",
       "Shimmer:APQ5        0\n",
       "MDVP:APQ            0\n",
       "Shimmer:DDA         0\n",
       "NHR                 0\n",
       "HNR                 0\n",
       "status              0\n",
       "RPDE                0\n",
       "DFA                 0\n",
       "spread1             0\n",
       "spread2             0\n",
       "D2                  0\n",
       "PPE                 0\n",
       "dtype: int64"
      ]
     },
     "execution_count": 7,
     "metadata": {},
     "output_type": "execute_result"
    }
   ],
   "source": [
    "data.isnull().sum()"
   ]
  },
  {
   "cell_type": "markdown",
   "metadata": {},
   "source": [
    "### Selecting independent and dependent variables"
   ]
  },
  {
   "cell_type": "code",
   "execution_count": 8,
   "metadata": {},
   "outputs": [],
   "source": [
    "X = data.loc[:, data.columns != 'status'].values\n",
    "y = data.loc[:, 'status'].values"
   ]
  },
  {
   "cell_type": "markdown",
   "metadata": {},
   "source": [
    "### Spliting the dataset for training and testing"
   ]
  },
  {
   "cell_type": "code",
   "execution_count": 9,
   "metadata": {},
   "outputs": [],
   "source": [
    "from sklearn.model_selection import train_test_split\n",
    "X_train, X_test, y_train, y_test = train_test_split(X, y, random_state = 12)"
   ]
  },
  {
   "cell_type": "code",
   "execution_count": 10,
   "metadata": {},
   "outputs": [
    {
     "data": {
      "text/plain": [
       "array([[2.428520e+02, 2.550340e+02, 2.279110e+02, ..., 1.020830e-01,\n",
       "        2.365800e+00, 1.027060e-01],\n",
       "       [1.487900e+02, 1.583590e+02, 1.389900e+02, ..., 1.824590e-01,\n",
       "        2.251553e+00, 1.603060e-01],\n",
       "       [2.289690e+02, 2.395410e+02, 1.132010e+02, ..., 6.274000e-03,\n",
       "        2.118596e+00, 9.154600e-02],\n",
       "       ...,\n",
       "       [1.044000e+02, 2.060020e+02, 7.796800e+01, ..., 2.368530e-01,\n",
       "        2.846369e+00, 2.195140e-01],\n",
       "       [2.455100e+02, 2.620900e+02, 2.318480e+02, ..., 1.276420e-01,\n",
       "        2.392122e+00, 9.733600e-02],\n",
       "       [1.170040e+02, 1.444660e+02, 9.992300e+01, ..., 2.292980e-01,\n",
       "        1.872946e+00, 1.631180e-01]])"
      ]
     },
     "execution_count": 10,
     "metadata": {},
     "output_type": "execute_result"
    }
   ],
   "source": [
    "X_train"
   ]
  },
  {
   "cell_type": "code",
   "execution_count": 11,
   "metadata": {},
   "outputs": [
    {
     "data": {
      "text/plain": [
       "array([[ 1.172740e+02,  1.299160e+02,  1.104020e+02,  7.520000e-03,\n",
       "         6.000000e-05,  2.990000e-03,  4.690000e-03,  8.980000e-03,\n",
       "         2.293000e-02,  2.210000e-01,  1.189000e-02,  1.459000e-02,\n",
       "         1.948000e-02,  3.568000e-02,  6.810000e-03,  2.281700e+01,\n",
       "         5.305290e-01,  8.177560e-01, -4.608260e+00,  2.900240e-01,\n",
       "         2.021591e+00,  3.144640e-01],\n",
       "       [ 1.468450e+02,  2.087010e+02,  8.173700e+01,  4.960000e-03,\n",
       "         3.000000e-05,  2.500000e-03,  2.750000e-03,  7.490000e-03,\n",
       "         1.919000e-02,  1.980000e-01,  8.830000e-03,  1.144000e-02,\n",
       "         1.826000e-02,  2.650000e-02,  1.328000e-02,  2.511900e+01,\n",
       "         3.587730e-01,  7.266520e-01, -6.271690e+00,  1.961020e-01,\n",
       "         2.314209e+00,  1.629990e-01],\n",
       "       [ 2.022660e+02,  2.116040e+02,  1.970790e+02,  1.800000e-03,\n",
       "         9.000000e-06,  9.300000e-04,  1.070000e-03,  2.780000e-03,\n",
       "         9.540000e-03,  8.500000e-02,  4.690000e-03,  6.060000e-03,\n",
       "         7.190000e-03,  1.407000e-02,  7.200000e-04,  3.268400e+01,\n",
       "         3.685350e-01,  7.421330e-01, -7.695734e+00,  1.785400e-01,\n",
       "         1.544609e+00,  5.614100e-02],\n",
       "       [ 1.710410e+02,  2.083130e+02,  7.550100e+01,  4.550000e-03,\n",
       "         3.000000e-05,  2.500000e-03,  2.340000e-03,  7.500000e-03,\n",
       "         1.966000e-02,  1.860000e-01,  8.890000e-03,  1.169000e-02,\n",
       "         1.872000e-02,  2.666000e-02,  1.095000e-02,  2.590800e+01,\n",
       "         4.186220e-01,  7.209160e-01, -6.183590e+00,  2.262780e-01,\n",
       "         2.589702e+00,  1.474030e-01],\n",
       "       [ 1.778760e+02,  1.929210e+02,  1.680130e+02,  4.110000e-03,\n",
       "         2.000000e-05,  2.330000e-03,  2.410000e-03,  7.000000e-03,\n",
       "         2.126000e-02,  1.890000e-01,  1.154000e-02,  1.347000e-02,\n",
       "         1.612000e-02,  3.463000e-02,  5.860000e-03,  2.321600e+01,\n",
       "         3.601480e-01,  7.788340e-01, -6.149653e+00,  2.180370e-01,\n",
       "         2.477082e+00,  1.658270e-01],\n",
       "       [ 2.362000e+02,  2.446630e+02,  1.021370e+02,  2.770000e-03,\n",
       "         1.000000e-05,  1.540000e-03,  1.530000e-03,  4.620000e-03,\n",
       "         2.448000e-02,  2.170000e-01,  1.410000e-02,  1.426000e-02,\n",
       "         1.621000e-02,  4.231000e-02,  6.200000e-03,  2.407800e+01,\n",
       "         4.699280e-01,  6.282320e-01, -6.816086e+00,  1.722700e-01,\n",
       "         2.235197e+00,  1.196520e-01],\n",
       "       [ 1.168480e+02,  2.175520e+02,  9.950300e+01,  5.310000e-03,\n",
       "         5.000000e-05,  2.600000e-03,  3.460000e-03,  7.800000e-03,\n",
       "         1.795000e-02,  1.630000e-01,  8.100000e-03,  1.144000e-02,\n",
       "         1.756000e-02,  2.429000e-02,  1.179000e-02,  2.208500e+01,\n",
       "         6.638420e-01,  6.565160e-01, -5.198864e+00,  2.067680e-01,\n",
       "         2.120412e+00,  2.524040e-01],\n",
       "       [ 1.502580e+02,  1.546090e+02,  7.534900e+01,  2.480000e-03,\n",
       "         2.000000e-05,  1.050000e-03,  1.360000e-03,  3.150000e-03,\n",
       "         1.131000e-02,  1.070000e-01,  5.220000e-03,  6.590000e-03,\n",
       "         1.009000e-02,  1.567000e-02,  4.950000e-03,  2.675900e+01,\n",
       "         2.968880e-01,  7.223560e-01, -6.878393e+00,  8.926700e-02,\n",
       "         2.004055e+00,  1.139420e-01],\n",
       "       [ 1.148470e+02,  2.713140e+02,  1.046800e+02,  8.670000e-03,\n",
       "         8.000000e-05,  3.730000e-03,  5.200000e-03,  1.120000e-02,\n",
       "         3.225000e-02,  3.500000e-01,  1.805000e-02,  1.974000e-02,\n",
       "         2.519000e-02,  5.414000e-02,  1.143000e-02,  2.166000e+01,\n",
       "         5.479750e-01,  8.173960e-01, -4.609161e+00,  2.217110e-01,\n",
       "         1.831691e+00,  3.163950e-01],\n",
       "       [ 1.992280e+02,  2.095120e+02,  1.920910e+02,  2.410000e-03,\n",
       "         1.000000e-05,  1.340000e-03,  1.380000e-03,  4.020000e-03,\n",
       "         1.015000e-02,  8.900000e-02,  5.040000e-03,  6.410000e-03,\n",
       "         7.620000e-03,  1.513000e-02,  1.670000e-03,  3.094000e+01,\n",
       "         4.324390e-01,  7.420550e-01, -7.682587e+00,  1.733190e-01,\n",
       "         2.103106e+00,  6.850100e-02],\n",
       "       [ 2.014640e+02,  2.105650e+02,  1.957080e+02,  1.980000e-03,\n",
       "         1.000000e-05,  1.050000e-03,  1.150000e-03,  3.140000e-03,\n",
       "         1.194000e-02,  1.070000e-01,  5.860000e-03,  7.600000e-03,\n",
       "         9.570000e-03,  1.758000e-02,  1.350000e-03,  3.173200e+01,\n",
       "         3.442520e-01,  7.427370e-01, -7.777685e+00,  1.701830e-01,\n",
       "         2.447064e+00,  5.761000e-02],\n",
       "       [ 1.540030e+02,  1.602670e+02,  1.286210e+02,  1.830000e-03,\n",
       "         1.000000e-05,  7.600000e-04,  1.000000e-03,  2.290000e-03,\n",
       "         1.030000e-02,  9.400000e-02,  4.690000e-03,  5.820000e-03,\n",
       "         8.710000e-03,  1.406000e-02,  2.430000e-03,  2.840900e+01,\n",
       "         2.636540e-01,  6.914830e-01, -7.111576e+00,  1.447800e-01,\n",
       "         2.065477e+00,  9.319300e-02],\n",
       "       [ 1.165560e+02,  5.920300e+02,  8.622800e+01,  4.960000e-03,\n",
       "         4.000000e-05,  2.540000e-03,  2.630000e-03,  7.620000e-03,\n",
       "         1.660000e-02,  1.540000e-01,  8.200000e-03,  9.720000e-03,\n",
       "         1.491000e-02,  2.460000e-02,  1.397000e-02,  2.395800e+01,\n",
       "         5.664240e-01,  6.676540e-01, -6.431119e+00,  1.533100e-01,\n",
       "         2.161936e+00,  1.206050e-01],\n",
       "       [ 1.284510e+02,  1.504490e+02,  7.563200e+01,  1.551000e-02,\n",
       "         1.200000e-04,  9.050000e-03,  9.090000e-03,  2.716000e-02,\n",
       "         6.170000e-02,  5.840000e-01,  3.223000e-02,  3.672000e-02,\n",
       "         5.174000e-02,  9.669000e-02,  1.184300e-01,  1.506000e+01,\n",
       "         6.398080e-01,  6.433270e-01, -4.202730e+00,  3.101630e-01,\n",
       "         2.638279e+00,  3.568810e-01],\n",
       "       [ 1.162860e+02,  1.772910e+02,  9.698300e+01,  3.140000e-03,\n",
       "         3.000000e-05,  1.340000e-03,  1.920000e-03,  4.030000e-03,\n",
       "         1.564000e-02,  1.360000e-01,  6.670000e-03,  9.900000e-03,\n",
       "         1.691000e-02,  2.001000e-02,  7.370000e-03,  2.419900e+01,\n",
       "         5.985150e-01,  6.543310e-01, -5.592584e+00,  1.339170e-01,\n",
       "         2.058658e+00,  2.143460e-01],\n",
       "       [ 1.244450e+02,  1.350690e+02,  1.174950e+02,  4.310000e-03,\n",
       "         3.000000e-05,  1.410000e-03,  1.670000e-03,  4.220000e-03,\n",
       "         2.184000e-02,  1.970000e-01,  1.241000e-02,  1.024000e-02,\n",
       "         1.685000e-02,  3.724000e-02,  4.790000e-03,  2.513500e+01,\n",
       "         5.531340e-01,  7.759330e-01, -6.650471e+00,  2.544980e-01,\n",
       "         1.840198e+00,  1.035610e-01],\n",
       "       [ 1.403410e+02,  1.597740e+02,  6.702100e+01,  8.170000e-03,\n",
       "         6.000000e-05,  4.300000e-03,  4.400000e-03,  1.289000e-02,\n",
       "         3.198000e-02,  3.130000e-01,  1.830000e-02,  1.810000e-02,\n",
       "         2.428000e-02,  5.490000e-02,  2.183000e-02,  1.956000e+01,\n",
       "         4.601390e-01,  7.209080e-01, -5.409423e+00,  2.268500e-01,\n",
       "         2.359973e+00,  2.261560e-01],\n",
       "       [ 1.518840e+02,  1.577650e+02,  1.337510e+02,  2.580000e-03,\n",
       "         2.000000e-05,  1.150000e-03,  1.220000e-03,  3.460000e-03,\n",
       "         1.450000e-02,  1.370000e-01,  6.330000e-03,  7.880000e-03,\n",
       "         1.267000e-02,  1.898000e-02,  6.590000e-03,  2.683300e+01,\n",
       "         3.935630e-01,  7.002460e-01, -6.600023e+00,  2.491720e-01,\n",
       "         2.499148e+00,  1.053060e-01],\n",
       "       [ 1.168790e+02,  1.318970e+02,  1.081530e+02,  7.880000e-03,\n",
       "         7.000000e-05,  3.340000e-03,  4.930000e-03,  1.003000e-02,\n",
       "         2.645000e-02,  2.650000e-01,  1.394000e-02,  1.625000e-02,\n",
       "         2.137000e-02,  4.183000e-02,  7.860000e-03,  2.260300e+01,\n",
       "         5.400490e-01,  8.134320e-01, -4.476755e+00,  2.626330e-01,\n",
       "         1.827012e+00,  3.261970e-01],\n",
       "       [ 2.372260e+02,  2.473260e+02,  2.252270e+02,  2.980000e-03,\n",
       "         1.000000e-05,  1.690000e-03,  1.820000e-03,  5.070000e-03,\n",
       "         1.752000e-02,  1.640000e-01,  1.035000e-02,  1.024000e-02,\n",
       "         1.133000e-02,  3.104000e-02,  7.400000e-03,  2.273600e+01,\n",
       "         3.050620e-01,  6.541720e-01, -7.310550e+00,  9.864800e-02,\n",
       "         2.416838e+00,  9.503200e-02],\n",
       "       [ 2.091440e+02,  2.374940e+02,  1.093790e+02,  2.820000e-03,\n",
       "         1.000000e-05,  1.470000e-03,  1.520000e-03,  4.420000e-03,\n",
       "         1.861000e-02,  1.700000e-01,  9.750000e-03,  1.258000e-02,\n",
       "         1.382000e-02,  2.925000e-02,  8.710000e-03,  2.555400e+01,\n",
       "         3.417880e-01,  6.788740e-01, -7.040508e+00,  6.699400e-02,\n",
       "         2.460791e+00,  1.015160e-01],\n",
       "       [ 1.975690e+02,  2.176270e+02,  9.079400e+01,  8.030000e-03,\n",
       "         4.000000e-05,  4.900000e-03,  4.480000e-03,  1.470000e-02,\n",
       "         2.177000e-02,  1.890000e-01,  1.279000e-02,  1.272000e-02,\n",
       "         1.439000e-02,  3.836000e-02,  1.337000e-02,  1.926900e+01,\n",
       "         3.722220e-01,  7.252160e-01, -5.736781e+00,  1.645290e-01,\n",
       "         2.882450e+00,  2.028790e-01],\n",
       "       [ 1.163880e+02,  1.290380e+02,  1.089700e+02,  3.460000e-03,\n",
       "         3.000000e-05,  1.690000e-03,  2.130000e-03,  5.070000e-03,\n",
       "         1.725000e-02,  1.550000e-01,  8.740000e-03,  1.021000e-02,\n",
       "         1.331000e-02,  2.623000e-02,  4.150000e-03,  2.614300e+01,\n",
       "         3.612320e-01,  7.632420e-01, -6.016891e+00,  1.092560e-01,\n",
       "         2.004719e+00,  1.744290e-01],\n",
       "       [ 2.403010e+02,  2.451350e+02,  2.197830e+02,  5.170000e-03,\n",
       "         2.000000e-05,  3.160000e-03,  2.830000e-03,  9.490000e-03,\n",
       "         2.018000e-02,  2.120000e-01,  1.176000e-02,  1.191000e-02,\n",
       "         1.344000e-02,  3.529000e-02,  9.650000e-03,  2.102000e+01,\n",
       "         3.718370e-01,  6.461670e-01, -7.169701e+00,  7.329800e-02,\n",
       "         2.266432e+00,  1.008810e-01]])"
      ]
     },
     "execution_count": 11,
     "metadata": {},
     "output_type": "execute_result"
    }
   ],
   "source": [
    "X_test"
   ]
  },
  {
   "cell_type": "code",
   "execution_count": 12,
   "metadata": {},
   "outputs": [
    {
     "data": {
      "text/plain": [
       "array([0, 1, 0, 1, 1, 0, 1, 0, 1, 1, 1, 1, 1, 1, 0, 0, 0, 0, 0, 0, 1, 1,\n",
       "       0, 1, 0, 1, 0, 0, 1, 1, 1, 1, 0, 1, 1, 0, 0, 0, 0, 1, 0, 0, 0, 0,\n",
       "       0, 1, 1, 1, 0, 0, 1, 1, 1, 1, 0, 1, 0, 0, 0, 0, 1, 1, 1, 1, 1, 0,\n",
       "       0, 1, 1, 1, 0, 0], dtype=int64)"
      ]
     },
     "execution_count": 12,
     "metadata": {},
     "output_type": "execute_result"
    }
   ],
   "source": [
    "y_train"
   ]
  },
  {
   "cell_type": "code",
   "execution_count": 13,
   "metadata": {},
   "outputs": [
    {
     "data": {
      "text/plain": [
       "array([1, 1, 0, 1, 1, 0, 0, 1, 1, 0, 0, 1, 0, 1, 0, 0, 1, 1, 1, 0, 0, 0,\n",
       "       0, 0], dtype=int64)"
      ]
     },
     "execution_count": 13,
     "metadata": {},
     "output_type": "execute_result"
    }
   ],
   "source": [
    "y_test"
   ]
  },
  {
   "cell_type": "markdown",
   "metadata": {},
   "source": [
    "### Limiting the range of variables -> to compare them commonly"
   ]
  },
  {
   "cell_type": "code",
   "execution_count": 14,
   "metadata": {},
   "outputs": [
    {
     "data": {
      "text/plain": [
       "StandardScaler(copy=True, with_mean=True, with_std=True)"
      ]
     },
     "execution_count": 14,
     "metadata": {},
     "output_type": "execute_result"
    }
   ],
   "source": [
    "from sklearn.preprocessing import StandardScaler\n",
    "standard_X = StandardScaler()\n",
    "standard_X.fit(X_train)"
   ]
  },
  {
   "cell_type": "code",
   "execution_count": 15,
   "metadata": {},
   "outputs": [],
   "source": [
    "X_train = standard_X.transform(X_train)\n",
    "X_test = standard_X.transform(X_test)"
   ]
  },
  {
   "cell_type": "code",
   "execution_count": 16,
   "metadata": {},
   "outputs": [
    {
     "data": {
      "text/plain": [
       "array([[ 1.75619315,  0.52219892,  1.90311067, ..., -1.31716901,\n",
       "         0.38359317, -0.82236558],\n",
       "       [-0.34392729, -0.49828958,  0.20358298, ..., -0.15638479,\n",
       "         0.02304834, -0.07258327],\n",
       "       [ 1.44622768,  0.35865686, -0.28931655, ..., -2.70083547,\n",
       "        -0.39654218, -0.9676359 ],\n",
       "       ...,\n",
       "       [-1.33502195,  0.00462362, -0.9627172 , ...,  0.62916931,\n",
       "         1.90019025,  0.69813045],\n",
       "       [ 1.81553826,  0.59668112,  1.97835769, ..., -0.94804783,\n",
       "         0.46666109, -0.89226716],\n",
       "       [-1.05361269, -0.64494225, -0.54309607, ...,  0.52006056,\n",
       "        -1.17177336, -0.03597932]])"
      ]
     },
     "execution_count": 16,
     "metadata": {},
     "output_type": "execute_result"
    }
   ],
   "source": [
    "X_train"
   ]
  },
  {
   "cell_type": "markdown",
   "metadata": {},
   "source": [
    "## Support Vector Machine"
   ]
  },
  {
   "cell_type": "code",
   "execution_count": 17,
   "metadata": {},
   "outputs": [
    {
     "data": {
      "text/plain": [
       "SVC(C=10000000000.0, break_ties=False, cache_size=200, class_weight=None,\n",
       "    coef0=0.0, decision_function_shape='ovr', degree=3, gamma='scale',\n",
       "    kernel='rbf', max_iter=-1, probability=False, random_state=None,\n",
       "    shrinking=True, tol=0.001, verbose=False)"
      ]
     },
     "execution_count": 17,
     "metadata": {},
     "output_type": "execute_result"
    }
   ],
   "source": [
    "from sklearn.svm import SVC\n",
    "svclassifier = SVC(kernel='rbf', C = 1E10)\n",
    "svclassifier.fit(X_train, y_train)"
   ]
  },
  {
   "cell_type": "code",
   "execution_count": 18,
   "metadata": {},
   "outputs": [],
   "source": [
    "y_pred = svclassifier.predict(X_test)"
   ]
  },
  {
   "cell_type": "code",
   "execution_count": 19,
   "metadata": {},
   "outputs": [
    {
     "name": "stdout",
     "output_type": "stream",
     "text": [
      "Confusion Matrix\n",
      "[[11  2]\n",
      " [ 1 10]]\n",
      "\n",
      "Classification report\n",
      "              precision    recall  f1-score   support\n",
      "\n",
      "           0       0.92      0.85      0.88        13\n",
      "           1       0.83      0.91      0.87        11\n",
      "\n",
      "    accuracy                           0.88        24\n",
      "   macro avg       0.88      0.88      0.87        24\n",
      "weighted avg       0.88      0.88      0.88        24\n",
      "\n",
      "\n",
      "Accuracy Score\n",
      "0.875\n"
     ]
    }
   ],
   "source": [
    "from sklearn.metrics import classification_report, confusion_matrix, accuracy_score\n",
    "print(\"Confusion Matrix\")\n",
    "print(confusion_matrix(y_test,y_pred))\n",
    "print()\n",
    "print(\"Classification report\")\n",
    "print(classification_report(y_test,y_pred))\n",
    "print()\n",
    "\n",
    "print(\"Accuracy Score\")\n",
    "print(accuracy_score(y_test, y_pred))\n"
   ]
  },
  {
   "cell_type": "code",
   "execution_count": 21,
   "metadata": {},
   "outputs": [
    {
     "data": {
      "image/png": "[encoded data removed]",
      "text/plain": [
       "<Figure size 576x576 with 1 Axes>"
      ]
     },
     "metadata": {
      "needs_background": "light"
     },
     "output_type": "display_data"
    }
   ],
   "source": [
    "cm = confusion_matrix(y_test, svclassifier.predict(X_test))\n",
    "\n",
    "fig, ax = plt.subplots(figsize=(8, 8))\n",
    "ax.imshow(cm)\n",
    "ax.grid(False)\n",
    "ax.xaxis.set(ticks=(0, 1), ticklabels=('Predicted 0s', 'Predicted 1s'))\n",
    "ax.yaxis.set(ticks=(0, 1), ticklabels=('Actual 0s', 'Actual 1s'))\n",
    "ax.set_ylim(1.5, -0.5)\n",
    "for i in range(2):\n",
    "    for j in range(2):\n",
    "        ax.text(j, i, cm[i, j], ha='center', va='center', color='red')\n",
    "plt.show()"
   ]
  },
  {
   "cell_type": "markdown",
   "metadata": {},
   "source": [
    "## Saving the model"
   ]
  },
  {
   "cell_type": "code",
   "execution_count": 22,
   "metadata": {},
   "outputs": [
    {
     "data": {
      "text/plain": [
       "['SVM model.sav']"
      ]
     },
     "execution_count": 22,
     "metadata": {},
     "output_type": "execute_result"
    }
   ],
   "source": [
    "import joblib\n",
    "filename = 'SVM model.sav'\n",
    "joblib.dump(svclassifier, filename)"
   ]
  }
 ],
 "metadata": {
  "kernelspec": {
   "display_name": "Python 3",
   "language": "python",
   "name": "python3"
  },
  "language_info": {
   "codemirror_mode": {
    "name": "ipython",
    "version": 3
   },
   "file_extension": ".py",
   "mimetype": "text/x-python",
   "name": "python",
   "nbconvert_exporter": "python",
   "pygments_lexer": "ipython3",
   "version": "3.7.4"
  }
 },
 "nbformat": 4,
 "nbformat_minor": 4
}
