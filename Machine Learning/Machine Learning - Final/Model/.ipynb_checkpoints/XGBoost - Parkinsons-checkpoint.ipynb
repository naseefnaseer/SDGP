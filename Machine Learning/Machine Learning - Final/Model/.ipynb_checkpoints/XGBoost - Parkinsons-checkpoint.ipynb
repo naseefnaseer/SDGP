{
 "cells": [
  {
   "cell_type": "code",
   "execution_count": 7,
   "metadata": {},
   "outputs": [],
   "source": [
    "#importing the libraries needed for ML\n",
    "import pandas as pd\n",
    "import numpy as np\n",
    "from sklearn import preprocessing\n",
    "import matplotlib.pyplot as plt \n",
    "plt.rc(\"font\", size=14)\n",
    "import seaborn as sns\n",
    "sns.set(style=\"white\")\n",
    "sns.set(style=\"whitegrid\", color_codes=True)\n",
    "from sklearn import preprocessing\n",
    "from sklearn.preprocessing import StandardScaler"
   ]
  },
  {
   "cell_type": "code",
   "execution_count": 2,
   "metadata": {},
   "outputs": [
    {
     "data": {
      "text/html": [
       "<div>\n",
       "<style scoped>\n",
       "    .dataframe tbody tr th:only-of-type {\n",
       "        vertical-align: middle;\n",
       "    }\n",
       "\n",
       "    .dataframe tbody tr th {\n",
       "        vertical-align: top;\n",
       "    }\n",
       "\n",
       "    .dataframe thead th {\n",
       "        text-align: right;\n",
       "    }\n",
       "</style>\n",
       "<table border=\"1\" class=\"dataframe\">\n",
       "  <thead>\n",
       "    <tr style=\"text-align: right;\">\n",
       "      <th></th>\n",
       "      <th>Jitter(local)</th>\n",
       "      <th>Jitter(local, absolute)</th>\n",
       "      <th>Jitter (rap)</th>\n",
       "      <th>Jitter (ppq5)</th>\n",
       "      <th>Jitter (ddp)</th>\n",
       "      <th>Shimmer (local)</th>\n",
       "      <th>Shimmer (local, db)</th>\n",
       "      <th>Shimmer (apq3)</th>\n",
       "      <th>Shimmer (apq5)</th>\n",
       "      <th>Shimmer (apq11)</th>\n",
       "      <th>...</th>\n",
       "      <th>Minimum pitch</th>\n",
       "      <th>Maximum pitch</th>\n",
       "      <th>Number of pulses</th>\n",
       "      <th>Number of periods</th>\n",
       "      <th>Mean period</th>\n",
       "      <th>Standard deviation of period</th>\n",
       "      <th>Fraction of locally unvoiced frames</th>\n",
       "      <th>Number of voice breaks</th>\n",
       "      <th>Degree of voice breaks</th>\n",
       "      <th>status</th>\n",
       "    </tr>\n",
       "  </thead>\n",
       "  <tbody>\n",
       "    <tr>\n",
       "      <th>0</th>\n",
       "      <td>1.488</td>\n",
       "      <td>0.000090</td>\n",
       "      <td>0.900</td>\n",
       "      <td>0.794</td>\n",
       "      <td>2.699</td>\n",
       "      <td>8.334</td>\n",
       "      <td>0.779</td>\n",
       "      <td>4.517</td>\n",
       "      <td>4.609</td>\n",
       "      <td>6.802</td>\n",
       "      <td>...</td>\n",
       "      <td>142.229</td>\n",
       "      <td>187.576</td>\n",
       "      <td>160</td>\n",
       "      <td>159</td>\n",
       "      <td>0.006065</td>\n",
       "      <td>0.000416</td>\n",
       "      <td>0.000</td>\n",
       "      <td>0</td>\n",
       "      <td>0.000</td>\n",
       "      <td>1</td>\n",
       "    </tr>\n",
       "    <tr>\n",
       "      <th>1</th>\n",
       "      <td>0.728</td>\n",
       "      <td>0.000038</td>\n",
       "      <td>0.353</td>\n",
       "      <td>0.376</td>\n",
       "      <td>1.059</td>\n",
       "      <td>5.864</td>\n",
       "      <td>0.642</td>\n",
       "      <td>2.058</td>\n",
       "      <td>3.180</td>\n",
       "      <td>7.194</td>\n",
       "      <td>...</td>\n",
       "      <td>159.515</td>\n",
       "      <td>234.505</td>\n",
       "      <td>170</td>\n",
       "      <td>169</td>\n",
       "      <td>0.005181</td>\n",
       "      <td>0.000403</td>\n",
       "      <td>2.247</td>\n",
       "      <td>0</td>\n",
       "      <td>0.000</td>\n",
       "      <td>1</td>\n",
       "    </tr>\n",
       "    <tr>\n",
       "      <th>2</th>\n",
       "      <td>1.220</td>\n",
       "      <td>0.000074</td>\n",
       "      <td>0.732</td>\n",
       "      <td>0.670</td>\n",
       "      <td>2.196</td>\n",
       "      <td>8.719</td>\n",
       "      <td>0.875</td>\n",
       "      <td>4.347</td>\n",
       "      <td>5.166</td>\n",
       "      <td>7.548</td>\n",
       "      <td>...</td>\n",
       "      <td>146.445</td>\n",
       "      <td>211.442</td>\n",
       "      <td>1431</td>\n",
       "      <td>1427</td>\n",
       "      <td>0.006071</td>\n",
       "      <td>0.000474</td>\n",
       "      <td>10.656</td>\n",
       "      <td>1</td>\n",
       "      <td>0.178</td>\n",
       "      <td>1</td>\n",
       "    </tr>\n",
       "    <tr>\n",
       "      <th>3</th>\n",
       "      <td>2.502</td>\n",
       "      <td>0.000123</td>\n",
       "      <td>1.156</td>\n",
       "      <td>1.634</td>\n",
       "      <td>3.469</td>\n",
       "      <td>13.513</td>\n",
       "      <td>1.273</td>\n",
       "      <td>5.263</td>\n",
       "      <td>8.771</td>\n",
       "      <td>16.779</td>\n",
       "      <td>...</td>\n",
       "      <td>182.713</td>\n",
       "      <td>220.230</td>\n",
       "      <td>94</td>\n",
       "      <td>92</td>\n",
       "      <td>0.004910</td>\n",
       "      <td>0.000320</td>\n",
       "      <td>0.000</td>\n",
       "      <td>0</td>\n",
       "      <td>0.000</td>\n",
       "      <td>1</td>\n",
       "    </tr>\n",
       "    <tr>\n",
       "      <th>4</th>\n",
       "      <td>3.509</td>\n",
       "      <td>0.000167</td>\n",
       "      <td>1.715</td>\n",
       "      <td>1.539</td>\n",
       "      <td>5.145</td>\n",
       "      <td>9.112</td>\n",
       "      <td>1.040</td>\n",
       "      <td>3.102</td>\n",
       "      <td>4.927</td>\n",
       "      <td>12.823</td>\n",
       "      <td>...</td>\n",
       "      <td>182.821</td>\n",
       "      <td>225.162</td>\n",
       "      <td>117</td>\n",
       "      <td>114</td>\n",
       "      <td>0.004757</td>\n",
       "      <td>0.000380</td>\n",
       "      <td>18.182</td>\n",
       "      <td>1</td>\n",
       "      <td>13.318</td>\n",
       "      <td>1</td>\n",
       "    </tr>\n",
       "  </tbody>\n",
       "</table>\n",
       "<p>5 rows × 27 columns</p>\n",
       "</div>"
      ],
      "text/plain": [
       "   Jitter(local)  Jitter(local, absolute)  Jitter (rap)  Jitter (ppq5)  \\\n",
       "0          1.488                 0.000090         0.900          0.794   \n",
       "1          0.728                 0.000038         0.353          0.376   \n",
       "2          1.220                 0.000074         0.732          0.670   \n",
       "3          2.502                 0.000123         1.156          1.634   \n",
       "4          3.509                 0.000167         1.715          1.539   \n",
       "\n",
       "   Jitter (ddp)  Shimmer (local)  Shimmer (local, db)  Shimmer (apq3)  \\\n",
       "0         2.699            8.334                0.779           4.517   \n",
       "1         1.059            5.864                0.642           2.058   \n",
       "2         2.196            8.719                0.875           4.347   \n",
       "3         3.469           13.513                1.273           5.263   \n",
       "4         5.145            9.112                1.040           3.102   \n",
       "\n",
       "   Shimmer (apq5)  Shimmer (apq11)  ...  Minimum pitch  Maximum pitch  \\\n",
       "0           4.609            6.802  ...        142.229        187.576   \n",
       "1           3.180            7.194  ...        159.515        234.505   \n",
       "2           5.166            7.548  ...        146.445        211.442   \n",
       "3           8.771           16.779  ...        182.713        220.230   \n",
       "4           4.927           12.823  ...        182.821        225.162   \n",
       "\n",
       "   Number of pulses  Number of periods  Mean period  \\\n",
       "0               160                159     0.006065   \n",
       "1               170                169     0.005181   \n",
       "2              1431               1427     0.006071   \n",
       "3                94                 92     0.004910   \n",
       "4               117                114     0.004757   \n",
       "\n",
       "   Standard deviation of period  Fraction of locally unvoiced frames  \\\n",
       "0                      0.000416                                0.000   \n",
       "1                      0.000403                                2.247   \n",
       "2                      0.000474                               10.656   \n",
       "3                      0.000320                                0.000   \n",
       "4                      0.000380                               18.182   \n",
       "\n",
       "   Number of voice breaks  Degree of voice breaks  status  \n",
       "0                       0                   0.000       1  \n",
       "1                       0                   0.000       1  \n",
       "2                       1                   0.178       1  \n",
       "3                       0                   0.000       1  \n",
       "4                       1                  13.318       1  \n",
       "\n",
       "[5 rows x 27 columns]"
      ]
     },
     "execution_count": 2,
     "metadata": {},
     "output_type": "execute_result"
    }
   ],
   "source": [
    "data = pd.read_csv(r'..\\Datasets\\Parkinsons Train Data.csv', header = 0)\n",
    "data.head()"
   ]
  },
  {
   "cell_type": "code",
   "execution_count": 3,
   "metadata": {},
   "outputs": [
    {
     "data": {
      "text/plain": [
       "array([1, 1, 1, ..., 0, 0, 0], dtype=int64)"
      ]
     },
     "execution_count": 3,
     "metadata": {},
     "output_type": "execute_result"
    }
   ],
   "source": [
    "#setting the dependent variable\n",
    "y = data.iloc[:, -1].values\n",
    "y"
   ]
  },
  {
   "cell_type": "code",
   "execution_count": 12,
   "metadata": {},
   "outputs": [
    {
     "data": {
      "text/plain": [
       "array([[1.48800e+00, 9.02130e-05, 9.00000e-01, ..., 0.00000e+00,\n",
       "        0.00000e+00, 0.00000e+00],\n",
       "       [7.28000e-01, 3.76980e-05, 3.53000e-01, ..., 2.24700e+00,\n",
       "        0.00000e+00, 0.00000e+00],\n",
       "       [1.22000e+00, 7.40410e-05, 7.32000e-01, ..., 1.06560e+01,\n",
       "        1.00000e+00, 1.78000e-01],\n",
       "       ...,\n",
       "       [2.91200e+00, 2.26205e-04, 1.14100e+00, ..., 2.00000e+01,\n",
       "        1.00000e+00, 4.57400e+00],\n",
       "       [3.78800e+00, 2.74883e-04, 1.78600e+00, ..., 1.66670e+01,\n",
       "        3.00000e+00, 1.95750e+01],\n",
       "       [1.80900e+00, 1.48510e-04, 6.80000e-01, ..., 1.81820e+01,\n",
       "        1.00000e+00, 3.38700e+00]])"
      ]
     },
     "execution_count": 12,
     "metadata": {},
     "output_type": "execute_result"
    }
   ],
   "source": [
    "X = data.iloc[:, :-1].values\n",
    "X"
   ]
  },
  {
   "cell_type": "code",
   "execution_count": 13,
   "metadata": {},
   "outputs": [
    {
     "data": {
      "text/plain": [
       "array([[-0.67709317, -0.75525109, -0.35596897, ..., -1.32200138,\n",
       "        -0.70349085, -0.81748742],\n",
       "       [-1.10769097, -1.24846346, -0.91419898, ..., -1.21483914,\n",
       "        -0.70349085, -0.81748742],\n",
       "       [-0.82893555, -0.9071359 , -0.52741804, ..., -0.81380343,\n",
       "        -0.0848011 , -0.80575498],\n",
       "       ...,\n",
       "       [ 0.12971113,  0.52196373, -0.11002119, ..., -0.3681764 ,\n",
       "        -0.0848011 , -0.51600327],\n",
       "       [ 0.62603176,  0.97913962,  0.54822078, ..., -0.52713133,\n",
       "         1.15257839,  0.47275138],\n",
       "       [-0.49522226, -0.20773512, -0.58048561, ..., -0.45487909,\n",
       "        -0.0848011 , -0.5942415 ]])"
      ]
     },
     "execution_count": 13,
     "metadata": {},
     "output_type": "execute_result"
    }
   ],
   "source": [
    "from sklearn.preprocessing import StandardScaler\n",
    "standard_X = StandardScaler()\n",
    "standard_scaled_X = standard_X.fit_transform(X)\n",
    "standard_scaled_X"
   ]
  },
  {
   "cell_type": "code",
   "execution_count": 14,
   "metadata": {},
   "outputs": [],
   "source": [
    "def standardScale(X):\n",
    "    X = standard_X.transform(X)\n",
    "    return X"
   ]
  },
  {
   "cell_type": "code",
   "execution_count": 15,
   "metadata": {},
   "outputs": [
    {
     "data": {
      "text/plain": [
       "array([[0.09149866, 0.108709  , 0.1053558 , ..., 0.        , 0.        ,\n",
       "        0.        ],\n",
       "       [0.03792471, 0.04051754, 0.03658537, ..., 0.02548833, 0.        ,\n",
       "        0.        ],\n",
       "       [0.0726068 , 0.08770943, 0.08423435, ..., 0.12087389, 0.08333333,\n",
       "        0.00257534],\n",
       "       ...,\n",
       "       [0.19187932, 0.28529654, 0.13565502, ..., 0.2268654 , 0.08333333,\n",
       "        0.06617764],\n",
       "       [0.25363034, 0.34850561, 0.21674629, ..., 0.18905828, 0.25      ,\n",
       "        0.28321542],\n",
       "       [0.1141266 , 0.18440848, 0.07769676, ..., 0.20624334, 0.08333333,\n",
       "        0.04900386]])"
      ]
     },
     "execution_count": 15,
     "metadata": {},
     "output_type": "execute_result"
    }
   ],
   "source": [
    "from sklearn import preprocessing\n",
    "min_max_scaler = preprocessing.MinMaxScaler()\n",
    "minmax_scaled_X = min_max_scaler.fit_transform(X)\n",
    "minmax_scaled_X"
   ]
  },
  {
   "cell_type": "code",
   "execution_count": 16,
   "metadata": {},
   "outputs": [],
   "source": [
    "def minmaxScale(X):\n",
    "    X = min_max_scaler.transform(X)\n",
    "    return X"
   ]
  },
  {
   "cell_type": "code",
   "execution_count": 45,
   "metadata": {},
   "outputs": [
    {
     "data": {
      "text/plain": [
       "Index(['Jitter(local)', 'Jitter(local, absolute)', 'Jitter (rap)',\n",
       "       'Jitter (ppq5)', 'Jitter (ddp)', 'Shimmer (local)',\n",
       "       'Shimmer (local, db)', 'Shimmer (apq3)', 'Shimmer (apq5)',\n",
       "       'Shimmer (apq11)', 'Shimmer (dda)', 'AC', 'NDH', 'HTM', 'Median Pitch',\n",
       "       'Mean Pitch', 'Standard deviation', 'Minimum pitch', 'Maximum pitch',\n",
       "       'Number of pulses', 'Number of periods', 'Mean period',\n",
       "       'Standard deviation of period', 'Fraction of locally unvoiced frames',\n",
       "       'Number of voice breaks', 'Degree of voice breaks', 'status'],\n",
       "      dtype='object')"
      ]
     },
     "execution_count": 45,
     "metadata": {},
     "output_type": "execute_result"
    }
   ],
   "source": [
    "data.columns"
   ]
  },
  {
   "cell_type": "code",
   "execution_count": 4,
   "metadata": {},
   "outputs": [],
   "source": [
    "fixed_cols = ['AC', 'NDH', 'HTM', 'Minimum pitch', 'Maximum pitch', 'Number of pulses', 'Number of periods',\n",
    "              'Mean period', 'Fraction of locally unvoiced frames', 'Number of voice breaks', 'Degree of voice breaks']\n",
    "jitter_cols = ['Jitter(local)', 'Jitter(local, absolute)', 'Jitter (rap)','Jitter (ppq5)', 'Jitter (ddp)']\n",
    "shimmer_cols = ['Shimmer (local)', 'Shimmer (local, db)', 'Shimmer (apq3)', 'Shimmer (apq5)', 'Shimmer (apq11)',\n",
    "                'Shimmer (dda)']\n",
    "pitch_cols = ['Median Pitch', 'Mean Pitch']"
   ]
  },
  {
   "cell_type": "code",
   "execution_count": 5,
   "metadata": {},
   "outputs": [],
   "source": [
    "def getXGBoost(X, y):\n",
    "    \n",
    "    from sklearn.model_selection import train_test_split\n",
    "    from sklearn.metrics import accuracy_score\n",
    "    X_train, X_test, Y_train, Y_test = train_test_split(X, y, random_state=12, test_size = 0.2)\n",
    "    # Train\n",
    "    from xgboost import XGBClassifier\n",
    "    model = XGBClassifier()\n",
    "    model.fit(X_train, Y_train)\n",
    "\n",
    "    # Evaluate\n",
    "    print(\"Accuracy for training set -> \", end = \"\")\n",
    "    Y_hat = [round(yhat) for yhat in model.predict(X)]\n",
    "    print(accuracy_score(y, Y_hat)) # Full set accuracy\n",
    "    Y_hat = [round(yhat) for yhat in model.predict(X_test)]\n",
    "    print(\"Accuracy for test set -> \", end = \"\")\n",
    "    print(accuracy_score(Y_test, Y_hat)) # Test set accuracy\n",
    "\n",
    "    #Validations\n",
    "    y_pred = model.predict(X_test)\n",
    "\n",
    "    #Confusion Matrix\n",
    "    from sklearn.metrics import confusion_matrix\n",
    "    cm = confusion_matrix(Y_test, y_pred) # Calulate Confusion matrix for test set.\n",
    "    print(cm)\n",
    "\n",
    "    from sklearn.model_selection import cross_val_score\n",
    "    accuracies = cross_val_score(estimator = model, X = X_train, y = Y_train, cv = 10)\n",
    "    print(\"Accuracy: {:.2f} %\".format(accuracies.mean()*100))\n",
    "    print(\"Standard Deviation: {:.2f} %\".format(accuracies.std()*100))"
   ]
  },
  {
   "cell_type": "code",
   "execution_count": 6,
   "metadata": {},
   "outputs": [
    {
     "name": "stdout",
     "output_type": "stream",
     "text": [
      "['AC', 'NDH', 'HTM', 'Minimum pitch', 'Maximum pitch', 'Number of pulses', 'Number of periods', 'Mean period', 'Fraction of locally unvoiced frames', 'Number of voice breaks', 'Degree of voice breaks', 'Jitter(local)', 'Shimmer (local)', 'Median Pitch']\n",
      "\n",
      "\n",
      "Added columns to the dataset are: Jitter(local) Shimmer (local) Median Pitch\n",
      "\n",
      "\n",
      "---------Standard Scaled---------\n",
      "\n",
      "\n"
     ]
    },
    {
     "ename": "NameError",
     "evalue": "name 'StandardScaler' is not defined",
     "output_type": "error",
     "traceback": [
      "\u001b[1;31m---------------------------------------------------------------------------\u001b[0m",
      "\u001b[1;31mNameError\u001b[0m                                 Traceback (most recent call last)",
      "\u001b[1;32m<ipython-input-6-f8ad4191b960>\u001b[0m in \u001b[0;36m<module>\u001b[1;34m\u001b[0m\n\u001b[0;32m     13\u001b[0m             \u001b[0mprint\u001b[0m\u001b[1;33m(\u001b[0m\u001b[1;34m\"---------Standard Scaled---------\"\u001b[0m\u001b[1;33m)\u001b[0m\u001b[1;33m\u001b[0m\u001b[1;33m\u001b[0m\u001b[0m\n\u001b[0;32m     14\u001b[0m             \u001b[0mprint\u001b[0m\u001b[1;33m(\u001b[0m\u001b[1;34m\"\\n\"\u001b[0m\u001b[1;33m)\u001b[0m\u001b[1;33m\u001b[0m\u001b[1;33m\u001b[0m\u001b[0m\n\u001b[1;32m---> 15\u001b[1;33m             \u001b[0mstandard_X\u001b[0m \u001b[1;33m=\u001b[0m \u001b[0mStandardScaler\u001b[0m\u001b[1;33m(\u001b[0m\u001b[1;33m)\u001b[0m\u001b[1;33m\u001b[0m\u001b[1;33m\u001b[0m\u001b[0m\n\u001b[0m\u001b[0;32m     16\u001b[0m             \u001b[0mstandard_scaled_X\u001b[0m \u001b[1;33m=\u001b[0m \u001b[0mstandard_X\u001b[0m\u001b[1;33m.\u001b[0m\u001b[0mfit_transform\u001b[0m\u001b[1;33m(\u001b[0m\u001b[0mX\u001b[0m\u001b[1;33m)\u001b[0m\u001b[1;33m\u001b[0m\u001b[1;33m\u001b[0m\u001b[0m\n\u001b[0;32m     17\u001b[0m             \u001b[0mstandard_scaled_X\u001b[0m\u001b[1;33m\u001b[0m\u001b[1;33m\u001b[0m\u001b[0m\n",
      "\u001b[1;31mNameError\u001b[0m: name 'StandardScaler' is not defined"
     ]
    }
   ],
   "source": [
    "for jitter in jitter_cols:\n",
    "    for shimmer in shimmer_cols:\n",
    "        for pitch in pitch_cols:\n",
    "            \n",
    "            fixed_cols.append(jitter)\n",
    "            fixed_cols.append(shimmer)\n",
    "            fixed_cols.append(pitch)\n",
    "            print(fixed_cols)\n",
    "            print(\"\\n\")\n",
    "            print(\"Added columns to the dataset are:\", jitter, shimmer, pitch)\n",
    "            print(\"\\n\")\n",
    "            X = data[fixed_cols].values\n",
    "            print(\"---------Standard Scaled---------\")\n",
    "            print(\"\\n\")\n",
    "            standard_X = StandardScaler()\n",
    "            standard_scaled_X = standard_X.fit_transform(X)\n",
    "            standard_scaled_X\n",
    "            getLogReg(standard_scaled_X, y)\n",
    "            print(\"\\n\")\n",
    "            print(\"---------MinMax Scaled---------\")\n",
    "            print(\"\\n\")\n",
    "            min_max_scaler = preprocessing.MinMaxScaler()\n",
    "            minmax_scaled_X = min_max_scaler.fit_transform(X)\n",
    "            minmax_scaled_X\n",
    "            getLogReg(minmax_scaled_X, y)\n",
    "            fixed_cols.remove(jitter)\n",
    "            fixed_cols.remove(shimmer)\n",
    "            fixed_cols.remove(pitch)\n",
    "            print(\"\\n\")"
   ]
  },
  {
   "cell_type": "code",
   "execution_count": 41,
   "metadata": {},
   "outputs": [
    {
     "data": {
      "text/plain": [
       "['AC',\n",
       " 'NDH',\n",
       " 'HTM',\n",
       " 'Minimum pitch',\n",
       " 'Maximum pitch',\n",
       " 'Number of pulses',\n",
       " 'Number of periods',\n",
       " 'Mean period',\n",
       " 'Fraction of locally unvoiced frames',\n",
       " 'Number of voice breaks',\n",
       " 'Degree of voice breaks']"
      ]
     },
     "execution_count": 41,
     "metadata": {},
     "output_type": "execute_result"
    }
   ],
   "source": [
    "fixed_cols"
   ]
  }
 ],
 "metadata": {
  "kernelspec": {
   "display_name": "Python 3",
   "language": "python",
   "name": "python3"
  },
  "language_info": {
   "codemirror_mode": {
    "name": "ipython",
    "version": 3
   },
   "file_extension": ".py",
   "mimetype": "text/x-python",
   "name": "python",
   "nbconvert_exporter": "python",
   "pygments_lexer": "ipython3",
   "version": "3.7.4"
  }
 },
 "nbformat": 4,
 "nbformat_minor": 4
}
