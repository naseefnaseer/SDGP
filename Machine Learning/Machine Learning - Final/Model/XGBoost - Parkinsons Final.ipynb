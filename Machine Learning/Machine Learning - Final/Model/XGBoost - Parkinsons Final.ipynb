{
 "cells": [
  {
   "cell_type": "code",
   "execution_count": 1,
   "metadata": {
    "colab": {
     "base_uri": "https://localhost:8080/",
     "height": 72
    },
    "colab_type": "code",
    "executionInfo": {
     "elapsed": 2684,
     "status": "ok",
     "timestamp": 1587044350226,
     "user": {
      "displayName": "Varatharajah Vaseekaran",
      "photoUrl": "https://lh3.googleusercontent.com/a-/AOh14GgGDuEZ2IfTIZLJfON3utZ-ebveyJ-cGC_sdiAEXA=s64",
      "userId": "05119397468970152828"
     },
     "user_tz": -330
    },
    "id": "U9mz6TPpNrMr",
    "outputId": "7814c0c5-fd76-4486-acfc-ad953bf18800"
   },
   "outputs": [
    {
     "name": "stderr",
     "output_type": "stream",
     "text": [
      "/usr/local/lib/python3.6/dist-packages/statsmodels/tools/_testing.py:19: FutureWarning: pandas.util.testing is deprecated. Use the functions in the public API at pandas.testing instead.\n",
      "  import pandas.util.testing as tm\n"
     ]
    }
   ],
   "source": [
    "import pandas as pd\n",
    "import numpy as np\n",
    "import matplotlib\n",
    "import matplotlib.pyplot as plt\n",
    "import seaborn as sns\n",
    "import statsmodels.api as sm\n",
    "%matplotlib inline\n",
    "from sklearn.model_selection import train_test_split\n",
    "from sklearn.linear_model import LinearRegression\n",
    "from sklearn.feature_selection import RFE\n",
    "from sklearn.linear_model import RidgeCV, LassoCV, Ridge, Lasso\n",
    "from xgboost import XGBClassifier"
   ]
  },
  {
   "cell_type": "code",
   "execution_count": 2,
   "metadata": {
    "colab": {
     "base_uri": "https://localhost:8080/",
     "height": 287
    },
    "colab_type": "code",
    "executionInfo": {
     "elapsed": 1309,
     "status": "ok",
     "timestamp": 1587044359651,
     "user": {
      "displayName": "Varatharajah Vaseekaran",
      "photoUrl": "https://lh3.googleusercontent.com/a-/AOh14GgGDuEZ2IfTIZLJfON3utZ-ebveyJ-cGC_sdiAEXA=s64",
      "userId": "05119397468970152828"
     },
     "user_tz": -330
    },
    "id": "dzTQgBm6NtK9",
    "outputId": "b7050280-4dc7-441d-af6c-683f31bf522f"
   },
   "outputs": [
    {
     "data": {
      "text/html": [
       "<div>\n",
       "<style scoped>\n",
       "    .dataframe tbody tr th:only-of-type {\n",
       "        vertical-align: middle;\n",
       "    }\n",
       "\n",
       "    .dataframe tbody tr th {\n",
       "        vertical-align: top;\n",
       "    }\n",
       "\n",
       "    .dataframe thead th {\n",
       "        text-align: right;\n",
       "    }\n",
       "</style>\n",
       "<table border=\"1\" class=\"dataframe\">\n",
       "  <thead>\n",
       "    <tr style=\"text-align: right;\">\n",
       "      <th></th>\n",
       "      <th>Jitter(local)</th>\n",
       "      <th>Jitter(local, absolute)</th>\n",
       "      <th>Jitter (rap)</th>\n",
       "      <th>Jitter (ppq5)</th>\n",
       "      <th>Jitter (ddp)</th>\n",
       "      <th>Shimmer (local)</th>\n",
       "      <th>Shimmer (local, db)</th>\n",
       "      <th>Shimmer (apq3)</th>\n",
       "      <th>Shimmer (apq5)</th>\n",
       "      <th>Shimmer (apq11)</th>\n",
       "      <th>Shimmer (dda)</th>\n",
       "      <th>AC</th>\n",
       "      <th>NDH</th>\n",
       "      <th>HTM</th>\n",
       "      <th>Median Pitch</th>\n",
       "      <th>Mean Pitch</th>\n",
       "      <th>Standard deviation</th>\n",
       "      <th>Minimum pitch</th>\n",
       "      <th>Maximum pitch</th>\n",
       "      <th>Number of pulses</th>\n",
       "      <th>Number of periods</th>\n",
       "      <th>Mean period</th>\n",
       "      <th>Standard deviation of period</th>\n",
       "      <th>Fraction of locally unvoiced frames</th>\n",
       "      <th>Number of voice breaks</th>\n",
       "      <th>Degree of voice breaks</th>\n",
       "      <th>status</th>\n",
       "    </tr>\n",
       "  </thead>\n",
       "  <tbody>\n",
       "    <tr>\n",
       "      <th>0</th>\n",
       "      <td>1.488</td>\n",
       "      <td>0.000090</td>\n",
       "      <td>0.900</td>\n",
       "      <td>0.794</td>\n",
       "      <td>2.699</td>\n",
       "      <td>8.334</td>\n",
       "      <td>0.779</td>\n",
       "      <td>4.517</td>\n",
       "      <td>4.609</td>\n",
       "      <td>6.802</td>\n",
       "      <td>13.551</td>\n",
       "      <td>0.905905</td>\n",
       "      <td>0.119116</td>\n",
       "      <td>11.130</td>\n",
       "      <td>166.533</td>\n",
       "      <td>164.781</td>\n",
       "      <td>10.421</td>\n",
       "      <td>142.229</td>\n",
       "      <td>187.576</td>\n",
       "      <td>160</td>\n",
       "      <td>159</td>\n",
       "      <td>0.006065</td>\n",
       "      <td>0.000416</td>\n",
       "      <td>0.000</td>\n",
       "      <td>0</td>\n",
       "      <td>0.000</td>\n",
       "      <td>1</td>\n",
       "    </tr>\n",
       "    <tr>\n",
       "      <th>1</th>\n",
       "      <td>0.728</td>\n",
       "      <td>0.000038</td>\n",
       "      <td>0.353</td>\n",
       "      <td>0.376</td>\n",
       "      <td>1.059</td>\n",
       "      <td>5.864</td>\n",
       "      <td>0.642</td>\n",
       "      <td>2.058</td>\n",
       "      <td>3.180</td>\n",
       "      <td>7.194</td>\n",
       "      <td>6.175</td>\n",
       "      <td>0.951285</td>\n",
       "      <td>0.066758</td>\n",
       "      <td>17.403</td>\n",
       "      <td>195.252</td>\n",
       "      <td>193.289</td>\n",
       "      <td>14.773</td>\n",
       "      <td>159.515</td>\n",
       "      <td>234.505</td>\n",
       "      <td>170</td>\n",
       "      <td>169</td>\n",
       "      <td>0.005181</td>\n",
       "      <td>0.000403</td>\n",
       "      <td>2.247</td>\n",
       "      <td>0</td>\n",
       "      <td>0.000</td>\n",
       "      <td>1</td>\n",
       "    </tr>\n",
       "    <tr>\n",
       "      <th>2</th>\n",
       "      <td>1.220</td>\n",
       "      <td>0.000074</td>\n",
       "      <td>0.732</td>\n",
       "      <td>0.670</td>\n",
       "      <td>2.196</td>\n",
       "      <td>8.719</td>\n",
       "      <td>0.875</td>\n",
       "      <td>4.347</td>\n",
       "      <td>5.166</td>\n",
       "      <td>7.548</td>\n",
       "      <td>13.040</td>\n",
       "      <td>0.911508</td>\n",
       "      <td>0.109983</td>\n",
       "      <td>12.212</td>\n",
       "      <td>158.689</td>\n",
       "      <td>164.768</td>\n",
       "      <td>12.981</td>\n",
       "      <td>146.445</td>\n",
       "      <td>211.442</td>\n",
       "      <td>1431</td>\n",
       "      <td>1427</td>\n",
       "      <td>0.006071</td>\n",
       "      <td>0.000474</td>\n",
       "      <td>10.656</td>\n",
       "      <td>1</td>\n",
       "      <td>0.178</td>\n",
       "      <td>1</td>\n",
       "    </tr>\n",
       "    <tr>\n",
       "      <th>3</th>\n",
       "      <td>2.502</td>\n",
       "      <td>0.000123</td>\n",
       "      <td>1.156</td>\n",
       "      <td>1.634</td>\n",
       "      <td>3.469</td>\n",
       "      <td>13.513</td>\n",
       "      <td>1.273</td>\n",
       "      <td>5.263</td>\n",
       "      <td>8.771</td>\n",
       "      <td>16.779</td>\n",
       "      <td>15.789</td>\n",
       "      <td>0.901302</td>\n",
       "      <td>0.121982</td>\n",
       "      <td>11.384</td>\n",
       "      <td>201.997</td>\n",
       "      <td>203.471</td>\n",
       "      <td>10.853</td>\n",
       "      <td>182.713</td>\n",
       "      <td>220.230</td>\n",
       "      <td>94</td>\n",
       "      <td>92</td>\n",
       "      <td>0.004910</td>\n",
       "      <td>0.000320</td>\n",
       "      <td>0.000</td>\n",
       "      <td>0</td>\n",
       "      <td>0.000</td>\n",
       "      <td>1</td>\n",
       "    </tr>\n",
       "    <tr>\n",
       "      <th>4</th>\n",
       "      <td>3.509</td>\n",
       "      <td>0.000167</td>\n",
       "      <td>1.715</td>\n",
       "      <td>1.539</td>\n",
       "      <td>5.145</td>\n",
       "      <td>9.112</td>\n",
       "      <td>1.040</td>\n",
       "      <td>3.102</td>\n",
       "      <td>4.927</td>\n",
       "      <td>12.823</td>\n",
       "      <td>9.307</td>\n",
       "      <td>0.856907</td>\n",
       "      <td>0.236831</td>\n",
       "      <td>10.653</td>\n",
       "      <td>211.887</td>\n",
       "      <td>208.440</td>\n",
       "      <td>11.499</td>\n",
       "      <td>182.821</td>\n",
       "      <td>225.162</td>\n",
       "      <td>117</td>\n",
       "      <td>114</td>\n",
       "      <td>0.004757</td>\n",
       "      <td>0.000380</td>\n",
       "      <td>18.182</td>\n",
       "      <td>1</td>\n",
       "      <td>13.318</td>\n",
       "      <td>1</td>\n",
       "    </tr>\n",
       "  </tbody>\n",
       "</table>\n",
       "</div>"
      ],
      "text/plain": [
       "   Jitter(local)  Jitter(local, absolute)  ...  Degree of voice breaks  status\n",
       "0          1.488                 0.000090  ...                   0.000       1\n",
       "1          0.728                 0.000038  ...                   0.000       1\n",
       "2          1.220                 0.000074  ...                   0.178       1\n",
       "3          2.502                 0.000123  ...                   0.000       1\n",
       "4          3.509                 0.000167  ...                  13.318       1\n",
       "\n",
       "[5 rows x 27 columns]"
      ]
     },
     "execution_count": 2,
     "metadata": {
      "tags": []
     },
     "output_type": "execute_result"
    }
   ],
   "source": [
    "data = pd.read_csv(r'Parkinsons Train Data.csv', header=0)\n",
    "data.head()"
   ]
  },
  {
   "cell_type": "code",
   "execution_count": 3,
   "metadata": {
    "colab": {
     "base_uri": "https://localhost:8080/",
     "height": 242
    },
    "colab_type": "code",
    "executionInfo": {
     "elapsed": 1220,
     "status": "ok",
     "timestamp": 1587044374400,
     "user": {
      "displayName": "Varatharajah Vaseekaran",
      "photoUrl": "https://lh3.googleusercontent.com/a-/AOh14GgGDuEZ2IfTIZLJfON3utZ-ebveyJ-cGC_sdiAEXA=s64",
      "userId": "05119397468970152828"
     },
     "user_tz": -330
    },
    "id": "YapRQo0WNyUr",
    "outputId": "c46da6b7-df3f-45bd-8fa1-cf8f9838785e"
   },
   "outputs": [
    {
     "data": {
      "text/plain": [
       "array([[1.48800e+00, 9.02130e-05, 9.00000e-01, ..., 0.00000e+00,\n",
       "        0.00000e+00, 0.00000e+00],\n",
       "       [7.28000e-01, 3.76980e-05, 3.53000e-01, ..., 2.24700e+00,\n",
       "        0.00000e+00, 0.00000e+00],\n",
       "       [1.22000e+00, 7.40410e-05, 7.32000e-01, ..., 1.06560e+01,\n",
       "        1.00000e+00, 1.78000e-01],\n",
       "       ...,\n",
       "       [2.91200e+00, 2.26205e-04, 1.14100e+00, ..., 2.00000e+01,\n",
       "        1.00000e+00, 4.57400e+00],\n",
       "       [3.78800e+00, 2.74883e-04, 1.78600e+00, ..., 1.66670e+01,\n",
       "        3.00000e+00, 1.95750e+01],\n",
       "       [1.80900e+00, 1.48510e-04, 6.80000e-01, ..., 1.81820e+01,\n",
       "        1.00000e+00, 3.38700e+00]])"
      ]
     },
     "execution_count": 3,
     "metadata": {
      "tags": []
     },
     "output_type": "execute_result"
    }
   ],
   "source": [
    "X = data.iloc[:, :-1].values\n",
    "X"
   ]
  },
  {
   "cell_type": "code",
   "execution_count": 4,
   "metadata": {
    "colab": {
     "base_uri": "https://localhost:8080/",
     "height": 34
    },
    "colab_type": "code",
    "executionInfo": {
     "elapsed": 1219,
     "status": "ok",
     "timestamp": 1587044384269,
     "user": {
      "displayName": "Varatharajah Vaseekaran",
      "photoUrl": "https://lh3.googleusercontent.com/a-/AOh14GgGDuEZ2IfTIZLJfON3utZ-ebveyJ-cGC_sdiAEXA=s64",
      "userId": "05119397468970152828"
     },
     "user_tz": -330
    },
    "id": "fFfMuygsN2yD",
    "outputId": "d6ce2942-a4e2-42a4-c8bf-5bbcbfd0d915"
   },
   "outputs": [
    {
     "data": {
      "text/plain": [
       "array([1, 1, 1, ..., 0, 0, 0])"
      ]
     },
     "execution_count": 4,
     "metadata": {
      "tags": []
     },
     "output_type": "execute_result"
    }
   ],
   "source": [
    "y = data.iloc[:, -1].values\n",
    "y"
   ]
  },
  {
   "cell_type": "code",
   "execution_count": 0,
   "metadata": {
    "colab": {},
    "colab_type": "code",
    "id": "ctn09cMDN4Tz"
   },
   "outputs": [],
   "source": [
    "cols_11 = ['Jitter(local, absolute)','Shimmer (apq11)','AC', 'NDH', 'HTM',\n",
    "       'Median Pitch', 'Mean Pitch', 'Standard deviation',\n",
    "       'Minimum pitch', 'Maximum pitch', 'Number of pulses',\n",
    "       'Number of periods', 'Mean period', 'Standard deviation of period',\n",
    "       'Fraction of locally unvoiced frames', 'Number of voice breaks',\n",
    "       'Degree of voice breaks']\n",
    "data_11 = data[cols_11]"
   ]
  },
  {
   "cell_type": "code",
   "execution_count": 6,
   "metadata": {
    "colab": {
     "base_uri": "https://localhost:8080/",
     "height": 363
    },
    "colab_type": "code",
    "executionInfo": {
     "elapsed": 2672,
     "status": "ok",
     "timestamp": 1587044447401,
     "user": {
      "displayName": "Varatharajah Vaseekaran",
      "photoUrl": "https://lh3.googleusercontent.com/a-/AOh14GgGDuEZ2IfTIZLJfON3utZ-ebveyJ-cGC_sdiAEXA=s64",
      "userId": "05119397468970152828"
     },
     "user_tz": -330
    },
    "id": "VhG-oIAiOGAv",
    "outputId": "2955e89a-c3a7-4ede-ac2d-c078cba8a6be"
   },
   "outputs": [
    {
     "name": "stdout",
     "output_type": "stream",
     "text": [
      "[ True  True False False  True  True False  True False False False  True\n",
      "  True  True False False False]\n",
      "[ 1  1  5  9  1  1  8  1  7  3  4  1  1  1  2 10  6]\n",
      "Jitter(local, absolute) -----> True\n",
      "Shimmer (apq11) -----> True\n",
      "AC -----> False\n",
      "NDH -----> False\n",
      "HTM -----> True\n",
      "Median Pitch -----> True\n",
      "Mean Pitch -----> False\n",
      "Standard deviation -----> True\n",
      "Minimum pitch -----> False\n",
      "Maximum pitch -----> False\n",
      "Number of pulses -----> False\n",
      "Number of periods -----> True\n",
      "Mean period -----> True\n",
      "Standard deviation of period -----> True\n",
      "Fraction of locally unvoiced frames -----> False\n",
      "Number of voice breaks -----> False\n",
      "Degree of voice breaks -----> False\n"
     ]
    }
   ],
   "source": [
    "cols = list(data_11.columns)\n",
    "model = XGBClassifier()\n",
    "#Initializing RFE model\n",
    "rfe = RFE(model)\n",
    "#Transforming data using RFE\n",
    "X_rfe = rfe.fit_transform(data_11,y)  \n",
    "#Fitting the data to model\n",
    "model.fit(X_rfe,y)\n",
    "print(rfe.support_)\n",
    "print(rfe.ranking_)\n",
    "for i in range(17):\n",
    "    print(cols[i], \"----->\", rfe.support_[i])"
   ]
  },
  {
   "cell_type": "code",
   "execution_count": 7,
   "metadata": {
    "colab": {
     "base_uri": "https://localhost:8080/",
     "height": 52
    },
    "colab_type": "code",
    "executionInfo": {
     "elapsed": 19310,
     "status": "ok",
     "timestamp": 1587044478850,
     "user": {
      "displayName": "Varatharajah Vaseekaran",
      "photoUrl": "https://lh3.googleusercontent.com/a-/AOh14GgGDuEZ2IfTIZLJfON3utZ-ebveyJ-cGC_sdiAEXA=s64",
      "userId": "05119397468970152828"
     },
     "user_tz": -330
    },
    "id": "t57lpaSjOIGa",
    "outputId": "2c629300-b892-4a47-d3a1-e1a0c12b5871"
   },
   "outputs": [
    {
     "name": "stdout",
     "output_type": "stream",
     "text": [
      "Optimum number of features: 17\n",
      "Score with 17 features: 0.745192\n"
     ]
    }
   ],
   "source": [
    "X = data_11.iloc[:, :].values\n",
    "#no of features\n",
    "nof_list=np.arange(1,30 )            \n",
    "high_score=0\n",
    "#Variable to store the optimum features\n",
    "nof=0           \n",
    "score_list =[]\n",
    "for n in range(len(nof_list)):\n",
    "    from sklearn.preprocessing import StandardScaler\n",
    "    standard_X = StandardScaler()\n",
    "    X = standard_X.fit_transform(X)\n",
    "    X_train, X_test, y_train, y_test = train_test_split(X,y, test_size = 0.2, random_state = 12)\n",
    "    model = XGBClassifier()\n",
    "    rfe = RFE(model,nof_list[n])\n",
    "    X_train_rfe = rfe.fit_transform(X_train,y_train)\n",
    "    X_test_rfe = rfe.transform(X_test)\n",
    "    model.fit(X_train_rfe,y_train)\n",
    "    score = model.score(X_test_rfe,y_test)\n",
    "    score_list.append(score)\n",
    "    if(score>high_score):\n",
    "        high_score = score\n",
    "        nof = nof_list[n]\n",
    "print(\"Optimum number of features: %d\" %nof)\n",
    "print(\"Score with %d features: %f\" % (nof, high_score))"
   ]
  },
  {
   "cell_type": "code",
   "execution_count": 8,
   "metadata": {
    "colab": {
     "base_uri": "https://localhost:8080/",
     "height": 121
    },
    "colab_type": "code",
    "executionInfo": {
     "elapsed": 1210,
     "status": "ok",
     "timestamp": 1587044484688,
     "user": {
      "displayName": "Varatharajah Vaseekaran",
      "photoUrl": "https://lh3.googleusercontent.com/a-/AOh14GgGDuEZ2IfTIZLJfON3utZ-ebveyJ-cGC_sdiAEXA=s64",
      "userId": "05119397468970152828"
     },
     "user_tz": -330
    },
    "id": "rm7R-ql_OLLc",
    "outputId": "770a0f88-456b-409d-8972-f0bb6290eb35"
   },
   "outputs": [
    {
     "name": "stdout",
     "output_type": "stream",
     "text": [
      "Index(['Jitter(local, absolute)', 'Shimmer (apq11)', 'AC', 'NDH', 'HTM',\n",
      "       'Median Pitch', 'Mean Pitch', 'Standard deviation', 'Minimum pitch',\n",
      "       'Maximum pitch', 'Number of pulses', 'Number of periods', 'Mean period',\n",
      "       'Standard deviation of period', 'Fraction of locally unvoiced frames',\n",
      "       'Number of voice breaks', 'Degree of voice breaks'],\n",
      "      dtype='object')\n"
     ]
    }
   ],
   "source": [
    "cols = list(data_11.columns)\n",
    "model = XGBClassifier()\n",
    "#Initializing RFE model\n",
    "rfe = RFE(model, 17)             \n",
    "#Transforming data using RFE\n",
    "X_rfe = rfe.fit_transform(data_11,y)  \n",
    "#Fitting the data to model\n",
    "model.fit(X_rfe,y)              \n",
    "temp = pd.Series(rfe.support_,index = cols)\n",
    "selected_features_rfe = temp[temp==True].index\n",
    "print(selected_features_rfe)"
   ]
  },
  {
   "cell_type": "code",
   "execution_count": 9,
   "metadata": {
    "colab": {
     "base_uri": "https://localhost:8080/",
     "height": 497
    },
    "colab_type": "code",
    "executionInfo": {
     "elapsed": 1426,
     "status": "ok",
     "timestamp": 1587044496669,
     "user": {
      "displayName": "Varatharajah Vaseekaran",
      "photoUrl": "https://lh3.googleusercontent.com/a-/AOh14GgGDuEZ2IfTIZLJfON3utZ-ebveyJ-cGC_sdiAEXA=s64",
      "userId": "05119397468970152828"
     },
     "user_tz": -330
    },
    "id": "5NKx9guFOQ-P",
    "outputId": "3cc04f6d-a0e7-4ac0-e501-8f25037d30e8"
   },
   "outputs": [
    {
     "data": {
      "text/html": [
       "<div>\n",
       "<style scoped>\n",
       "    .dataframe tbody tr th:only-of-type {\n",
       "        vertical-align: middle;\n",
       "    }\n",
       "\n",
       "    .dataframe tbody tr th {\n",
       "        vertical-align: top;\n",
       "    }\n",
       "\n",
       "    .dataframe thead th {\n",
       "        text-align: right;\n",
       "    }\n",
       "</style>\n",
       "<table border=\"1\" class=\"dataframe\">\n",
       "  <thead>\n",
       "    <tr style=\"text-align: right;\">\n",
       "      <th></th>\n",
       "      <th>Jitter(local, absolute)</th>\n",
       "      <th>Shimmer (apq11)</th>\n",
       "      <th>AC</th>\n",
       "      <th>NDH</th>\n",
       "      <th>HTM</th>\n",
       "      <th>Median Pitch</th>\n",
       "      <th>Mean Pitch</th>\n",
       "      <th>Standard deviation</th>\n",
       "      <th>Minimum pitch</th>\n",
       "      <th>Maximum pitch</th>\n",
       "      <th>Number of pulses</th>\n",
       "      <th>Number of periods</th>\n",
       "      <th>Mean period</th>\n",
       "      <th>Standard deviation of period</th>\n",
       "      <th>Fraction of locally unvoiced frames</th>\n",
       "      <th>Number of voice breaks</th>\n",
       "      <th>Degree of voice breaks</th>\n",
       "    </tr>\n",
       "  </thead>\n",
       "  <tbody>\n",
       "    <tr>\n",
       "      <th>0</th>\n",
       "      <td>0.000090</td>\n",
       "      <td>6.802</td>\n",
       "      <td>0.905905</td>\n",
       "      <td>0.119116</td>\n",
       "      <td>11.130</td>\n",
       "      <td>166.533</td>\n",
       "      <td>164.781</td>\n",
       "      <td>10.421</td>\n",
       "      <td>142.229</td>\n",
       "      <td>187.576</td>\n",
       "      <td>160</td>\n",
       "      <td>159</td>\n",
       "      <td>0.006065</td>\n",
       "      <td>0.000416</td>\n",
       "      <td>0.000</td>\n",
       "      <td>0</td>\n",
       "      <td>0.000</td>\n",
       "    </tr>\n",
       "    <tr>\n",
       "      <th>1</th>\n",
       "      <td>0.000038</td>\n",
       "      <td>7.194</td>\n",
       "      <td>0.951285</td>\n",
       "      <td>0.066758</td>\n",
       "      <td>17.403</td>\n",
       "      <td>195.252</td>\n",
       "      <td>193.289</td>\n",
       "      <td>14.773</td>\n",
       "      <td>159.515</td>\n",
       "      <td>234.505</td>\n",
       "      <td>170</td>\n",
       "      <td>169</td>\n",
       "      <td>0.005181</td>\n",
       "      <td>0.000403</td>\n",
       "      <td>2.247</td>\n",
       "      <td>0</td>\n",
       "      <td>0.000</td>\n",
       "    </tr>\n",
       "    <tr>\n",
       "      <th>2</th>\n",
       "      <td>0.000074</td>\n",
       "      <td>7.548</td>\n",
       "      <td>0.911508</td>\n",
       "      <td>0.109983</td>\n",
       "      <td>12.212</td>\n",
       "      <td>158.689</td>\n",
       "      <td>164.768</td>\n",
       "      <td>12.981</td>\n",
       "      <td>146.445</td>\n",
       "      <td>211.442</td>\n",
       "      <td>1431</td>\n",
       "      <td>1427</td>\n",
       "      <td>0.006071</td>\n",
       "      <td>0.000474</td>\n",
       "      <td>10.656</td>\n",
       "      <td>1</td>\n",
       "      <td>0.178</td>\n",
       "    </tr>\n",
       "    <tr>\n",
       "      <th>3</th>\n",
       "      <td>0.000123</td>\n",
       "      <td>16.779</td>\n",
       "      <td>0.901302</td>\n",
       "      <td>0.121982</td>\n",
       "      <td>11.384</td>\n",
       "      <td>201.997</td>\n",
       "      <td>203.471</td>\n",
       "      <td>10.853</td>\n",
       "      <td>182.713</td>\n",
       "      <td>220.230</td>\n",
       "      <td>94</td>\n",
       "      <td>92</td>\n",
       "      <td>0.004910</td>\n",
       "      <td>0.000320</td>\n",
       "      <td>0.000</td>\n",
       "      <td>0</td>\n",
       "      <td>0.000</td>\n",
       "    </tr>\n",
       "    <tr>\n",
       "      <th>4</th>\n",
       "      <td>0.000167</td>\n",
       "      <td>12.823</td>\n",
       "      <td>0.856907</td>\n",
       "      <td>0.236831</td>\n",
       "      <td>10.653</td>\n",
       "      <td>211.887</td>\n",
       "      <td>208.440</td>\n",
       "      <td>11.499</td>\n",
       "      <td>182.821</td>\n",
       "      <td>225.162</td>\n",
       "      <td>117</td>\n",
       "      <td>114</td>\n",
       "      <td>0.004757</td>\n",
       "      <td>0.000380</td>\n",
       "      <td>18.182</td>\n",
       "      <td>1</td>\n",
       "      <td>13.318</td>\n",
       "    </tr>\n",
       "    <tr>\n",
       "      <th>...</th>\n",
       "      <td>...</td>\n",
       "      <td>...</td>\n",
       "      <td>...</td>\n",
       "      <td>...</td>\n",
       "      <td>...</td>\n",
       "      <td>...</td>\n",
       "      <td>...</td>\n",
       "      <td>...</td>\n",
       "      <td>...</td>\n",
       "      <td>...</td>\n",
       "      <td>...</td>\n",
       "      <td>...</td>\n",
       "      <td>...</td>\n",
       "      <td>...</td>\n",
       "      <td>...</td>\n",
       "      <td>...</td>\n",
       "      <td>...</td>\n",
       "    </tr>\n",
       "    <tr>\n",
       "      <th>1031</th>\n",
       "      <td>0.000398</td>\n",
       "      <td>8.303</td>\n",
       "      <td>0.754472</td>\n",
       "      <td>0.430569</td>\n",
       "      <td>6.798</td>\n",
       "      <td>126.492</td>\n",
       "      <td>130.350</td>\n",
       "      <td>14.387</td>\n",
       "      <td>96.145</td>\n",
       "      <td>158.591</td>\n",
       "      <td>63</td>\n",
       "      <td>60</td>\n",
       "      <td>0.007766</td>\n",
       "      <td>0.001066</td>\n",
       "      <td>24.194</td>\n",
       "      <td>2</td>\n",
       "      <td>15.113</td>\n",
       "    </tr>\n",
       "    <tr>\n",
       "      <th>1032</th>\n",
       "      <td>0.000133</td>\n",
       "      <td>11.928</td>\n",
       "      <td>0.880775</td>\n",
       "      <td>0.160787</td>\n",
       "      <td>11.216</td>\n",
       "      <td>128.142</td>\n",
       "      <td>132.244</td>\n",
       "      <td>7.140</td>\n",
       "      <td>121.490</td>\n",
       "      <td>143.797</td>\n",
       "      <td>47</td>\n",
       "      <td>44</td>\n",
       "      <td>0.007561</td>\n",
       "      <td>0.000430</td>\n",
       "      <td>46.053</td>\n",
       "      <td>1</td>\n",
       "      <td>25.792</td>\n",
       "    </tr>\n",
       "    <tr>\n",
       "      <th>1033</th>\n",
       "      <td>0.000226</td>\n",
       "      <td>14.239</td>\n",
       "      <td>0.883146</td>\n",
       "      <td>0.161736</td>\n",
       "      <td>11.035</td>\n",
       "      <td>129.727</td>\n",
       "      <td>128.388</td>\n",
       "      <td>13.593</td>\n",
       "      <td>95.921</td>\n",
       "      <td>149.641</td>\n",
       "      <td>79</td>\n",
       "      <td>77</td>\n",
       "      <td>0.007767</td>\n",
       "      <td>0.000881</td>\n",
       "      <td>20.000</td>\n",
       "      <td>1</td>\n",
       "      <td>4.574</td>\n",
       "    </tr>\n",
       "    <tr>\n",
       "      <th>1034</th>\n",
       "      <td>0.000275</td>\n",
       "      <td>18.818</td>\n",
       "      <td>0.765474</td>\n",
       "      <td>0.423034</td>\n",
       "      <td>6.583</td>\n",
       "      <td>126.131</td>\n",
       "      <td>135.943</td>\n",
       "      <td>46.764</td>\n",
       "      <td>90.051</td>\n",
       "      <td>451.366</td>\n",
       "      <td>75</td>\n",
       "      <td>70</td>\n",
       "      <td>0.007257</td>\n",
       "      <td>0.001714</td>\n",
       "      <td>16.667</td>\n",
       "      <td>3</td>\n",
       "      <td>19.575</td>\n",
       "    </tr>\n",
       "    <tr>\n",
       "      <th>1035</th>\n",
       "      <td>0.000149</td>\n",
       "      <td>11.073</td>\n",
       "      <td>0.925554</td>\n",
       "      <td>0.097481</td>\n",
       "      <td>13.472</td>\n",
       "      <td>119.260</td>\n",
       "      <td>121.630</td>\n",
       "      <td>8.028</td>\n",
       "      <td>108.144</td>\n",
       "      <td>137.546</td>\n",
       "      <td>62</td>\n",
       "      <td>60</td>\n",
       "      <td>0.008211</td>\n",
       "      <td>0.000566</td>\n",
       "      <td>18.182</td>\n",
       "      <td>1</td>\n",
       "      <td>3.387</td>\n",
       "    </tr>\n",
       "  </tbody>\n",
       "</table>\n",
       "<p>1036 rows × 17 columns</p>\n",
       "</div>"
      ],
      "text/plain": [
       "      Jitter(local, absolute)  ...  Degree of voice breaks\n",
       "0                    0.000090  ...                   0.000\n",
       "1                    0.000038  ...                   0.000\n",
       "2                    0.000074  ...                   0.178\n",
       "3                    0.000123  ...                   0.000\n",
       "4                    0.000167  ...                  13.318\n",
       "...                       ...  ...                     ...\n",
       "1031                 0.000398  ...                  15.113\n",
       "1032                 0.000133  ...                  25.792\n",
       "1033                 0.000226  ...                   4.574\n",
       "1034                 0.000275  ...                  19.575\n",
       "1035                 0.000149  ...                   3.387\n",
       "\n",
       "[1036 rows x 17 columns]"
      ]
     },
     "execution_count": 9,
     "metadata": {
      "tags": []
     },
     "output_type": "execute_result"
    }
   ],
   "source": [
    "rfe_data = data[selected_features_rfe]\n",
    "rfe_data"
   ]
  },
  {
   "cell_type": "code",
   "execution_count": 10,
   "metadata": {
    "colab": {
     "base_uri": "https://localhost:8080/",
     "height": 242
    },
    "colab_type": "code",
    "executionInfo": {
     "elapsed": 1160,
     "status": "ok",
     "timestamp": 1587044512533,
     "user": {
      "displayName": "Varatharajah Vaseekaran",
      "photoUrl": "https://lh3.googleusercontent.com/a-/AOh14GgGDuEZ2IfTIZLJfON3utZ-ebveyJ-cGC_sdiAEXA=s64",
      "userId": "05119397468970152828"
     },
     "user_tz": -330
    },
    "id": "mJ-M86GFOT1I",
    "outputId": "2e7600dd-d30a-4276-9eea-321d7cf410f4"
   },
   "outputs": [
    {
     "data": {
      "text/plain": [
       "array([[9.02130e-05, 6.80200e+00, 9.05905e-01, ..., 0.00000e+00,\n",
       "        0.00000e+00, 0.00000e+00],\n",
       "       [3.76980e-05, 7.19400e+00, 9.51285e-01, ..., 2.24700e+00,\n",
       "        0.00000e+00, 0.00000e+00],\n",
       "       [7.40410e-05, 7.54800e+00, 9.11508e-01, ..., 1.06560e+01,\n",
       "        1.00000e+00, 1.78000e-01],\n",
       "       ...,\n",
       "       [2.26205e-04, 1.42390e+01, 8.83146e-01, ..., 2.00000e+01,\n",
       "        1.00000e+00, 4.57400e+00],\n",
       "       [2.74883e-04, 1.88180e+01, 7.65474e-01, ..., 1.66670e+01,\n",
       "        3.00000e+00, 1.95750e+01],\n",
       "       [1.48510e-04, 1.10730e+01, 9.25554e-01, ..., 1.81820e+01,\n",
       "        1.00000e+00, 3.38700e+00]])"
      ]
     },
     "execution_count": 10,
     "metadata": {
      "tags": []
     },
     "output_type": "execute_result"
    }
   ],
   "source": [
    "X = rfe_data.iloc[:, :].values\n",
    "X"
   ]
  },
  {
   "cell_type": "code",
   "execution_count": 0,
   "metadata": {
    "colab": {},
    "colab_type": "code",
    "id": "Q0aLBRMGOX7e"
   },
   "outputs": [],
   "source": [
    "from sklearn.preprocessing import StandardScaler\n",
    "standard_X = StandardScaler()\n",
    "X = standard_X.fit_transform(X)"
   ]
  },
  {
   "cell_type": "code",
   "execution_count": 0,
   "metadata": {
    "colab": {},
    "colab_type": "code",
    "id": "XOCKZbmpOdia"
   },
   "outputs": [],
   "source": [
    "X_train, X_test, y_train, y_test = train_test_split(X,y, test_size = 0.2, random_state = 12)"
   ]
  },
  {
   "cell_type": "code",
   "execution_count": 13,
   "metadata": {
    "colab": {
     "base_uri": "https://localhost:8080/",
     "height": 138
    },
    "colab_type": "code",
    "executionInfo": {
     "elapsed": 1143,
     "status": "ok",
     "timestamp": 1587044555666,
     "user": {
      "displayName": "Varatharajah Vaseekaran",
      "photoUrl": "https://lh3.googleusercontent.com/a-/AOh14GgGDuEZ2IfTIZLJfON3utZ-ebveyJ-cGC_sdiAEXA=s64",
      "userId": "05119397468970152828"
     },
     "user_tz": -330
    },
    "id": "EOMmqg4gOf7A",
    "outputId": "54368daa-429d-4120-d88f-04ce7e97b4a5"
   },
   "outputs": [
    {
     "data": {
      "text/plain": [
       "XGBClassifier(base_score=0.5, booster='gbtree', colsample_bylevel=1,\n",
       "              colsample_bynode=1, colsample_bytree=0.85, gamma=1,\n",
       "              learning_rate=0.05, max_delta_step=0, max_depth=5,\n",
       "              min_child_weight=1, missing=None, n_estimators=250, n_jobs=1,\n",
       "              nthread=None, objective='binary:logistic', random_state=0,\n",
       "              reg_alpha=0, reg_lambda=1, scale_pos_weight=1, seed=None,\n",
       "              silent=None, subsample=0.69, verbosity=1)"
      ]
     },
     "execution_count": 13,
     "metadata": {
      "tags": []
     },
     "output_type": "execute_result"
    }
   ],
   "source": [
    "model = XGBClassifier(learning_rate =0.05,\n",
    "         n_estimators=250,\n",
    "         max_depth=5,\n",
    "         gamma=1,\n",
    "         subsample=0.69,\n",
    "         colsample_bytree=0.85)\n",
    "model.fit(X_train, y_train)"
   ]
  },
  {
   "cell_type": "code",
   "execution_count": 14,
   "metadata": {
    "colab": {
     "base_uri": "https://localhost:8080/",
     "height": 345
    },
    "colab_type": "code",
    "executionInfo": {
     "elapsed": 4776,
     "status": "ok",
     "timestamp": 1587044570390,
     "user": {
      "displayName": "Varatharajah Vaseekaran",
      "photoUrl": "https://lh3.googleusercontent.com/a-/AOh14GgGDuEZ2IfTIZLJfON3utZ-ebveyJ-cGC_sdiAEXA=s64",
      "userId": "05119397468970152828"
     },
     "user_tz": -330
    },
    "id": "nhDJzVBmOiFx",
    "outputId": "e5f0d71c-655f-46fe-836d-2db867872a44"
   },
   "outputs": [
    {
     "name": "stdout",
     "output_type": "stream",
     "text": [
      "Confusion Matrix\n",
      "[[74 32]\n",
      " [23 79]]\n",
      "\n",
      "\n",
      "Classfications Results\n",
      "              precision    recall  f1-score   support\n",
      "\n",
      "           0       0.76      0.70      0.73       106\n",
      "           1       0.71      0.77      0.74       102\n",
      "\n",
      "    accuracy                           0.74       208\n",
      "   macro avg       0.74      0.74      0.74       208\n",
      "weighted avg       0.74      0.74      0.74       208\n",
      "\n",
      "Accuracy Score\n",
      "0.7355769230769231\n",
      "Accuracy: 68.72 %\n",
      "Standard Deviation: 4.37 %\n"
     ]
    }
   ],
   "source": [
    "from sklearn.metrics import classification_report, confusion_matrix, accuracy_score\n",
    "y_pred = model.predict(X_test)\n",
    "\n",
    "print(\"Confusion Matrix\")\n",
    "print(confusion_matrix(y_test, y_pred))\n",
    "print(\"\\n\")\n",
    "\n",
    "print(\"Classfications Results\")\n",
    "print(classification_report(y_test, y_pred))\n",
    "\n",
    "print(\"Accuracy Score\")\n",
    "print(accuracy_score(y_test, y_pred))\n",
    "\n",
    "from sklearn.model_selection import cross_val_score\n",
    "accuracies = cross_val_score(estimator = model, X = X_train, y = y_train, cv = 10)\n",
    "print(\"Accuracy: {:.2f} %\".format(accuracies.mean()*100))\n",
    "print(\"Standard Deviation: {:.2f} %\".format(accuracies.std()*100))"
   ]
  },
  {
   "cell_type": "code",
   "execution_count": 17,
   "metadata": {
    "colab": {
     "base_uri": "https://localhost:8080/",
     "height": 34
    },
    "colab_type": "code",
    "executionInfo": {
     "elapsed": 1128,
     "status": "ok",
     "timestamp": 1587044913378,
     "user": {
      "displayName": "Varatharajah Vaseekaran",
      "photoUrl": "https://lh3.googleusercontent.com/a-/AOh14GgGDuEZ2IfTIZLJfON3utZ-ebveyJ-cGC_sdiAEXA=s64",
      "userId": "05119397468970152828"
     },
     "user_tz": -330
    },
    "id": "DY0CqGqYOmuH",
    "outputId": "1e0f726c-4efc-4e8c-c6e2-cd7c90c00610"
   },
   "outputs": [
    {
     "name": "stdout",
     "output_type": "stream",
     "text": [
      "Model dumped!\n"
     ]
    }
   ],
   "source": [
    "from sklearn.externals import joblib\n",
    "joblib.dump(model, 'XGBoostmodel.pkl')\n",
    "print(\"Model dumped!\")"
   ]
  },
  {
   "cell_type": "code",
   "execution_count": 20,
   "metadata": {
    "colab": {
     "base_uri": "https://localhost:8080/",
     "height": 311
    },
    "colab_type": "code",
    "executionInfo": {
     "elapsed": 1195,
     "status": "ok",
     "timestamp": 1587044984178,
     "user": {
      "displayName": "Varatharajah Vaseekaran",
      "photoUrl": "https://lh3.googleusercontent.com/a-/AOh14GgGDuEZ2IfTIZLJfON3utZ-ebveyJ-cGC_sdiAEXA=s64",
      "userId": "05119397468970152828"
     },
     "user_tz": -330
    },
    "id": "f2tuatJvP53O",
    "outputId": "eac5cae3-302b-4c13-dd23-66e0a759a713"
   },
   "outputs": [
    {
     "data": {
      "text/plain": [
       "['Jitter(local, absolute)',\n",
       " 'Shimmer (apq11)',\n",
       " 'AC',\n",
       " 'NDH',\n",
       " 'HTM',\n",
       " 'Median Pitch',\n",
       " 'Mean Pitch',\n",
       " 'Standard deviation',\n",
       " 'Minimum pitch',\n",
       " 'Maximum pitch',\n",
       " 'Number of pulses',\n",
       " 'Number of periods',\n",
       " 'Mean period',\n",
       " 'Standard deviation of period',\n",
       " 'Fraction of locally unvoiced frames',\n",
       " 'Number of voice breaks',\n",
       " 'Degree of voice breaks']"
      ]
     },
     "execution_count": 20,
     "metadata": {
      "tags": []
     },
     "output_type": "execute_result"
    }
   ],
   "source": [
    "model_columns = list(rfe_data.columns)\n",
    "model_columns"
   ]
  },
  {
   "cell_type": "code",
   "execution_count": 21,
   "metadata": {
    "colab": {
     "base_uri": "https://localhost:8080/",
     "height": 34
    },
    "colab_type": "code",
    "executionInfo": {
     "elapsed": 1322,
     "status": "ok",
     "timestamp": 1587045067917,
     "user": {
      "displayName": "Varatharajah Vaseekaran",
      "photoUrl": "https://lh3.googleusercontent.com/a-/AOh14GgGDuEZ2IfTIZLJfON3utZ-ebveyJ-cGC_sdiAEXA=s64",
      "userId": "05119397468970152828"
     },
     "user_tz": -330
    },
    "id": "27Nsq6XwP_dG",
    "outputId": "2115eb00-c326-44b0-8b72-3bfe64825727"
   },
   "outputs": [
    {
     "name": "stdout",
     "output_type": "stream",
     "text": [
      "Models columns dumped!\n"
     ]
    }
   ],
   "source": [
    "joblib.dump(model_columns, 'model_columns.pkl')\n",
    "print(\"Models columns dumped!\")"
   ]
  }
 ],
 "metadata": {
  "colab": {
   "authorship_tag": "ABX9TyPNqRXsFHIiBmEulw67cd8Z",
   "name": "XGBoost - Parkinsons Final.ipynb",
   "provenance": [],
   "toc_visible": true
  },
  "kernelspec": {
   "display_name": "Python 3",
   "language": "python",
   "name": "python3"
  },
  "language_info": {
   "codemirror_mode": {
    "name": "ipython",
    "version": 3
   },
   "file_extension": ".py",
   "mimetype": "text/x-python",
   "name": "python",
   "nbconvert_exporter": "python",
   "pygments_lexer": "ipython3",
   "version": "3.7.4"
  }
 },
 "nbformat": 4,
 "nbformat_minor": 1
}
