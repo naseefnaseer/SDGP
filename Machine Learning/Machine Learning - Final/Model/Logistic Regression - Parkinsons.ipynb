{
 "cells": [
  {
   "cell_type": "code",
   "execution_count": null,
   "metadata": {},
   "outputs": [],
   "source": [
    "#importing the libraries needed for ML\n",
    "import pandas as pd\n",
    "import numpy as np\n",
    "from sklearn import preprocessing\n",
    "import matplotlib.pyplot as plt \n",
    "plt.rc(\"font\", size=14)\n",
    "import seaborn as sns\n",
    "sns.set(style=\"white\")\n",
    "sns.set(style=\"whitegrid\", color_codes=True)"
   ]
  },
  {
   "cell_type": "code",
   "execution_count": null,
   "metadata": {},
   "outputs": [],
   "source": [
    "data = pd.read_csv(r'..\\Datasets\\Parkinsons Train Data.csv', header = 0)\n",
    "data.head()"
   ]
  },
  {
   "cell_type": "code",
   "execution_count": null,
   "metadata": {},
   "outputs": [],
   "source": [
    "#setting the dependent variable\n",
    "y = data.iloc[:, -1].values\n",
    "y"
   ]
  },
  {
   "cell_type": "code",
   "execution_count": null,
   "metadata": {},
   "outputs": [],
   "source": [
    "X = data.iloc[:, :-1].values\n",
    "X"
   ]
  },
  {
   "cell_type": "code",
   "execution_count": null,
   "metadata": {},
   "outputs": [],
   "source": [
    "from sklearn.preprocessing import StandardScaler\n",
    "standard_X = StandardScaler()\n",
    "standard_scaled_X = standard_X.fit_transform(X)\n",
    "standard_scaled_X"
   ]
  },
  {
   "cell_type": "code",
   "execution_count": null,
   "metadata": {},
   "outputs": [],
   "source": [
    "def standardScale(X):\n",
    "    X = standard_X.transform(X)\n",
    "    return X"
   ]
  },
  {
   "cell_type": "code",
   "execution_count": null,
   "metadata": {},
   "outputs": [],
   "source": [
    "from sklearn import preprocessing\n",
    "min_max_scaler = preprocessing.MinMaxScaler()\n",
    "minmax_scaled_X = min_max_scaler.fit_transform(X)\n",
    "minmax_scaled_X"
   ]
  },
  {
   "cell_type": "code",
   "execution_count": null,
   "metadata": {},
   "outputs": [],
   "source": [
    "def minmaxScale(X):\n",
    "    X = min_max_scaler.transform(X)\n",
    "    return X"
   ]
  },
  {
   "cell_type": "code",
   "execution_count": null,
   "metadata": {},
   "outputs": [],
   "source": [
    "data.columns"
   ]
  },
  {
   "cell_type": "code",
   "execution_count": null,
   "metadata": {},
   "outputs": [],
   "source": [
    "fixed_cols = ['AC', 'NDH', 'HTM', 'Minimum pitch', 'Maximum pitch', 'Number of pulses', 'Number of periods',\n",
    "              'Mean period', 'Fraction of locally unvoiced frames', 'Number of voice breaks', 'Degree of voice breaks']\n",
    "jitter_cols = ['Jitter(local)', 'Jitter(local, absolute)', 'Jitter (rap)','Jitter (ppq5)', 'Jitter (ddp)']\n",
    "shimmer_cols = ['Shimmer (local)', 'Shimmer (local, db)', 'Shimmer (apq3)', 'Shimmer (apq5)', 'Shimmer (apq11)',\n",
    "                'Shimmer (dda)']\n",
    "pitch_cols = ['Median Pitch', 'Mean Pitch']"
   ]
  },
  {
   "cell_type": "code",
   "execution_count": null,
   "metadata": {},
   "outputs": [],
   "source": [
    "def getLogReg(X, y):\n",
    "    \n",
    "    from sklearn.model_selection import train_test_split\n",
    "    from sklearn.metrics import accuracy_score\n",
    "    X_train, X_test, Y_train, Y_test = train_test_split(X, y, random_state=12, test_size = 0.2)\n",
    "    # Train\n",
    "    from sklearn.linear_model import LogisticRegression\n",
    "    model = LogisticRegression()\n",
    "    model.fit(X_train, Y_train)\n",
    "\n",
    "    # Evaluate\n",
    "    print(\"Accuracy for training set -> \", end = \"\")\n",
    "    Y_hat = [round(yhat) for yhat in model.predict(X)]\n",
    "    print(accuracy_score(y, Y_hat)) # Full set accuracy\n",
    "    Y_hat = [round(yhat) for yhat in model.predict(X_test)]\n",
    "    print(\"Accuracy for test set -> \", end = \"\")\n",
    "    print(accuracy_score(Y_test, Y_hat)) # Test set accuracy\n",
    "\n",
    "    #Validations\n",
    "    y_pred = model.predict(X_test)\n",
    "\n",
    "    #Confusion Matrix\n",
    "    from sklearn.metrics import confusion_matrix\n",
    "    cm = confusion_matrix(Y_test, y_pred) # Calulate Confusion matrix for test set.\n",
    "    print(cm)\n",
    "\n",
    "    from sklearn.model_selection import cross_val_score\n",
    "    accuracies = cross_val_score(estimator = model, X = X_train, y = Y_train, cv = 10)\n",
    "    print(\"Accuracy: {:.2f} %\".format(accuracies.mean()*100))\n",
    "    print(\"Standard Deviation: {:.2f} %\".format(accuracies.std()*100))"
   ]
  },
  {
   "cell_type": "code",
   "execution_count": null,
   "metadata": {},
   "outputs": [],
   "source": [
    "for jitter in jitter_cols:\n",
    "    for shimmer in shimmer_cols:\n",
    "        for pitch in pitch_cols:\n",
    "            count = count + 1\n",
    "            fixed_cols.append(jitter)\n",
    "            fixed_cols.append(shimmer)\n",
    "            fixed_cols.append(pitch)\n",
    "            print(fixed_cols)\n",
    "            print(\"\\n\")\n",
    "            print(\"Added columns to the dataset are:\", jitter, shimmer, pitch)\n",
    "            print(\"\\n\")\n",
    "            X = data[fixed_cols].values\n",
    "            print(\"---------Standard Scaled---------\")\n",
    "            print(\"\\n\")\n",
    "            standard_X = StandardScaler()\n",
    "            standard_scaled_X = standard_X.fit_transform(X)\n",
    "            standard_scaled_X\n",
    "            getLogReg(standard_scaled_X, y)\n",
    "            print(\"\\n\")\n",
    "            print(\"---------MinMax Scaled---------\")\n",
    "            print(\"\\n\")\n",
    "            min_max_scaler = preprocessing.MinMaxScaler()\n",
    "            minmax_scaled_X = min_max_scaler.fit_transform(X)\n",
    "            minmax_scaled_X\n",
    "            getLogReg(minmax_scaled_X, y)\n",
    "            fixed_cols.remove(jitter)\n",
    "            fixed_cols.remove(shimmer)\n",
    "            fixed_cols.remove(pitch)\n",
    "            print(\"\\n\")"
   ]
  },
  {
   "cell_type": "code",
   "execution_count": null,
   "metadata": {},
   "outputs": [],
   "source": [
    "fixed_cols"
   ]
  },
  {
   "cell_type": "code",
   "execution_count": null,
   "metadata": {},
   "outputs": [],
   "source": [
    "getLogReg(minmax_scaled_X, y)"
   ]
  },
  {
   "cell_type": "code",
   "execution_count": null,
   "metadata": {},
   "outputs": [],
   "source": [
    "getLogReg(standard_scaled_X, y)"
   ]
  }
 ],
 "metadata": {
  "kernelspec": {
   "display_name": "Python 3",
   "language": "python",
   "name": "python3"
  },
  "language_info": {
   "codemirror_mode": {
    "name": "ipython",
    "version": 3
   },
   "file_extension": ".py",
   "mimetype": "text/x-python",
   "name": "python",
   "nbconvert_exporter": "python",
   "pygments_lexer": "ipython3",
   "version": "3.7.4"
  }
 },
 "nbformat": 4,
 "nbformat_minor": 4
}
